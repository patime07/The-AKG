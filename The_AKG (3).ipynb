{
  "nbformat": 4,
  "nbformat_minor": 0,
  "metadata": {
    "colab": {
      "provenance": []
    },
    "kernelspec": {
      "name": "python3",
      "display_name": "Python 3"
    },
    "language_info": {
      "name": "python"
    },
    "widgets": {
      "application/vnd.jupyter.widget-state+json": {
        "a951f97cc7254af0b55750a764e297fd": {
          "model_module": "@jupyter-widgets/controls",
          "model_name": "HBoxModel",
          "model_module_version": "1.5.0",
          "state": {
            "_dom_classes": [],
            "_model_module": "@jupyter-widgets/controls",
            "_model_module_version": "1.5.0",
            "_model_name": "HBoxModel",
            "_view_count": null,
            "_view_module": "@jupyter-widgets/controls",
            "_view_module_version": "1.5.0",
            "_view_name": "HBoxView",
            "box_style": "",
            "children": [
              "IPY_MODEL_66df3a4e437947d296507e38c77e2239",
              "IPY_MODEL_553f0be7d8e44717b937cf67869637c6",
              "IPY_MODEL_5d1896984a754dadb0a6772c4475d553"
            ],
            "layout": "IPY_MODEL_c9492e97206b48cbb400218d2ca8cd1a"
          }
        },
        "66df3a4e437947d296507e38c77e2239": {
          "model_module": "@jupyter-widgets/controls",
          "model_name": "HTMLModel",
          "model_module_version": "1.5.0",
          "state": {
            "_dom_classes": [],
            "_model_module": "@jupyter-widgets/controls",
            "_model_module_version": "1.5.0",
            "_model_name": "HTMLModel",
            "_view_count": null,
            "_view_module": "@jupyter-widgets/controls",
            "_view_module_version": "1.5.0",
            "_view_name": "HTMLView",
            "description": "",
            "description_tooltip": null,
            "layout": "IPY_MODEL_f19732b4889144b7bc2cca97462afe50",
            "placeholder": "​",
            "style": "IPY_MODEL_2c61c1987cec489d8e4582f8872340ed",
            "value": "README.md: 100%"
          }
        },
        "553f0be7d8e44717b937cf67869637c6": {
          "model_module": "@jupyter-widgets/controls",
          "model_name": "FloatProgressModel",
          "model_module_version": "1.5.0",
          "state": {
            "_dom_classes": [],
            "_model_module": "@jupyter-widgets/controls",
            "_model_module_version": "1.5.0",
            "_model_name": "FloatProgressModel",
            "_view_count": null,
            "_view_module": "@jupyter-widgets/controls",
            "_view_module_version": "1.5.0",
            "_view_name": "ProgressView",
            "bar_style": "success",
            "description": "",
            "description_tooltip": null,
            "layout": "IPY_MODEL_6de8ed66e202445a93a1c4ebf9d49cd3",
            "max": 1200,
            "min": 0,
            "orientation": "horizontal",
            "style": "IPY_MODEL_48ee3278e8214b509a1aef9108219c64",
            "value": 1200
          }
        },
        "5d1896984a754dadb0a6772c4475d553": {
          "model_module": "@jupyter-widgets/controls",
          "model_name": "HTMLModel",
          "model_module_version": "1.5.0",
          "state": {
            "_dom_classes": [],
            "_model_module": "@jupyter-widgets/controls",
            "_model_module_version": "1.5.0",
            "_model_name": "HTMLModel",
            "_view_count": null,
            "_view_module": "@jupyter-widgets/controls",
            "_view_module_version": "1.5.0",
            "_view_name": "HTMLView",
            "description": "",
            "description_tooltip": null,
            "layout": "IPY_MODEL_7d2f7e96e309434b8816323788d351c0",
            "placeholder": "​",
            "style": "IPY_MODEL_22e1c2cd2bcf43d5abb9b9b57abe799d",
            "value": " 1.20k/1.20k [00:00&lt;00:00, 35.4kB/s]"
          }
        },
        "c9492e97206b48cbb400218d2ca8cd1a": {
          "model_module": "@jupyter-widgets/base",
          "model_name": "LayoutModel",
          "model_module_version": "1.2.0",
          "state": {
            "_model_module": "@jupyter-widgets/base",
            "_model_module_version": "1.2.0",
            "_model_name": "LayoutModel",
            "_view_count": null,
            "_view_module": "@jupyter-widgets/base",
            "_view_module_version": "1.2.0",
            "_view_name": "LayoutView",
            "align_content": null,
            "align_items": null,
            "align_self": null,
            "border": null,
            "bottom": null,
            "display": null,
            "flex": null,
            "flex_flow": null,
            "grid_area": null,
            "grid_auto_columns": null,
            "grid_auto_flow": null,
            "grid_auto_rows": null,
            "grid_column": null,
            "grid_gap": null,
            "grid_row": null,
            "grid_template_areas": null,
            "grid_template_columns": null,
            "grid_template_rows": null,
            "height": null,
            "justify_content": null,
            "justify_items": null,
            "left": null,
            "margin": null,
            "max_height": null,
            "max_width": null,
            "min_height": null,
            "min_width": null,
            "object_fit": null,
            "object_position": null,
            "order": null,
            "overflow": null,
            "overflow_x": null,
            "overflow_y": null,
            "padding": null,
            "right": null,
            "top": null,
            "visibility": null,
            "width": null
          }
        },
        "f19732b4889144b7bc2cca97462afe50": {
          "model_module": "@jupyter-widgets/base",
          "model_name": "LayoutModel",
          "model_module_version": "1.2.0",
          "state": {
            "_model_module": "@jupyter-widgets/base",
            "_model_module_version": "1.2.0",
            "_model_name": "LayoutModel",
            "_view_count": null,
            "_view_module": "@jupyter-widgets/base",
            "_view_module_version": "1.2.0",
            "_view_name": "LayoutView",
            "align_content": null,
            "align_items": null,
            "align_self": null,
            "border": null,
            "bottom": null,
            "display": null,
            "flex": null,
            "flex_flow": null,
            "grid_area": null,
            "grid_auto_columns": null,
            "grid_auto_flow": null,
            "grid_auto_rows": null,
            "grid_column": null,
            "grid_gap": null,
            "grid_row": null,
            "grid_template_areas": null,
            "grid_template_columns": null,
            "grid_template_rows": null,
            "height": null,
            "justify_content": null,
            "justify_items": null,
            "left": null,
            "margin": null,
            "max_height": null,
            "max_width": null,
            "min_height": null,
            "min_width": null,
            "object_fit": null,
            "object_position": null,
            "order": null,
            "overflow": null,
            "overflow_x": null,
            "overflow_y": null,
            "padding": null,
            "right": null,
            "top": null,
            "visibility": null,
            "width": null
          }
        },
        "2c61c1987cec489d8e4582f8872340ed": {
          "model_module": "@jupyter-widgets/controls",
          "model_name": "DescriptionStyleModel",
          "model_module_version": "1.5.0",
          "state": {
            "_model_module": "@jupyter-widgets/controls",
            "_model_module_version": "1.5.0",
            "_model_name": "DescriptionStyleModel",
            "_view_count": null,
            "_view_module": "@jupyter-widgets/base",
            "_view_module_version": "1.2.0",
            "_view_name": "StyleView",
            "description_width": ""
          }
        },
        "6de8ed66e202445a93a1c4ebf9d49cd3": {
          "model_module": "@jupyter-widgets/base",
          "model_name": "LayoutModel",
          "model_module_version": "1.2.0",
          "state": {
            "_model_module": "@jupyter-widgets/base",
            "_model_module_version": "1.2.0",
            "_model_name": "LayoutModel",
            "_view_count": null,
            "_view_module": "@jupyter-widgets/base",
            "_view_module_version": "1.2.0",
            "_view_name": "LayoutView",
            "align_content": null,
            "align_items": null,
            "align_self": null,
            "border": null,
            "bottom": null,
            "display": null,
            "flex": null,
            "flex_flow": null,
            "grid_area": null,
            "grid_auto_columns": null,
            "grid_auto_flow": null,
            "grid_auto_rows": null,
            "grid_column": null,
            "grid_gap": null,
            "grid_row": null,
            "grid_template_areas": null,
            "grid_template_columns": null,
            "grid_template_rows": null,
            "height": null,
            "justify_content": null,
            "justify_items": null,
            "left": null,
            "margin": null,
            "max_height": null,
            "max_width": null,
            "min_height": null,
            "min_width": null,
            "object_fit": null,
            "object_position": null,
            "order": null,
            "overflow": null,
            "overflow_x": null,
            "overflow_y": null,
            "padding": null,
            "right": null,
            "top": null,
            "visibility": null,
            "width": null
          }
        },
        "48ee3278e8214b509a1aef9108219c64": {
          "model_module": "@jupyter-widgets/controls",
          "model_name": "ProgressStyleModel",
          "model_module_version": "1.5.0",
          "state": {
            "_model_module": "@jupyter-widgets/controls",
            "_model_module_version": "1.5.0",
            "_model_name": "ProgressStyleModel",
            "_view_count": null,
            "_view_module": "@jupyter-widgets/base",
            "_view_module_version": "1.2.0",
            "_view_name": "StyleView",
            "bar_color": null,
            "description_width": ""
          }
        },
        "7d2f7e96e309434b8816323788d351c0": {
          "model_module": "@jupyter-widgets/base",
          "model_name": "LayoutModel",
          "model_module_version": "1.2.0",
          "state": {
            "_model_module": "@jupyter-widgets/base",
            "_model_module_version": "1.2.0",
            "_model_name": "LayoutModel",
            "_view_count": null,
            "_view_module": "@jupyter-widgets/base",
            "_view_module_version": "1.2.0",
            "_view_name": "LayoutView",
            "align_content": null,
            "align_items": null,
            "align_self": null,
            "border": null,
            "bottom": null,
            "display": null,
            "flex": null,
            "flex_flow": null,
            "grid_area": null,
            "grid_auto_columns": null,
            "grid_auto_flow": null,
            "grid_auto_rows": null,
            "grid_column": null,
            "grid_gap": null,
            "grid_row": null,
            "grid_template_areas": null,
            "grid_template_columns": null,
            "grid_template_rows": null,
            "height": null,
            "justify_content": null,
            "justify_items": null,
            "left": null,
            "margin": null,
            "max_height": null,
            "max_width": null,
            "min_height": null,
            "min_width": null,
            "object_fit": null,
            "object_position": null,
            "order": null,
            "overflow": null,
            "overflow_x": null,
            "overflow_y": null,
            "padding": null,
            "right": null,
            "top": null,
            "visibility": null,
            "width": null
          }
        },
        "22e1c2cd2bcf43d5abb9b9b57abe799d": {
          "model_module": "@jupyter-widgets/controls",
          "model_name": "DescriptionStyleModel",
          "model_module_version": "1.5.0",
          "state": {
            "_model_module": "@jupyter-widgets/controls",
            "_model_module_version": "1.5.0",
            "_model_name": "DescriptionStyleModel",
            "_view_count": null,
            "_view_module": "@jupyter-widgets/base",
            "_view_module_version": "1.2.0",
            "_view_name": "StyleView",
            "description_width": ""
          }
        },
        "4ee3895c2b7d460d900cc54b602cc2f5": {
          "model_module": "@jupyter-widgets/controls",
          "model_name": "HBoxModel",
          "model_module_version": "1.5.0",
          "state": {
            "_dom_classes": [],
            "_model_module": "@jupyter-widgets/controls",
            "_model_module_version": "1.5.0",
            "_model_name": "HBoxModel",
            "_view_count": null,
            "_view_module": "@jupyter-widgets/controls",
            "_view_module_version": "1.5.0",
            "_view_name": "HBoxView",
            "box_style": "",
            "children": [
              "IPY_MODEL_2fa44732da77440f820c0e4604f98506",
              "IPY_MODEL_704b1800a8334b59aa97916af28a1116",
              "IPY_MODEL_89234a1a633e431cad58379ceb38db2a"
            ],
            "layout": "IPY_MODEL_fd071d7bd6e94198bec52301227ac672"
          }
        },
        "2fa44732da77440f820c0e4604f98506": {
          "model_module": "@jupyter-widgets/controls",
          "model_name": "HTMLModel",
          "model_module_version": "1.5.0",
          "state": {
            "_dom_classes": [],
            "_model_module": "@jupyter-widgets/controls",
            "_model_module_version": "1.5.0",
            "_model_name": "HTMLModel",
            "_view_count": null,
            "_view_module": "@jupyter-widgets/controls",
            "_view_module_version": "1.5.0",
            "_view_name": "HTMLView",
            "description": "",
            "description_tooltip": null,
            "layout": "IPY_MODEL_e432e63cb45c45e28bb430cb1fe904ec",
            "placeholder": "​",
            "style": "IPY_MODEL_475cc91c5dc940baad24a3852d559ed3",
            "value": "(…)-00000-of-00001-83c5047e14e68965.parquet: 100%"
          }
        },
        "704b1800a8334b59aa97916af28a1116": {
          "model_module": "@jupyter-widgets/controls",
          "model_name": "FloatProgressModel",
          "model_module_version": "1.5.0",
          "state": {
            "_dom_classes": [],
            "_model_module": "@jupyter-widgets/controls",
            "_model_module_version": "1.5.0",
            "_model_name": "FloatProgressModel",
            "_view_count": null,
            "_view_module": "@jupyter-widgets/controls",
            "_view_module_version": "1.5.0",
            "_view_name": "ProgressView",
            "bar_style": "success",
            "description": "",
            "description_tooltip": null,
            "layout": "IPY_MODEL_b4a0190924a041b0ac310be71f2ec261",
            "max": 854584,
            "min": 0,
            "orientation": "horizontal",
            "style": "IPY_MODEL_e8d7321d8ad94bd6a39d757cc5e501f3",
            "value": 854584
          }
        },
        "89234a1a633e431cad58379ceb38db2a": {
          "model_module": "@jupyter-widgets/controls",
          "model_name": "HTMLModel",
          "model_module_version": "1.5.0",
          "state": {
            "_dom_classes": [],
            "_model_module": "@jupyter-widgets/controls",
            "_model_module_version": "1.5.0",
            "_model_name": "HTMLModel",
            "_view_count": null,
            "_view_module": "@jupyter-widgets/controls",
            "_view_module_version": "1.5.0",
            "_view_name": "HTMLView",
            "description": "",
            "description_tooltip": null,
            "layout": "IPY_MODEL_02f0686b5ebe4d3bb35707d5b30ba2c8",
            "placeholder": "​",
            "style": "IPY_MODEL_bd4984854ae1458ea587ef3a1e8d73ae",
            "value": " 855k/855k [00:00&lt;00:00, 10.3MB/s]"
          }
        },
        "fd071d7bd6e94198bec52301227ac672": {
          "model_module": "@jupyter-widgets/base",
          "model_name": "LayoutModel",
          "model_module_version": "1.2.0",
          "state": {
            "_model_module": "@jupyter-widgets/base",
            "_model_module_version": "1.2.0",
            "_model_name": "LayoutModel",
            "_view_count": null,
            "_view_module": "@jupyter-widgets/base",
            "_view_module_version": "1.2.0",
            "_view_name": "LayoutView",
            "align_content": null,
            "align_items": null,
            "align_self": null,
            "border": null,
            "bottom": null,
            "display": null,
            "flex": null,
            "flex_flow": null,
            "grid_area": null,
            "grid_auto_columns": null,
            "grid_auto_flow": null,
            "grid_auto_rows": null,
            "grid_column": null,
            "grid_gap": null,
            "grid_row": null,
            "grid_template_areas": null,
            "grid_template_columns": null,
            "grid_template_rows": null,
            "height": null,
            "justify_content": null,
            "justify_items": null,
            "left": null,
            "margin": null,
            "max_height": null,
            "max_width": null,
            "min_height": null,
            "min_width": null,
            "object_fit": null,
            "object_position": null,
            "order": null,
            "overflow": null,
            "overflow_x": null,
            "overflow_y": null,
            "padding": null,
            "right": null,
            "top": null,
            "visibility": null,
            "width": null
          }
        },
        "e432e63cb45c45e28bb430cb1fe904ec": {
          "model_module": "@jupyter-widgets/base",
          "model_name": "LayoutModel",
          "model_module_version": "1.2.0",
          "state": {
            "_model_module": "@jupyter-widgets/base",
            "_model_module_version": "1.2.0",
            "_model_name": "LayoutModel",
            "_view_count": null,
            "_view_module": "@jupyter-widgets/base",
            "_view_module_version": "1.2.0",
            "_view_name": "LayoutView",
            "align_content": null,
            "align_items": null,
            "align_self": null,
            "border": null,
            "bottom": null,
            "display": null,
            "flex": null,
            "flex_flow": null,
            "grid_area": null,
            "grid_auto_columns": null,
            "grid_auto_flow": null,
            "grid_auto_rows": null,
            "grid_column": null,
            "grid_gap": null,
            "grid_row": null,
            "grid_template_areas": null,
            "grid_template_columns": null,
            "grid_template_rows": null,
            "height": null,
            "justify_content": null,
            "justify_items": null,
            "left": null,
            "margin": null,
            "max_height": null,
            "max_width": null,
            "min_height": null,
            "min_width": null,
            "object_fit": null,
            "object_position": null,
            "order": null,
            "overflow": null,
            "overflow_x": null,
            "overflow_y": null,
            "padding": null,
            "right": null,
            "top": null,
            "visibility": null,
            "width": null
          }
        },
        "475cc91c5dc940baad24a3852d559ed3": {
          "model_module": "@jupyter-widgets/controls",
          "model_name": "DescriptionStyleModel",
          "model_module_version": "1.5.0",
          "state": {
            "_model_module": "@jupyter-widgets/controls",
            "_model_module_version": "1.5.0",
            "_model_name": "DescriptionStyleModel",
            "_view_count": null,
            "_view_module": "@jupyter-widgets/base",
            "_view_module_version": "1.2.0",
            "_view_name": "StyleView",
            "description_width": ""
          }
        },
        "b4a0190924a041b0ac310be71f2ec261": {
          "model_module": "@jupyter-widgets/base",
          "model_name": "LayoutModel",
          "model_module_version": "1.2.0",
          "state": {
            "_model_module": "@jupyter-widgets/base",
            "_model_module_version": "1.2.0",
            "_model_name": "LayoutModel",
            "_view_count": null,
            "_view_module": "@jupyter-widgets/base",
            "_view_module_version": "1.2.0",
            "_view_name": "LayoutView",
            "align_content": null,
            "align_items": null,
            "align_self": null,
            "border": null,
            "bottom": null,
            "display": null,
            "flex": null,
            "flex_flow": null,
            "grid_area": null,
            "grid_auto_columns": null,
            "grid_auto_flow": null,
            "grid_auto_rows": null,
            "grid_column": null,
            "grid_gap": null,
            "grid_row": null,
            "grid_template_areas": null,
            "grid_template_columns": null,
            "grid_template_rows": null,
            "height": null,
            "justify_content": null,
            "justify_items": null,
            "left": null,
            "margin": null,
            "max_height": null,
            "max_width": null,
            "min_height": null,
            "min_width": null,
            "object_fit": null,
            "object_position": null,
            "order": null,
            "overflow": null,
            "overflow_x": null,
            "overflow_y": null,
            "padding": null,
            "right": null,
            "top": null,
            "visibility": null,
            "width": null
          }
        },
        "e8d7321d8ad94bd6a39d757cc5e501f3": {
          "model_module": "@jupyter-widgets/controls",
          "model_name": "ProgressStyleModel",
          "model_module_version": "1.5.0",
          "state": {
            "_model_module": "@jupyter-widgets/controls",
            "_model_module_version": "1.5.0",
            "_model_name": "ProgressStyleModel",
            "_view_count": null,
            "_view_module": "@jupyter-widgets/base",
            "_view_module_version": "1.2.0",
            "_view_name": "StyleView",
            "bar_color": null,
            "description_width": ""
          }
        },
        "02f0686b5ebe4d3bb35707d5b30ba2c8": {
          "model_module": "@jupyter-widgets/base",
          "model_name": "LayoutModel",
          "model_module_version": "1.2.0",
          "state": {
            "_model_module": "@jupyter-widgets/base",
            "_model_module_version": "1.2.0",
            "_model_name": "LayoutModel",
            "_view_count": null,
            "_view_module": "@jupyter-widgets/base",
            "_view_module_version": "1.2.0",
            "_view_name": "LayoutView",
            "align_content": null,
            "align_items": null,
            "align_self": null,
            "border": null,
            "bottom": null,
            "display": null,
            "flex": null,
            "flex_flow": null,
            "grid_area": null,
            "grid_auto_columns": null,
            "grid_auto_flow": null,
            "grid_auto_rows": null,
            "grid_column": null,
            "grid_gap": null,
            "grid_row": null,
            "grid_template_areas": null,
            "grid_template_columns": null,
            "grid_template_rows": null,
            "height": null,
            "justify_content": null,
            "justify_items": null,
            "left": null,
            "margin": null,
            "max_height": null,
            "max_width": null,
            "min_height": null,
            "min_width": null,
            "object_fit": null,
            "object_position": null,
            "order": null,
            "overflow": null,
            "overflow_x": null,
            "overflow_y": null,
            "padding": null,
            "right": null,
            "top": null,
            "visibility": null,
            "width": null
          }
        },
        "bd4984854ae1458ea587ef3a1e8d73ae": {
          "model_module": "@jupyter-widgets/controls",
          "model_name": "DescriptionStyleModel",
          "model_module_version": "1.5.0",
          "state": {
            "_model_module": "@jupyter-widgets/controls",
            "_model_module_version": "1.5.0",
            "_model_name": "DescriptionStyleModel",
            "_view_count": null,
            "_view_module": "@jupyter-widgets/base",
            "_view_module_version": "1.2.0",
            "_view_name": "StyleView",
            "description_width": ""
          }
        },
        "608388d09396461aa912b72003086ecc": {
          "model_module": "@jupyter-widgets/controls",
          "model_name": "HBoxModel",
          "model_module_version": "1.5.0",
          "state": {
            "_dom_classes": [],
            "_model_module": "@jupyter-widgets/controls",
            "_model_module_version": "1.5.0",
            "_model_name": "HBoxModel",
            "_view_count": null,
            "_view_module": "@jupyter-widgets/controls",
            "_view_module_version": "1.5.0",
            "_view_name": "HBoxView",
            "box_style": "",
            "children": [
              "IPY_MODEL_e017d33d35254a5ca8917cee08ea80b1",
              "IPY_MODEL_e579029b84e5472eb98aa1e95178902e",
              "IPY_MODEL_4c0a8690f74742afb2cf9ce6f668a07e"
            ],
            "layout": "IPY_MODEL_5264e4e4b6a6482789e12a10edf4648f"
          }
        },
        "e017d33d35254a5ca8917cee08ea80b1": {
          "model_module": "@jupyter-widgets/controls",
          "model_name": "HTMLModel",
          "model_module_version": "1.5.0",
          "state": {
            "_dom_classes": [],
            "_model_module": "@jupyter-widgets/controls",
            "_model_module_version": "1.5.0",
            "_model_name": "HTMLModel",
            "_view_count": null,
            "_view_module": "@jupyter-widgets/controls",
            "_view_module_version": "1.5.0",
            "_view_name": "HTMLView",
            "description": "",
            "description_tooltip": null,
            "layout": "IPY_MODEL_42ec6e035acc44f088f71a861bdb3d2b",
            "placeholder": "​",
            "style": "IPY_MODEL_d2830c0396b043089d6c806ba48e5229",
            "value": "(…)-00000-of-00001-245173671c05c71a.parquet: 100%"
          }
        },
        "e579029b84e5472eb98aa1e95178902e": {
          "model_module": "@jupyter-widgets/controls",
          "model_name": "FloatProgressModel",
          "model_module_version": "1.5.0",
          "state": {
            "_dom_classes": [],
            "_model_module": "@jupyter-widgets/controls",
            "_model_module_version": "1.5.0",
            "_model_name": "FloatProgressModel",
            "_view_count": null,
            "_view_module": "@jupyter-widgets/controls",
            "_view_module_version": "1.5.0",
            "_view_name": "ProgressView",
            "bar_style": "success",
            "description": "",
            "description_tooltip": null,
            "layout": "IPY_MODEL_07ca947de3d844ef99d0fa0d1eb26d2a",
            "max": 175408,
            "min": 0,
            "orientation": "horizontal",
            "style": "IPY_MODEL_f1322d1804244ef2978534ea225dc128",
            "value": 175408
          }
        },
        "4c0a8690f74742afb2cf9ce6f668a07e": {
          "model_module": "@jupyter-widgets/controls",
          "model_name": "HTMLModel",
          "model_module_version": "1.5.0",
          "state": {
            "_dom_classes": [],
            "_model_module": "@jupyter-widgets/controls",
            "_model_module_version": "1.5.0",
            "_model_name": "HTMLModel",
            "_view_count": null,
            "_view_module": "@jupyter-widgets/controls",
            "_view_module_version": "1.5.0",
            "_view_name": "HTMLView",
            "description": "",
            "description_tooltip": null,
            "layout": "IPY_MODEL_ff182ded6bb9452c9bfe532f95200cb9",
            "placeholder": "​",
            "style": "IPY_MODEL_9e8ec72263e943a6ae979f0b0a4cc89c",
            "value": " 175k/175k [00:00&lt;00:00, 9.49MB/s]"
          }
        },
        "5264e4e4b6a6482789e12a10edf4648f": {
          "model_module": "@jupyter-widgets/base",
          "model_name": "LayoutModel",
          "model_module_version": "1.2.0",
          "state": {
            "_model_module": "@jupyter-widgets/base",
            "_model_module_version": "1.2.0",
            "_model_name": "LayoutModel",
            "_view_count": null,
            "_view_module": "@jupyter-widgets/base",
            "_view_module_version": "1.2.0",
            "_view_name": "LayoutView",
            "align_content": null,
            "align_items": null,
            "align_self": null,
            "border": null,
            "bottom": null,
            "display": null,
            "flex": null,
            "flex_flow": null,
            "grid_area": null,
            "grid_auto_columns": null,
            "grid_auto_flow": null,
            "grid_auto_rows": null,
            "grid_column": null,
            "grid_gap": null,
            "grid_row": null,
            "grid_template_areas": null,
            "grid_template_columns": null,
            "grid_template_rows": null,
            "height": null,
            "justify_content": null,
            "justify_items": null,
            "left": null,
            "margin": null,
            "max_height": null,
            "max_width": null,
            "min_height": null,
            "min_width": null,
            "object_fit": null,
            "object_position": null,
            "order": null,
            "overflow": null,
            "overflow_x": null,
            "overflow_y": null,
            "padding": null,
            "right": null,
            "top": null,
            "visibility": null,
            "width": null
          }
        },
        "42ec6e035acc44f088f71a861bdb3d2b": {
          "model_module": "@jupyter-widgets/base",
          "model_name": "LayoutModel",
          "model_module_version": "1.2.0",
          "state": {
            "_model_module": "@jupyter-widgets/base",
            "_model_module_version": "1.2.0",
            "_model_name": "LayoutModel",
            "_view_count": null,
            "_view_module": "@jupyter-widgets/base",
            "_view_module_version": "1.2.0",
            "_view_name": "LayoutView",
            "align_content": null,
            "align_items": null,
            "align_self": null,
            "border": null,
            "bottom": null,
            "display": null,
            "flex": null,
            "flex_flow": null,
            "grid_area": null,
            "grid_auto_columns": null,
            "grid_auto_flow": null,
            "grid_auto_rows": null,
            "grid_column": null,
            "grid_gap": null,
            "grid_row": null,
            "grid_template_areas": null,
            "grid_template_columns": null,
            "grid_template_rows": null,
            "height": null,
            "justify_content": null,
            "justify_items": null,
            "left": null,
            "margin": null,
            "max_height": null,
            "max_width": null,
            "min_height": null,
            "min_width": null,
            "object_fit": null,
            "object_position": null,
            "order": null,
            "overflow": null,
            "overflow_x": null,
            "overflow_y": null,
            "padding": null,
            "right": null,
            "top": null,
            "visibility": null,
            "width": null
          }
        },
        "d2830c0396b043089d6c806ba48e5229": {
          "model_module": "@jupyter-widgets/controls",
          "model_name": "DescriptionStyleModel",
          "model_module_version": "1.5.0",
          "state": {
            "_model_module": "@jupyter-widgets/controls",
            "_model_module_version": "1.5.0",
            "_model_name": "DescriptionStyleModel",
            "_view_count": null,
            "_view_module": "@jupyter-widgets/base",
            "_view_module_version": "1.2.0",
            "_view_name": "StyleView",
            "description_width": ""
          }
        },
        "07ca947de3d844ef99d0fa0d1eb26d2a": {
          "model_module": "@jupyter-widgets/base",
          "model_name": "LayoutModel",
          "model_module_version": "1.2.0",
          "state": {
            "_model_module": "@jupyter-widgets/base",
            "_model_module_version": "1.2.0",
            "_model_name": "LayoutModel",
            "_view_count": null,
            "_view_module": "@jupyter-widgets/base",
            "_view_module_version": "1.2.0",
            "_view_name": "LayoutView",
            "align_content": null,
            "align_items": null,
            "align_self": null,
            "border": null,
            "bottom": null,
            "display": null,
            "flex": null,
            "flex_flow": null,
            "grid_area": null,
            "grid_auto_columns": null,
            "grid_auto_flow": null,
            "grid_auto_rows": null,
            "grid_column": null,
            "grid_gap": null,
            "grid_row": null,
            "grid_template_areas": null,
            "grid_template_columns": null,
            "grid_template_rows": null,
            "height": null,
            "justify_content": null,
            "justify_items": null,
            "left": null,
            "margin": null,
            "max_height": null,
            "max_width": null,
            "min_height": null,
            "min_width": null,
            "object_fit": null,
            "object_position": null,
            "order": null,
            "overflow": null,
            "overflow_x": null,
            "overflow_y": null,
            "padding": null,
            "right": null,
            "top": null,
            "visibility": null,
            "width": null
          }
        },
        "f1322d1804244ef2978534ea225dc128": {
          "model_module": "@jupyter-widgets/controls",
          "model_name": "ProgressStyleModel",
          "model_module_version": "1.5.0",
          "state": {
            "_model_module": "@jupyter-widgets/controls",
            "_model_module_version": "1.5.0",
            "_model_name": "ProgressStyleModel",
            "_view_count": null,
            "_view_module": "@jupyter-widgets/base",
            "_view_module_version": "1.2.0",
            "_view_name": "StyleView",
            "bar_color": null,
            "description_width": ""
          }
        },
        "ff182ded6bb9452c9bfe532f95200cb9": {
          "model_module": "@jupyter-widgets/base",
          "model_name": "LayoutModel",
          "model_module_version": "1.2.0",
          "state": {
            "_model_module": "@jupyter-widgets/base",
            "_model_module_version": "1.2.0",
            "_model_name": "LayoutModel",
            "_view_count": null,
            "_view_module": "@jupyter-widgets/base",
            "_view_module_version": "1.2.0",
            "_view_name": "LayoutView",
            "align_content": null,
            "align_items": null,
            "align_self": null,
            "border": null,
            "bottom": null,
            "display": null,
            "flex": null,
            "flex_flow": null,
            "grid_area": null,
            "grid_auto_columns": null,
            "grid_auto_flow": null,
            "grid_auto_rows": null,
            "grid_column": null,
            "grid_gap": null,
            "grid_row": null,
            "grid_template_areas": null,
            "grid_template_columns": null,
            "grid_template_rows": null,
            "height": null,
            "justify_content": null,
            "justify_items": null,
            "left": null,
            "margin": null,
            "max_height": null,
            "max_width": null,
            "min_height": null,
            "min_width": null,
            "object_fit": null,
            "object_position": null,
            "order": null,
            "overflow": null,
            "overflow_x": null,
            "overflow_y": null,
            "padding": null,
            "right": null,
            "top": null,
            "visibility": null,
            "width": null
          }
        },
        "9e8ec72263e943a6ae979f0b0a4cc89c": {
          "model_module": "@jupyter-widgets/controls",
          "model_name": "DescriptionStyleModel",
          "model_module_version": "1.5.0",
          "state": {
            "_model_module": "@jupyter-widgets/controls",
            "_model_module_version": "1.5.0",
            "_model_name": "DescriptionStyleModel",
            "_view_count": null,
            "_view_module": "@jupyter-widgets/base",
            "_view_module_version": "1.2.0",
            "_view_name": "StyleView",
            "description_width": ""
          }
        },
        "152d648e72a24f8783ace6b6ff37c50a": {
          "model_module": "@jupyter-widgets/controls",
          "model_name": "HBoxModel",
          "model_module_version": "1.5.0",
          "state": {
            "_dom_classes": [],
            "_model_module": "@jupyter-widgets/controls",
            "_model_module_version": "1.5.0",
            "_model_name": "HBoxModel",
            "_view_count": null,
            "_view_module": "@jupyter-widgets/controls",
            "_view_module_version": "1.5.0",
            "_view_name": "HBoxView",
            "box_style": "",
            "children": [
              "IPY_MODEL_2b98c37f6dbb45a697d449875559cabe",
              "IPY_MODEL_c8666d5f63ed40cf863f8075dd41d420",
              "IPY_MODEL_a8d0001d2e234c6cab624e70bb4e14df"
            ],
            "layout": "IPY_MODEL_2061935f062942fbadfacee5951e2865"
          }
        },
        "2b98c37f6dbb45a697d449875559cabe": {
          "model_module": "@jupyter-widgets/controls",
          "model_name": "HTMLModel",
          "model_module_version": "1.5.0",
          "state": {
            "_dom_classes": [],
            "_model_module": "@jupyter-widgets/controls",
            "_model_module_version": "1.5.0",
            "_model_name": "HTMLModel",
            "_view_count": null,
            "_view_module": "@jupyter-widgets/controls",
            "_view_module_version": "1.5.0",
            "_view_name": "HTMLView",
            "description": "",
            "description_tooltip": null,
            "layout": "IPY_MODEL_d8ea200dab05435f8f99d2b719eb6b60",
            "placeholder": "​",
            "style": "IPY_MODEL_c8446b3e02cf44c8adda7667d04ee0d7",
            "value": "Generating train split: 100%"
          }
        },
        "c8666d5f63ed40cf863f8075dd41d420": {
          "model_module": "@jupyter-widgets/controls",
          "model_name": "FloatProgressModel",
          "model_module_version": "1.5.0",
          "state": {
            "_dom_classes": [],
            "_model_module": "@jupyter-widgets/controls",
            "_model_module_version": "1.5.0",
            "_model_name": "FloatProgressModel",
            "_view_count": null,
            "_view_module": "@jupyter-widgets/controls",
            "_view_module_version": "1.5.0",
            "_view_name": "ProgressView",
            "bar_style": "success",
            "description": "",
            "description_tooltip": null,
            "layout": "IPY_MODEL_c4270ba03ac342358decca35231de21a",
            "max": 125102,
            "min": 0,
            "orientation": "horizontal",
            "style": "IPY_MODEL_ea240481be624a2b9564ba5a780915cc",
            "value": 125102
          }
        },
        "a8d0001d2e234c6cab624e70bb4e14df": {
          "model_module": "@jupyter-widgets/controls",
          "model_name": "HTMLModel",
          "model_module_version": "1.5.0",
          "state": {
            "_dom_classes": [],
            "_model_module": "@jupyter-widgets/controls",
            "_model_module_version": "1.5.0",
            "_model_name": "HTMLModel",
            "_view_count": null,
            "_view_module": "@jupyter-widgets/controls",
            "_view_module_version": "1.5.0",
            "_view_name": "HTMLView",
            "description": "",
            "description_tooltip": null,
            "layout": "IPY_MODEL_9537cd3fa94a4cfdaf8c21f95f3c2599",
            "placeholder": "​",
            "style": "IPY_MODEL_a546937384f14e8a87e262a8faa25263",
            "value": " 125102/125102 [00:00&lt;00:00, 938097.31 examples/s]"
          }
        },
        "2061935f062942fbadfacee5951e2865": {
          "model_module": "@jupyter-widgets/base",
          "model_name": "LayoutModel",
          "model_module_version": "1.2.0",
          "state": {
            "_model_module": "@jupyter-widgets/base",
            "_model_module_version": "1.2.0",
            "_model_name": "LayoutModel",
            "_view_count": null,
            "_view_module": "@jupyter-widgets/base",
            "_view_module_version": "1.2.0",
            "_view_name": "LayoutView",
            "align_content": null,
            "align_items": null,
            "align_self": null,
            "border": null,
            "bottom": null,
            "display": null,
            "flex": null,
            "flex_flow": null,
            "grid_area": null,
            "grid_auto_columns": null,
            "grid_auto_flow": null,
            "grid_auto_rows": null,
            "grid_column": null,
            "grid_gap": null,
            "grid_row": null,
            "grid_template_areas": null,
            "grid_template_columns": null,
            "grid_template_rows": null,
            "height": null,
            "justify_content": null,
            "justify_items": null,
            "left": null,
            "margin": null,
            "max_height": null,
            "max_width": null,
            "min_height": null,
            "min_width": null,
            "object_fit": null,
            "object_position": null,
            "order": null,
            "overflow": null,
            "overflow_x": null,
            "overflow_y": null,
            "padding": null,
            "right": null,
            "top": null,
            "visibility": null,
            "width": null
          }
        },
        "d8ea200dab05435f8f99d2b719eb6b60": {
          "model_module": "@jupyter-widgets/base",
          "model_name": "LayoutModel",
          "model_module_version": "1.2.0",
          "state": {
            "_model_module": "@jupyter-widgets/base",
            "_model_module_version": "1.2.0",
            "_model_name": "LayoutModel",
            "_view_count": null,
            "_view_module": "@jupyter-widgets/base",
            "_view_module_version": "1.2.0",
            "_view_name": "LayoutView",
            "align_content": null,
            "align_items": null,
            "align_self": null,
            "border": null,
            "bottom": null,
            "display": null,
            "flex": null,
            "flex_flow": null,
            "grid_area": null,
            "grid_auto_columns": null,
            "grid_auto_flow": null,
            "grid_auto_rows": null,
            "grid_column": null,
            "grid_gap": null,
            "grid_row": null,
            "grid_template_areas": null,
            "grid_template_columns": null,
            "grid_template_rows": null,
            "height": null,
            "justify_content": null,
            "justify_items": null,
            "left": null,
            "margin": null,
            "max_height": null,
            "max_width": null,
            "min_height": null,
            "min_width": null,
            "object_fit": null,
            "object_position": null,
            "order": null,
            "overflow": null,
            "overflow_x": null,
            "overflow_y": null,
            "padding": null,
            "right": null,
            "top": null,
            "visibility": null,
            "width": null
          }
        },
        "c8446b3e02cf44c8adda7667d04ee0d7": {
          "model_module": "@jupyter-widgets/controls",
          "model_name": "DescriptionStyleModel",
          "model_module_version": "1.5.0",
          "state": {
            "_model_module": "@jupyter-widgets/controls",
            "_model_module_version": "1.5.0",
            "_model_name": "DescriptionStyleModel",
            "_view_count": null,
            "_view_module": "@jupyter-widgets/base",
            "_view_module_version": "1.2.0",
            "_view_name": "StyleView",
            "description_width": ""
          }
        },
        "c4270ba03ac342358decca35231de21a": {
          "model_module": "@jupyter-widgets/base",
          "model_name": "LayoutModel",
          "model_module_version": "1.2.0",
          "state": {
            "_model_module": "@jupyter-widgets/base",
            "_model_module_version": "1.2.0",
            "_model_name": "LayoutModel",
            "_view_count": null,
            "_view_module": "@jupyter-widgets/base",
            "_view_module_version": "1.2.0",
            "_view_name": "LayoutView",
            "align_content": null,
            "align_items": null,
            "align_self": null,
            "border": null,
            "bottom": null,
            "display": null,
            "flex": null,
            "flex_flow": null,
            "grid_area": null,
            "grid_auto_columns": null,
            "grid_auto_flow": null,
            "grid_auto_rows": null,
            "grid_column": null,
            "grid_gap": null,
            "grid_row": null,
            "grid_template_areas": null,
            "grid_template_columns": null,
            "grid_template_rows": null,
            "height": null,
            "justify_content": null,
            "justify_items": null,
            "left": null,
            "margin": null,
            "max_height": null,
            "max_width": null,
            "min_height": null,
            "min_width": null,
            "object_fit": null,
            "object_position": null,
            "order": null,
            "overflow": null,
            "overflow_x": null,
            "overflow_y": null,
            "padding": null,
            "right": null,
            "top": null,
            "visibility": null,
            "width": null
          }
        },
        "ea240481be624a2b9564ba5a780915cc": {
          "model_module": "@jupyter-widgets/controls",
          "model_name": "ProgressStyleModel",
          "model_module_version": "1.5.0",
          "state": {
            "_model_module": "@jupyter-widgets/controls",
            "_model_module_version": "1.5.0",
            "_model_name": "ProgressStyleModel",
            "_view_count": null,
            "_view_module": "@jupyter-widgets/base",
            "_view_module_version": "1.2.0",
            "_view_name": "StyleView",
            "bar_color": null,
            "description_width": ""
          }
        },
        "9537cd3fa94a4cfdaf8c21f95f3c2599": {
          "model_module": "@jupyter-widgets/base",
          "model_name": "LayoutModel",
          "model_module_version": "1.2.0",
          "state": {
            "_model_module": "@jupyter-widgets/base",
            "_model_module_version": "1.2.0",
            "_model_name": "LayoutModel",
            "_view_count": null,
            "_view_module": "@jupyter-widgets/base",
            "_view_module_version": "1.2.0",
            "_view_name": "LayoutView",
            "align_content": null,
            "align_items": null,
            "align_self": null,
            "border": null,
            "bottom": null,
            "display": null,
            "flex": null,
            "flex_flow": null,
            "grid_area": null,
            "grid_auto_columns": null,
            "grid_auto_flow": null,
            "grid_auto_rows": null,
            "grid_column": null,
            "grid_gap": null,
            "grid_row": null,
            "grid_template_areas": null,
            "grid_template_columns": null,
            "grid_template_rows": null,
            "height": null,
            "justify_content": null,
            "justify_items": null,
            "left": null,
            "margin": null,
            "max_height": null,
            "max_width": null,
            "min_height": null,
            "min_width": null,
            "object_fit": null,
            "object_position": null,
            "order": null,
            "overflow": null,
            "overflow_x": null,
            "overflow_y": null,
            "padding": null,
            "right": null,
            "top": null,
            "visibility": null,
            "width": null
          }
        },
        "a546937384f14e8a87e262a8faa25263": {
          "model_module": "@jupyter-widgets/controls",
          "model_name": "DescriptionStyleModel",
          "model_module_version": "1.5.0",
          "state": {
            "_model_module": "@jupyter-widgets/controls",
            "_model_module_version": "1.5.0",
            "_model_name": "DescriptionStyleModel",
            "_view_count": null,
            "_view_module": "@jupyter-widgets/base",
            "_view_module_version": "1.2.0",
            "_view_name": "StyleView",
            "description_width": ""
          }
        },
        "ddf72480eee3430b837f2eb79e5043fd": {
          "model_module": "@jupyter-widgets/controls",
          "model_name": "HBoxModel",
          "model_module_version": "1.5.0",
          "state": {
            "_dom_classes": [],
            "_model_module": "@jupyter-widgets/controls",
            "_model_module_version": "1.5.0",
            "_model_name": "HBoxModel",
            "_view_count": null,
            "_view_module": "@jupyter-widgets/controls",
            "_view_module_version": "1.5.0",
            "_view_name": "HBoxView",
            "box_style": "",
            "children": [
              "IPY_MODEL_50adcd14087242db88ff7dc256cf0f86",
              "IPY_MODEL_a340618cdefb4147a73289588b46b200",
              "IPY_MODEL_2e0b5770cc2c4168bd78f9fbff99da9f"
            ],
            "layout": "IPY_MODEL_9fc1cbdc357e4266b019eea85849e26e"
          }
        },
        "50adcd14087242db88ff7dc256cf0f86": {
          "model_module": "@jupyter-widgets/controls",
          "model_name": "HTMLModel",
          "model_module_version": "1.5.0",
          "state": {
            "_dom_classes": [],
            "_model_module": "@jupyter-widgets/controls",
            "_model_module_version": "1.5.0",
            "_model_name": "HTMLModel",
            "_view_count": null,
            "_view_module": "@jupyter-widgets/controls",
            "_view_module_version": "1.5.0",
            "_view_name": "HTMLView",
            "description": "",
            "description_tooltip": null,
            "layout": "IPY_MODEL_30a692e2143a4cea92c9eebfccc14a89",
            "placeholder": "​",
            "style": "IPY_MODEL_e311faa105e4404198fcc7c59c024250",
            "value": "Generating test split: 100%"
          }
        },
        "a340618cdefb4147a73289588b46b200": {
          "model_module": "@jupyter-widgets/controls",
          "model_name": "FloatProgressModel",
          "model_module_version": "1.5.0",
          "state": {
            "_dom_classes": [],
            "_model_module": "@jupyter-widgets/controls",
            "_model_module_version": "1.5.0",
            "_model_name": "FloatProgressModel",
            "_view_count": null,
            "_view_module": "@jupyter-widgets/controls",
            "_view_module_version": "1.5.0",
            "_view_name": "ProgressView",
            "bar_style": "success",
            "description": "",
            "description_tooltip": null,
            "layout": "IPY_MODEL_5e8b4b1a62874d9d97bfb5c67ad3b2db",
            "max": 25008,
            "min": 0,
            "orientation": "horizontal",
            "style": "IPY_MODEL_d07e3dd9127d425c84f476535b43e1fb",
            "value": 25008
          }
        },
        "2e0b5770cc2c4168bd78f9fbff99da9f": {
          "model_module": "@jupyter-widgets/controls",
          "model_name": "HTMLModel",
          "model_module_version": "1.5.0",
          "state": {
            "_dom_classes": [],
            "_model_module": "@jupyter-widgets/controls",
            "_model_module_version": "1.5.0",
            "_model_name": "HTMLModel",
            "_view_count": null,
            "_view_module": "@jupyter-widgets/controls",
            "_view_module_version": "1.5.0",
            "_view_name": "HTMLView",
            "description": "",
            "description_tooltip": null,
            "layout": "IPY_MODEL_d6157793f9204a49a67b44233f7bc0b7",
            "placeholder": "​",
            "style": "IPY_MODEL_e2f50a74f29748e09d8f8ae4e0687ce8",
            "value": " 25008/25008 [00:00&lt;00:00, 513125.95 examples/s]"
          }
        },
        "9fc1cbdc357e4266b019eea85849e26e": {
          "model_module": "@jupyter-widgets/base",
          "model_name": "LayoutModel",
          "model_module_version": "1.2.0",
          "state": {
            "_model_module": "@jupyter-widgets/base",
            "_model_module_version": "1.2.0",
            "_model_name": "LayoutModel",
            "_view_count": null,
            "_view_module": "@jupyter-widgets/base",
            "_view_module_version": "1.2.0",
            "_view_name": "LayoutView",
            "align_content": null,
            "align_items": null,
            "align_self": null,
            "border": null,
            "bottom": null,
            "display": null,
            "flex": null,
            "flex_flow": null,
            "grid_area": null,
            "grid_auto_columns": null,
            "grid_auto_flow": null,
            "grid_auto_rows": null,
            "grid_column": null,
            "grid_gap": null,
            "grid_row": null,
            "grid_template_areas": null,
            "grid_template_columns": null,
            "grid_template_rows": null,
            "height": null,
            "justify_content": null,
            "justify_items": null,
            "left": null,
            "margin": null,
            "max_height": null,
            "max_width": null,
            "min_height": null,
            "min_width": null,
            "object_fit": null,
            "object_position": null,
            "order": null,
            "overflow": null,
            "overflow_x": null,
            "overflow_y": null,
            "padding": null,
            "right": null,
            "top": null,
            "visibility": null,
            "width": null
          }
        },
        "30a692e2143a4cea92c9eebfccc14a89": {
          "model_module": "@jupyter-widgets/base",
          "model_name": "LayoutModel",
          "model_module_version": "1.2.0",
          "state": {
            "_model_module": "@jupyter-widgets/base",
            "_model_module_version": "1.2.0",
            "_model_name": "LayoutModel",
            "_view_count": null,
            "_view_module": "@jupyter-widgets/base",
            "_view_module_version": "1.2.0",
            "_view_name": "LayoutView",
            "align_content": null,
            "align_items": null,
            "align_self": null,
            "border": null,
            "bottom": null,
            "display": null,
            "flex": null,
            "flex_flow": null,
            "grid_area": null,
            "grid_auto_columns": null,
            "grid_auto_flow": null,
            "grid_auto_rows": null,
            "grid_column": null,
            "grid_gap": null,
            "grid_row": null,
            "grid_template_areas": null,
            "grid_template_columns": null,
            "grid_template_rows": null,
            "height": null,
            "justify_content": null,
            "justify_items": null,
            "left": null,
            "margin": null,
            "max_height": null,
            "max_width": null,
            "min_height": null,
            "min_width": null,
            "object_fit": null,
            "object_position": null,
            "order": null,
            "overflow": null,
            "overflow_x": null,
            "overflow_y": null,
            "padding": null,
            "right": null,
            "top": null,
            "visibility": null,
            "width": null
          }
        },
        "e311faa105e4404198fcc7c59c024250": {
          "model_module": "@jupyter-widgets/controls",
          "model_name": "DescriptionStyleModel",
          "model_module_version": "1.5.0",
          "state": {
            "_model_module": "@jupyter-widgets/controls",
            "_model_module_version": "1.5.0",
            "_model_name": "DescriptionStyleModel",
            "_view_count": null,
            "_view_module": "@jupyter-widgets/base",
            "_view_module_version": "1.2.0",
            "_view_name": "StyleView",
            "description_width": ""
          }
        },
        "5e8b4b1a62874d9d97bfb5c67ad3b2db": {
          "model_module": "@jupyter-widgets/base",
          "model_name": "LayoutModel",
          "model_module_version": "1.2.0",
          "state": {
            "_model_module": "@jupyter-widgets/base",
            "_model_module_version": "1.2.0",
            "_model_name": "LayoutModel",
            "_view_count": null,
            "_view_module": "@jupyter-widgets/base",
            "_view_module_version": "1.2.0",
            "_view_name": "LayoutView",
            "align_content": null,
            "align_items": null,
            "align_self": null,
            "border": null,
            "bottom": null,
            "display": null,
            "flex": null,
            "flex_flow": null,
            "grid_area": null,
            "grid_auto_columns": null,
            "grid_auto_flow": null,
            "grid_auto_rows": null,
            "grid_column": null,
            "grid_gap": null,
            "grid_row": null,
            "grid_template_areas": null,
            "grid_template_columns": null,
            "grid_template_rows": null,
            "height": null,
            "justify_content": null,
            "justify_items": null,
            "left": null,
            "margin": null,
            "max_height": null,
            "max_width": null,
            "min_height": null,
            "min_width": null,
            "object_fit": null,
            "object_position": null,
            "order": null,
            "overflow": null,
            "overflow_x": null,
            "overflow_y": null,
            "padding": null,
            "right": null,
            "top": null,
            "visibility": null,
            "width": null
          }
        },
        "d07e3dd9127d425c84f476535b43e1fb": {
          "model_module": "@jupyter-widgets/controls",
          "model_name": "ProgressStyleModel",
          "model_module_version": "1.5.0",
          "state": {
            "_model_module": "@jupyter-widgets/controls",
            "_model_module_version": "1.5.0",
            "_model_name": "ProgressStyleModel",
            "_view_count": null,
            "_view_module": "@jupyter-widgets/base",
            "_view_module_version": "1.2.0",
            "_view_name": "StyleView",
            "bar_color": null,
            "description_width": ""
          }
        },
        "d6157793f9204a49a67b44233f7bc0b7": {
          "model_module": "@jupyter-widgets/base",
          "model_name": "LayoutModel",
          "model_module_version": "1.2.0",
          "state": {
            "_model_module": "@jupyter-widgets/base",
            "_model_module_version": "1.2.0",
            "_model_name": "LayoutModel",
            "_view_count": null,
            "_view_module": "@jupyter-widgets/base",
            "_view_module_version": "1.2.0",
            "_view_name": "LayoutView",
            "align_content": null,
            "align_items": null,
            "align_self": null,
            "border": null,
            "bottom": null,
            "display": null,
            "flex": null,
            "flex_flow": null,
            "grid_area": null,
            "grid_auto_columns": null,
            "grid_auto_flow": null,
            "grid_auto_rows": null,
            "grid_column": null,
            "grid_gap": null,
            "grid_row": null,
            "grid_template_areas": null,
            "grid_template_columns": null,
            "grid_template_rows": null,
            "height": null,
            "justify_content": null,
            "justify_items": null,
            "left": null,
            "margin": null,
            "max_height": null,
            "max_width": null,
            "min_height": null,
            "min_width": null,
            "object_fit": null,
            "object_position": null,
            "order": null,
            "overflow": null,
            "overflow_x": null,
            "overflow_y": null,
            "padding": null,
            "right": null,
            "top": null,
            "visibility": null,
            "width": null
          }
        },
        "e2f50a74f29748e09d8f8ae4e0687ce8": {
          "model_module": "@jupyter-widgets/controls",
          "model_name": "DescriptionStyleModel",
          "model_module_version": "1.5.0",
          "state": {
            "_model_module": "@jupyter-widgets/controls",
            "_model_module_version": "1.5.0",
            "_model_name": "DescriptionStyleModel",
            "_view_count": null,
            "_view_module": "@jupyter-widgets/base",
            "_view_module_version": "1.2.0",
            "_view_name": "StyleView",
            "description_width": ""
          }
        },
        "80eaf54cf63947fba1a21c90be8d191f": {
          "model_module": "@jupyter-widgets/controls",
          "model_name": "HBoxModel",
          "model_module_version": "1.5.0",
          "state": {
            "_dom_classes": [],
            "_model_module": "@jupyter-widgets/controls",
            "_model_module_version": "1.5.0",
            "_model_name": "HBoxModel",
            "_view_count": null,
            "_view_module": "@jupyter-widgets/controls",
            "_view_module_version": "1.5.0",
            "_view_name": "HBoxView",
            "box_style": "",
            "children": [
              "IPY_MODEL_4cd82ebcef8d41b8894d48d06a649d36",
              "IPY_MODEL_61105123a9164b05898b043c98450117",
              "IPY_MODEL_12866379f88846ec84cc62e24d1d9392"
            ],
            "layout": "IPY_MODEL_7ab63cfa6d2741afa279b11426dd6a56"
          }
        },
        "4cd82ebcef8d41b8894d48d06a649d36": {
          "model_module": "@jupyter-widgets/controls",
          "model_name": "HTMLModel",
          "model_module_version": "1.5.0",
          "state": {
            "_dom_classes": [],
            "_model_module": "@jupyter-widgets/controls",
            "_model_module_version": "1.5.0",
            "_model_name": "HTMLModel",
            "_view_count": null,
            "_view_module": "@jupyter-widgets/controls",
            "_view_module_version": "1.5.0",
            "_view_name": "HTMLView",
            "description": "",
            "description_tooltip": null,
            "layout": "IPY_MODEL_fd6b5b99a8594952865887dee0737dfe",
            "placeholder": "​",
            "style": "IPY_MODEL_bd942ace7d0540b2b7f793480fd9a6c2",
            "value": "Map: 100%"
          }
        },
        "61105123a9164b05898b043c98450117": {
          "model_module": "@jupyter-widgets/controls",
          "model_name": "FloatProgressModel",
          "model_module_version": "1.5.0",
          "state": {
            "_dom_classes": [],
            "_model_module": "@jupyter-widgets/controls",
            "_model_module_version": "1.5.0",
            "_model_name": "FloatProgressModel",
            "_view_count": null,
            "_view_module": "@jupyter-widgets/controls",
            "_view_module_version": "1.5.0",
            "_view_name": "ProgressView",
            "bar_style": "success",
            "description": "",
            "description_tooltip": null,
            "layout": "IPY_MODEL_d8d6c8627d5b49d8abcec9d36f8848c7",
            "max": 80,
            "min": 0,
            "orientation": "horizontal",
            "style": "IPY_MODEL_b8bfe681c80443de8392c022a9d5a428",
            "value": 80
          }
        },
        "12866379f88846ec84cc62e24d1d9392": {
          "model_module": "@jupyter-widgets/controls",
          "model_name": "HTMLModel",
          "model_module_version": "1.5.0",
          "state": {
            "_dom_classes": [],
            "_model_module": "@jupyter-widgets/controls",
            "_model_module_version": "1.5.0",
            "_model_name": "HTMLModel",
            "_view_count": null,
            "_view_module": "@jupyter-widgets/controls",
            "_view_module_version": "1.5.0",
            "_view_name": "HTMLView",
            "description": "",
            "description_tooltip": null,
            "layout": "IPY_MODEL_88a2758291744d569f2a335f506dc971",
            "placeholder": "​",
            "style": "IPY_MODEL_fd98ff0004ce4f789b3e9146f7e2ff79",
            "value": " 80/80 [00:00&lt;00:00, 1234.59 examples/s]"
          }
        },
        "7ab63cfa6d2741afa279b11426dd6a56": {
          "model_module": "@jupyter-widgets/base",
          "model_name": "LayoutModel",
          "model_module_version": "1.2.0",
          "state": {
            "_model_module": "@jupyter-widgets/base",
            "_model_module_version": "1.2.0",
            "_model_name": "LayoutModel",
            "_view_count": null,
            "_view_module": "@jupyter-widgets/base",
            "_view_module_version": "1.2.0",
            "_view_name": "LayoutView",
            "align_content": null,
            "align_items": null,
            "align_self": null,
            "border": null,
            "bottom": null,
            "display": null,
            "flex": null,
            "flex_flow": null,
            "grid_area": null,
            "grid_auto_columns": null,
            "grid_auto_flow": null,
            "grid_auto_rows": null,
            "grid_column": null,
            "grid_gap": null,
            "grid_row": null,
            "grid_template_areas": null,
            "grid_template_columns": null,
            "grid_template_rows": null,
            "height": null,
            "justify_content": null,
            "justify_items": null,
            "left": null,
            "margin": null,
            "max_height": null,
            "max_width": null,
            "min_height": null,
            "min_width": null,
            "object_fit": null,
            "object_position": null,
            "order": null,
            "overflow": null,
            "overflow_x": null,
            "overflow_y": null,
            "padding": null,
            "right": null,
            "top": null,
            "visibility": null,
            "width": null
          }
        },
        "fd6b5b99a8594952865887dee0737dfe": {
          "model_module": "@jupyter-widgets/base",
          "model_name": "LayoutModel",
          "model_module_version": "1.2.0",
          "state": {
            "_model_module": "@jupyter-widgets/base",
            "_model_module_version": "1.2.0",
            "_model_name": "LayoutModel",
            "_view_count": null,
            "_view_module": "@jupyter-widgets/base",
            "_view_module_version": "1.2.0",
            "_view_name": "LayoutView",
            "align_content": null,
            "align_items": null,
            "align_self": null,
            "border": null,
            "bottom": null,
            "display": null,
            "flex": null,
            "flex_flow": null,
            "grid_area": null,
            "grid_auto_columns": null,
            "grid_auto_flow": null,
            "grid_auto_rows": null,
            "grid_column": null,
            "grid_gap": null,
            "grid_row": null,
            "grid_template_areas": null,
            "grid_template_columns": null,
            "grid_template_rows": null,
            "height": null,
            "justify_content": null,
            "justify_items": null,
            "left": null,
            "margin": null,
            "max_height": null,
            "max_width": null,
            "min_height": null,
            "min_width": null,
            "object_fit": null,
            "object_position": null,
            "order": null,
            "overflow": null,
            "overflow_x": null,
            "overflow_y": null,
            "padding": null,
            "right": null,
            "top": null,
            "visibility": null,
            "width": null
          }
        },
        "bd942ace7d0540b2b7f793480fd9a6c2": {
          "model_module": "@jupyter-widgets/controls",
          "model_name": "DescriptionStyleModel",
          "model_module_version": "1.5.0",
          "state": {
            "_model_module": "@jupyter-widgets/controls",
            "_model_module_version": "1.5.0",
            "_model_name": "DescriptionStyleModel",
            "_view_count": null,
            "_view_module": "@jupyter-widgets/base",
            "_view_module_version": "1.2.0",
            "_view_name": "StyleView",
            "description_width": ""
          }
        },
        "d8d6c8627d5b49d8abcec9d36f8848c7": {
          "model_module": "@jupyter-widgets/base",
          "model_name": "LayoutModel",
          "model_module_version": "1.2.0",
          "state": {
            "_model_module": "@jupyter-widgets/base",
            "_model_module_version": "1.2.0",
            "_model_name": "LayoutModel",
            "_view_count": null,
            "_view_module": "@jupyter-widgets/base",
            "_view_module_version": "1.2.0",
            "_view_name": "LayoutView",
            "align_content": null,
            "align_items": null,
            "align_self": null,
            "border": null,
            "bottom": null,
            "display": null,
            "flex": null,
            "flex_flow": null,
            "grid_area": null,
            "grid_auto_columns": null,
            "grid_auto_flow": null,
            "grid_auto_rows": null,
            "grid_column": null,
            "grid_gap": null,
            "grid_row": null,
            "grid_template_areas": null,
            "grid_template_columns": null,
            "grid_template_rows": null,
            "height": null,
            "justify_content": null,
            "justify_items": null,
            "left": null,
            "margin": null,
            "max_height": null,
            "max_width": null,
            "min_height": null,
            "min_width": null,
            "object_fit": null,
            "object_position": null,
            "order": null,
            "overflow": null,
            "overflow_x": null,
            "overflow_y": null,
            "padding": null,
            "right": null,
            "top": null,
            "visibility": null,
            "width": null
          }
        },
        "b8bfe681c80443de8392c022a9d5a428": {
          "model_module": "@jupyter-widgets/controls",
          "model_name": "ProgressStyleModel",
          "model_module_version": "1.5.0",
          "state": {
            "_model_module": "@jupyter-widgets/controls",
            "_model_module_version": "1.5.0",
            "_model_name": "ProgressStyleModel",
            "_view_count": null,
            "_view_module": "@jupyter-widgets/base",
            "_view_module_version": "1.2.0",
            "_view_name": "StyleView",
            "bar_color": null,
            "description_width": ""
          }
        },
        "88a2758291744d569f2a335f506dc971": {
          "model_module": "@jupyter-widgets/base",
          "model_name": "LayoutModel",
          "model_module_version": "1.2.0",
          "state": {
            "_model_module": "@jupyter-widgets/base",
            "_model_module_version": "1.2.0",
            "_model_name": "LayoutModel",
            "_view_count": null,
            "_view_module": "@jupyter-widgets/base",
            "_view_module_version": "1.2.0",
            "_view_name": "LayoutView",
            "align_content": null,
            "align_items": null,
            "align_self": null,
            "border": null,
            "bottom": null,
            "display": null,
            "flex": null,
            "flex_flow": null,
            "grid_area": null,
            "grid_auto_columns": null,
            "grid_auto_flow": null,
            "grid_auto_rows": null,
            "grid_column": null,
            "grid_gap": null,
            "grid_row": null,
            "grid_template_areas": null,
            "grid_template_columns": null,
            "grid_template_rows": null,
            "height": null,
            "justify_content": null,
            "justify_items": null,
            "left": null,
            "margin": null,
            "max_height": null,
            "max_width": null,
            "min_height": null,
            "min_width": null,
            "object_fit": null,
            "object_position": null,
            "order": null,
            "overflow": null,
            "overflow_x": null,
            "overflow_y": null,
            "padding": null,
            "right": null,
            "top": null,
            "visibility": null,
            "width": null
          }
        },
        "fd98ff0004ce4f789b3e9146f7e2ff79": {
          "model_module": "@jupyter-widgets/controls",
          "model_name": "DescriptionStyleModel",
          "model_module_version": "1.5.0",
          "state": {
            "_model_module": "@jupyter-widgets/controls",
            "_model_module_version": "1.5.0",
            "_model_name": "DescriptionStyleModel",
            "_view_count": null,
            "_view_module": "@jupyter-widgets/base",
            "_view_module_version": "1.2.0",
            "_view_name": "StyleView",
            "description_width": ""
          }
        },
        "8077d0561eb44c439adf39aacb258761": {
          "model_module": "@jupyter-widgets/controls",
          "model_name": "HBoxModel",
          "model_module_version": "1.5.0",
          "state": {
            "_dom_classes": [],
            "_model_module": "@jupyter-widgets/controls",
            "_model_module_version": "1.5.0",
            "_model_name": "HBoxModel",
            "_view_count": null,
            "_view_module": "@jupyter-widgets/controls",
            "_view_module_version": "1.5.0",
            "_view_name": "HBoxView",
            "box_style": "",
            "children": [
              "IPY_MODEL_eeef8df89ebb42698022d4c110e5eed5",
              "IPY_MODEL_8fb45beecef940c993532fa876e3044f",
              "IPY_MODEL_259421400c1545249faa652b1a7a7bc5"
            ],
            "layout": "IPY_MODEL_177d3226a12842b0ade3d8d76d27b97d"
          }
        },
        "eeef8df89ebb42698022d4c110e5eed5": {
          "model_module": "@jupyter-widgets/controls",
          "model_name": "HTMLModel",
          "model_module_version": "1.5.0",
          "state": {
            "_dom_classes": [],
            "_model_module": "@jupyter-widgets/controls",
            "_model_module_version": "1.5.0",
            "_model_name": "HTMLModel",
            "_view_count": null,
            "_view_module": "@jupyter-widgets/controls",
            "_view_module_version": "1.5.0",
            "_view_name": "HTMLView",
            "description": "",
            "description_tooltip": null,
            "layout": "IPY_MODEL_2afbb077573145149c9422da0360b9cd",
            "placeholder": "​",
            "style": "IPY_MODEL_11ea66cda2f844e58a0ac4b4ce696a84",
            "value": "Map: 100%"
          }
        },
        "8fb45beecef940c993532fa876e3044f": {
          "model_module": "@jupyter-widgets/controls",
          "model_name": "FloatProgressModel",
          "model_module_version": "1.5.0",
          "state": {
            "_dom_classes": [],
            "_model_module": "@jupyter-widgets/controls",
            "_model_module_version": "1.5.0",
            "_model_name": "FloatProgressModel",
            "_view_count": null,
            "_view_module": "@jupyter-widgets/controls",
            "_view_module_version": "1.5.0",
            "_view_name": "ProgressView",
            "bar_style": "success",
            "description": "",
            "description_tooltip": null,
            "layout": "IPY_MODEL_1144dc50cab54442bff2489f16ae538e",
            "max": 13,
            "min": 0,
            "orientation": "horizontal",
            "style": "IPY_MODEL_92616354affa4e0e91ac78579e480a96",
            "value": 13
          }
        },
        "259421400c1545249faa652b1a7a7bc5": {
          "model_module": "@jupyter-widgets/controls",
          "model_name": "HTMLModel",
          "model_module_version": "1.5.0",
          "state": {
            "_dom_classes": [],
            "_model_module": "@jupyter-widgets/controls",
            "_model_module_version": "1.5.0",
            "_model_name": "HTMLModel",
            "_view_count": null,
            "_view_module": "@jupyter-widgets/controls",
            "_view_module_version": "1.5.0",
            "_view_name": "HTMLView",
            "description": "",
            "description_tooltip": null,
            "layout": "IPY_MODEL_9daae1157e334ec48d2beb95109e8095",
            "placeholder": "​",
            "style": "IPY_MODEL_aba9027c65fd4d9ca87f400ec86b7fec",
            "value": " 13/13 [00:00&lt;00:00, 324.83 examples/s]"
          }
        },
        "177d3226a12842b0ade3d8d76d27b97d": {
          "model_module": "@jupyter-widgets/base",
          "model_name": "LayoutModel",
          "model_module_version": "1.2.0",
          "state": {
            "_model_module": "@jupyter-widgets/base",
            "_model_module_version": "1.2.0",
            "_model_name": "LayoutModel",
            "_view_count": null,
            "_view_module": "@jupyter-widgets/base",
            "_view_module_version": "1.2.0",
            "_view_name": "LayoutView",
            "align_content": null,
            "align_items": null,
            "align_self": null,
            "border": null,
            "bottom": null,
            "display": null,
            "flex": null,
            "flex_flow": null,
            "grid_area": null,
            "grid_auto_columns": null,
            "grid_auto_flow": null,
            "grid_auto_rows": null,
            "grid_column": null,
            "grid_gap": null,
            "grid_row": null,
            "grid_template_areas": null,
            "grid_template_columns": null,
            "grid_template_rows": null,
            "height": null,
            "justify_content": null,
            "justify_items": null,
            "left": null,
            "margin": null,
            "max_height": null,
            "max_width": null,
            "min_height": null,
            "min_width": null,
            "object_fit": null,
            "object_position": null,
            "order": null,
            "overflow": null,
            "overflow_x": null,
            "overflow_y": null,
            "padding": null,
            "right": null,
            "top": null,
            "visibility": null,
            "width": null
          }
        },
        "2afbb077573145149c9422da0360b9cd": {
          "model_module": "@jupyter-widgets/base",
          "model_name": "LayoutModel",
          "model_module_version": "1.2.0",
          "state": {
            "_model_module": "@jupyter-widgets/base",
            "_model_module_version": "1.2.0",
            "_model_name": "LayoutModel",
            "_view_count": null,
            "_view_module": "@jupyter-widgets/base",
            "_view_module_version": "1.2.0",
            "_view_name": "LayoutView",
            "align_content": null,
            "align_items": null,
            "align_self": null,
            "border": null,
            "bottom": null,
            "display": null,
            "flex": null,
            "flex_flow": null,
            "grid_area": null,
            "grid_auto_columns": null,
            "grid_auto_flow": null,
            "grid_auto_rows": null,
            "grid_column": null,
            "grid_gap": null,
            "grid_row": null,
            "grid_template_areas": null,
            "grid_template_columns": null,
            "grid_template_rows": null,
            "height": null,
            "justify_content": null,
            "justify_items": null,
            "left": null,
            "margin": null,
            "max_height": null,
            "max_width": null,
            "min_height": null,
            "min_width": null,
            "object_fit": null,
            "object_position": null,
            "order": null,
            "overflow": null,
            "overflow_x": null,
            "overflow_y": null,
            "padding": null,
            "right": null,
            "top": null,
            "visibility": null,
            "width": null
          }
        },
        "11ea66cda2f844e58a0ac4b4ce696a84": {
          "model_module": "@jupyter-widgets/controls",
          "model_name": "DescriptionStyleModel",
          "model_module_version": "1.5.0",
          "state": {
            "_model_module": "@jupyter-widgets/controls",
            "_model_module_version": "1.5.0",
            "_model_name": "DescriptionStyleModel",
            "_view_count": null,
            "_view_module": "@jupyter-widgets/base",
            "_view_module_version": "1.2.0",
            "_view_name": "StyleView",
            "description_width": ""
          }
        },
        "1144dc50cab54442bff2489f16ae538e": {
          "model_module": "@jupyter-widgets/base",
          "model_name": "LayoutModel",
          "model_module_version": "1.2.0",
          "state": {
            "_model_module": "@jupyter-widgets/base",
            "_model_module_version": "1.2.0",
            "_model_name": "LayoutModel",
            "_view_count": null,
            "_view_module": "@jupyter-widgets/base",
            "_view_module_version": "1.2.0",
            "_view_name": "LayoutView",
            "align_content": null,
            "align_items": null,
            "align_self": null,
            "border": null,
            "bottom": null,
            "display": null,
            "flex": null,
            "flex_flow": null,
            "grid_area": null,
            "grid_auto_columns": null,
            "grid_auto_flow": null,
            "grid_auto_rows": null,
            "grid_column": null,
            "grid_gap": null,
            "grid_row": null,
            "grid_template_areas": null,
            "grid_template_columns": null,
            "grid_template_rows": null,
            "height": null,
            "justify_content": null,
            "justify_items": null,
            "left": null,
            "margin": null,
            "max_height": null,
            "max_width": null,
            "min_height": null,
            "min_width": null,
            "object_fit": null,
            "object_position": null,
            "order": null,
            "overflow": null,
            "overflow_x": null,
            "overflow_y": null,
            "padding": null,
            "right": null,
            "top": null,
            "visibility": null,
            "width": null
          }
        },
        "92616354affa4e0e91ac78579e480a96": {
          "model_module": "@jupyter-widgets/controls",
          "model_name": "ProgressStyleModel",
          "model_module_version": "1.5.0",
          "state": {
            "_model_module": "@jupyter-widgets/controls",
            "_model_module_version": "1.5.0",
            "_model_name": "ProgressStyleModel",
            "_view_count": null,
            "_view_module": "@jupyter-widgets/base",
            "_view_module_version": "1.2.0",
            "_view_name": "StyleView",
            "bar_color": null,
            "description_width": ""
          }
        },
        "9daae1157e334ec48d2beb95109e8095": {
          "model_module": "@jupyter-widgets/base",
          "model_name": "LayoutModel",
          "model_module_version": "1.2.0",
          "state": {
            "_model_module": "@jupyter-widgets/base",
            "_model_module_version": "1.2.0",
            "_model_name": "LayoutModel",
            "_view_count": null,
            "_view_module": "@jupyter-widgets/base",
            "_view_module_version": "1.2.0",
            "_view_name": "LayoutView",
            "align_content": null,
            "align_items": null,
            "align_self": null,
            "border": null,
            "bottom": null,
            "display": null,
            "flex": null,
            "flex_flow": null,
            "grid_area": null,
            "grid_auto_columns": null,
            "grid_auto_flow": null,
            "grid_auto_rows": null,
            "grid_column": null,
            "grid_gap": null,
            "grid_row": null,
            "grid_template_areas": null,
            "grid_template_columns": null,
            "grid_template_rows": null,
            "height": null,
            "justify_content": null,
            "justify_items": null,
            "left": null,
            "margin": null,
            "max_height": null,
            "max_width": null,
            "min_height": null,
            "min_width": null,
            "object_fit": null,
            "object_position": null,
            "order": null,
            "overflow": null,
            "overflow_x": null,
            "overflow_y": null,
            "padding": null,
            "right": null,
            "top": null,
            "visibility": null,
            "width": null
          }
        },
        "aba9027c65fd4d9ca87f400ec86b7fec": {
          "model_module": "@jupyter-widgets/controls",
          "model_name": "DescriptionStyleModel",
          "model_module_version": "1.5.0",
          "state": {
            "_model_module": "@jupyter-widgets/controls",
            "_model_module_version": "1.5.0",
            "_model_name": "DescriptionStyleModel",
            "_view_count": null,
            "_view_module": "@jupyter-widgets/base",
            "_view_module_version": "1.2.0",
            "_view_name": "StyleView",
            "description_width": ""
          }
        },
        "0650dd17fbf44cd6a70ec1d41eb0098b": {
          "model_module": "@jupyter-widgets/controls",
          "model_name": "HBoxModel",
          "model_module_version": "1.5.0",
          "state": {
            "_dom_classes": [],
            "_model_module": "@jupyter-widgets/controls",
            "_model_module_version": "1.5.0",
            "_model_name": "HBoxModel",
            "_view_count": null,
            "_view_module": "@jupyter-widgets/controls",
            "_view_module_version": "1.5.0",
            "_view_name": "HBoxView",
            "box_style": "",
            "children": [
              "IPY_MODEL_9cb6bb8d43e14837b7253654a94a26ac",
              "IPY_MODEL_8c6b4b57a08f472bae8e45c3b822b67a",
              "IPY_MODEL_1c06f2eb3e2247e8ac97c874b4c32398"
            ],
            "layout": "IPY_MODEL_ea3f8d9a80f64fe39ef6aec91d382c13"
          }
        },
        "9cb6bb8d43e14837b7253654a94a26ac": {
          "model_module": "@jupyter-widgets/controls",
          "model_name": "HTMLModel",
          "model_module_version": "1.5.0",
          "state": {
            "_dom_classes": [],
            "_model_module": "@jupyter-widgets/controls",
            "_model_module_version": "1.5.0",
            "_model_name": "HTMLModel",
            "_view_count": null,
            "_view_module": "@jupyter-widgets/controls",
            "_view_module_version": "1.5.0",
            "_view_name": "HTMLView",
            "description": "",
            "description_tooltip": null,
            "layout": "IPY_MODEL_68f90803577a4ba78292e5e6cd85376f",
            "placeholder": "​",
            "style": "IPY_MODEL_4650e9342c474bccadcd958e50bc4e83",
            "value": "Map: 100%"
          }
        },
        "8c6b4b57a08f472bae8e45c3b822b67a": {
          "model_module": "@jupyter-widgets/controls",
          "model_name": "FloatProgressModel",
          "model_module_version": "1.5.0",
          "state": {
            "_dom_classes": [],
            "_model_module": "@jupyter-widgets/controls",
            "_model_module_version": "1.5.0",
            "_model_name": "FloatProgressModel",
            "_view_count": null,
            "_view_module": "@jupyter-widgets/controls",
            "_view_module_version": "1.5.0",
            "_view_name": "ProgressView",
            "bar_style": "success",
            "description": "",
            "description_tooltip": null,
            "layout": "IPY_MODEL_3579ee77ed814b75a576cc650ba870c0",
            "max": 16,
            "min": 0,
            "orientation": "horizontal",
            "style": "IPY_MODEL_b43c202a3ec247d3a88db7567b244465",
            "value": 16
          }
        },
        "1c06f2eb3e2247e8ac97c874b4c32398": {
          "model_module": "@jupyter-widgets/controls",
          "model_name": "HTMLModel",
          "model_module_version": "1.5.0",
          "state": {
            "_dom_classes": [],
            "_model_module": "@jupyter-widgets/controls",
            "_model_module_version": "1.5.0",
            "_model_name": "HTMLModel",
            "_view_count": null,
            "_view_module": "@jupyter-widgets/controls",
            "_view_module_version": "1.5.0",
            "_view_name": "HTMLView",
            "description": "",
            "description_tooltip": null,
            "layout": "IPY_MODEL_7cbf046f1b624d15beddfabbe0eed421",
            "placeholder": "​",
            "style": "IPY_MODEL_86d43513e810465089a1417c029a006d",
            "value": " 16/16 [00:00&lt;00:00, 390.78 examples/s]"
          }
        },
        "ea3f8d9a80f64fe39ef6aec91d382c13": {
          "model_module": "@jupyter-widgets/base",
          "model_name": "LayoutModel",
          "model_module_version": "1.2.0",
          "state": {
            "_model_module": "@jupyter-widgets/base",
            "_model_module_version": "1.2.0",
            "_model_name": "LayoutModel",
            "_view_count": null,
            "_view_module": "@jupyter-widgets/base",
            "_view_module_version": "1.2.0",
            "_view_name": "LayoutView",
            "align_content": null,
            "align_items": null,
            "align_self": null,
            "border": null,
            "bottom": null,
            "display": null,
            "flex": null,
            "flex_flow": null,
            "grid_area": null,
            "grid_auto_columns": null,
            "grid_auto_flow": null,
            "grid_auto_rows": null,
            "grid_column": null,
            "grid_gap": null,
            "grid_row": null,
            "grid_template_areas": null,
            "grid_template_columns": null,
            "grid_template_rows": null,
            "height": null,
            "justify_content": null,
            "justify_items": null,
            "left": null,
            "margin": null,
            "max_height": null,
            "max_width": null,
            "min_height": null,
            "min_width": null,
            "object_fit": null,
            "object_position": null,
            "order": null,
            "overflow": null,
            "overflow_x": null,
            "overflow_y": null,
            "padding": null,
            "right": null,
            "top": null,
            "visibility": null,
            "width": null
          }
        },
        "68f90803577a4ba78292e5e6cd85376f": {
          "model_module": "@jupyter-widgets/base",
          "model_name": "LayoutModel",
          "model_module_version": "1.2.0",
          "state": {
            "_model_module": "@jupyter-widgets/base",
            "_model_module_version": "1.2.0",
            "_model_name": "LayoutModel",
            "_view_count": null,
            "_view_module": "@jupyter-widgets/base",
            "_view_module_version": "1.2.0",
            "_view_name": "LayoutView",
            "align_content": null,
            "align_items": null,
            "align_self": null,
            "border": null,
            "bottom": null,
            "display": null,
            "flex": null,
            "flex_flow": null,
            "grid_area": null,
            "grid_auto_columns": null,
            "grid_auto_flow": null,
            "grid_auto_rows": null,
            "grid_column": null,
            "grid_gap": null,
            "grid_row": null,
            "grid_template_areas": null,
            "grid_template_columns": null,
            "grid_template_rows": null,
            "height": null,
            "justify_content": null,
            "justify_items": null,
            "left": null,
            "margin": null,
            "max_height": null,
            "max_width": null,
            "min_height": null,
            "min_width": null,
            "object_fit": null,
            "object_position": null,
            "order": null,
            "overflow": null,
            "overflow_x": null,
            "overflow_y": null,
            "padding": null,
            "right": null,
            "top": null,
            "visibility": null,
            "width": null
          }
        },
        "4650e9342c474bccadcd958e50bc4e83": {
          "model_module": "@jupyter-widgets/controls",
          "model_name": "DescriptionStyleModel",
          "model_module_version": "1.5.0",
          "state": {
            "_model_module": "@jupyter-widgets/controls",
            "_model_module_version": "1.5.0",
            "_model_name": "DescriptionStyleModel",
            "_view_count": null,
            "_view_module": "@jupyter-widgets/base",
            "_view_module_version": "1.2.0",
            "_view_name": "StyleView",
            "description_width": ""
          }
        },
        "3579ee77ed814b75a576cc650ba870c0": {
          "model_module": "@jupyter-widgets/base",
          "model_name": "LayoutModel",
          "model_module_version": "1.2.0",
          "state": {
            "_model_module": "@jupyter-widgets/base",
            "_model_module_version": "1.2.0",
            "_model_name": "LayoutModel",
            "_view_count": null,
            "_view_module": "@jupyter-widgets/base",
            "_view_module_version": "1.2.0",
            "_view_name": "LayoutView",
            "align_content": null,
            "align_items": null,
            "align_self": null,
            "border": null,
            "bottom": null,
            "display": null,
            "flex": null,
            "flex_flow": null,
            "grid_area": null,
            "grid_auto_columns": null,
            "grid_auto_flow": null,
            "grid_auto_rows": null,
            "grid_column": null,
            "grid_gap": null,
            "grid_row": null,
            "grid_template_areas": null,
            "grid_template_columns": null,
            "grid_template_rows": null,
            "height": null,
            "justify_content": null,
            "justify_items": null,
            "left": null,
            "margin": null,
            "max_height": null,
            "max_width": null,
            "min_height": null,
            "min_width": null,
            "object_fit": null,
            "object_position": null,
            "order": null,
            "overflow": null,
            "overflow_x": null,
            "overflow_y": null,
            "padding": null,
            "right": null,
            "top": null,
            "visibility": null,
            "width": null
          }
        },
        "b43c202a3ec247d3a88db7567b244465": {
          "model_module": "@jupyter-widgets/controls",
          "model_name": "ProgressStyleModel",
          "model_module_version": "1.5.0",
          "state": {
            "_model_module": "@jupyter-widgets/controls",
            "_model_module_version": "1.5.0",
            "_model_name": "ProgressStyleModel",
            "_view_count": null,
            "_view_module": "@jupyter-widgets/base",
            "_view_module_version": "1.2.0",
            "_view_name": "StyleView",
            "bar_color": null,
            "description_width": ""
          }
        },
        "7cbf046f1b624d15beddfabbe0eed421": {
          "model_module": "@jupyter-widgets/base",
          "model_name": "LayoutModel",
          "model_module_version": "1.2.0",
          "state": {
            "_model_module": "@jupyter-widgets/base",
            "_model_module_version": "1.2.0",
            "_model_name": "LayoutModel",
            "_view_count": null,
            "_view_module": "@jupyter-widgets/base",
            "_view_module_version": "1.2.0",
            "_view_name": "LayoutView",
            "align_content": null,
            "align_items": null,
            "align_self": null,
            "border": null,
            "bottom": null,
            "display": null,
            "flex": null,
            "flex_flow": null,
            "grid_area": null,
            "grid_auto_columns": null,
            "grid_auto_flow": null,
            "grid_auto_rows": null,
            "grid_column": null,
            "grid_gap": null,
            "grid_row": null,
            "grid_template_areas": null,
            "grid_template_columns": null,
            "grid_template_rows": null,
            "height": null,
            "justify_content": null,
            "justify_items": null,
            "left": null,
            "margin": null,
            "max_height": null,
            "max_width": null,
            "min_height": null,
            "min_width": null,
            "object_fit": null,
            "object_position": null,
            "order": null,
            "overflow": null,
            "overflow_x": null,
            "overflow_y": null,
            "padding": null,
            "right": null,
            "top": null,
            "visibility": null,
            "width": null
          }
        },
        "86d43513e810465089a1417c029a006d": {
          "model_module": "@jupyter-widgets/controls",
          "model_name": "DescriptionStyleModel",
          "model_module_version": "1.5.0",
          "state": {
            "_model_module": "@jupyter-widgets/controls",
            "_model_module_version": "1.5.0",
            "_model_name": "DescriptionStyleModel",
            "_view_count": null,
            "_view_module": "@jupyter-widgets/base",
            "_view_module_version": "1.2.0",
            "_view_name": "StyleView",
            "description_width": ""
          }
        }
      }
    }
  },
  "cells": [
    {
      "cell_type": "markdown",
      "source": [
        "# **Installs**\n",
        "\n"
      ],
      "metadata": {
        "id": "roTn3wd3IXw4"
      }
    },
    {
      "cell_type": "code",
      "source": [
        "!pip install camel-tools'"
      ],
      "metadata": {
        "id": "ILtnyze6IaKF",
        "colab": {
          "base_uri": "https://localhost:8080/"
        },
        "outputId": "d4816ca1-819e-4431-94e0-8c1d4f202c2d"
      },
      "execution_count": 8,
      "outputs": [
        {
          "output_type": "stream",
          "name": "stdout",
          "text": [
            "/bin/bash: -c: line 1: unexpected EOF while looking for matching `''\n",
            "/bin/bash: -c: line 2: syntax error: unexpected end of file\n"
          ]
        }
      ]
    },
    {
      "cell_type": "code",
      "source": [
        "!pip install torch"
      ],
      "metadata": {
        "colab": {
          "base_uri": "https://localhost:8080/"
        },
        "id": "ZsR2kx-Cq4sp",
        "outputId": "db22e425-ae91-43d3-e755-c75843f3736f"
      },
      "execution_count": 9,
      "outputs": [
        {
          "output_type": "stream",
          "name": "stdout",
          "text": [
            "Requirement already satisfied: torch in /usr/local/lib/python3.10/dist-packages (2.5.1+cu121)\n",
            "Requirement already satisfied: filelock in /usr/local/lib/python3.10/dist-packages (from torch) (3.16.1)\n",
            "Requirement already satisfied: typing-extensions>=4.8.0 in /usr/local/lib/python3.10/dist-packages (from torch) (4.12.2)\n",
            "Requirement already satisfied: networkx in /usr/local/lib/python3.10/dist-packages (from torch) (3.4.2)\n",
            "Requirement already satisfied: jinja2 in /usr/local/lib/python3.10/dist-packages (from torch) (3.1.4)\n",
            "Requirement already satisfied: fsspec in /usr/local/lib/python3.10/dist-packages (from torch) (2024.9.0)\n",
            "Requirement already satisfied: sympy==1.13.1 in /usr/local/lib/python3.10/dist-packages (from torch) (1.13.1)\n",
            "Requirement already satisfied: mpmath<1.4,>=1.1.0 in /usr/local/lib/python3.10/dist-packages (from sympy==1.13.1->torch) (1.3.0)\n",
            "Requirement already satisfied: MarkupSafe>=2.0 in /usr/local/lib/python3.10/dist-packages (from jinja2->torch) (3.0.2)\n"
          ]
        }
      ]
    },
    {
      "cell_type": "code",
      "source": [
        "!pip install datasets"
      ],
      "metadata": {
        "colab": {
          "base_uri": "https://localhost:8080/"
        },
        "id": "peXvJffsq7w5",
        "outputId": "340aa43a-c94f-462f-f519-78434b95a3fc"
      },
      "execution_count": 10,
      "outputs": [
        {
          "output_type": "stream",
          "name": "stdout",
          "text": [
            "Requirement already satisfied: datasets in /usr/local/lib/python3.10/dist-packages (3.2.0)\n",
            "Requirement already satisfied: filelock in /usr/local/lib/python3.10/dist-packages (from datasets) (3.16.1)\n",
            "Requirement already satisfied: numpy>=1.17 in /usr/local/lib/python3.10/dist-packages (from datasets) (1.26.4)\n",
            "Requirement already satisfied: pyarrow>=15.0.0 in /usr/local/lib/python3.10/dist-packages (from datasets) (17.0.0)\n",
            "Requirement already satisfied: dill<0.3.9,>=0.3.0 in /usr/local/lib/python3.10/dist-packages (from datasets) (0.3.8)\n",
            "Requirement already satisfied: pandas in /usr/local/lib/python3.10/dist-packages (from datasets) (2.2.2)\n",
            "Requirement already satisfied: requests>=2.32.2 in /usr/local/lib/python3.10/dist-packages (from datasets) (2.32.3)\n",
            "Requirement already satisfied: tqdm>=4.66.3 in /usr/local/lib/python3.10/dist-packages (from datasets) (4.67.1)\n",
            "Requirement already satisfied: xxhash in /usr/local/lib/python3.10/dist-packages (from datasets) (3.5.0)\n",
            "Requirement already satisfied: multiprocess<0.70.17 in /usr/local/lib/python3.10/dist-packages (from datasets) (0.70.16)\n",
            "Requirement already satisfied: fsspec<=2024.9.0,>=2023.1.0 in /usr/local/lib/python3.10/dist-packages (from fsspec[http]<=2024.9.0,>=2023.1.0->datasets) (2024.9.0)\n",
            "Requirement already satisfied: aiohttp in /usr/local/lib/python3.10/dist-packages (from datasets) (3.11.10)\n",
            "Requirement already satisfied: huggingface-hub>=0.23.0 in /usr/local/lib/python3.10/dist-packages (from datasets) (0.27.0)\n",
            "Requirement already satisfied: packaging in /usr/local/lib/python3.10/dist-packages (from datasets) (24.2)\n",
            "Requirement already satisfied: pyyaml>=5.1 in /usr/local/lib/python3.10/dist-packages (from datasets) (6.0.2)\n",
            "Requirement already satisfied: aiohappyeyeballs>=2.3.0 in /usr/local/lib/python3.10/dist-packages (from aiohttp->datasets) (2.4.4)\n",
            "Requirement already satisfied: aiosignal>=1.1.2 in /usr/local/lib/python3.10/dist-packages (from aiohttp->datasets) (1.3.2)\n",
            "Requirement already satisfied: async-timeout<6.0,>=4.0 in /usr/local/lib/python3.10/dist-packages (from aiohttp->datasets) (4.0.3)\n",
            "Requirement already satisfied: attrs>=17.3.0 in /usr/local/lib/python3.10/dist-packages (from aiohttp->datasets) (24.3.0)\n",
            "Requirement already satisfied: frozenlist>=1.1.1 in /usr/local/lib/python3.10/dist-packages (from aiohttp->datasets) (1.5.0)\n",
            "Requirement already satisfied: multidict<7.0,>=4.5 in /usr/local/lib/python3.10/dist-packages (from aiohttp->datasets) (6.1.0)\n",
            "Requirement already satisfied: propcache>=0.2.0 in /usr/local/lib/python3.10/dist-packages (from aiohttp->datasets) (0.2.1)\n",
            "Requirement already satisfied: yarl<2.0,>=1.17.0 in /usr/local/lib/python3.10/dist-packages (from aiohttp->datasets) (1.18.3)\n",
            "Requirement already satisfied: typing-extensions>=3.7.4.3 in /usr/local/lib/python3.10/dist-packages (from huggingface-hub>=0.23.0->datasets) (4.12.2)\n",
            "Requirement already satisfied: charset-normalizer<4,>=2 in /usr/local/lib/python3.10/dist-packages (from requests>=2.32.2->datasets) (3.4.0)\n",
            "Requirement already satisfied: idna<4,>=2.5 in /usr/local/lib/python3.10/dist-packages (from requests>=2.32.2->datasets) (3.10)\n",
            "Requirement already satisfied: urllib3<3,>=1.21.1 in /usr/local/lib/python3.10/dist-packages (from requests>=2.32.2->datasets) (2.2.3)\n",
            "Requirement already satisfied: certifi>=2017.4.17 in /usr/local/lib/python3.10/dist-packages (from requests>=2.32.2->datasets) (2024.12.14)\n",
            "Requirement already satisfied: python-dateutil>=2.8.2 in /usr/local/lib/python3.10/dist-packages (from pandas->datasets) (2.8.2)\n",
            "Requirement already satisfied: pytz>=2020.1 in /usr/local/lib/python3.10/dist-packages (from pandas->datasets) (2024.2)\n",
            "Requirement already satisfied: tzdata>=2022.7 in /usr/local/lib/python3.10/dist-packages (from pandas->datasets) (2024.2)\n",
            "Requirement already satisfied: six>=1.5 in /usr/local/lib/python3.10/dist-packages (from python-dateutil>=2.8.2->pandas->datasets) (1.17.0)\n"
          ]
        }
      ]
    },
    {
      "cell_type": "code",
      "source": [
        "!pip install --upgrade jax jaxlib'"
      ],
      "metadata": {
        "id": "QGkLR8TwKK9I",
        "colab": {
          "base_uri": "https://localhost:8080/"
        },
        "outputId": "8f320792-d131-4b70-e1eb-99a438db1e84"
      },
      "execution_count": 11,
      "outputs": [
        {
          "output_type": "stream",
          "name": "stdout",
          "text": [
            "/bin/bash: -c: line 1: unexpected EOF while looking for matching `''\n",
            "/bin/bash: -c: line 2: syntax error: unexpected end of file\n"
          ]
        }
      ]
    },
    {
      "cell_type": "code",
      "source": [
        "!pip install transformers[torch] #for prototypical training"
      ],
      "metadata": {
        "colab": {
          "base_uri": "https://localhost:8080/"
        },
        "id": "oq0xXbGDruMG",
        "outputId": "1f7a01d9-1c74-4d09-ab65-096817750525"
      },
      "execution_count": 12,
      "outputs": [
        {
          "output_type": "stream",
          "name": "stdout",
          "text": [
            "Requirement already satisfied: transformers[torch] in /usr/local/lib/python3.10/dist-packages (4.47.1)\n",
            "Requirement already satisfied: filelock in /usr/local/lib/python3.10/dist-packages (from transformers[torch]) (3.16.1)\n",
            "Requirement already satisfied: huggingface-hub<1.0,>=0.24.0 in /usr/local/lib/python3.10/dist-packages (from transformers[torch]) (0.27.0)\n",
            "Requirement already satisfied: numpy>=1.17 in /usr/local/lib/python3.10/dist-packages (from transformers[torch]) (1.26.4)\n",
            "Requirement already satisfied: packaging>=20.0 in /usr/local/lib/python3.10/dist-packages (from transformers[torch]) (24.2)\n",
            "Requirement already satisfied: pyyaml>=5.1 in /usr/local/lib/python3.10/dist-packages (from transformers[torch]) (6.0.2)\n",
            "Requirement already satisfied: regex!=2019.12.17 in /usr/local/lib/python3.10/dist-packages (from transformers[torch]) (2024.11.6)\n",
            "Requirement already satisfied: requests in /usr/local/lib/python3.10/dist-packages (from transformers[torch]) (2.32.3)\n",
            "Requirement already satisfied: tokenizers<0.22,>=0.21 in /usr/local/lib/python3.10/dist-packages (from transformers[torch]) (0.21.0)\n",
            "Requirement already satisfied: safetensors>=0.4.1 in /usr/local/lib/python3.10/dist-packages (from transformers[torch]) (0.4.5)\n",
            "Requirement already satisfied: tqdm>=4.27 in /usr/local/lib/python3.10/dist-packages (from transformers[torch]) (4.67.1)\n",
            "Requirement already satisfied: torch in /usr/local/lib/python3.10/dist-packages (from transformers[torch]) (2.5.1+cu121)\n",
            "Requirement already satisfied: accelerate>=0.26.0 in /usr/local/lib/python3.10/dist-packages (from transformers[torch]) (1.2.1)\n",
            "Requirement already satisfied: psutil in /usr/local/lib/python3.10/dist-packages (from accelerate>=0.26.0->transformers[torch]) (5.9.5)\n",
            "Requirement already satisfied: fsspec>=2023.5.0 in /usr/local/lib/python3.10/dist-packages (from huggingface-hub<1.0,>=0.24.0->transformers[torch]) (2024.9.0)\n",
            "Requirement already satisfied: typing-extensions>=3.7.4.3 in /usr/local/lib/python3.10/dist-packages (from huggingface-hub<1.0,>=0.24.0->transformers[torch]) (4.12.2)\n",
            "Requirement already satisfied: networkx in /usr/local/lib/python3.10/dist-packages (from torch->transformers[torch]) (3.4.2)\n",
            "Requirement already satisfied: jinja2 in /usr/local/lib/python3.10/dist-packages (from torch->transformers[torch]) (3.1.4)\n",
            "Requirement already satisfied: sympy==1.13.1 in /usr/local/lib/python3.10/dist-packages (from torch->transformers[torch]) (1.13.1)\n",
            "Requirement already satisfied: mpmath<1.4,>=1.1.0 in /usr/local/lib/python3.10/dist-packages (from sympy==1.13.1->torch->transformers[torch]) (1.3.0)\n",
            "Requirement already satisfied: charset-normalizer<4,>=2 in /usr/local/lib/python3.10/dist-packages (from requests->transformers[torch]) (3.4.0)\n",
            "Requirement already satisfied: idna<4,>=2.5 in /usr/local/lib/python3.10/dist-packages (from requests->transformers[torch]) (3.10)\n",
            "Requirement already satisfied: urllib3<3,>=1.21.1 in /usr/local/lib/python3.10/dist-packages (from requests->transformers[torch]) (2.2.3)\n",
            "Requirement already satisfied: certifi>=2017.4.17 in /usr/local/lib/python3.10/dist-packages (from requests->transformers[torch]) (2024.12.14)\n",
            "Requirement already satisfied: MarkupSafe>=2.0 in /usr/local/lib/python3.10/dist-packages (from jinja2->torch->transformers[torch]) (3.0.2)\n"
          ]
        }
      ]
    },
    {
      "cell_type": "code",
      "source": [
        "!pip install --upgrade transformers"
      ],
      "metadata": {
        "colab": {
          "base_uri": "https://localhost:8080/"
        },
        "id": "c5WWVcw0sdcf",
        "outputId": "01ad6e40-96e6-436f-f201-c8c9dd48c038"
      },
      "execution_count": 13,
      "outputs": [
        {
          "output_type": "stream",
          "name": "stdout",
          "text": [
            "Requirement already satisfied: transformers in /usr/local/lib/python3.10/dist-packages (4.47.1)\n",
            "Requirement already satisfied: filelock in /usr/local/lib/python3.10/dist-packages (from transformers) (3.16.1)\n",
            "Requirement already satisfied: huggingface-hub<1.0,>=0.24.0 in /usr/local/lib/python3.10/dist-packages (from transformers) (0.27.0)\n",
            "Requirement already satisfied: numpy>=1.17 in /usr/local/lib/python3.10/dist-packages (from transformers) (1.26.4)\n",
            "Requirement already satisfied: packaging>=20.0 in /usr/local/lib/python3.10/dist-packages (from transformers) (24.2)\n",
            "Requirement already satisfied: pyyaml>=5.1 in /usr/local/lib/python3.10/dist-packages (from transformers) (6.0.2)\n",
            "Requirement already satisfied: regex!=2019.12.17 in /usr/local/lib/python3.10/dist-packages (from transformers) (2024.11.6)\n",
            "Requirement already satisfied: requests in /usr/local/lib/python3.10/dist-packages (from transformers) (2.32.3)\n",
            "Requirement already satisfied: tokenizers<0.22,>=0.21 in /usr/local/lib/python3.10/dist-packages (from transformers) (0.21.0)\n",
            "Requirement already satisfied: safetensors>=0.4.1 in /usr/local/lib/python3.10/dist-packages (from transformers) (0.4.5)\n",
            "Requirement already satisfied: tqdm>=4.27 in /usr/local/lib/python3.10/dist-packages (from transformers) (4.67.1)\n",
            "Requirement already satisfied: fsspec>=2023.5.0 in /usr/local/lib/python3.10/dist-packages (from huggingface-hub<1.0,>=0.24.0->transformers) (2024.9.0)\n",
            "Requirement already satisfied: typing-extensions>=3.7.4.3 in /usr/local/lib/python3.10/dist-packages (from huggingface-hub<1.0,>=0.24.0->transformers) (4.12.2)\n",
            "Requirement already satisfied: charset-normalizer<4,>=2 in /usr/local/lib/python3.10/dist-packages (from requests->transformers) (3.4.0)\n",
            "Requirement already satisfied: idna<4,>=2.5 in /usr/local/lib/python3.10/dist-packages (from requests->transformers) (3.10)\n",
            "Requirement already satisfied: urllib3<3,>=1.21.1 in /usr/local/lib/python3.10/dist-packages (from requests->transformers) (2.2.3)\n",
            "Requirement already satisfied: certifi>=2017.4.17 in /usr/local/lib/python3.10/dist-packages (from requests->transformers) (2024.12.14)\n"
          ]
        }
      ]
    },
    {
      "cell_type": "markdown",
      "source": [
        "# **Imports**"
      ],
      "metadata": {
        "id": "ip1spvY4RsRK"
      }
    },
    {
      "cell_type": "code",
      "source": [
        "#to access data\n",
        "import xml.etree.ElementTree as ET\n",
        "import os\n",
        "import pandas as pd\n",
        "from google.colab import drive\n",
        "#for NER\n",
        "import pandas as pd\n",
        "from transformers import AutoTokenizer, AutoModelForTokenClassification\n",
        "from transformers import pipeline"
      ],
      "metadata": {
        "id": "DseGUYV_SAnz"
      },
      "execution_count": 7,
      "outputs": []
    },
    {
      "cell_type": "code",
      "source": [
        "import torch"
      ],
      "metadata": {
        "id": "CT8xea6ku2QG"
      },
      "execution_count": 14,
      "outputs": []
    },
    {
      "cell_type": "code",
      "source": [
        "from datasets import load_dataset\n",
        "from datasets import Dataset\n",
        "import re"
      ],
      "metadata": {
        "id": "WtXPu4Q5mqEL"
      },
      "execution_count": 15,
      "outputs": []
    },
    {
      "cell_type": "code",
      "source": [
        "import json #for Doccano"
      ],
      "metadata": {
        "id": "vEuOZ4ZloCTL"
      },
      "execution_count": 16,
      "outputs": []
    },
    {
      "cell_type": "code",
      "source": [
        "import torch #for prototypical networks\n",
        "import torch.nn as nn\n",
        "import torch.nn.functional as F\n",
        "from transformers import AutoModel, AutoTokenizer\n",
        "from torch.utils.data import Dataset, DataLoader\n",
        "import random"
      ],
      "metadata": {
        "id": "R7jSgk6xsPHd"
      },
      "execution_count": 17,
      "outputs": []
    },
    {
      "cell_type": "code",
      "source": [
        "import json #for finetuning\n",
        "import os\n",
        "import random\n",
        "from typing import List, Dict"
      ],
      "metadata": {
        "id": "K5_-2Fv-uUP2"
      },
      "execution_count": 90,
      "outputs": []
    },
    {
      "cell_type": "markdown",
      "source": [
        "# **Exploratory Data Analysis**"
      ],
      "metadata": {
        "id": "K6o32aEHTgJJ"
      }
    },
    {
      "cell_type": "code",
      "source": [
        "# Mount the Google Drive at /content/drive\n",
        "drive.mount('/content/drive')\n",
        "file_path = '/content/drive/My Drive/AKG Research/levels0to3/Maroc-Primaire-0.xml'"
      ],
      "metadata": {
        "colab": {
          "base_uri": "https://localhost:8080/"
        },
        "id": "l9bPTa8-C_Bo",
        "outputId": "ae704701-3229-4fa0-ea80-a08a2b89b633"
      },
      "execution_count": 18,
      "outputs": [
        {
          "output_type": "stream",
          "name": "stdout",
          "text": [
            "Drive already mounted at /content/drive; to attempt to forcibly remount, call drive.mount(\"/content/drive\", force_remount=True).\n"
          ]
        }
      ]
    },
    {
      "cell_type": "markdown",
      "source": [
        "Explore file structure"
      ],
      "metadata": {
        "id": "vSKPukUXqQi5"
      }
    },
    {
      "cell_type": "code",
      "source": [
        "tree = ET.parse(file_path)\n",
        "root = tree.getroot()"
      ],
      "metadata": {
        "id": "1nCk7w0iqGoe"
      },
      "execution_count": 19,
      "outputs": []
    },
    {
      "cell_type": "code",
      "source": [
        "structure = []\n",
        "def explore_element(element, depth=0):\n",
        "    structure.append(f\"{'  ' * depth}<{element.tag}>\")\n",
        "    for child in element:\n",
        "        explore_element(child, depth + 1)"
      ],
      "metadata": {
        "id": "T6v-Gg7ZTrY8"
      },
      "execution_count": 20,
      "outputs": []
    },
    {
      "cell_type": "code",
      "source": [
        "explore_element(root)\n",
        "structure[:10]"
      ],
      "metadata": {
        "colab": {
          "base_uri": "https://localhost:8080/"
        },
        "id": "kipLPTGdT1kK",
        "outputId": "61a5a660-6b1f-463f-ad66-0d208cde572e"
      },
      "execution_count": 21,
      "outputs": [
        {
          "output_type": "execute_result",
          "data": {
            "text/plain": [
              "['<book>',\n",
              " '  <text>',\n",
              " '    <segment_info>',\n",
              " '      <sentence>',\n",
              " '      <analysis>',\n",
              " '        <morph_feature_set>',\n",
              " '        <morph_feature_set>',\n",
              " '        <morph_feature_set>',\n",
              " '    <segment_info>',\n",
              " '      <sentence>']"
            ]
          },
          "metadata": {},
          "execution_count": 21
        }
      ]
    },
    {
      "cell_type": "code",
      "source": [
        "folder_path = '/content/drive/MyDrive/AKG Research/levels0to3'\n",
        "all_data = []"
      ],
      "metadata": {
        "id": "YPcgE94EpbtE"
      },
      "execution_count": 22,
      "outputs": []
    },
    {
      "cell_type": "code",
      "source": [
        "for filename in os.listdir(folder_path):\n",
        "\n",
        "        print(\"reading file\", filename)\n",
        "        file_path = os.path.join(folder_path, filename)\n",
        "        tree = ET.parse(file_path)\n",
        "        root = tree.getroot()\n",
        "\n",
        "        # Extracting data for each sentence and its analysis\n",
        "        for text in root.findall(\".//text\"):\n",
        "            text_id = text.get('id')\n",
        "            title = text.get('title')\n",
        "\n",
        "            for segment in text.findall(\".//segment_info\"):\n",
        "                sentence_id = segment.get('id')\n",
        "                sentence = segment.find('sentence').text\n",
        "\n",
        "                # Loop over morph_feature_set to get word-level features\n",
        "                for morph in segment.findall(\".//morph_feature_set\"):\n",
        "                    word = morph.get('word')\n",
        "                    lemma = morph.get('lemma')\n",
        "                    pos = morph.get('pos')\n",
        "                    stem = morph.get('stem')\n",
        "                    root_word = morph.get('root')\n",
        "\n",
        "                    # Append extracted data to the list\n",
        "                    all_data.append([filename, text_id, title, sentence_id, sentence, word, lemma, pos, stem, root_word])"
      ],
      "metadata": {
        "colab": {
          "base_uri": "https://localhost:8080/"
        },
        "id": "KH7pu4hZqhAe",
        "outputId": "d38983bb-5abe-4a33-e7d4-57dce5616da3"
      },
      "execution_count": 23,
      "outputs": [
        {
          "output_type": "stream",
          "name": "stdout",
          "text": [
            "reading file Maroc-Primaire-3.xml\n",
            "reading file Maroc-Primaire-2-p2.xml\n",
            "reading file Maroc-Primaire-1.xml\n",
            "reading file Maroc-Primaire-2.xml\n",
            "reading file Maroc-Primaire-0.xml\n"
          ]
        }
      ]
    },
    {
      "cell_type": "code",
      "source": [
        "all_data[0]\n"
      ],
      "metadata": {
        "colab": {
          "base_uri": "https://localhost:8080/"
        },
        "id": "O4rnRBq6WrFl",
        "outputId": "afcb8872-6738-467d-fccd-51db50928a24"
      },
      "execution_count": 24,
      "outputs": [
        {
          "output_type": "execute_result",
          "data": {
            "text/plain": [
              "['Maroc-Primaire-3.xml',\n",
              " '1',\n",
              " 'أبر والدي',\n",
              " '1',\n",
              " 'أبر والدي',\n",
              " 'أبر',\n",
              " 'أَبَرَ',\n",
              " 'VePa',\n",
              " 'أَبَر',\n",
              " 'ءبر']"
            ]
          },
          "metadata": {},
          "execution_count": 24
        }
      ]
    },
    {
      "cell_type": "code",
      "source": [
        "#DataFrame\n",
        "columns = ['file', 'text_id', 'title', 'sentence_id', 'sentence', 'word', 'lemma', 'pos', 'stem', 'root']\n",
        "df = pd.DataFrame(all_data, columns=columns)"
      ],
      "metadata": {
        "id": "TlwZ3oELW6W9"
      },
      "execution_count": 25,
      "outputs": []
    },
    {
      "cell_type": "code",
      "source": [
        "df.head(10)"
      ],
      "metadata": {
        "colab": {
          "base_uri": "https://localhost:8080/",
          "height": 362
        },
        "id": "KipDZI1DsFJ3",
        "outputId": "8d8bf9bb-bfa9-467f-dbeb-c5b9b971668e"
      },
      "execution_count": 26,
      "outputs": [
        {
          "output_type": "execute_result",
          "data": {
            "text/plain": [
              "                   file text_id      title sentence_id  \\\n",
              "0  Maroc-Primaire-3.xml       1  أبر والدي           1   \n",
              "1  Maroc-Primaire-3.xml       1  أبر والدي           1   \n",
              "2  Maroc-Primaire-3.xml       1  أبر والدي           2   \n",
              "3  Maroc-Primaire-3.xml       1  أبر والدي           2   \n",
              "4  Maroc-Primaire-3.xml       1  أبر والدي           2   \n",
              "5  Maroc-Primaire-3.xml       1  أبر والدي           2   \n",
              "6  Maroc-Primaire-3.xml       1  أبر والدي           2   \n",
              "7  Maroc-Primaire-3.xml       1  أبر والدي           2   \n",
              "8  Maroc-Primaire-3.xml       1  أبر والدي           2   \n",
              "9  Maroc-Primaire-3.xml       1  أبر والدي           2   \n",
              "\n",
              "                                            sentence    word   lemma  \\\n",
              "0                                          أبر والدي     أبر  أَبَرَ   \n",
              "1                                          أبر والدي   والدي  وَالِد   \n",
              "2  كان الوقت مساء، وفي المساء يحلو لنا أن نلتقي ف...     كان   كَانَ   \n",
              "3  كان الوقت مساء، وفي المساء يحلو لنا أن نلتقي ف...   الوقت   وَقْت   \n",
              "4  كان الوقت مساء، وفي المساء يحلو لنا أن نلتقي ف...    مساء  مَسَاء   \n",
              "5  كان الوقت مساء، وفي المساء يحلو لنا أن نلتقي ف...     وفي     فِي   \n",
              "6  كان الوقت مساء، وفي المساء يحلو لنا أن نلتقي ف...  المساء  مَسَاء   \n",
              "7  كان الوقت مساء، وفي المساء يحلو لنا أن نلتقي ف...    يحلو  حَلُوَ   \n",
              "8  كان الوقت مساء، وفي المساء يحلو لنا أن نلتقي ف...     لنا     لِي   \n",
              "9  كان الوقت مساء، وفي المساء يحلو لنا أن نلتقي ف...      أن    أَنْ   \n",
              "\n",
              "              pos     stem root  \n",
              "0            VePa    أَبَر  ءبر  \n",
              "1          Sifa.S   وَالِد  ولد  \n",
              "2     VePa nasikh     كَان  كون  \n",
              "3             DNo    وَقْت  وقت  \n",
              "4  No NounInfinit   مَسَاء    -  \n",
              "5       Conj P.Pr      فِي    -  \n",
              "6             DNo   مَسَاء  سوء  \n",
              "7             VeP  يَحْلُو  حلو  \n",
              "8             PCo    لَنَا    -  \n",
              "9            PaNs      أَن    -  "
            ],
            "text/html": [
              "\n",
              "  <div id=\"df-4e2a784b-aa71-4880-b595-629b70e890f1\" class=\"colab-df-container\">\n",
              "    <div>\n",
              "<style scoped>\n",
              "    .dataframe tbody tr th:only-of-type {\n",
              "        vertical-align: middle;\n",
              "    }\n",
              "\n",
              "    .dataframe tbody tr th {\n",
              "        vertical-align: top;\n",
              "    }\n",
              "\n",
              "    .dataframe thead th {\n",
              "        text-align: right;\n",
              "    }\n",
              "</style>\n",
              "<table border=\"1\" class=\"dataframe\">\n",
              "  <thead>\n",
              "    <tr style=\"text-align: right;\">\n",
              "      <th></th>\n",
              "      <th>file</th>\n",
              "      <th>text_id</th>\n",
              "      <th>title</th>\n",
              "      <th>sentence_id</th>\n",
              "      <th>sentence</th>\n",
              "      <th>word</th>\n",
              "      <th>lemma</th>\n",
              "      <th>pos</th>\n",
              "      <th>stem</th>\n",
              "      <th>root</th>\n",
              "    </tr>\n",
              "  </thead>\n",
              "  <tbody>\n",
              "    <tr>\n",
              "      <th>0</th>\n",
              "      <td>Maroc-Primaire-3.xml</td>\n",
              "      <td>1</td>\n",
              "      <td>أبر والدي</td>\n",
              "      <td>1</td>\n",
              "      <td>أبر والدي</td>\n",
              "      <td>أبر</td>\n",
              "      <td>أَبَرَ</td>\n",
              "      <td>VePa</td>\n",
              "      <td>أَبَر</td>\n",
              "      <td>ءبر</td>\n",
              "    </tr>\n",
              "    <tr>\n",
              "      <th>1</th>\n",
              "      <td>Maroc-Primaire-3.xml</td>\n",
              "      <td>1</td>\n",
              "      <td>أبر والدي</td>\n",
              "      <td>1</td>\n",
              "      <td>أبر والدي</td>\n",
              "      <td>والدي</td>\n",
              "      <td>وَالِد</td>\n",
              "      <td>Sifa.S</td>\n",
              "      <td>وَالِد</td>\n",
              "      <td>ولد</td>\n",
              "    </tr>\n",
              "    <tr>\n",
              "      <th>2</th>\n",
              "      <td>Maroc-Primaire-3.xml</td>\n",
              "      <td>1</td>\n",
              "      <td>أبر والدي</td>\n",
              "      <td>2</td>\n",
              "      <td>كان الوقت مساء، وفي المساء يحلو لنا أن نلتقي ف...</td>\n",
              "      <td>كان</td>\n",
              "      <td>كَانَ</td>\n",
              "      <td>VePa nasikh</td>\n",
              "      <td>كَان</td>\n",
              "      <td>كون</td>\n",
              "    </tr>\n",
              "    <tr>\n",
              "      <th>3</th>\n",
              "      <td>Maroc-Primaire-3.xml</td>\n",
              "      <td>1</td>\n",
              "      <td>أبر والدي</td>\n",
              "      <td>2</td>\n",
              "      <td>كان الوقت مساء، وفي المساء يحلو لنا أن نلتقي ف...</td>\n",
              "      <td>الوقت</td>\n",
              "      <td>وَقْت</td>\n",
              "      <td>DNo</td>\n",
              "      <td>وَقْت</td>\n",
              "      <td>وقت</td>\n",
              "    </tr>\n",
              "    <tr>\n",
              "      <th>4</th>\n",
              "      <td>Maroc-Primaire-3.xml</td>\n",
              "      <td>1</td>\n",
              "      <td>أبر والدي</td>\n",
              "      <td>2</td>\n",
              "      <td>كان الوقت مساء، وفي المساء يحلو لنا أن نلتقي ف...</td>\n",
              "      <td>مساء</td>\n",
              "      <td>مَسَاء</td>\n",
              "      <td>No NounInfinit</td>\n",
              "      <td>مَسَاء</td>\n",
              "      <td>-</td>\n",
              "    </tr>\n",
              "    <tr>\n",
              "      <th>5</th>\n",
              "      <td>Maroc-Primaire-3.xml</td>\n",
              "      <td>1</td>\n",
              "      <td>أبر والدي</td>\n",
              "      <td>2</td>\n",
              "      <td>كان الوقت مساء، وفي المساء يحلو لنا أن نلتقي ف...</td>\n",
              "      <td>وفي</td>\n",
              "      <td>فِي</td>\n",
              "      <td>Conj P.Pr</td>\n",
              "      <td>فِي</td>\n",
              "      <td>-</td>\n",
              "    </tr>\n",
              "    <tr>\n",
              "      <th>6</th>\n",
              "      <td>Maroc-Primaire-3.xml</td>\n",
              "      <td>1</td>\n",
              "      <td>أبر والدي</td>\n",
              "      <td>2</td>\n",
              "      <td>كان الوقت مساء، وفي المساء يحلو لنا أن نلتقي ف...</td>\n",
              "      <td>المساء</td>\n",
              "      <td>مَسَاء</td>\n",
              "      <td>DNo</td>\n",
              "      <td>مَسَاء</td>\n",
              "      <td>سوء</td>\n",
              "    </tr>\n",
              "    <tr>\n",
              "      <th>7</th>\n",
              "      <td>Maroc-Primaire-3.xml</td>\n",
              "      <td>1</td>\n",
              "      <td>أبر والدي</td>\n",
              "      <td>2</td>\n",
              "      <td>كان الوقت مساء، وفي المساء يحلو لنا أن نلتقي ف...</td>\n",
              "      <td>يحلو</td>\n",
              "      <td>حَلُوَ</td>\n",
              "      <td>VeP</td>\n",
              "      <td>يَحْلُو</td>\n",
              "      <td>حلو</td>\n",
              "    </tr>\n",
              "    <tr>\n",
              "      <th>8</th>\n",
              "      <td>Maroc-Primaire-3.xml</td>\n",
              "      <td>1</td>\n",
              "      <td>أبر والدي</td>\n",
              "      <td>2</td>\n",
              "      <td>كان الوقت مساء، وفي المساء يحلو لنا أن نلتقي ف...</td>\n",
              "      <td>لنا</td>\n",
              "      <td>لِي</td>\n",
              "      <td>PCo</td>\n",
              "      <td>لَنَا</td>\n",
              "      <td>-</td>\n",
              "    </tr>\n",
              "    <tr>\n",
              "      <th>9</th>\n",
              "      <td>Maroc-Primaire-3.xml</td>\n",
              "      <td>1</td>\n",
              "      <td>أبر والدي</td>\n",
              "      <td>2</td>\n",
              "      <td>كان الوقت مساء، وفي المساء يحلو لنا أن نلتقي ف...</td>\n",
              "      <td>أن</td>\n",
              "      <td>أَنْ</td>\n",
              "      <td>PaNs</td>\n",
              "      <td>أَن</td>\n",
              "      <td>-</td>\n",
              "    </tr>\n",
              "  </tbody>\n",
              "</table>\n",
              "</div>\n",
              "    <div class=\"colab-df-buttons\">\n",
              "\n",
              "  <div class=\"colab-df-container\">\n",
              "    <button class=\"colab-df-convert\" onclick=\"convertToInteractive('df-4e2a784b-aa71-4880-b595-629b70e890f1')\"\n",
              "            title=\"Convert this dataframe to an interactive table.\"\n",
              "            style=\"display:none;\">\n",
              "\n",
              "  <svg xmlns=\"http://www.w3.org/2000/svg\" height=\"24px\" viewBox=\"0 -960 960 960\">\n",
              "    <path d=\"M120-120v-720h720v720H120Zm60-500h600v-160H180v160Zm220 220h160v-160H400v160Zm0 220h160v-160H400v160ZM180-400h160v-160H180v160Zm440 0h160v-160H620v160ZM180-180h160v-160H180v160Zm440 0h160v-160H620v160Z\"/>\n",
              "  </svg>\n",
              "    </button>\n",
              "\n",
              "  <style>\n",
              "    .colab-df-container {\n",
              "      display:flex;\n",
              "      gap: 12px;\n",
              "    }\n",
              "\n",
              "    .colab-df-convert {\n",
              "      background-color: #E8F0FE;\n",
              "      border: none;\n",
              "      border-radius: 50%;\n",
              "      cursor: pointer;\n",
              "      display: none;\n",
              "      fill: #1967D2;\n",
              "      height: 32px;\n",
              "      padding: 0 0 0 0;\n",
              "      width: 32px;\n",
              "    }\n",
              "\n",
              "    .colab-df-convert:hover {\n",
              "      background-color: #E2EBFA;\n",
              "      box-shadow: 0px 1px 2px rgba(60, 64, 67, 0.3), 0px 1px 3px 1px rgba(60, 64, 67, 0.15);\n",
              "      fill: #174EA6;\n",
              "    }\n",
              "\n",
              "    .colab-df-buttons div {\n",
              "      margin-bottom: 4px;\n",
              "    }\n",
              "\n",
              "    [theme=dark] .colab-df-convert {\n",
              "      background-color: #3B4455;\n",
              "      fill: #D2E3FC;\n",
              "    }\n",
              "\n",
              "    [theme=dark] .colab-df-convert:hover {\n",
              "      background-color: #434B5C;\n",
              "      box-shadow: 0px 1px 3px 1px rgba(0, 0, 0, 0.15);\n",
              "      filter: drop-shadow(0px 1px 2px rgba(0, 0, 0, 0.3));\n",
              "      fill: #FFFFFF;\n",
              "    }\n",
              "  </style>\n",
              "\n",
              "    <script>\n",
              "      const buttonEl =\n",
              "        document.querySelector('#df-4e2a784b-aa71-4880-b595-629b70e890f1 button.colab-df-convert');\n",
              "      buttonEl.style.display =\n",
              "        google.colab.kernel.accessAllowed ? 'block' : 'none';\n",
              "\n",
              "      async function convertToInteractive(key) {\n",
              "        const element = document.querySelector('#df-4e2a784b-aa71-4880-b595-629b70e890f1');\n",
              "        const dataTable =\n",
              "          await google.colab.kernel.invokeFunction('convertToInteractive',\n",
              "                                                    [key], {});\n",
              "        if (!dataTable) return;\n",
              "\n",
              "        const docLinkHtml = 'Like what you see? Visit the ' +\n",
              "          '<a target=\"_blank\" href=https://colab.research.google.com/notebooks/data_table.ipynb>data table notebook</a>'\n",
              "          + ' to learn more about interactive tables.';\n",
              "        element.innerHTML = '';\n",
              "        dataTable['output_type'] = 'display_data';\n",
              "        await google.colab.output.renderOutput(dataTable, element);\n",
              "        const docLink = document.createElement('div');\n",
              "        docLink.innerHTML = docLinkHtml;\n",
              "        element.appendChild(docLink);\n",
              "      }\n",
              "    </script>\n",
              "  </div>\n",
              "\n",
              "\n",
              "<div id=\"df-5692a2a7-abdf-4c94-917b-f2c4fedd4f93\">\n",
              "  <button class=\"colab-df-quickchart\" onclick=\"quickchart('df-5692a2a7-abdf-4c94-917b-f2c4fedd4f93')\"\n",
              "            title=\"Suggest charts\"\n",
              "            style=\"display:none;\">\n",
              "\n",
              "<svg xmlns=\"http://www.w3.org/2000/svg\" height=\"24px\"viewBox=\"0 0 24 24\"\n",
              "     width=\"24px\">\n",
              "    <g>\n",
              "        <path d=\"M19 3H5c-1.1 0-2 .9-2 2v14c0 1.1.9 2 2 2h14c1.1 0 2-.9 2-2V5c0-1.1-.9-2-2-2zM9 17H7v-7h2v7zm4 0h-2V7h2v10zm4 0h-2v-4h2v4z\"/>\n",
              "    </g>\n",
              "</svg>\n",
              "  </button>\n",
              "\n",
              "<style>\n",
              "  .colab-df-quickchart {\n",
              "      --bg-color: #E8F0FE;\n",
              "      --fill-color: #1967D2;\n",
              "      --hover-bg-color: #E2EBFA;\n",
              "      --hover-fill-color: #174EA6;\n",
              "      --disabled-fill-color: #AAA;\n",
              "      --disabled-bg-color: #DDD;\n",
              "  }\n",
              "\n",
              "  [theme=dark] .colab-df-quickchart {\n",
              "      --bg-color: #3B4455;\n",
              "      --fill-color: #D2E3FC;\n",
              "      --hover-bg-color: #434B5C;\n",
              "      --hover-fill-color: #FFFFFF;\n",
              "      --disabled-bg-color: #3B4455;\n",
              "      --disabled-fill-color: #666;\n",
              "  }\n",
              "\n",
              "  .colab-df-quickchart {\n",
              "    background-color: var(--bg-color);\n",
              "    border: none;\n",
              "    border-radius: 50%;\n",
              "    cursor: pointer;\n",
              "    display: none;\n",
              "    fill: var(--fill-color);\n",
              "    height: 32px;\n",
              "    padding: 0;\n",
              "    width: 32px;\n",
              "  }\n",
              "\n",
              "  .colab-df-quickchart:hover {\n",
              "    background-color: var(--hover-bg-color);\n",
              "    box-shadow: 0 1px 2px rgba(60, 64, 67, 0.3), 0 1px 3px 1px rgba(60, 64, 67, 0.15);\n",
              "    fill: var(--button-hover-fill-color);\n",
              "  }\n",
              "\n",
              "  .colab-df-quickchart-complete:disabled,\n",
              "  .colab-df-quickchart-complete:disabled:hover {\n",
              "    background-color: var(--disabled-bg-color);\n",
              "    fill: var(--disabled-fill-color);\n",
              "    box-shadow: none;\n",
              "  }\n",
              "\n",
              "  .colab-df-spinner {\n",
              "    border: 2px solid var(--fill-color);\n",
              "    border-color: transparent;\n",
              "    border-bottom-color: var(--fill-color);\n",
              "    animation:\n",
              "      spin 1s steps(1) infinite;\n",
              "  }\n",
              "\n",
              "  @keyframes spin {\n",
              "    0% {\n",
              "      border-color: transparent;\n",
              "      border-bottom-color: var(--fill-color);\n",
              "      border-left-color: var(--fill-color);\n",
              "    }\n",
              "    20% {\n",
              "      border-color: transparent;\n",
              "      border-left-color: var(--fill-color);\n",
              "      border-top-color: var(--fill-color);\n",
              "    }\n",
              "    30% {\n",
              "      border-color: transparent;\n",
              "      border-left-color: var(--fill-color);\n",
              "      border-top-color: var(--fill-color);\n",
              "      border-right-color: var(--fill-color);\n",
              "    }\n",
              "    40% {\n",
              "      border-color: transparent;\n",
              "      border-right-color: var(--fill-color);\n",
              "      border-top-color: var(--fill-color);\n",
              "    }\n",
              "    60% {\n",
              "      border-color: transparent;\n",
              "      border-right-color: var(--fill-color);\n",
              "    }\n",
              "    80% {\n",
              "      border-color: transparent;\n",
              "      border-right-color: var(--fill-color);\n",
              "      border-bottom-color: var(--fill-color);\n",
              "    }\n",
              "    90% {\n",
              "      border-color: transparent;\n",
              "      border-bottom-color: var(--fill-color);\n",
              "    }\n",
              "  }\n",
              "</style>\n",
              "\n",
              "  <script>\n",
              "    async function quickchart(key) {\n",
              "      const quickchartButtonEl =\n",
              "        document.querySelector('#' + key + ' button');\n",
              "      quickchartButtonEl.disabled = true;  // To prevent multiple clicks.\n",
              "      quickchartButtonEl.classList.add('colab-df-spinner');\n",
              "      try {\n",
              "        const charts = await google.colab.kernel.invokeFunction(\n",
              "            'suggestCharts', [key], {});\n",
              "      } catch (error) {\n",
              "        console.error('Error during call to suggestCharts:', error);\n",
              "      }\n",
              "      quickchartButtonEl.classList.remove('colab-df-spinner');\n",
              "      quickchartButtonEl.classList.add('colab-df-quickchart-complete');\n",
              "    }\n",
              "    (() => {\n",
              "      let quickchartButtonEl =\n",
              "        document.querySelector('#df-5692a2a7-abdf-4c94-917b-f2c4fedd4f93 button');\n",
              "      quickchartButtonEl.style.display =\n",
              "        google.colab.kernel.accessAllowed ? 'block' : 'none';\n",
              "    })();\n",
              "  </script>\n",
              "</div>\n",
              "\n",
              "    </div>\n",
              "  </div>\n"
            ],
            "application/vnd.google.colaboratory.intrinsic+json": {
              "type": "dataframe",
              "variable_name": "df",
              "summary": "{\n  \"name\": \"df\",\n  \"rows\": 28233,\n  \"fields\": [\n    {\n      \"column\": \"file\",\n      \"properties\": {\n        \"dtype\": \"category\",\n        \"num_unique_values\": 5,\n        \"samples\": [\n          \"Maroc-Primaire-2-p2.xml\",\n          \"Maroc-Primaire-0.xml\",\n          \"Maroc-Primaire-1.xml\"\n        ],\n        \"semantic_type\": \"\",\n        \"description\": \"\"\n      }\n    },\n    {\n      \"column\": \"text_id\",\n      \"properties\": {\n        \"dtype\": \"category\",\n        \"num_unique_values\": 83,\n        \"samples\": [\n          \"31\",\n          \"1\",\n          \"23\"\n        ],\n        \"semantic_type\": \"\",\n        \"description\": \"\"\n      }\n    },\n    {\n      \"column\": \"title\",\n      \"properties\": {\n        \"dtype\": \"category\",\n        \"num_unique_values\": 210,\n        \"samples\": [\n          \"\\u0627\\u0644\\u0645\\u0645\\u0631\\u0636\\u0629\",\n          \"\\u0623\\u064e\\u0634\\u0652\\u063a\\u064e\\u0627\\u0644\\u064f \\u0671\\u0644\\u0652\\u0628\\u064e\\u0640\\u064a\\u0652\\u0640\\u062a\\u0650\",\n          \"\\u0627\\u0644\\u062d\\u064a\\u0627\\u0629 \\u0641\\u064a \\u0627\\u0644\\u0642\\u0631\\u064a\\u0629\"\n        ],\n        \"semantic_type\": \"\",\n        \"description\": \"\"\n      }\n    },\n    {\n      \"column\": \"sentence_id\",\n      \"properties\": {\n        \"dtype\": \"category\",\n        \"num_unique_values\": 43,\n        \"samples\": [\n          \"38\",\n          \"25\",\n          \"26\"\n        ],\n        \"semantic_type\": \"\",\n        \"description\": \"\"\n      }\n    },\n    {\n      \"column\": \"sentence\",\n      \"properties\": {\n        \"dtype\": \"category\",\n        \"num_unique_values\": 2369,\n        \"samples\": [\n          \"\\u0627\\u0646\\u062a\\u0647\\u062a \\u0627\\u0644\\u0633\\u0646\\u0629 \\u0627\\u0644\\u062f\\u0631\\u0627\\u0633\\u064a\\u0629\\u060c \\u0623\\u0642\\u0628\\u0644 \\u0627\\u0644\\u0645\\u062f\\u064a\\u0631 \\u0639\\u0644\\u064a\\u0646\\u0627 \\u0645\\u0628\\u062a\\u0633\\u0645\\u0627\\u060c \\u0648\\u0647\\u0648 \\u064a\\u0642\\u0648\\u0644 : \\u0646\\u062a\\u0627\\u0626\\u062c \\u0623\\u0639\\u0645\\u0627\\u0644\\u0643\\u0645 \\u0631\\u0627\\u0626\\u0639\\u0629. \\u0648\\u0627\\u0644\\u0623\\u0631\\u0648\\u0639\\u060c \\u0623\\u0646 \\u0645\\u0627 \\u062c\\u0645\\u0639\\u062a\\u0645\\u0648\\u0647 \\u0645\\u0646 \\u0645\\u0627\\u0644\\u060c \\u0627\\u0634\\u062a\\u0631\\u064a\\u0646\\u0627 \\u0628\\u0647 \\u0627\\u0644\\u0644\\u0648\\u0627\\u0632\\u0645 \\u0627\\u0644\\u0645\\u062f\\u0631\\u0633\\u064a\\u0629 \\u0644\\u0644\\u0641\\u0642\\u0631\\u0627\\u0621 \\u0645\\u0646\\u0643\\u0645.\",\n          \"\\u0627\\u0644\\u0628\\u0644\\u062f\\u0627\\u0646 \\u063a\\u0646\\u064a\\u0627\\u0646\\u060c \\u0648\\u0627\\u0644\\u062b\\u0631\\u0648\\u0627\\u062a \\u0643\\u062b\\u064a\\u0631\\u0629 \\u0641\\u064a\\u0647\\u0645\\u0627\\u060c \\u0648\\u0644\\u0643\\u0646 \\u0628\\u0624\\u0633\\u0627 \\u0643\\u0628\\u064a\\u0631\\u0627 \\u0643\\u0627\\u0646 \\u064a\\u0633\\u064a\\u0637\\u0631 \\u0639\\u0644\\u0649 \\u0627\\u0644\\u0645\\u0643\\u0627\\u0646.\",\n          \"\\u0631\\u062f \\u0627\\u0644\\u062c\\u0627\\u0631: \\u0642\\u0628\\u0644\\u062a \\u0627\\u0639\\u062a\\u0630\\u0627\\u0631\\u0643 \\u064a\\u0627 \\u0628\\u0646\\u064a\\u060c \\u0644\\u0643\\u0646 \\u0639\\u0644\\u064a\\u0643 \\u0623\\u0644\\u0627 \\u062a\\u0643\\u0631\\u0631 \\u0641\\u0639\\u0644\\u062a\\u0643 \\u0648\\u0623\\u0646 \\u062a\\u0644\\u062a\\u0632\\u0645 \\u0628\\u0627\\u062d\\u062a\\u0631\\u0627\\u0645 \\u0627\\u0644\\u062c\\u064a\\u0631\\u0627\\u0646.\"\n        ],\n        \"semantic_type\": \"\",\n        \"description\": \"\"\n      }\n    },\n    {\n      \"column\": \"word\",\n      \"properties\": {\n        \"dtype\": \"category\",\n        \"num_unique_values\": 11899,\n        \"samples\": [\n          \"\\u0639\\u0634\",\n          \"\\u062d\\u0632\\u0646\",\n          \"\\u0644\\u0627\\u062a\\u0628\\u062a\\u0626\\u0633\\u0648\\u0627\"\n        ],\n        \"semantic_type\": \"\",\n        \"description\": \"\"\n      }\n    },\n    {\n      \"column\": \"lemma\",\n      \"properties\": {\n        \"dtype\": \"category\",\n        \"num_unique_values\": 5252,\n        \"samples\": [\n          \"\\u0646\\u064e\\u0628\\u0650\\u064a\\u0647\",\n          \"\\u0642\\u064e\\u0627\\u0639\\u0650\\u062f\\u064e\\u0629\",\n          \"\\u0627\\u0631\\u0652\\u062a\\u064e\\u062f\\u064e\\u0649\"\n        ],\n        \"semantic_type\": \"\",\n        \"description\": \"\"\n      }\n    },\n    {\n      \"column\": \"pos\",\n      \"properties\": {\n        \"dtype\": \"category\",\n        \"num_unique_values\": 169,\n        \"samples\": [\n          \"VeIm.S.O\",\n          \"La\",\n          \"Conj. P.DSifa\"\n        ],\n        \"semantic_type\": \"\",\n        \"description\": \"\"\n      }\n    },\n    {\n      \"column\": \"stem\",\n      \"properties\": {\n        \"dtype\": \"category\",\n        \"num_unique_values\": 8165,\n        \"samples\": [\n          \"\\u062a\\u064e\\u062a\\u064e\\u062c\\u064e\\u0639\\u0651\\u064e\\u062f\",\n          \"\\u0648\\u064e\\u0627\\u0644\\u0650\\u062f\\u064e\\u0629\",\n          \"\\u0633\\u064e\\u0627\\u0642\\u0650\\u064a\\u064e\\u0629\"\n        ],\n        \"semantic_type\": \"\",\n        \"description\": \"\"\n      }\n    },\n    {\n      \"column\": \"root\",\n      \"properties\": {\n        \"dtype\": \"category\",\n        \"num_unique_values\": 2413,\n        \"samples\": [\n          \"\\u0641\\u0648\\u0632\",\n          \"\\u0642\\u0646\\u0637\\u0631\",\n          \"\\u0648\\u0628\\u0647\"\n        ],\n        \"semantic_type\": \"\",\n        \"description\": \"\"\n      }\n    }\n  ]\n}"
            }
          },
          "metadata": {},
          "execution_count": 26
        }
      ]
    },
    {
      "cell_type": "code",
      "source": [
        "all_pos = df['pos'].unique()\n",
        "len(all_pos) #169 unique POS tags\n"
      ],
      "metadata": {
        "colab": {
          "base_uri": "https://localhost:8080/"
        },
        "id": "nh8l0prTs3LC",
        "outputId": "82827b12-b0b6-4ce2-e7e2-4f978dbf39f0"
      },
      "execution_count": 27,
      "outputs": [
        {
          "output_type": "execute_result",
          "data": {
            "text/plain": [
              "169"
            ]
          },
          "metadata": {},
          "execution_count": 27
        }
      ]
    },
    {
      "cell_type": "code",
      "source": [
        "all_pos"
      ],
      "metadata": {
        "colab": {
          "base_uri": "https://localhost:8080/"
        },
        "id": "xXcMbeDPyz16",
        "outputId": "1175976c-fcdb-4c8c-f390-0749d5014f82"
      },
      "execution_count": 28,
      "outputs": [
        {
          "output_type": "execute_result",
          "data": {
            "text/plain": [
              "array(['VePa', 'Sifa.S', 'VePa nasikh', 'DNo', 'No NounInfinit',\n",
              "       'Conj P.Pr', 'VeP', 'PCo', 'PaNs', 'Pr', 'Sifa', 'No.S',\n",
              "       'Prep P.VeP', 'DSifa', 'Conj P.VeP', 'NoDP', 'Conj P.DNo',\n",
              "       'Conj P.DSifa', 'Prep P.DNo', 'Alam', 'Co', 'VePa.O', 'Dz',\n",
              "       'Conj P.No', 'Conj P.VePa', 'VeP.S', 'Ex', 'No.S Pronom', 'Ns',\n",
              "       'Dz.S', 'La', 'VeP.O', 'Conj P.VeIm', 'No', 'VeIm.O',\n",
              "       'Conj. P.NoRP', 'VePa.S.O', 'Conj P.Dz', 'Prep P.No',\n",
              "       'Conj P.No.S', 'Conj P.VePa.O', 'VePa.S', 'Interj', 'PNa',\n",
              "       'Conj P.PaNs', 'Conj. P.NoDP.S', 'Prep P.Ns', 'Conj.Prep. P.P.No',\n",
              "       'Conj P.PNa', 'Prep P.No.S', 'PNa.S', 'Prep P.NoRP', 'DNoRP',\n",
              "       'InteP.No P.No', 'Conj P.No Pronom', 'NoRP', 'Compa', 'DNo Compa',\n",
              "       'No Pronom', 'Conj P.PCo', 'P.VeP.S.O nasikh', 'Conj P.VeIm.S.O',\n",
              "       'Conj P.VeP.S.O', 'Conj P.NoDP', 'Conj P.Ns', 'InteP.No.S P.No.S',\n",
              "       'Conj P.VeIm.S', 'Prep P.Sifa', 'CJ', 'Conj P.Sifa',\n",
              "       'Conj P.VePa.S', 'Conj P.VePa nasikh', 'InteP.VePa P.VePa',\n",
              "       'Conj P.NoDP.S', 'Conj P.Sifa.S', 'Prep P.No Compa', 'NoDP.S',\n",
              "       'VeIm', 'Prep P.Pr', 'VeIm.S', 'Prep P.NoDP', 'Conj P.PNa.S',\n",
              "       'XXXXX', 'VeP nasikh', 'InteP.Sifa P.Sifa', 'Prep P.DSifa',\n",
              "       'Conj P.VeP.O', 'Conj. P.DNo', 'Conj.Conj. P.P.No', 'Prep P.VeP.O',\n",
              "       'Prep P.PNa.S', 'Conj P.VeP.S', 'Prep P.VeP.S', 'Prep P.VePa',\n",
              "       'Conj P.VePa.S.O', 'Prep P.VeP.O nasikh', 'Conj. P.No', 'VeP.S.O',\n",
              "       'Conj P.NoRP', 'P.NoRP', 'VePa.S nasikh', 'InteP.VePa.S P.VePa.S',\n",
              "       'Prep P.NoDP.S', 'VeP.S nasikh', 'P.VeP.O', 'Conj. P.No.S',\n",
              "       'DCompa', 'P.VeP', 'Conj P.VePa.S nasikh', 'Vide', 'Prep P.VePa.S',\n",
              "       'Prep P.PNa', 'No.S Compa', 'Conj P.No.S Compa', 'No Compa',\n",
              "       'Conj. P.Sifa', 'Conj.Conj P.P.No', 'Num No', 'Conj. P.PaNs',\n",
              "       'Conj. P.DSifa', 'Ha.NoDP', 'Conj P.Compa', 'Conj.Prep. P.P.DNo',\n",
              "       'P.Sifa', 'Abrv', 'Prep P.Sifa.S', 'Alam1', 'Alam2',\n",
              "       'Conj P.No Compa', 'Conj P.VeP nasikh', 'Prep P.VeP nasikh',\n",
              "       'MaTrans', 'Conj P.Dz.S', 'InteP.VePa P.VePa nasikh', 'P.VeP.S.O',\n",
              "       'Conj. P.PNa', 'InteP.VeP P.VeP', 'InteP.VePa.O P.VePa.O',\n",
              "       'VeIm.S.O', 'Conj P.Alam', 'AbrvF', 'Prep P.DNo Compa',\n",
              "       'InteP.P.DNo.Conj P.P.DNo', 'Conj.Prep. P.P.No.S',\n",
              "       'InteP.No.S P.No.S Compa', 'InteP.VePa.S.O P.VePa.S.O', 'DAlam',\n",
              "       'VeP.O nasikh', 'Conj. P.No Compa', 'Conj P.MaTrans',\n",
              "       'InteP.Sifa.S P.Sifa.S', 'Conj P.VeP.S nasikh',\n",
              "       'InteP.VeP.S.O P.VeP.S.O', 'Conj P.Vepa.S', 'Prep P.Alam',\n",
              "       'Conj P.Vep.S', 'Prep P.Compa', 'rep P.No.S',\n",
              "       'Conj.Prep. P.P.DSifa', 'Prep P.Dz', 'InteP.Ns P.Ns',\n",
              "       'InteP.NoDP P.NoDP', 'Conj.Conj P.P.No.S', 'Prep P.VePa nasikh',\n",
              "       'Conj P.VeP.S.O nasikh', 'Prep.Conj. P.P.No',\n",
              "       'InteP.VeP.S P.VeP.S', 'Conj P.VeIm.O', 'Prep P.Vepa'],\n",
              "      dtype=object)"
            ]
          },
          "metadata": {},
          "execution_count": 28
        }
      ]
    },
    {
      "cell_type": "code",
      "source": [
        "# Group by POS tags and get corresponding unique words for each tag\n",
        "pos_word_mapping = df.groupby('pos')['word'].unique().to_dict()\n",
        "\n",
        "# Print each unique POS tag and the corresponding words\n",
        "for pos, words in pos_word_mapping.items():\n",
        "    print(f\"POS Tag: {pos}\")\n",
        "    print(f\"Words: {', '.join(words)}\\n\")"
      ],
      "metadata": {
        "colab": {
          "base_uri": "https://localhost:8080/"
        },
        "id": "PS-dyXavvpZQ",
        "outputId": "63bf2ef8-c179-48eb-a14f-c658134947a4"
      },
      "execution_count": 29,
      "outputs": [
        {
          "output_type": "stream",
          "name": "stdout",
          "text": [
            "POS Tag: Abrv\n",
            "Words: بي, ان\n",
            "\n",
            "POS Tag: AbrvF\n",
            "Words: تكون, طال, يأتي, تلبسه, أليس\n",
            "\n",
            "POS Tag: Alam\n",
            "Words: هشام, خالد, ليلى, طيب, أحمد, علي, خاطر, سمير, محمد, مريم, وجدي, ماهر, كريم, حسن, خديجة, قاسم, كم, الفرنسيين, عماد, حسان, عمر, فاطمة, إبراهيم, نبيل, منى, فريد, مبارك, سعيد, فهمي, إيمان, مشرقة, الكسكس, بثينة, رمضان, سعاد, أكتوبر, يناير, مارس, حافظ, سعد, هند, مروان, بلادي, زينب, شعيب, أسامة, أولد, يونيو, إحسان, ليث, بغداد, يونس, شيماء, ديك, صبرا, بحر, طارق, صالح, حليمة, حسام, رضوان, إدريس, رفيق, بدر, كبرت, نجيب, سميرة, ياسر, مطر, غزير, عنان, أحلام, سفيان, الأرز, مسعود, سيد, حاتم, حنون, أمينة, موسى, متى, صفر, ضياء, كونا, أوفي, ظبي, عاشوراء, رضا, وسيم, عنترة, بن, شداد, ياسين, مصطفى, سناء, سلمى, حساما, سميرا, هشاما, نبيلا, بدرا, حمزة, فائز, المصطفى, يوسف, مها, مالي, عثمان, أسعد, عدنان, عصام, ريم, عصفور, كعب, عائشة, فتحي, وكن, هدى, سلوى, كمال, سنتيمترا, غسان, سُعَادُ, مُصْطَفَى, لَيْلَى, رَشِيدَةُ, خَدِيجَةُ, زَكِيَّة, زَكِّيَّةُ, زَكِيَّةُ, يُوسُفُ, سُعَادَ, زَيْنَبَ, خَدِيجَةَ, سَمِيرٌ, نَبِيهٌ, نَبِيهَةُ, نُورِيَّةُ, نُورِيَّةَ, سَعِيدٌ, حَسَنٌ, سَمِيرٍ, خَالِدٌ, رَفِيقَةُ, بُوبِي, حَسَنٍ\n",
            "\n",
            "POS Tag: Alam1\n",
            "Words: عبد, شاء, عَبْدُ\n",
            "\n",
            "POS Tag: Alam2\n",
            "Words: الله, الحفيظ, اللهِ\n",
            "\n",
            "POS Tag: CJ\n",
            "Words: فلم, كلما, ولم, وكلما, فلما, لم, إكمال, وإلا, ألم, فكلما, ولما, فمهما, فَلَمَّا, وَلَمْ, لَمْ\n",
            "\n",
            "POS Tag: Co\n",
            "Words: ثم, أو, بل, ولكن, أم, لكن, استعمل, الثاني, مع, الزبدة, الخضر, ثُمَّ, أَوِ, أَوْ, وَلَكِنْ, وَلَكِنَّ\n",
            "\n",
            "POS Tag: Compa\n",
            "Words: أجمل, أحسن, أعظم, أغلب, أقدر, أغضب, أكثر, أبيض, أسود, أخضر, أكبر, أقرب, أصنع, أفضل, أزيد, أشد, أعز, أهون, أروع, أزرق, أدق, أجمع, أحلى, أغرب, أسعد, أسفل, أربع, أكرم, أطول, أقل, أسرع, أَبْيَضٍ, أَعَزِّ, أَشَدَّ, أَزْرَقُ, أَخْضَرُ\n",
            "\n",
            "POS Tag: Conj P.Alam\n",
            "Words: وحسام, ومصطفى, وسلمى, وجميلة, ومحمد, وسمير, وهشام, وهشاما, وبدر, وزينب, وفائز, وأحلام, وآدم, وخالد, وطارق, ويوسف, وَسُعَادَ, وَسُعَادُ, وَنَبِيهَةُ\n",
            "\n",
            "POS Tag: Conj P.Compa\n",
            "Words: وأسرع, وأنظف, وأكبر, وأكثر, وأربع\n",
            "\n",
            "POS Tag: Conj P.DNo\n",
            "Words: والعشرين, والنجاح, والعصفور, والعطف, واليتامى, والأرامل, والمرضى, والتضامن, والقرى, والألبسة, والأدوية, والأدوات, والحي, والمشاركة, والإرهاق, والحمد, والدول, والريشة, والنملة, والياسمين, والفل, والريحان, والزهور, والأزهار, والنباتات, والتسامح, والعنف, والبيئة, والأوان, والخراب, والثروات, والإمكانات, والأساتذة, والجرائد, والكتابة, والحساب, والنشوة, فالحياة, والتلميذات, والقصب, ذلك, والأعمال, والظهر, والحلويات, والكبار, والتركيز, والرقبة, والتعاون, والتنظيم, والأشكال, والشبابيك, والدواء, والإسعافات, والإرشادات, والكهرباء, والباب, والمقاعد, والإتقان, والطرود, والحوالات, والشتاء, والخريف, والشوارع, والأطفال, والحفاظ, والنهار, والمرافق, والنظام, والخدمات, والنفس, والليل, والعقل, والصحة, والكالسيوم, واللوز, والحليب, والكلس, والصودا, والمنغنيز, والفوسفور, والذكاء, والخشونة, والبطولة, والتصادم, والكرة, والسعال, واللحوم, والممرضين, والعجين, والزبدة, واللحم, والأخرى, والرياح, والسماء, والحشرات, والنمل, والناس, والجبال, والجو, والفيضانات, والسفر, والعمل, فالوطن, والدموع, والنوافذ, والقنديل, والمفيدة, والأشياء, والمياه, والأشجار, والطيور, والظلال, والنسيم, والأمواج, والإعتزاز, والأصحاب, والضجر, والجيران, والصغار, والمسابقات, والعناية, والأناشيد, والقاطرة, والوجه, والرجلين, والخلق, فاليوم, والألوان, والأصفر, والأستاذة, والأرقام, والدفاتر, والعرائس, والنساء, والأبواب, والأحواض, والان, والمدة, والصابون, والسنون, والأغنام, والغيوم, والسواقي, والنبات, والألحان, والنقر, والدق, والبحيرات, والدواب, والفراشات, والندى, والأوراق, والنحلة, والناموسة, والجبل, والجمال, والخضر, والنبق, والذئاب, والهدايا, والمرنة, والبحر, والحجيرات, والشكلاطة, والطير, والأشبال, والغزلان, والأفيال, والضباع, والزيت, والزيتون, والجبن, والتين, والعسل, والجوز, والقرفة, والعملا, والفتيات, والفيل, والفهد, والدب, والسنجاب, والوعل, والحمار, والثور, والوحوش, والألم, والحمامة, والحجلة, والبقرة, والخبز, والفلاحة, والدقيق, والطاحونة, والمائة, والأروع, والشباب, والبليات, والمشجعين, والطفل, والبلوط, والأنهار, والشاطئ, والأسواق, والصومعة, والتطريز, والثلاثاء, والزرابي, والفطائر, والحلواء, والمرفق, والكوع, والركبة, والكعب, والعضلات, والتغذية, والهتافات, والأولاد, والحرص, والسعادة, والمحبة, والأفواه, والأقارب, واللعب, والأعراس, والأحباب, والمأوى, والخلان, واللجام, والغزالة, والغزالات, والزبيب, والعروسات, والتسابق, والضحك, والورود, والبغل, والنعجة, والخس, والخروب, واللفت, والقنيات, والفلاليس, والفراشة, والشرائح, والكبيرة, والقطع, والرجل, والروض, والأطيار, والمسطرة, والمقص, والأقلام, والفأر, والعصافير, والنسر, والصاروخ, والأعداء, والعقول, والتلفزات, والبرقيات, والختام, والأسرة, والسانون, والأصدقاء, والبساتين, والكناري, والعندليب, واليمامة, والشجيرات, والحيوانات, والكتب, والربيع, والسرور, والقنينات, والغابات, والتلاميذ, والأقحوان, والفريق, والحكمان, والعدو, والرماية, والاستماع, والبن, والعجوز, والزوار, والفلاحون, والأضحى, والفرحة, والفوطتين, والأنف, والسرطان, والعطور, قائلا, والمنشطة, والتضحية, والراحة, والبراءة, والمعرفة, والأناقة, والولد, والكفين, والأصابع, والإكرام, والرائب, والكسكس, والدواجن, والذرة, والفواكه, والرعب, والأمن, والزعتر, والنعناع, والدكاكين, والألبان, والكلب, والخطأ, والتحدي, والتنظيف, والغسل, والتردد, والنشاط, فالمهم, والفرح, والسمن, جيدا, والعطش, والمذاق, والغفران, فالأطفال, والأوزان, والحيوان, والكتفين, والنوم, فَالدُّنْيَا, وَالْبَرْدُ, وَالرِّيحُ, وَالثَّلْجُ, فَالسَّيَّارَاتُ, وَالْحَافِلَاتُ, وَالدُّخَّانُ, والْقُفَّازِ, وَالْحَيَوَانَاتِ, وَالْبِرْسِيمِ, وَالصَّيَّادُ, وَالْقَنَاطِرِ, وَالْأَرْضُ, وَالطِّفْلُ, وَالرِّمَالَ, فَالطُّيُورُ, وَالْقِطَّةُ, وَالطِّفْلَةُ, وَالْوَلَدُ\n",
            "\n",
            "POS Tag: Conj P.DSifa\n",
            "Words: والرابعة, وبالوالدين, والغليظ, والخيريات, والداخليات, والمنحوتات, والمصروفات, والأطباء, والمخترعون, والصناعيين, والمسدسات, والممرضات, والحديد, والشافية, والعافية, والرياضي, فالمريض, والفلاح, والضجيج, والأصدقاء, والمشروبات, والأخضر, والاتي, والفنان, والإربيان, والأنمر, والنغاف, والبرسيم, والحصادون, والسيارات, والخميس, والأغطية, والصديقات, والعيديات, والماعزة, والمركبات, والبنفسجي, والمسلية, والمجموعة, والمراعي, والبسكوتي, والثانية, والثالثة, والمحمول, وبالتالي\n",
            "\n",
            "POS Tag: Conj P.Dz\n",
            "Words: وبينما, وهنا, وإذ, وعندما, فهناك, وهناك, وبعدما, ومع, وحينما, وتحت, ودون, وَعِنْدَمَا, وَبَيْنَمَا, وَبَعْدَ\n",
            "\n",
            "POS Tag: Conj P.Dz.S\n",
            "Words: ومعه, ولديه\n",
            "\n",
            "POS Tag: Conj P.MaTrans\n",
            "Words: وما\n",
            "\n",
            "POS Tag: Conj P.No\n",
            "Words: وقرأ, وحرك, وكيف, وجبلا, وبين, واجتهاد, فعثر, ولين, فى, وصفة, وبعد, وشرح, ولماذا, وتقديم, وعز, وتكافح, وأم, ومواجهة, ورغم, وبنات, ووالدي, وعنذها, وقدور, وعناية, فشيئا, وكم, وزوايا, ولاتلبث, وتناسق, وطول, ودقة, فظهر, وتوزيع, وقلما, وأشجار, وشتلات, وخبرة, وشجيرات, وكتب, وخشيبات, وتسامح, وأخرى, وخصام, وشيئا, وأطفال, ومتعة, فلماذا, وحقوق, وقتلى, وذات, وشرعا, وشيد, وإعداد, وأداء, وقطع, وقبل, وأشياء, وعقلا, واخر, وكذا, وتحلم, وإعلان, وأوراقا, وخيطا, وشرائط, وجمالا, ومرحا, وأنواع, وأسماء, أخوه, واختراع, ففرح, وتكونين, وسرعان, واحترام, فتألم, وألعاب, وإسقاط, ومضرة, واكتساب, فتسمر, وعمارات, ووضع, وتهيئ, وتقيس, وتحرس, ومواعيد, وكل, واقتناء, وتوسيع, وإنتاج, وإحداث, ومناحل, وبفضل, وتحسين, ورحب, وسرعة, وحسن, فكل, وخارجة, وشمالا, وانتباه, وسلامة, وحين, ومرة, وتاريخ, واسم, ونم, فنحول, ونظرا, وتفتحين, فريقة, فأي, فكم, وكرة, فماذا, فلفت, ووقف, ونشاطا, وتجفف, وظروف, فكيف, فما, فأتاني, ونشيش, وإعادة, وتذبل, ووريقاتها, ولكل, وثمارا, وأحوال, وتخف, ومساء, وما, وماذا, وحفيف, وخرير, وألا, وملأ, وتحيي, وتسقي, وجمع, وتنبيه, وترني, وحقول, وحرارة, وثلاث, وأربعون, وتلميذة, وحوالي, وقبيل, فوطة, فرشاة, فرائحة, ونقوم, ونحت, ومطالعة, وأعمال, وليلة, وسلام, وأسلم, وتفكيك, ورشاقة, وخلال, وشرع, وأخذ, ونيل, وأنهارا, وفراشات, وغزالة, وجزيرة, وهبت, فتعذر, وفجأة, فحمد, ومطبخ, وحمام, وبهو, فسأل, فأبناء, ودعوات, فعمت, فتعرف, وتدربا, ولعبة, وضحك, وعزم, واجتهادي, وسوف, فقراءة, وأقدام, وعمال, وإنجازات, وتصبغ, وسقي, ومرح, وميدان, ونغمات, ويتناقشان, وأين, وأثقب, ومكتب, وكرسيان, وسفيان, وتبدأ, وحاتم, وتسرح, وكبيرة, وقبلات, واغانيها, وحرثا, ومسحاة, ومجرفة, ومسلفة, فمتى, ومتى, وهدير, ونشاط, وتهبط, ودودة, وتنقي, فاغتسعلت, وتجلب, فزيني, ومخزن, وثالث, وفاطمة, وشعيرا, وتزكي, وتبيع, وعواء, وخافت, ولوحات, وخالي, وأمواج, فأفيقي, ومراحا, وحبور, وحيوانات, ويهم, فمي, وأحد, ووديع, وسلوى, وبليلة, وعصير, فطور, وتكفينا, وشريحة, فزليفة, وزيت, فلازم, وقطعة, ووحيد, وسجل, وترقص, وترمي, فصوصها, فخفت, فمك, فهيا, وحبة, وثقل, وخشخشة, ونداء, وتقوت, وصعد, وتكلل, وثلوج, وسهول, ومصنع, وأنامل, ولاتمل, وتزور, فطيرا, فتوقفا, واندهاش, فتشكل, ومفاصل, وغناء, ورشف, وعودة, ورنات, وأصناف, وعم, فتي, فساتين, ونبات, وخلفا, وحمالة, وتلبس, ونقود, وحوش, فضحك, وفصل, وسناء, وياسين, وترسم, وتحريات, وتزاحم, والأصدقاء, ويسارا, وأدوات, وأبي, وسرورا, وقطي, وحجرات, ومجموعة, وسرور, ومشاركة, وخلف, وخزانة, وصحابي, ومرق, وخضروات, وحلويات, ومظلة, ومخدات, وصوت, ووتر, وبلغة, ومزاح, ونقودا, فأين, ومقود, وعجلتان, وتلفازا, وأصداف, وحجرة, ومحارة, ولعب, فأمه, وبيضا, وجدتي, وجيران, ومساطر, وأوراق, وفكر, وبماذا, ومسح, وحقولا, وشعار, وسمعي, وكتابا, فتكسر, ومستعد, وخبز, وتربية, وخيام, وفأر, فقبل, فلدي, وعندي, فأز, وأخدا, وكره, فنظر, ومقوس, وزهير, وفر, ففكر, فهبوا, فتقطع, وعماد, وبستاني, وأخذا, وهبوب, وشعرا, وشايا, وبغريرا, وحدي, وبارع, ورمي, وأسنان, ورعبا, وصديقي, فعلق, وقصص, فأجبنا, واستجابة, وتضيع, وضعاف, وحزن, وتزويد, وأحلام, فسوف, وراضية, وثريا, العجينة, كل, ونقش, وأربعة, وعصيرا, وتلبسي, وطمعا, وعافية, ومنى, وقوت, فحمل, فتنحل, وعلامات, ومقاس, وشكيب, ويزن, وأربعين, فمتر, وخمسون, ومقاسات, وسبعين, وبشكل, وتقوس, وحينئذ, وأجري, وغير, وتمدد, وَكَذَا, وَتَهُبُّ, وَبَعْدَ, وَرَائِدِي, وَأَبِي, وَأَقْدَامُ, وَزُجَاجَتَيْنِ, فَجَمِيعُ, وَنُسَمِّي, وَشَيْئًا, فَشَيْئًا, وَمِقْوَدٌ, وَمُحَرِّكٌ, وَسَرْعَانَ, وَأَحْيَانًا, وَأَمْوَاجٌ, وَأَسْمَاكًا, وَأَشْيَاءَ, فَنَزَعَ, وَعَافِيَة, وَصِغَارُ, وَتَقْفِزُ, وَجَمِيعُ, وَمَرَّةً\n",
            "\n",
            "POS Tag: Conj P.No Compa\n",
            "Words: فأسرع, فأحب, وخير, وأحلم\n",
            "\n",
            "POS Tag: Conj P.No Pronom\n",
            "Words: وهو, فأنا, وأنا, وهي, وهما, وهم, فهو, فهي, ونحن, وأنت, فأنت, وهن, منشغلة, فنحن, وأنتم, وَهُوَ, وَأَنَا, وَهِي, وَهِيَ\n",
            "\n",
            "POS Tag: Conj P.No.S\n",
            "Words: فحياهم, وأمهاتهم, وأمهاتنا, وحركاته, فجبالك, وأنهارك, وشواطئك, وصحراؤك, وسهولك, وإخوتي, فحملها, ورآه, ووضعها, وأرجلها, ودعها, وهبها, وبصرك, وعطفه, ورعايته, وتهيئهم, وأصدقائي, وأروته, فحصدته, ودرسته, وذرته, وطحنه, وطحنته, وجيراني, وعرضتها, وابننا, وسيئاته, وسيئاتهم, وندامه, وتماثيله, وقوته, ورغبتها, وأختها, فوقفنا, فبادرنا, وطواها, وعزيمتهما, وتركيبها, فشكرته, وأمره, وتعقيدها, ففتحته, وقادتهم, وتفيدهم, ونصحنا, ونصحه, وعيناه, وأمه, وخطواتها, وابتسامتها, وتواسيهم, وشفائهم, وتوفيقه, وتمكنا, فكلنا, ودخله, وجمعه, وعناوينهم, وأحبابهم, وزملائي, ولقبها, وفوائده, وخشونته, وخشونتهم, وروحكم, وسألهم, ويئسنا, وعرضها, وترصيفها, وتذكره, وشرعنا, وأمي, وغيرها, وتلوثه, وتعلقها, فساعدهما, وتعلقاها, وبدوني, وشارعنا, ومدرستنا, وحيينا, وبلدنا, ورجليه, فوجدتها, وجمالها, فشاهدنا, ومياهه, ومنازله, وتجولنا, فرأينا, وبعضها, ومددنا, ورتبنا, فشعرنا, وجلسنا, ومعهم, وسألته, وملأتها, وركابها, فثمنها, وسألتنا, وخرجنا, وبعضهن, وتعلمنا, وتجميلها, فتقطعها, ولديها, فتنادينا, ونزينها, وأنهارها, وشمالها, فشكرتها, فرأتها, وساقك, وأخيها, وامامه, وتداعبها, وألفتها, وولداها, وبيتك, وأخي, وأسماكه, وخاله, وهلمي, وغرسنا, وسوينا, وقوامها, وسعيها, ووجهها, فتلقفها, وترميها, فعضها, وبيدها, وتركتنا, فوجئنا, وسمعنا, وفوقهم, ويواسيه, وعماراتها, وصويراته, وأبواهما, وأولادها, فخطبها, فستانها, فلبسنا, وشكله, وعمركم, وتثبتها, وتلفها, وظهره, وانخفاضها, وتجذبانها, ورفقتي, وأدواتها, وأصدقائه, وحذاؤك, ومحفظتك, وكتبك, وملابسك, وزهرها, ونظافتها, ورفاقه, وحمايتها, ونشاطنا, فريقنا, ولبنا, وانشغالها, ونسيانها, وأبوها, فسألتها, وأخوها, وأبناؤه, وتهنئته, فستانك, وسرعتها, وأبوه, وقصرك, وخصرها, وزوجته, وأصدقاؤه, وسأله, وسألوها, فوجهتها, وشفتاه, وأسنانه, ولسانه, فمحاه, ووالديك, وأصدقائك, وهواؤها, وسكانها, وغيرهم, فدعاه, فخرجنا, ورقصنا, وعنقه, وأخته, وحراسته, فوجدها, وطعامهما, فسألهما, وأبي, فجلسنا, وحدهما, وأسنانك, وأظفاري, وعضلاتي, وأنيابه, وقلبها, وكلامها, فسألوه, فسألنا, ودعاهم, ورواحنا, فبادرها, وأدائها, وأحزانهم, ودعتهن, واتحادها, واتحادكم, وتعاونكم, وتزيينها, وملابسي, وشكرتها, وجيراننا, وسروره, وأدرك, وسنه, ووزنه, وطوله, وجربها, ودفاتري, وَبَعْضُهُمْ, وُجَوهَهَا, فَعَطْفُهَا, وَبَرِيدِهَا, وَرَمَادِيٌّ, وَأُخْتُهُ, وَصَاحِبَتُهَا\n",
            "\n",
            "POS Tag: Conj P.No.S Compa\n",
            "Words: وأصغرنا, وخيركم, فأسرعنا, وأجمعها, وأعلاه\n",
            "\n",
            "POS Tag: Conj P.NoDP\n",
            "Words: ولذا, وهذا, وهذه, وبهذا, وهكذا, وبهذه, وَكَذَا, وَهَكَذَا\n",
            "\n",
            "POS Tag: Conj P.NoDP.S\n",
            "Words: وذلك, وكذلك, وتلك, ولذلك, وذاك, وبذلك, فذلك, وَكَذَلِكَ\n",
            "\n",
            "POS Tag: Conj P.NoRP\n",
            "Words: فيما, فمن, ومن, وكما, فما, وما, وفيما, ولما, وبمن, فَمَنْ\n",
            "\n",
            "POS Tag: Conj P.Ns\n",
            "Words: وإذا, فقد, وربما, ولما, وقد, وما, فإذا, وإن, فما, وها, وإنما, ولقد, ولو, فَقَدْ, فَإِنْ, وَإِذَا, وَلَمَّا\n",
            "\n",
            "POS Tag: Conj P.PCo\n",
            "Words: وفيه, وعليك, وعليكم, ومنهم, ففيها, ولم, وبه, وله, وَلَهَا\n",
            "\n",
            "POS Tag: Conj P.PNa\n",
            "Words: وأن, ولكن, فإن\n",
            "\n",
            "POS Tag: Conj P.PNa.S\n",
            "Words: ولكنها, ولكنهم, فإنني, ولكنهما, وأنه, فإنها, ولكنه, وكأنها, ولكنني, وأنها, وإني, وكأنه, وَلَكِنَّهُ, وَلَكِنَّنِي, فَإِنَّنِي\n",
            "\n",
            "POS Tag: Conj P.PaNs\n",
            "Words: وأن, وألا, ولن, وَلَنْ\n",
            "\n",
            "POS Tag: Conj P.Pr\n",
            "Words: وفي, وعلى, وإلى, ومن, ومنذ, فمن, وحتى, ففي, فإلى, وعن, فعلى, وَفِي, وَعَلَى, وفِي\n",
            "\n",
            "POS Tag: Conj P.Sifa\n",
            "Words: فحاول, وقديما, وجرار, ومعينات, ومربعات, وقادرا, واجتماعية, وكثيرا, وأخيرا, وصوتية, وباقي, وحيوية, فوراأ, وفريق, وحزينون, ومأكولات, وخبراء, وطريقة, وحامت, وهادئة, وصاح, ونشيد, وتنام, واية, وجميع, وفاض, وسالف, وقادو, وعاشا, وعميقة, ويسير, وخالتي, فأشعر, ويسارا, وبمجرد, ومفيدة, وحافظ, وخاصة, ومنير, ورشيد, وَصَفْرَاءَ, وَبَيْضَاءَ\n",
            "\n",
            "POS Tag: Conj P.Sifa.S\n",
            "Words: وناولته, وخارجه, فنادتها, وحيويتها, ومشتقاته, وخالاتي, وطاقيتك, وحيويته, ورافقتهم, ورائحته, ومثيلاتها\n",
            "\n",
            "POS Tag: Conj P.VeIm\n",
            "Words: وقل, واخفض, فاعمل, واعلم, واحك, وارح, ولابد, وارسم, فارقص, وهب, واحمد, وهيا, وغني, فهيا, شيئا, فاغسل, وابدأ, واضب, واعجن, فاحرص, وَاحْفَضْ, وَاقْرَأْ, وَاقْفِزْ, فَاسْمَعْ, وَاجْرِ, وَلِلَّعِبِ, فَتَمَرَّنْ\n",
            "\n",
            "POS Tag: Conj P.VeIm.O\n",
            "Words: وَاحْفَظْهُمَا\n",
            "\n",
            "POS Tag: Conj P.VeIm.S\n",
            "Words: واعملي, وكونوا, واعبري, فانتظري, واعلموا, فارسموا, وانتظروا, واغمري, واحضني, واملئي, واسمعي, وانشقي, وبدأوا, واسبقي, فادخلوا, فامرحي, واذهبي, وَاسْتَنْشِقُوا\n",
            "\n",
            "POS Tag: Conj P.VeIm.S.O\n",
            "Words: وتسقيني, فأسمعني\n",
            "\n",
            "POS Tag: Conj P.VeP\n",
            "Words: ونراجع, ويقفز, فأنزع, وستبقى, وأتعلم, وأدفع, ويرفع, وينتظر, وندافع, ونبعد, ويتألم, ويبكي, ويتوجع, وتتعب, ويزين, ويبدأ, ويطرح, ويضع, ويشرع, وتتلوى, فتتصاعد, فيتحول, ويستمتع, وأعمل, ويحسب, وأوازن, وتبكي, وتتسلل, وأتصرف, وأتلمس, وتوجه, فتعال, فيحقق, وأخرج, ويمده, وتختلف, ويعمل, ويتألف, وتنمي, وتمنو, ويتفرج, وتخفف, وتقدم, ويمعن, فيقوم, ويرتب, فلنحرص, فيؤذي, ويهزل, ويرهق, ويحتوي, ويطرد, ويحارب, ويهدئ, ويساعد, فتقدم, وتسلم, فأراد, وأتوجع, وتتأكد, فليرح, وليرح, ويقوي, فتبعث, وتضعف, وتعتدل, وتتساقط, وتنتج, وتتضرر, وتنشر, ونرمي, ونبدأ, ونحسن, وتروي, وينحني, فيقبل, ونتناول, ويشتغل, وأكتشف, ونقوم, ونشتري, ونلتقي, ونتعرف, وأفكر, فأغمق, ويرون, وتقطع, وينزل, ويراقب, ويقول, فتتجول, وتتساءل, فنعود, فيقول, وتنظم, وأحب, وننخرط, وأحمل, فسأحضر, وأفيد, وتبتعد, وتقوم, وتسير, فترسل, فيتمايل, وتتجاوب, ويطو, ويسعد, وأنشر, وأملس, ونلعب, ونبتعد, ونجلس, ونغني, ونعلق, وتنبثق, وتنسج, فتجيب, فتمتلئ, ويمد, ويعود, ويدفع, ويزمجر, فيزداد, ويدلي, ويكشر, وسيخرج, ونشرب, ونمخض, ونعد, ونختم, فيطوح, وتأكل, ويحمل, وتبعث, ويصيح, ونفكر, وترجع, ونحسب, ونركض, ويلعب, ويطل, ويصفق, ويعرف, ويفوز, ويخف, ويستغيث, ويوزع, وتنحدر, وتخضر, وتزهو, وتتكسر, ويرى, فيتحرك, وتبرز, وتدب, وتحكي, وأرتب, وأحوك, وتشتري, ونلتهم, ونضحك, وتتمدد, فيسمع, وتضيف, فيحرق, وتقيم, وينام, وتحضن, ويخرج, وتمنح, فيعود, ويكثر, فلتدم, وليدم, ويسمع, ويقضي, ويتابع, وأتابع, ونتعلق, فنجلس, ونتصايح, وندني, ويطول, فيبتسم, ويبسط, فتندفع, ويقرض, ويدير, فتبدو, فيتجه, وتميل, وتطأ, فترتفع, فتنخفض, ويسطر, ويخطط, ويرسم, وتسطر, وتخطط, وتقول, فتكوم, ويصطاد, وتنظف, وتقبل, وأرغب, ويغرد, وأحكي, وأرسم, وألعب, وأعجب, وأغرد, وأسمع, وتغرد, ويتعلم, ويحلم, فتسقط, فتصيب, وتكسر, فألازم, ويحافظ, وتعطينا, ويأوي, وتحدث, وأفضل, وأرجو, فأخد, وتريض, فيهتف, وترتفع, وأبوه, وتعمل, ونفخ, فنستعمل, ولنظهر, وسأكون, ويعطي, وأهوى, وسألت, وليحي, فأسأت, وسأحرص, ونرحم, ونفرح, ونكرم, ونسعف, ونسعد, وسأله, وتتحدث, فيخرج, فأشفق, وتصنع, فستتفتح, وتنمو, ويختفي, وأستمع, وأقذف, فيحب, وتحب, وأخجل, ويحاول, ويمكن, وأقرأ, ويقوم, وتدعو, وتكتب, وتحسب, وتعتمد, فأنتم, فأقوم, ونحلم, ونتمنى, ونكثر, وسيؤذن, ونحتفل, ويدعو, وننقسم, ونختار, ويبلغ, ويستغنى, ويخاف, ويشغل, فأسافر, وأنام, وتغطي, وَتَعْصِرُ, وَتَنْفُضُ, وَتَغْسِلُ, وَيَسْقُطُ, فَتُحَرِّكُ, وَتُفْزِعُ, فَيَجْرِي, فَأَنَامُ, وَأَحْلُمُ, وَتُشَاهِدُ, وَتَنْظُرُ, فَتُلْبِسُ, وَتَخْرُجُ, وَتَسْهَرُ, وَيَدُلَّكَ, وَيَمْلَأُ, فَتَأْخُذُ, فَيُرَتِّبُ, وَيُقَيِّدُ, فَيُرْسِلُ, وَتُسْرِعُ, فَأَجِدُ, وَتُغَنِّي, فَيَنِطُّ, وَيَقِفُ, وَتَنْتَظِرُ, وَيَقُولُ, فَيَمُرُّ, وَيَمُرُّ, وَيَخْرُجُ, فَيَقِفُ, وَيَنْزٍلُ, وَتَضْرِبُ, وَتَخْتَفِي, فَتَخِيطُ, وَيَصِيحُ, وَيَنِطَّ, وَيَعُومَ, فَتَحْكِي\n",
            "\n",
            "POS Tag: Conj P.VeP nasikh\n",
            "Words: ويمسح, ويكون, ويضحك, فتكون, وتصبح, وتظل, فَتَصِيرُ\n",
            "\n",
            "POS Tag: Conj P.VeP.O\n",
            "Words: فيملسها, ويداعبها, ويناديها, ويشغله, ونحمده, وسيحدثنا, وتداعبهم, فسأصلحه, ويساعدهم, فأجابه, ويقبلها, ونقرأها, وأنتزعها, وألاعبها, ونقبله, ويتركها, وينعشنا, وأوصانا, ويتلقفها, ونلاعبه, وتحبهم, ويضعها, فتختطفه, ويقيمها, ويحطه, وأقصها, وأربطها, وأقصه, وأربطه, فأوقفها, ويجذبها, أبوه, فأخذهما, وأوصلهما, وسأنتظرك, وأراقبك, فأراوغهم, وتسبقنا, وأعاقبه, ويكسرها, ونتقاذفها, فنهزمه, وتزعجه, فَتَدْعَكُهَا, وَتُلْبِسُهَا, وَتَجْعَلُهَا, وَيَحْمِيكَ, وَيَعْرِضُهَا, فَأَجَابَهَا, وَيُعْجِبُهَا, فَتَعَظُّهُمْ\n",
            "\n",
            "POS Tag: Conj P.VeP.S\n",
            "Words: ويجاهدان, ويمارسون, ويبتكرون, وتصوتوا, وينتظرون, ويقلقون, ويفكروا, ويحترمون, ويطربوا, وينظفون, ويزينون, فيرقصون, ويغنون, وتتجادلان, ويهزان, ويذرون, ويقطفون, ويحيونها, ويلتقطون, ويدفعون, فيرددون, فيجدون, ويتقاسمون, ويحملون, ويطوفون, وينشدون, ويخرجون, ويقذفون, ويرمون, ويمرحون, ويكتبون, ويغنين, ويمتطون, فيلعبون, ويتصافحون, ويقدمون, ويلعبون, ويسبحون, ويعملون, ويحبونها, ويكتبن, ويلعبن, وينشدن, ويتوجهون, فيتناولون, ويشربون, ويوزعون, فيقتسمون, فيشعروا, ويتسابقون, وَيُغَنُّونَ, وَيَعَضُّونَ, وَيَمْضَغُونَ\n",
            "\n",
            "POS Tag: Conj P.VeP.S nasikh\n",
            "Words: ويضحكان\n",
            "\n",
            "POS Tag: Conj P.VeP.S.O\n",
            "Words: وتغذيني, ويصفني, ونسوني, وتتبعني, وتعهدناها, ويقدمنها, وَيُمْكِنُنِي\n",
            "\n",
            "POS Tag: Conj P.VeP.S.O nasikh\n",
            "Words: وستكونين\n",
            "\n",
            "POS Tag: Conj P.VePa\n",
            "Words: وقضى, وقال, وقالت, وتعالى, وأوجب, ودعا, فابتسم, وكركر, فأبطل, وأطلق, وغنى, فقال, فشعرت, وأخرجت, فاستفاد, واستعمل, فنال, فقالت, وأنجبت, فأجابت, وأخذت, واصفرت, وطاب, فادعت, وامتنعت, فقامت, وحملت, فذهبت, وعجنت, وخبزت, فشكرت, فأيقنت, فسألت, وتسلقت, فصرخ, وارتمت, فتنبهت, وسارعت, وأشفقت, وشرعت, وأبقيت, وعزمت, وزرعت, فأحضرت, وابتسمت, وصاحت, وذهبت, فظهرت, وذهب, وأضاف, وقرر, وبدأ, والتحق, فأخذ, واتخذت, وتغني, ووقع, فاكتشفت, ونال, وفتلت, وأطلقت, وأرسلت, ولبور, ارتفاعها, مسافة, وتوالى, به, واستعدي, وسلم, فطلب, فقرر, وأخبر, ومشى, وقبلت, وراح, وركز, وجعل, فاكتفى, وأخذ, وانتظر, وعرفت, وبدأت, وسجل, فانتبهت, وانتهى, فصاح, وانتهت, ورأى, فاستنكر, وبضع, وانصرف, فارتمت, فامتدحت, وأثنت, وتحدثت, ودخلت, وأضافت, ووضعت, فرأى, فأخذت, وجاء, فغطى, واشتد, واختفى, فاعتدل, وتفتحت, ودخل, وكاد, واستنجد, فأسرعت, وبحثت, وصدق, وهند, وقضت, وكادت, فصرت, واشتقت, وسافر, وخيل, واستغرق, وأنت, فعاد, ولحسن, ورحت, ونمت, فأجاب, فوجد, وثبت, وفاخر, وهجم, فانخلعت, وارتمى, فمال, وتمزقت, وتقفر, وحلقت, وتراكمت, وانقلع, ورتب, وقدمت, وأقبل, وتعالت, وعاد, ودعت, وتم, وسكت, ونظر, فأغسل, وألبس, وحضر, واعتذرت, وجلست, فتخلت, فكم, ونظفت, وسويت, وصب, وانتشرت, وركبت, وغرست, وسمع, وتدفقت, فارتوت, وتسربت, وتسللت, وانتشى, وانصرفت, وحيت, وعادت, ورأت, واكتنزت, وحان, وأدت, وحمدت, وتشتتت, فتمطى, وبدت, واخضرت, وكبرت, وأبى, وظهر, فراوغ, فاقترح, فخمش, فجاءت, فانزلقت, ورفرفت, ودارت, وتخلص, وزقزقت, ورقصت, وتعطلت, واتجه, فلهج, ورسمت, وكتبت, وأقيم, فتمتع, وجثت, وامتدت, فصاحت, فغنى, وعرف, فبدت, وتربعت, والتف, وسار, وتجمع, وتصيح, ونات, وانطلق, وتابع, وأعطى, وأجمل, وانطلقت, فانتفض, فرأت, وودعت, فالتفتت, فسارت, ولاحظ, والتفتت, ففرح, وحط, وسأل, واعتاد, وأغرد, وأكتب, فلاحظ, فتوجه, فتساءل, وتفرج, فأنشد, فعادت, وخرج, فكونا, ولعب, وجرى, فخلع, ورمى, وشعر, فوقع, فأقبلت, واتصلت, وخاطب, فرحب, وعرضت, وورق, وفاز, فارتفع, وحمل, فقدم, وقرأ, وجلس, فانظما, وتخيلا, فتوجهت, وأدخلت, وهمت, ومد, وحكت, فذبح, ولبسا, وخرجا, فتبادل, فتذكرت, وركب, وفرحا, فلاحظت, فتعالت, ووضع, وضم, فاستعد, وتضاعفت, ورسم, فحزن, وتحركت, وبلل, فأوشكت, وفاحت, وصليت, وأعمل, وطلب, فرسمت, وأصاب, واعتذر, وتعهد, فخرجت, واجتهد, فرأيت, وتوجه, وغادر, ورافق, وانقشعت, وسقط, وحاول, فغنيت, وغاب, ولفه, وخشيت, وخنقت, وامتلأ, فماتت, وأراد, وتكبر, فانتصبت, فذهب, فنادى, وبقيت, فجرى, فاستدعت, وبقي, وهجمت, وأسالت, وزاد, وجرت, وجربت, وغيرت, وكون, وتضمن, فخاف, وتكسرت, وتحققت, فعانقت, فقررت, وفرحت, فاستدار, فاندفعت, ونام, وَأَخَذَتْ, وَكَتَبَتْ, وَتَلَوَّثَتْ, وَجُعِلَ, فَتَلَطَّخَتْ, وَأُجِيدُ, وَذَهَبَتْ, وَشَاهَدَتِ, فَرَأَى, وَرَجَعَ, وَدَخَلَ, فَصَحَتْ, وَأَطَلَّتْ, فَشَاهَدَتِ, وَغَسَلَتْ, فَخَافَتْ, وَأَلْقَتِ, فَمَضَى, وَسَأَلَتِ, فَقَالَ, وَأَزْهَرَتْ, وَغَنَّى, وشَاهَدَ, وَأَعْجَبَ, فَتَمَدَّدَ, وَنَظَرَ, وَخَرَجَ, فَوَقَعَ, فَجَرَى, فَجَاءَتْ, وَحَامَتْ, وَطَارَتْ, وَرَأَى, وَأَسْرَعَ, وَتَرَكَ, فَقَالَتْ, وَتَمَرَّنَ, فَضَحِكَ, وَقَالَ, وَقَالَتِ, فَقَالَتِ, وَزَرَعَتِ, وَقَالَتْ, وَطَحَنَتِ, وَذَهَبَتِ, وَأَكَلَتِ\n",
            "\n",
            "POS Tag: Conj P.VePa nasikh\n",
            "Words: فكان, وكان, فصارت, وصارت, وكانت, فكانت, وصار, وليست, وليس, وأمسكت, وتمسك, وزالت, فأصبح, وتضحك, ولكان, فصار, وظلت, وأصبحت, وَكَانَ\n",
            "\n",
            "POS Tag: Conj P.VePa.O\n",
            "Words: وأعجبته, وأوصاهم, وترعاهم, ووضعته, فأخبرتني, ونبهتني, وجهزها, وجعلها, فسألني, فاصطحبه, ولمعه, فوجدتني, فأجبته, فبادره, فأعادتها, وراقتني, وأغلقتهما, وسألتها, وأطعمها, وشكلها, ولولاها, واختاره, ورجاه, وخاطه, وغلبه, وناولته, فاقتسمها, وزرعتني, وسقتني, وَأَعَطَتْهَا, فَتُطْعِمُهَا, فَأَجَابَتْهَا, وَأَخَذَهُ, وَوَضَعُهُ, فَأَجَابَهُ\n",
            "\n",
            "POS Tag: Conj P.VePa.S\n",
            "Words: وأخذت, وتوجهت, فوجدت, وسحبت, وأحسست, وخطرت, فسمحت, فاكتشفوا, فأقبلوا, واكتشفوا, وبدؤوا, فقررا, فقلت, وتذكرت, ودعوا, وأبدوا, واتفقوا, وتحليتم, فقالوا, وقلت, ورفضوا, واتجهنا, وطلبت, وجعلنا, وقرروا, ورحنا, وأخذنا, فاستقبلنا, وكادوا, ففكروا, وفكروا, وسبحوا, وأقلعوا, فأكلت, وشربت, وتمددت, فسلمت, فنجوت, وعلقت, وغفوت, ووقفت, وصمت, وكنت, وضحكوا, وتحولوا, فوجدوا, وانهارا, وخفت, وابتعدت, فرأوا, فتمتعوا, واستفدنا, وانتزعن, وحصدوا, ودبروا, واتفقا, وقاموا, وانصرفوا, ومشطوا, وأصلحوا, وابتسموا, وعاليا, وصحون, ويسرنا, وتمنوا, واستمتعوا, وقدمت, وتساءلت, ورقصت, وفرشوا, فأعجبا, فسقطت, واحترموا, وتوزعوا, وتعاونوا, فدخلوا, ففرا, واختفيا, وبدأوا, فانتظروا, وقررا, ورجعوا, فانطلقت, فالتحقت, وسيروا, وأعددت, واكتشفت, وجئت, ووقفوا, ففعلوا, وتنازعتم, فاتصلوا, وحكوا, فسجلنا, فَابْتَسَمَتِ, وَقَالُوا, فَوَجَدَتْ, وَعَجَنَتْهُ\n",
            "\n",
            "POS Tag: Conj P.VePa.S nasikh\n",
            "Words: وكانا, وأمسكت, فكانوا, وكنا\n",
            "\n",
            "POS Tag: Conj P.VePa.S.O\n",
            "Words: وشجعني, فسألته, فدلني, وأهداني, فأخبرني, فأجابني, فأخذني, وسألني, وساعدني, وأعلماه, فردمناها, فوجدناه, وأخبروه, وأخبرته, وسقيناها, وكأنهما, فعضني, فوجدته\n",
            "\n",
            "POS Tag: Conj P.Vep.S\n",
            "Words: وتكسرها, وَتُثْبِتُهَا\n",
            "\n",
            "POS Tag: Conj P.Vepa.S\n",
            "Words: ففاجأها, ونصحتها, وحذرته, فسألها, وسألته, وسألها, وسقينا, وجلسنا, وخاطبتها, فقبلها, وضمتها, فسألوه, وأعدوا, فركبها, وَدَهَنَتْهَا, وَأَخَذَهُ, وَوَضَعَهُ, وَعَجَنْتُهُ, وَخَبَزَتْهُ\n",
            "\n",
            "POS Tag: Conj. P.DNo\n",
            "Words: كالثعبان, كالأعوام, كالسكر, كالفراشة, كالملاعب, كالأستاذ, كالعسل, كالنحل, كالمسمار, كالسردين, كالمحار, كالتن, كالثلج, كالنملة, كالحلم, كالماء, كالسيف, كَالطَّائِرِ\n",
            "\n",
            "POS Tag: Conj. P.DSifa\n",
            "Words: كالكائنات, كالساحرة, كَالْمَجْنُونِ\n",
            "\n",
            "POS Tag: Conj. P.No\n",
            "Words: كرين, كمثل, ككرة, كلمح, كأنة, كنزه, كدفقة, كسمك, كأسراب, كرماء, ككل, كأظفار, كؤوس\n",
            "\n",
            "POS Tag: Conj. P.No Compa\n",
            "Words: كأجمل\n",
            "\n",
            "POS Tag: Conj. P.No.S\n",
            "Words: كأنني, كعادتهم, كعكها, كيسه, كعادتها\n",
            "\n",
            "POS Tag: Conj. P.NoDP.S\n",
            "Words: كذلك, كتلك\n",
            "\n",
            "POS Tag: Conj. P.NoRP\n",
            "Words: كما, تفعل, كَمَا\n",
            "\n",
            "POS Tag: Conj. P.PNa\n",
            "Words: كأني\n",
            "\n",
            "POS Tag: Conj. P.PaNs\n",
            "Words: كأن\n",
            "\n",
            "POS Tag: Conj. P.Sifa\n",
            "Words: كفاك, كباقي\n",
            "\n",
            "POS Tag: Conj.Conj P.P.No\n",
            "Words: فوعدني\n",
            "\n",
            "POS Tag: Conj.Conj P.P.No.S\n",
            "Words: فوجذته\n",
            "\n",
            "POS Tag: Conj.Conj. P.P.No\n",
            "Words: وكبرت, وكفه\n",
            "\n",
            "POS Tag: Conj.Prep. P.P.DNo\n",
            "Words: وبالبناية, وبالإشارات, وللمرأة, وللأنف, فَلِلْعَمَلِ\n",
            "\n",
            "POS Tag: Conj.Prep. P.P.DSifa\n",
            "Words: وللفقير\n",
            "\n",
            "POS Tag: Conj.Prep. P.P.No\n",
            "Words: وبكلام, وبشظايا, وبأكداس, ولبور, وبتنظيم, فبماذا, وبدكان, فلمحتني, وبدون, وَلِلَّعِبِ\n",
            "\n",
            "POS Tag: Conj.Prep. P.P.No.S\n",
            "Words: فبفضلها, وبرفقته, فلولاه\n",
            "\n",
            "POS Tag: DAlam\n",
            "Words: الأربعاء\n",
            "\n",
            "POS Tag: DCompa\n",
            "Words: الأخضر, الأكبر, الأسود, الأصفر, الأبيض, الأحمر, الْأَبْيَضَ, الْأَبْيَضِ\n",
            "\n",
            "POS Tag: DNo\n",
            "Words: الوقت, المساء, المرة, التدرب, الايتين, الإسراء, الكبر, الذل, الرحمة, الله, الأولاد, يقلقوا, الأب, الأطفال, الطفل, القضبان, العصفور, القفص, الحب, الماء, العذب, الغناء, الكلام, الحقول, الأشجار, الطيور, الأقفاص, الفخاخ, المقالع, المغرب, الأوطان, المعاملة, البستان, التعرف, العم, السلحفاة, الناس, الدرس, اللطف, الأم, الدواء, الزكام, الصيدلي, الحاجة, الحملة, الفقر, الشارات, المحتاجين, التبرعات, التلاميذ, البوادي, المواد, القسم, التبرع, العمل, الإنسان, الأرملة, الحيوان, الطير, الغابات, الأنهار, السعداء, الأرض, السماء, الأسرة, الطفلة, الأمهات, النوم, الحياة, القلب, الصباح, الفجر, المطبخ, الإفطار, التعب, البيت, الشمس, السهر, الليل, الأبناء, المشاق, البنت, المرأة, الرجل, العروسة, الصندوق, النوع, الأشكال, اليوم, العادة, الصناديق, القدم, المتاحف, النجاح, الرياح, الوردات, القبلات, الشهاده, الخزف, الدار, الحطب, الخال, الطين, المدر, الساحة, الخشب, الصقيل, القاع, الإستدارة, القرص, الجوانب, الإناء, المواعين, الأواني, الصقيلة, العين, الفرن, الدجاجة, الصغار, المنزل, الاخرى, القمح, الإوزة, البطة, التربة, النبات, السنابل, الطاحونة, الذهاب, الخبز, الحمامة, الصيف, النجدة, الصوت, الحال, الفور, النملة, البندقية, الهرب, الهواء, المال, الشهر, الدهشة, المسؤولية, الاعتدال, الإنفاق, الحسابات, الأمر, الإيرادات, الاجتهاد, الزهور, الزينة, النباتات, العطلة, الأصص, الورد, البداية, المشتل, الفكرة, الكتب, الدراسة, الإثنان, الحي, الخشيبات, الكفتين, الحسنات, الزمان, القرية, الحيوانات, القريتين, الاخر, اللعب, الألوان, الصداقة, اللة, الممتع, الكبار, الام, القفز, الجلوس, الورود, المدرسة, الحلو, الأجيال, الأسلحة, الهدامه, الدرب, العصر, السلام, البلدين, الحروب, البلدان, المكان, المدارس, الأكفاء, الأموال, الصحف, الاختراعات, الأمور, المرعى, القصب, القماش, الساعة, الغنم, القراءة, السلامة, التعليم, الفتيات, الأقدام, المطر, الجمع, المساعدة, الرسائل, السنوات, الكبرى, المصير, العزم, التجربة, العالم, الان, الهجرة, الأستاذ, الاستاذ, الاستاد, الاخرين, الأربعة, الأصوات, النتائج, الظن, النشاط, الورق, القصبة, الوسط, الشرائط, الجو, الطيران, الصعود, القوة, الريح, العنان, الخيط, السعادة, البحث, الأخوين, الأخ, الأمريكية, طردا, توقف, الآلات, الدراجات, الألمانيين, في, على, بتوازنها, حوالي, الوفاء, الزاهره, المستحيلا, الآن, الشباك, المولد, المناسبة, الأسبوع, العيد, البيع, الوكالة, الرقم, الخدمة, النقود, الزر, الشاشة, المبالغ, الاندهاش, العقل, الأعمال, التعليمات, الانسان, الأشياء, التعقيد, الطاقة, الحركات, الأجزاء, الدماغ, الحية, التطور, الالات, البطالة, الخوف, الحصة, الموعد, الباب, الضمادة, التلفاز, الحاسوب, الألعاب, الإدمان, الرقبة, اللحظة, العبرة, الكرة, الرياضة, الشفاء, الفيديو, الفترات, القدرة, الملاحظة, القتل, الإكثار, الراحة, الثقة, الاستراحة, الجد, السلاح, الأحجام, الحصول, الترحيب, الذوق, الهدية, العلبة, الأبواب, الحلوة, المرضى, الامهم, الضمادات, القصص, اللوازم, الأمراض, الأدوات, النصائح, الرضع, الممرضين, المباركة, الأبقار, الدواجن, العسل, التعاون, الكفاح, الموائد, الحمى, الزراعه, الصناعه, الوطن, الإسكاف, الطموح, الشبان, الأحذية, الجلود, الفرصة, المحل, الحذاء, النظر, الأجرة, السبب, السرعة, الشخص, القيام, الأزقة, الحوالات, الدروب, المنازل, السكان, التحايا, الغد, المدار, المرور, الأماكن, السن, السير, الأمن, الأحياء, الشرطة, الجماعة, الشوارع, المنصة, المواليد, الحالة, النور, الليالي, اليسار, القصة, الشيقة, العينين, الجسم, النهار, الفواكه, الغداء, التمر, الفوسفور, السكاكر, الجوز, العنب, الإطلاق, الفيتامينات, البوتاس, التفاح, المرء, الهضم, الغازات, الإمساك, السعال, التمتع, الساحه, الاستراحه, السبقا, السلم, الحلم, النظام, الفوز, القلق, الفرح, النمور, الملعب, المدرب, المباراة, الحيلة, الحكم, الشوط, الاول, الكأس, السؤال, الروح, الشيء, النهوض, الجرح, العظم, الإحتياطات, الاحتكاك, السلة, الفحوصات, الندم, المستوصف, الطعام, الجوع, الزبناء, السردين, الغلام, المطعم, الصحة, الإهمال, العطس, الأكل, العدوى, الأسماك, التعفن, البرودة, الجراثيم, الصبر, الوجه, التمييز, العرق, الغرف, الجدة, البدن, التغذية, الأطعمة, السمك, تساعدني, الأطباق, السلطة, الزيتون, الفينة, البرتقالة, الصحون, المدفع, الانتهاء, الأقارب, السهرة, الفصول, السنة, الحرارة, الشتاء, الثلج, الجبال, البرد, البراعم, الفراشات, الأزهار, الزرع, الشواطئ, الطباشير, الكتابة, الجدار, الشكل, الصحراء, العطشان, البئر, الخصب, الجدب, الدنيا, الرب, الطلق, الطقس, البيئة, الأستاذة, الأسباب, الغابة, الدخان, التنفس, الساقية, التلوث, الظل, الانجراف, الأزبال, القمامات, الدعسوقة, المن, الذباب, الشجيرات, الغضة, الدعسوقات, الأثر, الحشرات, التربية, المكوث, الحوض, الصابون, الأناشيد, المياه, السدادة, البالوعة, الصنبور, الأوراق, الميدالية, الأضرار, النار, الشجرة, الاستمرار, المحافظة, السفر, أعرفه, المغامرات, المزرعة, الشباب, العودة, الغرفة, الرف, الزاوية, الجنينة, الحمد, الضيعة, الرحلة, الاساتذة, العوم, البحر, الزوال, الجرف, الملاحة, السفن, البضائع, الأرصفة, العملاقة, المعامل, العمال, الجميله, الخميله, السبع, الطبع, الوساده, الحزوره, الملابس, الأسنان, القبعة, النقل, الضواحي, الخيام, الأفرشة, الألحان, العليل, العلم, الفطور, القيلولة, البصر, الوداع, السندباد, التجارة, التجار, البحار, الأيام, الربان, الأعماق, الركاب, الهلاك, الجزر, الرمل, البضاعة, الغرق, الأهل, الرضاعة, الديك, الذيل, العيش, السباحة, الأرنب, الإختيار, الثعلب, اللعبة, الكلب, العربة, الاختباء, السور, الحراسة, الزرافة, الضحك, الطاولة, القلم, الممحاة, الورقة, اللون, الليلة, الإسكيمو, المطار, الفضاء, الشمال, الوصول, السحب, الرؤية, الضباب, النجاة, الأكوام, الكهرباء, النوافذ, الأثاث, السوق, الكنبات, الستائر, المكتب, التخفيضات, الأسواق, العنوان, الأخوان, الرسالة, الفراش, البهو, الفرحة, الزغاريد, المهد, الشكلاطة, الوجبات, التحيات, السقيفة, الجدران, الناقوس, العيون, الجرس, الفنون, الرسم, الموسيقى, الجواب, التمثيل, الخشبة, البنات, الحبل, المنديل, الأركان, القطار, الفتى, اليدين, العلوم, المكتبة, الحقيبة, البيض, الزبدة, المقدونس, المقلاة, الخليط, العجة, الملح, المحفظة, الخطى, الثياب, المشجب, الكرز, القدر, الأنشطة, الصرار, السبورة, الحروف, المتحف, القرود, الدببة, القطط, الفئران, الدمى, الحجرة, النهضة, الحفر, الإغلاق, الرجال, المتاجربمختلف, الأيادي, الفتيان, الجبل, النغمات, اليها, البيطار, القبلة, الساعد, البلاد, الحصاد, البشر, الخزانة, البساط, القطع, المسامير, النجارة, الألواح, الثمن, الأسئلة, الفوطة, الفرشة, الطفلان, الحقيبتين, الجداول, الأعشاب, المراعي, المعمل, السنونو, الغياب, الرسوم, الحلواء, المقادير, الأحواض, الأغنية, الأغاني, الإذاعات, الحفلات, العزف, الكمان, البيان, الطبول, البرق, الرعد, الأمطار, القطرات, الابار, السيول, الغيوم, الخنيفساء, القز, الأغصان, الخيوط, الفراشة, الحبوب, الرحيق, الصرصار, الثرثار, العنكبوت, المصيدة, العصفورة, الفستان, الخضر, الطماطم, الفلفل, البطاطس, اللوبياء, اليرقات, الحرباء, الأمل, السهل, النماء, التلال, الغلال, السدرة, اللبن, الجراء, الكلبة, الذرة, الأكياس, الذهب, الحقل, المخزن, الكلاب, الذئاب, الحركة, المعركة, اللصوص, الى, الحلوى, الروائح, الغذاء, الصيد, الأحد, الطعم, الصنارة, الأصداف, السمكة, الصبح, الأفق, الزهر, السواقي, الأسد, اللبؤة, الأرانب, السناجب, الوعول, الفهود, الاقتراب, القنفذ, الوحوش, القنيفذ, الصخرة, الوحدة, اللوزتين, اللقاء, الزيارة, الإنعاش, الفحص, السكانير, الأمعاء, الصدر, العشاء, المشرق, الشعير, الرغائف, الشاي, العدس, اللحوم, الموسم, النساء, الكعكة, النحل, الفريقان, المرمى, الهجوم, الجمهور, المقابلة, الشيق, القرد, القرن, الفيل, الإصابات, السنجاب, الغيل, القشور, اللذيذة, النظافة, البرتقال, الألم, القامة, السقم, الملاك, الرجاء, الفحوص, الملل, حلقه, الدجاجات, اليمامة, اللقلاق, الرقطاء, البقرة, الفلاحة, الطحان, المروحة, الرحى, الحصادون, الحبة, العصافير, الكتاكيت, الفول, الدروس, الدراهم, الحصالة, الخمسين, البرج, الحسبان, النسور, القامات, العضلات, الأجساد, الشجعان, الأمم, القمم, الثلوج, الزروع, المشهد, الأمواج, الرمال, المتاجر, البناية, المسجد, الأثواب, الأبراج, الانسات, العروسات, الخياطة, الصوف, الزرابي, الجيران, الحكايات, الاثنين, الجلاليب, الجمعة, السبت, الأغطية, الفطير, الطبق, الة, الصويرات, العظام, الكلسيوم, المفاصل, الذراع, الكتف, الساق, الورك, الأوتار, الاحتفاظ, الدعوة, الحفلة, التوأمان, الضيوف, الضيف, الأقنعة, المفاجأة, التصفيقات, الزيت, القصعة, السكر, الصبية, الوجوه, البيوت, القلوب, التهنئة, الأراجيح, النشيد, الزمن, الظبي, المروج, العشب, المسكن, العرس, الزفاف, الشرط, الغزالة, الندى, الغزلان, الهدايا, الحمار, الحصان, العرائس, العقيق, العلب, الدوم, اللوز, الحمائم, السعد, التدافع, الصفراء, الحشائش, الحين, الدواب, الدجاج, القنية, السياج, الأنترنيت, الفأرة, المشاهد, الموقع, الصفائح, الشرائح, الأيدي, المقعد, الانتظار, الجيوب, التفرج, العرض, القياس, السراويل, الغصون, الصاروخ, القط, الفأر, المطاردة, الظلام, النعاس, الوطواط, المركبة, المراكز, المحطات, الأبواق, التلفزات, الرادارات, التحريات, العصيدة, الفيران, الصيحات, الصواريخ, المنام, الكرام, البدء, المغسل, المائدة, النافدة, الحديقة, الرصيف, الاباء, الطريق, المناظر, النافذة, الحبور, الحفل, الأعشاش, الجميع, الدفاتر, الرفوف, الصوان, الدرج, المشروبات, القنينات, الأغراس, الأصدقاء, الموز, الوقوف, الهاتف, القمامة, الفلاحون, الخروج, الأنغام, الحضور, الجري, الصديقان, الخضروات, الطفلين, الفريق, اللاعبين, الميدان, الاستعداد, للنزهة, العصير, المتجر, الغلاف, الاستهلاك, النزهة, السباق, المنتزه, الرغيف, الطفولة, الصحاب, الدكان, الشجيرة, البقال, الجراب, المتسول, الجوزة, الأبوان, القطعتان, الأضحى, المبارك, الأضحية, التهاني, البغل, الدفوف, الختان, الفرسان, البارود, الفطر, المنى, الهنا, السيارات, البخار, العلماء, البنزين, السائقين, المدينة, الدراجة, المقود, الوالد, الشارع, الفرامل, الحاجبين, الكرتين, السطل, الكل, الأذنان, الرأس, اللوحة, الشاطئ, القصر, الجريدة, السرطان, ألا, التفتت, خاطبتها, ماذا, القران, كله, أين, قرأت, الكريم, الصباغة, المحيا, الحجلة, الغميضة, الخلف, الخصوبة, الصفاء, الغموض, المظهر, الخط, الولد, الذراعين, الهدف, الأن, الجار, الدخول, الخبر, الابن, القديرا, الكبيرا, الصغيرا, الحزين, الضريرا, الفقيرا, المصابا, الضميرا, الصعاب, العطل, الخضارين, الحدادين, المطاعم, النمل, المؤونة, الإزعاج, البركة, البرك, الوراء, السنبلات, الثلاث, النعمان, الخوافة, التأخر, المئذنة, النهر, الخطر, الفاصوليا, التراب, البرعم, القرون, الفل, العناية, الشجره, النشرة, الحلزون, الضوء, الصديقين, الغطاء, البراد, المغلى, البغرير, الغزال, التسوق, التوابل, القفة, شئت, التبن, القوى, الأبطال, البطولات, يتجنب, الوقاية, العلاج, الشجاعة, الحفرة, السلالم, النزول, الحقن, الأفلام, الاعتماد, التغيير, الصواب, الإرادة, التلف, الدواوير, الأوقات, الصور, النص, الأدوار, الإقبال, الاتحاد, الثلاثة, العصي, العمارة, الكنس, الطفلات, الزراعة, التمني, الصغيرة, الفصل, السرور, المسيرة, الإسبان, التحضير, لخلط, الوعاء, استعمل, لرق, المسطحة, الدائري, ثم, الذهبي, ساخنة, أو, المطهوة, الحريرة, الثواب, المساجد, الركعات, الإمام, الاطفال, البهجة, الصغرى, الدمية, السوار, المحبة, الثوب, الحرب, الاستغراب, الجن, العملاق, العدد, الحرف, الأسماء, الشيخ, المتطفل, المكانة, الحجم, الوزن, الآلة, الحساب, الالة, القول, الشاشات, الأعضاء, اليد, الظهر, التعلم, القمر, الْمَكْتَبَةِ, الطِّفْلُ, الْاسْتِطْلَاعَ, اللَّوْحَةِ, النُّورِ, الْقِرَاءَةَ, الْعَامِ, الْآنَ, الْكِتَابَا, الْعَدَّ, الْخَطِّ, الرَّسْمُ, الْعَمَلَ, الْقَلَمِ, الْخُطُوطَ, الْبَيْتِ, الْأَرْضَ, الْمَلَابِسَ, الْغُبَارَ, الْمَاءَ, الْحَبْلِ, الْبَرْدُ, الْمَطَرَ, الْأَشْجَارَ, الدَّجَاجَ, الْخُمِّ, الدِّيكُ, السَّمَاءِ, الشَّيْءَ, الثَّلْجِ, الْمَطَرُ, الشَّجَرَ, الثَّمَرْ, الزَّهْرُ, الْمَطَرْ, الشَّجَرْ, الزَّهَرْ, اللَّيْلُ, الطِّفْلِ, الطَّاوِلَةِ, الْبَيْتَ, اللَّعِبِ, النَّوْمُ, الصَّبَاحِ, الشَّمْسُ, النَّافِذَةَ, الْأَشْيَاءَ, الشَّمْشُ, النَّافِذَةِ, النَّوْمِ, النَّاسَ, الْمَخَازِنِ, الْمَعَامِلِ, الْوَقْتِ, الْأُمُّ, السَّاعَةِ, الْأَطْبَاقَ, الْأَرْضِ, الْمَنْزِلِ, الْمَطْبَخِ, الدُّمَى, اللَّيْلِ, الْمَنَامَاتِ, السَّرِيرِ, الدَّارُ, التَّلِّ, الْأَقَاحِي, الرِّيفِ, الشَّمْسِ, الْأَقَاحِيَ, التَّلَّ, الدَّارِ, الْأُمَّ, الْعُرَيْبَةِ, الْحَدِيقَةِ, الصُّوفَ, الْأَوْلَادُ, الْأَبَ, الْمَنْزِلَ, اللَّيَالِي, الدَّاءُ, السَّبَبِ, الْقَلْبِ, الْمَدِينَةِ, الشَّوَارِعِ, الرَّصِيفِ, الطُّرُقِ, الْأَطْفَالُ, الشَّوَارِع, الطَّرِيقِ, النَّاسِ, الشُّرْطِيُّ, الْأَزْرَارَ, الشُّرْطِيِّ, الْأَزْرَارِ, الصَّقِيلَةِ, الشَّارِعَ, الْمَلْعَبِ, الْبُسْتَانِ, النَّهَارِ, النَّاسُ, اللَّبَّانُ, الزُّجَاجَاتُ, الزُّجَاجَاتِ, الْبُيُوتِ, اللَّبَنَ, اللَّبَّانَ, الْأَسِّرَةِ, التِّلِفُونِ, الْأَسِرَّةِ, الطَّبِيبَ, الطَّبِيبُ, الدَّوَاءَ, الْحَرَارَةِ, اللهُ, الدُّكَّانُ, الْهَاتِفُ, الْمُذَكِّرَةِ, الدُّكَّانَ, الْبِضَاعَةَ, الدُّكَّانِ, الْهَاتِفِ, الْإِطْفَاءِ, النَّارِيِّ, النَّارُ, الْحَشَائِشِ, النَّدَى, الْمَدْرَسَةِ, الْحَقْلِ, الْأَرْنَبُ, النَّهْرِ, الْجِسْرِ, الْأَرْنَبْ, الجِسْرِ, اللَّهْ, الْعُمْرِ, الْأُقْحُوَانِ, الْبِنْتُ, الرَّجُلُ, التُّفَّاحِ, الرِّيَاضِ, الْفَرَاشَاتِ, الْيَوْمِ, الْوَلَدُ, الْأَزْهَارَ, الْوَلَدَ, النَّسِيمِ, الْمَكَانَ, الدُّنْيَا, الْعَصَافِيرٍ, الْعُصْفُورَةُ, الْغُصُونِ, الْبَيْضُ, الْأَكْلَ, الْعَصَافِيرِ, المَسَاءِ, الْعَمَلِ, الْعُصْفُورُ, الحَدِيقَةِ, الطَّيَرَانَ, الْغُصْنِ, الْعُصْفُورِ, السَّيَّارَةُ, الْوُقُوفِ, الْمُرُورِ, الْمُسْتَوْدَعِ, الطَّائِرَةُ, الطَّائِرَةِ, الْمُسَافِرِينَ, الْبَرِيدَ, الطُّرُودَ, الْقِطَارُ, النفق, المحطة, المسافرون, السِّكَّةِ, النَّفَقِ, السَّوَادَ, الضَّوْءِ, الْمَحَطَّةِ, الْمُسَافِرُونَ, الْبَحْرُ, الشَّاطِئَ, الرَّمْلِ, الْبَحْرِ, الشَّاطِئُ, الرَّمْلُ, الْيَوْمُ, الشَّاطِئِ, الْأَزْرَقَ, الْأَمْوَاجَ, الْبَحْرَ, الْمُحِيطَ, الْمَاءِ, الرِّمَالَ, الْأَمْوَاجِ, الرِّمَالِ, الضُّحَى, الْحَيَوَانِ, الْإِنْسَانِ, الْعُودَ, الْأَعْمَالِ, الصَّيْفِ, التَّسْلِيَةِ, الْمَدْرَسَةُ, الْعُطْلَةَ, الصَّيْفُ, الْأَطْفَالِ, الْعُطْلَةُ, الْأَطْفَالَ, الْمَزَارِعِ, الْعُطْلَةِ, الْحِكَايَةَ, الْبَطَّةُ, الدَّجَاجَةُ, الْحَبَّةَ, الْقَمْحَ, الْعَجِينَ, الْخُبْزَ\n",
            "\n",
            "POS Tag: DNo Compa\n",
            "Words: الأول, الخير, الشر, الأرحب, الأثمن, بإتقان, الْأَوَّلِ, الْأَوَّلُ\n",
            "\n",
            "POS Tag: DNoRP\n",
            "Words: التي, الذين, الذي, اللواتي, اللذان, الَّذِي, الَّتِي, الَّذِينَ\n",
            "\n",
            "POS Tag: DSifa\n",
            "Words: المدرسية, الواجب, الثالثة, العثماني, المصحف, الجميع, الكريمتين, التاليتين, الأصدقاء, الواسعة, الصبي, الصغير, الخفيفة, الرقيقة, اللذيذ, الحرية, الحبيب, الطيبة, السبيل, المدفأة, الصيدلية, الوطنية, الخامس, المستشفيات, الغذائية, الإنساني, النبيل, السعيد, الجائع, العاري, المحزون, المكافحة, الصغيرة, النظيفة, الوالدين, السعيدة, الرفيع, النحاسية, الفضية, الذهبية, الموالي, المجاورة, القديمة, المغربية, الشاسعة, الأوداية, الفخارية, العجينة, الانية, الصغيرتين, الشاحبتين, الرشيقة, اللماعة, النشيطة, الدقيق, العجين, الدافئة, الحمامة, الضعيفة, الجارف, الصياد, المصروف, الميزانية, الخاصة, الضرورية, السابقة, الخاص, الصيفية, القادمة, النتيجة, الصحيحة, السليمة, الخضراء, الزرقاء, الأخرى, المائدة, السجادة, الاتي, الحاكم, الثاني, المعلمين, المهندسون, الحاكمان, العارية, المصنوعة, الملونة, الثامنة, الحادي, الرابع, الابتدائي, الدراسية, المدينة, المدير, المهمة, الواحد, الحديث, الفني, المثلثات, الثقيل, المعلم, الهوائية, الطائرة, الورقية, الطائرات, المخترعين, القوية, أدخلهما, أبوهما, الشراعية, السيارات, العربي, العجيب, النبوي, المغاربة, الرسول, البنكية, السري, المطلوبة, الرصيد, المقابل, العملية, العمليات, الإلكتروني, الكهربائية, الطريق, اليومية, النافعة, الكثيرة, المستقبل, الآلي, الالي, البسيط, الكثير, الشمسية, الميكانيكية, الصادرة, الناجح, العلماء, الخطيرة, السريع, المجتمع, الصناعي, المحدد, المجاور, الطبيب, الإلكترونية, السليم, المشروبات, العاجل, الأخيرة, التقليدية, الفكرية, العنيفة, المهندس, التاسعة, المجسمة, المكعبات, الهندسية, الجميلة, الأولية, الباقية, العمومية, العظيم, العالية, الدليل, الممرضة, الناصعة, البياض, المسلية, المستشفى, الجراحون, الأطباء, الطبية, الصحية, البسيطة, المتعلقة, التعاونية, الناجحة, السيد, المشروع, الحليب, الإجتماعية, الساكنة, الفلاح, النجار, المنشار, الحديد, المدافع, المهني, اللازمة, الشاب, البريد, الأمين, الربيع, الباكر, الكبيرة, الي, المرجوعات, الشرطي, الرسمي, الأسبقية, اليمين, الضوئية, الراجلون, المخصصة, المواطنين, الوطني, الرياضية, المحلية, المتميزة, الماضي, الموظف, المدنية, السرير, العلمي, المفيدة, الحقيقي, المدرب, النهائية, المهم, الفريق, الرياضيون, الحقيقيون, الجماعية, المستطيلة, المصابين, النظيف, الشعبي, المنتشرين, المشوي, الجيد, الغاضب, الحارة, الفائدة, الجليلة, الشهية, المريض, العسير, العجوز, العام, الدسم, الفائحة, المقلي, اللامع, الفواحة, المؤذن, الأولى, الخريف, الذابلة, اللافتة, الحائط, الحمراء, المناسب, المفترسة, الوادي, المختلط, السامة, المفضل, المزروعات, المبيدات, السلبي, الضارة, البدنية, الحمام, المتدلية, المجتمعون, النادي, الجديدة, القروية, الناتجة, الجائزة, البعيدة, الخارج, السيارة, العتيق, الخشبي, الشاطئ, المحيط, الأطلسي, الماهرين, المالح, المظلات, المسؤولين, الميناء, الفوسفاطية, المستوردة, الرافعات, التابعة, المخيم, العمومي, التربوية, المختلفة, الأخير, الممتعة, الرحيل, المركب, السفينة, الجزيرة, الفاكهة, النحيل, الملون, النائمين, الطويل, الجاثم, العزيز, الطبيعي, الطيار, الدائمة, العاصفة, الثلجية, الجديد, المزينة, الدراجة, المقبل, الحلويات, السابعة, المربية, الحديقة, القديم, الكهربائي, اللطيف, الكريم, البحري, المتنوعة, العجيبة, المبلل, المحافظ, المطرية, المساط, البلدية, المنحدر, القصبي, الماعزة, الكبير, البعيد, المفتول, النظارات, الناقلة, النافذة, الأغنيات, المعدنية, المشرف, المشوقة, الفنية, الخلابة, الحرير, الحريرية, الطنانة, السمراء, الميال, الجراء, الشقي, الفسيلة, الخامسة, السادسة, الحافلة, المستعجلات, المبكر, المجفف, الهجومات, الزائر, الحارس, الفريقين, اللاعبين, الوحشي, الشارع, المهملات, الامي, الكرسي, الجميل, الصداح, البرسيم, الحصادين, النقدية, المارة, الحافلات, الفائزين, المتحمسين, المنتصبة, الناظر, الصيادين, الطرية, النسيم, المشاهد, الزاهية, النخيل, الجارات, الصديقان, المرفقة, الأساسية, المتوازنة, المدعوون, القناعين, الأماني, الصحاب, القريب, الولهان, اللائق, الدافئ, العريس, الغدير, الناظرين, الحصان, الغبار, الشابات, الصغيرات, الملفوفة, المسلوق, الصافية, المجسمات, المتحركة, الحوامل, الزجاجية, الشريط, المزيد, المازني, المراة, الخياط, الثانية, النضرة, الطيارة, المسكين, الفضائية, الحاسبات, البيضاء, الأصفر, الأسمر, المدرجات, المتفرجون, المضيف, الآخران, البقال, الفقير, الذهبيتان, العيدية, الفلاحون, المزركشة, الصغيران, الغريب, المحدودة, المفرطة, الفريدة, المتقاطعة, فأجابه, البخور, الجيلالي, تعال, التشكيلية, الحر, المجموعة, المحترمة, المراقب, السيدة, الحرة, المصورة, المنشطة, الفائز, الخاسر, المفضلة, المنصور, الطائر, النافدة, الحاج, الابتدائية, المهنئين, الحاضرون, البار, الثمين, البادية, المزروعة, المخضرة, البدويون, الأسبوعي, الحلاقين, الشواء, الفاسدة, المأكولات, القروي, الطبيعة, الفسيح, الملوث, السوداء, الصافي, المتفتحة, الآخرين, الداني, الجوية, المطويين, البري, المذياع, الرغيف, المغذية, الساحرة, الشريرة, العالمية, المكشوفة, القريبة, المسؤول, الخطاف, العديد, التلميذات, المحددة, المسرحية, اللازم, الأمية, الخادمة, الموجودة, العاملات, المدرسين, العامل, المرتفعة, الشديدة, السادس, المتطوعون, والملح, على, إلى, لنقل, الاول, الغامق, كرر, المسلمون, المعظم, السابع, المصلون, الفقراء, المعلومات, الغريبة, الثقيلة, الطويلة, الهاتف, الثابت, المحمول, المغرور, الحاسبة, المتفوقة, الالكترونية, المعقدة, الْمُكَلَّفَةُ, السُّوسِي, الْأُمِّي, الْمَارُّونَ, السَّادِسِ, الرَّدِيئَةِ, الْغَسِيلِ, الصُّوفِيَّةِ, الصُّوفِيَّةَ, الْعَالِيَةِ, الصَّغِيرَةُ, الْجَمِيلَةَ, الْبَيْضَاءَ, الْكَبِيرَ, الصَّغِيرَةِ, الْجَمِيلَةِ, الْكَرِيمِ, اللَّامِعَةِ, النَّاصِعِ, اللَّذِيذَ, الْمُمَرِّضَتَانِ, الْمُمَرِّضَةُ, الْمُمَرِّضَةَ, الْمَرِيضَةَ, الصَّغٍيرُ, الْمَرِيضَ, الصَّغِيرُ, الصِّغَارِ, الْعَمِيلِ, الْأَعِزَّاءُ, الرَّبِيعُ, الْعَجُوزُ, الْهَزَارُ, الْمُخْضَرَّةِ, الرَّبِيعِ, الْبَاكِرِ, الصَّغِيرِ, الْمَدِينَةِ, الْخَفِيفَةَ, الْكَبِيرَةِ, النَّاعِمُ, الرَّمْلِيِّ, الْأَزْرَقَ, الْكَثِيرِ, الصَّافِيَة, الضَّعِيفُ, الصَّيْفِيَّةِ, الرُّومِيُّ, الشَّغَّالَةُ\n",
            "\n",
            "POS Tag: Dz\n",
            "Words: أمام, حينما, فوق, حيث, قبل, عندما, مع, هنا, دون, هناك, تحت, بعدما, إذ, عند, ثم, لدى, بينما, بدون, لدي, عبر, قرب, نحو, وسط, خلف, جانب, وراء, داخل, بعد, مند, خلال, الجبن, عِنْدَ, فَوْقَ, ثُمَّ, دَاخِلَ, تَحْتَ, قَبْلَ, هُنَا, عِنْدَمَا, نَحْوَ, عِنْدِ, بَيْنَ, بَعْدَ, مَعَ, أَمَامَ\n",
            "\n",
            "POS Tag: Dz.S\n",
            "Words: عندك, معه, عندئذ, معها, عندي, معي, معهم, أمامه, معنا, عندهم, معك, لدي, أمامك, عندنا, أمامهم, معكم, لدينا, لديك, مَعِي, عِنْدَهُ, عِنْدِي, عِنْدَهَا, مَعَكْ, دَاخِلِهِ, أَمَامَهُ, مَعَهَا\n",
            "\n",
            "POS Tag: Ex\n",
            "Words: إلا, إِلَّا\n",
            "\n",
            "POS Tag: Ha.NoDP\n",
            "Words: ههنا\n",
            "\n",
            "POS Tag: InteP.No P.No\n",
            "Words: أزرع, أطعم, أتابع, ألعابا, أتصفح, السر, أطفئ, أميل, أتمايل, أتثاءب, أزهارا, أروي, أجذف, أتسلم, أمحو, أشجارا, أرتب, أبحث, أكتفي, أدفع, أسبوعان, أشواقا, أطيار, أزور, أخمش, أغسل, أنسج, أنالا, أنصت, أنموا, أشتري, أمشط, أغمضي, أو, أربعون, أنهض\n",
            "\n",
            "POS Tag: InteP.No.S P.No.S\n",
            "Words: أحضانك, أعطتهم, ألعابهم, أسمائهم, أجذبها, إلى, أجبته, أجبتها, أخلصكم, أوقدتها, أمتعتنا, أنشطتنا, أمسكه, ألعابه, أفرشتنا, أشجارها, أقضي, أعرفك, أتباها, أنظري, أفراحهم, أبناءه, أساعدها, ألعابكم, أَخْبِزُهُ\n",
            "\n",
            "POS Tag: InteP.No.S P.No.S Compa\n",
            "Words: أسفله\n",
            "\n",
            "POS Tag: InteP.NoDP P.NoDP\n",
            "Words: أهذا\n",
            "\n",
            "POS Tag: InteP.Ns P.Ns\n",
            "Words: أما\n",
            "\n",
            "POS Tag: InteP.P.DNo.Conj P.P.DNo\n",
            "Words: أوالشعير, أوالفول\n",
            "\n",
            "POS Tag: InteP.Sifa P.Sifa\n",
            "Words: أمطروني, أبطالا, أعزائي, أطال, أكواما\n",
            "\n",
            "POS Tag: InteP.Sifa.S P.Sifa.S\n",
            "Words: أحفاده\n",
            "\n",
            "POS Tag: InteP.VeP P.VeP\n",
            "Words: أستريح, أنرت, أترغب, أتريد\n",
            "\n",
            "POS Tag: InteP.VeP.S P.VeP.S\n",
            "Words: أَتَعْرِفُونَ\n",
            "\n",
            "POS Tag: InteP.VeP.S.O P.VeP.S.O\n",
            "Words: أتريدين\n",
            "\n",
            "POS Tag: InteP.VePa P.VePa\n",
            "Words: أساعد, أسابق, أتحدى, أسقي, أحط, أتسلى, أغمضت, أصفف, ألفت, أشاهد, أحضر, أعددت, أطلعت, أخدت, أخد, أحقا\n",
            "\n",
            "POS Tag: InteP.VePa P.VePa nasikh\n",
            "Words: أليست, أليس\n",
            "\n",
            "POS Tag: InteP.VePa.O P.VePa.O\n",
            "Words: أعطتني, أسقيها\n",
            "\n",
            "POS Tag: InteP.VePa.S P.VePa.S\n",
            "Words: ألست, أرأيتم, أرأيت\n",
            "\n",
            "POS Tag: InteP.VePa.S.O P.VePa.S.O\n",
            "Words: أنقذوني, أفزعني\n",
            "\n",
            "POS Tag: Interj\n",
            "Words: يا, أيها, أيتها, هيا, ويا, يَا\n",
            "\n",
            "POS Tag: La\n",
            "Words: فلا, ولا, لا, ألا, بلا, لَا, فَلَا, وَلَا\n",
            "\n",
            "POS Tag: MaTrans\n",
            "Words: ما\n",
            "\n",
            "POS Tag: No\n",
            "Words: جناح, ماذا, حسنة, حفنة, جرعة, حبة, سراح, خصبة, ثمرة, سلحفاة, عمة, كالسلحفاة, إنسانا, ما, استجابة, حاجة, صبية, شواطئ, قصة, سنوات, أربعة, أطفال, أفراد, خيوط, نفقات, جهود, صندوق, ليلة, عادة, متحف, مكتظة, أوعية, ضخمة, عجينة, كتلة, أخرى, متناغمة, حركات, صورة, حية, زخارف, أشرطة, دجاجة, طيور, يأخد, إحدى, أمسيات, ضفة, ماء, استغاثة, صغيرتى, دفعة, أيام, عطلة, ذات, يوم, أصص, فكرة, ساحة, صداقة, شهور, مجلات, جملة, نظرات, أمة, كفة, خشيبة, حسنات, يد, ين, فتاة, غدير, قرية, هضبة, سارة, طفلة, سببا, ابنتها, شاء, أشياء, فرحة, إخوانا, امال, مدة, لعبة, حفلة, أيا, مدرسة, مدارس, مسابح, شجرة, صباحا, صباح, مواعيد, ستة, كيلومترات, مدى, أثناء, يوما, رفقة, تلاميذ, إسم, حصة, قصبة, ثلاثة, هيكل, مهب, مرة, أشعة, خطوات, غاية, تاريخ, رايت, سنة, لكنهما, شغوفين, صناعة, طيلة, أمتار, وقطعت, ثلاثين, مترا, عيد, نهاية, ملابس, محلات, شاشة, أرقام, ثوان, متى, اخر, إثارة, مشاكل, غرفة, ساعة, برامج, أوقات, عناصر, أنواع, أنواعا, مضار, قصرة, لحظة, حدائقها, فسحة, علبة, بيوتا, كومة, طبقات, ذو, أسرة, نزلاء, قاعة, ملائكة, رجال, سبعة, آلات, مرافق, أنشطة, ظروف, مركز, أسابيع, سمعة, مثلما, أمطار, أبواب, قانون, خدمات, عدد, بنتا, مكتب, اسم, باب, نهار, والفيتامينات, إضافة, زكرياة, تفاحة, كرتي, جراح, أعضاء, شهيرون, معنويات, حالا, عددا, أساس, حفيدتها, كرسيا, وجبات, حال, رأتني, طلقة, زهرة, يوليوز, أعشاب, أعماق, قطرات, غابة, ظليلة, أستاذتها, تغيراليوم, أستاذة, مياها, مرحبا, أية, شجيرة, حشرات, حشرة, هشة, طرية, افة, قطرة, عريش, نشيد, أسبوع, صناديق, صنوبر, توعية, عنة, أساتذة, أستاذات, ثمانية, ثلاث, ساعات, مناظر, شروحا, معامل, زحزح, دار, إفران, بقعة, سهرات, سندباد, جماعة, ريحا, عندم, بضائع, بضاعة, ذي, هوايتي, موزة, عربة, حيوانات, مبعتدة, جزيرتي, أي, خطوطا, لون, عادات, ريح, ذرات, قلوب, عجلات, سلمى, غرفتان, كببر, صنابير, أجنحة, أرائك, كنزة, عماذا, أحلام, أحلامي, قبلات, يهنئونها, خمسة, ملاحظا, زجاج, مشهد, شغوف, حلقة, كالغميضة, إشارة, نظرة, مازلت, سانفع, ينشئوا, مكتبة, معى, لمجة, ست, بيضات, قبيل, سقيفة, حيوان, كواتاكو, كألأقزام, حاسوب, روالأقلام, امرأة, أزقة, محكمة, بداية, سواعد, مسرح, قبة, نغمات, أجسام, وبدات, بيطار, جسم, نعجة, ثمر, طبقة, كرسيان, تحفة, قميصا, تارة, قمم, معمل, قنينة, أحجارا, عذاب, لوحات, حلواء, لذيذة, أحواضا, بذورا, شتائل, محراث, ريشتي, دودة, غطاء, فلة, فستان, ابنة, أحواض, زريبة, جرو, كلبة, ذئبة, كيزان, حبات, هدأة, أقدام, معركة, اثار, سلة, قهوة, رفيقت, أسماكا, زعانفها, لبؤة, أشبال, مهزلة, حفرة, امنة, انسة, راديو, كسرة, بيضة, حريرة, أشهى, مرات, تين, عنب, نحلة, ابنى, كرة, خرطوم, جهة, فول, حجرة, رنات, فئة, نتائج, مال, متجر, اثنان, كقطيط, مصنع, سهولا, قوارب, رسوم, خدوج, عقيقة, للا, نمولة, منسجي, صلاة, احطاب, أرطاب, رخوا, عظام, أخذت, جو, مظاهر, عبارات, اهلها, أكلات, خميلة, ظلة, عقودا, جواهر, مساحيق, حمارا, حمار, رأت, صهوة, إلا, حسناء, عقود, صبيانا, سراويل, صدرة, امام, أعئدكم, بنون, درهمين, مواقع, طاولة, فرصة, ثقبة, أرجوحتي, مابين, نزار, عيون, صاروخا, عصافير, صاروخ, بستان, تفاح, تيتشمم, محطات, حالة, طوارئ, شاشات, جدوى, معهدا, الصباح, بنت, صديق, عصفورا, كيف, الأم, توتو, سمسم, نصيحة, يمينا, محفظة, بعض, كتب, الطريق, حافة, أب, نافذة, قصصا, رسوما, كلمات, أقلام, طباشير, أصدقاء, أناشيد, بهجة, حفل, ممرات, أصواتا, مجموعة, رسومات, لافتات, منبع, نظافة, جنتي, الحي, سرب, حينا, خطاطيف, شحارير, العودة, ذكريات, مجموعات, طفل, رفاق, أم, أنف, آي, حديقة, مباراة, قريتي, أرض, ربع, ورود, ألوان, جوانب, قشرة, صراخ, سميرا, سكان, وقت, شريطا, ضفاف, ثوران, الأطفال, نباتات, لوحة, نصائح, فائدة, أشجار, تلميذ, ورق, بيئة, ضيف, ابن, سباقا, لوجبة, طبق, كسكس, وجبة, لحم, ملعب, مساء, والد, أنصار, هتاف, لحظات, حكم, بذلة, نزهة, مأكولات, حصيرا, علب, شكولاطة, صاحب, كتابات, صلاحية, غشت, عائلة, تعب, مكان, بطلان, فجأة, نداء, خبزا, معهد, حكاية, طفلا, نقود, عسل, عصا, نقودا, جراب, رغيفا, منديل, طلب, رجلا, جوزة, دهشة, قطعتان, جميعا, كبش, ألحانا, خضرا, شجرا, عود, هلا, مطر, ظهر, ظل, مناسبة, نساء, زغاريد, أغاني, بختان, جلبابا, طربوشا, هدايا, مخفظة, موسم, محاصيل, ألعابا, ظهور, جياد, عيدان, أفراحنا, وطن, سباق, شكل, محرك, خطر, علامات, مفاجأة, دراجة, إطار, بدر, ورقة, عفريت, نفريت, شاطئ, مجلة, وجه, وجها, لعب, الصحنين, صدفتين, سطل, أذن, التبان, قصرا, صوتا, قعر, همستي, أسرتي, يحين, اصبر, الأخبار, نتناول, صغيرة, طبخت, الليلة, حفظة, احفظ, آيات, من, مشتاق, نجمة, زهرات, خريق, مقلتيا, رضيا, إدارة, يتحصر, همسة, عصفور, دفتر, شعيبا, أستاذ, أطعمة, منازل, أصناف, شخص, منى, باقة, شقائق, فراشة, سبب, قمة, سمكة, ساق, أزهار, اثنتين, زهرتي, مندهشة, ماهذا, حلويات, راية, تجربة, أنياب, اسمة, معنى, عناوين, ستائر, مندهشين, حزمة, قاعةالدرس, قيمة, جنة, مانحلم, ضحى, نونبر, كعكة, وقسم, لتأخذ, ساخنة, شهيا, زليفات, فتيات, بيوت, عشرة, دمية, إحتارت, سيوفا, عملاق, عميرش, مائة, كيلوغراما, قيمتي, سيدا, آلة, قنابل, أصابع, احتار, أهتمام, مَاذَا, مَازِلْتِ, عَمُودُ, لَوْحَةٌ, طِفْلٌ, جَعْبَتِي, بَهْلُولًا, أَشْغَالُ, أَعْمَالِ, لَوْحِ, عِمَةً, أُمُّ, ذَاتَ, صَبَاحٍ, مَرَّاتٍ, فَتَاةٌ, فَتَاةً, مَرَّةً, فَأْرًا, أَسِرَّةٌ, مَنَاظِرَ, فِضَّةٍ, ذَهَبٍ, أُمٌّ, دُعَاءَ, جِهَةٍ, يَوْمٍ, جَوَانِبِ, ذِي, زُجَاجَةً, عَرَبَةٍ, زُجَاجَةَ, لَبَنٍ, دَارِ, بَابِ, جَمِيعُ, شَاءَ, مُرَبَّى, تْرْرْرْنْ, سُكَّرًا, صَابُونًا, طَلَبَ, فِرْقَةُ, سَيَّارَةِ, فِرْقَةَ, بِرْمِيلٍ, مَنْزِلٍ, سَيَّارَةُ, أَسْمَاءَ, فَرَاشَةً, عُصْفُورًا, كَلْبًا, أَرْنَبًا, دِيكًا, قِطًّا, بَقَرَةٌ, مُو, كَأْسًا, صَوْتَ, حَظٌّ, مَتَى, أَزْهَارَ, شَجَرَةُ, شَجَرَةِ, أَزْهَارُ, فَصْلِ, زَهْرَةٍ, مَنْظَرُ, عُصْفُورَيْنِ, أَيَّامٍ, بَيْضَةٍ, كَتْكُوتٌ, وَقْتٌ, عُصْفُورَةً, مَرَّةٍ, طَيْرُ, جَنَاحٌ, ضَوَاحِي, سَيَّارَةٌ, مُسْتَوْدَعٍ, أَرْبَعُ, عَجَلَاتٍ, عَلَامَةِ, شُرْطِيِّ, نُزْهَةً, شُرْفَةِ, مَطَارِ, شعاعا, سَفْرَةٍ, شُعَاعًا, حَيَوَانَاتٍ, أُخْرَى, مَاءٌ, أَحْيَانًا, حَدِّ, مِثْلَ, جَمِيعِ, جِهَاتِ, شَمْسُ, صِحَّةً, شَمْشُ, صِغَارُ, غُصْنٍ, عُودًا, خَشَبٍ, حِمَارٌ, كَلَامَ, مُدَّةٍ, عُطْلَةُ, زَمَنُ, وَقْتُ, تَسْلِيَةٌ, كَلْبُ, عَوْ, أَثْنَاءَ, مَزْرَعَةٌ, أَيَّامِ, مُعَلِّمَةُ, حِكَايَةً, دَجَاجَةٌ, حَبَّةَ, قَمْحٍ\n",
            "\n",
            "POS Tag: No Compa\n",
            "Words: أعلى, أنظف, أَعْلَى\n",
            "\n",
            "POS Tag: No NounInfinit\n",
            "Words: مساء, منزل, كتابة, سورة, خزانة, إحسانا, أف, قولا, رب, أبو, أمر, معاملة, عم, أيضا, فرح, وقف, بين, ظل, أسلاك, تقليد, كيف, تبني, تكسر, أرض, حب, مهد, خصب, أنت, أولا, كل, خير, قوة, شيء, قطعة, حطب, تزحف, نحو, بنى, غير, مشقة, عنف, صحبة, دواء, ضد, دراهم, اقتناء, نعم, علاقة, رمز, بناء, هم, مساعدة, صغار, دموع, فضاء, محبس, بعض, أمور, رجلا, مثل, قرب, أجل, إسعاد, أول, طعام, عمل, عملا, مبلغا, بعد, توفير, كبر, جهد, أبناء, خشب, عرس, إهداء, قرى, حقا, تعلمين, شهادة, دوما, إعداد, قطع, تشكيل, تمام, قطعا, تطول, شيئا, وحل, تملسان, تشكيلي, مكان, تسحر, موعد, فناء, حبا, أنا, خبزا, نبع, صوت, مصدر, أحدا, مقاومة, غصنا, حسن, شرا, أبي, شهر, تحمل, تبذير, تقتير, وضع, ورقة, حسب, مدار, جزءا, دخل, خصوصا, شغف, تربية, طوال, لقاء, قراءة, وسط, بدء, وأمي, تبادل, فرحا, هدفا, أخذ, ميزانا, قبل, شكرا, أبدا, بعضا, عراك, أحد, تسلية, اختلاف, حقنا, تظلي, طرق, أسباب, تفكرين, حق, حقوق, طفل, شك, حياة, سلام, ثوب, تبدد, دمع, فضل, بلدان, حين, حل, أفخم, تعليم, بؤسا, فكر, خطة, أجور, كبارا, عشر, مكانا, مرور, جماعات, انتباه, تعلم, رعاية, وقت, تتابع, كم, سيرا, حر, سنة, نجاحا, صغر, سن, عينين, تعقد, نفس, رحلة, تصير, انتخاب, احتراما, أمرا, قدوم, مجلسا, سؤال, رفع, تناوب, سنا, ركن, أجزاء, ذيلا, حول, خلف, حينا, لهوا, اختراع, صنع, عنوان, كتاب, في, وبالرغم, أخذا, الطيور, ثلاثة, خلقا, إنجازا, عظيما, غد, غدا, شباك, بطاقة, فتحة, إدخال, رقما, أعداد, سحب, معرفة, ضغط, كتب, ئم, سر, خطإ, عقل, سوى, تماما, تزايد, اهتمام, استعمال, إيجاد, فرص, مرض, التهابا, كثرة, مشاهدة, أم, عقاب, علم, انتشار, ألعاب, تطوير, تدخل, ممارسة, شكر, ذكاء, جرس, محل, نصف, علب, اختيار, عرض, بيتا, سور, جمع, تصميما, عدة, شرفة, صفق, موهبة, حلم, تحيي, حرارة, قلق, تعقيم, دقة, سكان, تداوي, راحة, حفل, تأسيس, زراعة, أرباحا, نساء, تدبير, ربط, عيش, مهن, كدي, صنعتي, كتل, تجديد, شأن, نقودا, بضعة, فقط, مقعدا, جودة, فترة, جدا, أسماء, شمس, برد, ثلوج, خفة, رسالة, شوق, أخبار, كبار, عبور, رفق, وأمان, تنظيم, ضمان, أمن, تحقيق, زيارة, مرتين, عقد, ازدياد, تسجيل, بنت, سجلا, نقل, فزعا, ليل, قسطا, وجبة, درس, أمراض, غذاء, زمان, أغنى, نظرا, أملاح, حد, سواء, تنشطين, حرب, سوف, فوز, خيبة, أمل, كأس, ضرر, أرضا, سلامة, عدم, وجود, خطورة, مطعم, مقعد, سرعان, صحنا, رجل, تبسم, مسألة, تفيض, نظافة, أكل, إزاء, حنان, طبق, تنظيف, جلب, تعاونا, حكاية, تذبل, حزن, عمرا, فصل, فصول, أوراق, أغصان, فتح, مر, عماد, رد, تشوه, توجها, لوحة, صبحا, صحو, تغريد, تأثير, أخطار, أولاد, أحيانا, فك, تفتك, محاربة, حجم, حوض, شعر, تفضلي, إغلاق, نعمة, حي, أصحاب, خلال, غنى, أحداث, منظر, تلوث, احترام, جذع, عبارة, رجوع, وصول, أخبارا, غياب, تسع, إشراف, حركة, مساحات, دخول, دون, زمن, تودد, نقد, إرسالي, حلول, تجمع, بجولة, تغرد, نحيي, رسم, ليالي, بلد, عناء, فجأة, نوما, ربان, فورا, غرق, أمانة, خيرا, شوقا, فعل, بد, شرب, حك, رأس, نظر, إيقاظ, ذيل, نصب, أجر, رقبة, وراء, نبح, شدة, وجه, بغتة, تصور, قلم, ترفرف, جزر, بلاد, مسالك, هبوطا, أصواتا, أين, سعد, تعم, تعاون, كتبا, مفاجأة, جدتي, حضن, بدر, جددا, ترتيب, جدران, ملاحظة, طلاء, أشجار, عمر, خطابا, قصص, عجة, بيض, ملح, زهر, طير, قوتا, قصصا, تغني, أغنية, تحرك, تطارد, تودع, تفني, أكياس, إنجازات, تزيين, جنبا, جنب, تطلي, غرس, رياضة, ذهب, فحص, عمي, بقرة, غلة, درجا, وقتا, تلقي, تشرب, سطرا, طلوع, نجري, عذب, علها, عودة, صوتا, قلبا, ألحان, غناء, ألحانا, جوف, خرير, قوس, قزح, تكفين, ترحبين, تصنعين, تعطيني, وردة, بيت, تبحثين, بسمة, تطهر, ثمان, حقل, خشخشة, رأسا, جراء, نضج, قمحا, أهل, تخافين, همس, عطر, أقوى, غضب, سرور, رقم, قسم, خبز, لحم, شربة, تكفينا, خضر, جبن, أمس, عسلا, قلب, مراوغة, لمح, إصابات, إعلانا, انتهاء, مس, عنق, تلقف, بذلة, مثلا, طنينا, عيادة, ولد, شفاء, تناول, تحقق, بلل, نزهة, ترمي, برج, مباراة, بكاء, شبان, ركب, جبالا, جبال, خط, خطا, زرقة, تصبغ, توسع, علما, تصبير, عقول, تغزل, درب, زوج, تصلي, فطيرا, أعواد, أماكن, تقولين, تسمحين, لبس, عفوا, تمثيل, خلع, قصعة, تدير, صحوا, بهجة, تردد, أهلا, بساطا, تحديد, حصان, شجاع, نفض, ثبات, دمى, لعبا, لكا, بكا, تحيتي, هديتي, زهور, ورود, برسيم, عشب, خم, خمنا, رضا, درهما, موقع, اختراعات, تمعن, أيدي, تهامس, صور, سعدان, أشهر, عودتي, يدي, ترسلان, وسناء, طر, خروج, قط, ظن, فأر, ترصد, كوكب, اتصالات, قطط, وفاق, فأرا, تحية, خطبة, نداء, مصاحبة, وداعا, أدب, طرب, أدبا, رسما, صفاء, مدخل, انطلاق, دور, كفاية, ممرا, جوزا, ذهبا, حضور, ركوب, منهما, المسلسل, العشاء, حساء, إمام, حفلا, وعمي, وعمتي, سورا, حفظوا, المصحف, من, الأعلى, لي, يوم, رقية, مت, رؤية, بجد, عليا, كما, سمع, طفلا, حوار, قضاء, ملأ, تأخير, قلما, ولدا, كلام, أذنين, لمس, صيد, تسلل, اصطياد, حط, خطأ, جولة, نقض, تذاكر, بشرى, معالجة, مقر, عونا, عطاء, حرث, وري, خيام, دخان, بضع, جحر, خوف, بركة, أرنا, تأهب, تراجع, سنبلة, تصفر, سنبلات, لقلاقا, ريش, نهر, أسماك, خوفا, أعداء, جذر, سطح, قرون, طعاما, سقي, ريم, طفلان, تركا, بلوط, جمعا, رغم, سقوط, ضوءا, كلب, شعاع, فطور, سوق, حسنا, سترين, وصلتا, أذنا, دب, فترات, كلبا, ذراعي, ضخم, تثاءب, لسان, عني, صراخ, استكمال, خوفي, شهادات, تطعيم, داء, أموت, رعبا, حراسة, شراء, طلب, كتابا, جل, إعتاد, تتبع, جما, تكوين, فرقة, مسابقة, نصا, دروس, محو, عصا, نشاط, رحمة, ألم, أعمال, إتمام, شيئ, بنا, سرى, ذكرى, قليلا, أن, كرة, دائريا, الدوائر, الكعكة, طاعة, قفطان, فطورا, زينا, مطلع, صحة, لعب, هن, كسب, سوارا, بدل, عوض, تعجب, استبدال, خرق, كلا, صف, مقاس, وصف, سماع, عطب, مهلا, ضرب, خد, فعلا, إنجاز, أخلاق, محالة, إشعاعا, خطرا, كتبي, حيرة, تنهد, مساحة, تدريب, كِتَابًا, كِتَابَةَ, لِيَلَّا, غَيْرَ, رَسْمًا, شِتَاءٌ, طِيبَ, تَرْتِيبُ, مِثْلَ, تِكْ, تَكْ, دَوْمًا, أَبَدًا, دَوْما, عِدَّةَ, أَطْبَاقٍ, لِبَاسًا, شِفَاءُ, كَذَا, حُبًّا, كُلِّ, كُلَّ, أَدَبٍ, شَكَّ, شَيْئًا, حَرِيقًا, طُولَ, تَمَامًا, لَبَنَ, مَسَاءً, طُولُ, كُلُّ, جِدَّا, تَحِيَّةً, جِدًّا, عَجَبًا, أَيْضًا, عَضًّا\n",
            "\n",
            "POS Tag: No Pronom\n",
            "Words: هو, هي, نحن, أنتم, أنا, هم, أنت, هما, أنتما, أَنَا, هِيَ, أَنْتَ, هُوَ\n",
            "\n",
            "POS Tag: No.S\n",
            "Words: أصدقائنا, دروسنا, ربك, أحدهما, كلاهما, كتاباتهم, صغاري, والديهم, ابائهم, ربنا, سبحانه, اباءنا, ندعوالله, تربيتنا, عصفوره, منظره, أصبعه, مشربه, أطرافه, أعشاشها, حصاها, أجدادي, ميائه, خيراته, ترابك, رأسه, أخي, أختي, مغربنا, يديه, درعها, إخراجها, رأسها, عمه, عامله, حياته, حاجته, قلوبهم, غيري, ابنها, استعماله, تصرفها, أصدقائي, أمي, قلبك, زوجها, أقفاصها, فضائها, سمعك, ورائها, تغريدها, أمها, سنها, أسرته, حبه, حياتها, أبنائها, مدارسهم, ملابسهم, كلها, زوجته, أطفاله, دخله, دسه, يدها, عمله, أعبائها, دراساتهم, أبي, أسرتنا, مدننا, بوادينا, بعضها, بينها, أخذتها, قبلوني, ساحه, أصابعه, تزيينها, حركاته, أجزائها, خطوطها, أعناقها, زينتها, إنضاجها, خزنته, حمله, موضعه, وقاك, ظمأها, ساعديني, حولها, قواها, صنيعها, نفسها, حذاءه, قدمه, عضتها, يده, جناحيها, إعطائي, وأمي, ميزانيتي, احتياجاتي, دراستي, حولي, مشروعي, حدثتهما, مشروعاتي, منزله, مرماه, أمه, عقلك, سيئاته, حسناتهم, اسمها, يساره, بينهم, بعضهم, صداقتها, مثلهم, دموعها, حلوتي, فعلها, فرحتهم, بيتي, صغيرتي, أماه, أراهم, مثلك, ولدنا, دنيانا, الانا, كوكبنا, بينهما, بلده, تطويرها, كلهم, دميتها, عروسها, محافظهم, وحياها, ربيعها, دراستها, إحداثها, تخاطبها, أختها, حظهن, أسرتها, أبواها, اهتمامهما, تكلفتها, خالتها, مدرستها, عشقها, أبنائي, مدرستنا, أستاذكم, ممثلنا, أصابعهم, زملاءه, اختياره, زميلنا, ثقتنا, قسمتها, ربطتها, أوراقي, رقبتها, طائرتي, نفسي, جسمها, منعها, وراءها, ألوانه, وحينا, أستاذي, بحثي, قصه, أورفيل, إحدى, من, طيرانها, في, طائره, خبئيه, فوقي, طريقنا, جيبه, بطاقتك, نقودك, رجعنا, ذهني, حياتنا, جدي, نعمه, تكليفه, أدائها, محله, أصدقائه, زيارته, بيته, عينيه, غيابك, فجئنا, عينيك, عيني, يابني, مستعمليها, دراستك, ذكاءك, صديقهم, أستاذنا, معارفهم, فوائدها, عمره, جده, تركها, مكانه, طلبه, ذوقه, سره, حفيده, غرفته, تجاربه, حوله, بنايته, إعجابهم, مهنته, أسرهم, نظافتها, تناولهم, جراحهم, تلقيحهم, تعاونيتنا, فلاحتنا, انذك, شؤونها, خدماتنا, طعامكم, جهدي, رفيقي, زبنائه, حذائي, حذاؤك, نجاحه, قناعته, معاملته, تسلمها, أصحابها, كله, محفظته, ترافقه, رحلته, دراجته, مروره, أقاربهم, خدماته, خدمتنا, بزيه, حرصه, مساعدتهم, أختك, توجهنا, ميلادها, يدي, فراغك, خلاله, عملهم, رأسي, فرحتها, تحاورهما, أجسامنا, تحفظه, كرتي, جسمي, رفاقي, فكرتي, بقوتهم, معناه, أخلاقكم, داخلكم, لعبكم, نفوسهم, حوزتي, مكاني, ألمي, نفسه, أنفه, قميصه, نظافته, تقديمه, نظره, ضعها, ظروفنا, اتباعها, تنفيذها, خلفها, شحمها, طولها, أنفاسها, جبينها, صحتها, إقامتها, جدتها, ساعدها, كتفي, انتظارك, بصري, رائحتها, فرشتها, عادتها, فوقها, غرفتنا, نومه, زهرته, وسقاها, لونها, أبوه, ولدي, زهرتك, دورانها, مدرسك, حائطك, بياضه, أستاذهما, عليكما, نصيحتكما, أستاذتنا, عنوانه, حولنا, بيئتنا, بيتنا, حصولي, براعمها, طعامنا, فكوكنا, حقولكم, صحتكم, جسمه, مكانها, استعمالها, قوله, بيئتي, أيديكم, أيدينا, نفاياتها, يومها, اجتماعهم, جدتي, بيتها, حضنها, صوره, رؤيته, خالك, ضيعته, سلامتك, خلالها, رماله, جلسنا, حمولته, سميرتي, سميره, جراده, فراشه, مثقله, صمتهم, حملتنا, نزلنا, تأثرنا, بعده, إسمه, مغامراته, عاداتهم, جزيرتنا, نارنا, ظهرها, نومي, شاطئها, بضاعته, ثمنها, أهله, رؤيتهم, اه, جبينه, رأيك, بالك, بطتي, ذيله, رأسك, رفاقك, أذنيه, ذيلي, كلبي, نباحه, ظهره, حيواناته, رقبته, كلبه, وضعها, رضاها, أستاذتي, جزيرتي, جزيرتك, رسومنا, سريري, فرحهم, طريقهم, زرنا, منزلنا, تناسبها, نفسك, دروسه, أدواته, خدي, أخاك, وجهه, جولاتكم, تعلمنا, مخيمنا, ساحتها, ألفتها, تناديني, صوتي, ساعتها, وجهي, ثيابي, كتابي, أصدقاؤه, تعجبكم, ذراعيه, ثقلها, اندهشنا, إعدادها, خروجي, طريقي, حينها, معطفي, سألتنا, مجده, أجفانهم, تبعتها, أحلامكم, جوانبها, حيهم, طلائها, نايها, مهدها, ساتي, حلقها, نشاطها, غرفتكما, شرائه, صناعتي, نقوشه, صدفاته, أطرافها, طلبك, وأمهما, صدارك, رأسيهما, رسالتكما, ظرفها, صوتها, مثله, جدنا, حكاياته, احاجيه, تسلينا, مكتبته, جنينته, نسقي, جدهم, رسمك, عملك, أدواتك, لوحتك, صنعتك, شدوك, مدرستك, تربتك, مياهك, خيراتك, ظهرك, غناءك, غارها, قرنيها, يمينها, نفقها, عمك, أغصانك, عمرها, أبناءها, جرائي, دراسها, أجورهم, ولديها, ولداها, أفواهنا, أخته, خاله, أقدامه, عينيها, حملها, صيدها, قيمتها, خرافي, جحورها, ملاجئها, فمه, لسانه, أنيابه, لساني, شوكك, لسعك, وردتنا, وردتي, وردتكم, غرسها, منظرها, صديقك, حرارته, وجهها, غذاؤك, فطورنا, أكلها, غداءنا, جدها, عرضهم, خرطومه, تقشرها, بنيتي, وجئنا, حليبها, مثلها, تساءلنا, جمعها, حصالتكم, جيوبنا, نحولها, درهما, أعمالكم, نافذتها, ولده, نؤديها, اننا, حماسه, أكتافهم, بلادنا, تغطيها, قممها, أمامها, مراعيها, حقولها, بساتينها, زملاؤهم, منازلها, منزلها, وحدتها, سألوها, أثاثي, ملابسي, عيدنا, مذاقه, جسمنا, عنده, حجمها, قدميه, ركبتيها, أيديهم, وجوههم, شغلها, ضحكاتهم, جيوبهم, قوامها, جسدها, قصته, بردعته, زوجي, وحولهم, علبته, وسطها, ملابسه, صدره, عروستها, منازلهم, ربي, وجهك, بابنا, عيدكم, كلنا, سياجنا, ديكنا, صيفنا, أبيه, حياه, نادينا, يدك, مالهم, عيناه, تركبها, نحوه, وجوهنا, كفه, لبسته, أعماقه, رقبتك, مجلتي, ألوانها, حركاتها, قدماه, علوها, صاروخه, عصافيرها, تطيرها, عصافيري, جحره, مطاردتها, يقظته, قضيتها, ضمنتها, وحدها, يديها, أسنانها, أبويها, أخاها, أخيها, أسرتي, كتبها, لقطها, أبناءهم, ظهري, أسرتك, قلبي, مكتبي, لعبي, حافتها, صحابي, مدرستي, أصدقائك, اسمي, مرافقها, نحوها, صديقته, صحتك, بيئتك, والدتي, أبت, شوقي, محفظتي, معلمتي, جنتي, أشغالنا, معطفك, أبويه, والدة, معطفه, نصائحي, محفظتك, ملابسك, قشرتها, سهلها, حقلها, أرضها, قريتي, صحته, وقته, كتبه, علاجها, أنشطته, قسمنا, فتحها, أفرادها, وجبنا, إخوتي, حلمها, طريقها, مالديها, ابنتي, عافيتك, جميلك, سيدي, تأخرها, أباها, لأمها, مساعدتها, أبوها, حياتي, خلانا, أبنائهن, طربوشه, هداياكم, طربوشك, أبيهما, أعيادنا, أعلامنا, سرعتها, أنفسنا, ابنه, ودعاه, قده, دراجتي, دراجتك, كلامه, حولهما, ابويه, سرطانا, قبعته, قصره, قصري, كما, وهي, سألني, فرحتنا, حالكم, فراشك, فطوري, أدواتي, علمنا, دموعه, أولادي, تصنيفها, وثائقي, موضوعه, خضره, أمجادي, أقسامهم, عطلتهم, هواياتهم, هواءه, هوايتك, حلمه, أذني, يومك, فروضه, إلهي, جيراننا, اعتذارك, فعلتك, شعرك, عودتك, حيكم, قريتنا, سنك, أستاذك, سوقهم, دعوته, دهشته, زيارتي, ليله, مهارتك, كلامها, عشه, رجلاه, منقاره, نجري, مفاجأتنا, انتشالها, أشعتها, مزدهره, ظلها, منتظره, كرسييهما, ثيابهما, متاعهما, اتجاهه, سيرهما, مجيئكما, أسرتيهما, فراشي, غرفتي, شعري, تؤلميني, أسنانك, أذناك, أظفارك, زملائي, مثلنا, أرجلهم, تناولها, بطني, تصرفاتي, نظرتي, عمري, قوتها, دمي, رعبي, عودتي, عيونه, طاعته, بوبي, صداقتي, قوتي, حجرتي, إطعامه, تنظيفه, عنوانها, إعارتها, صيانتها, دواويرهم, تسجيلهن, جوابنا, دواويرنا, معلمنا, أبنائهم, حضورهم, تحقيقها, غدونا, عودته, جدته, أعماله, فرقتنا, تشاركهم, شجعتهن, صيتها, إنتاجها, أولاده, وفاته, مزرعته, والدهم, عصيهم, عصاه, اجتماعها, ضعفها, تفرقها, بيوتهم, سعادتهن, حياتهن, وقتي, مساعدتي, أحلامي, جهدنا, رزقها, ياأصدقائي, رسمها, وضعه, يديك, قفطانك, ثيابهم, صوامعها, حظهم, أصدقائهم, بناتها, منكن, نومها, عيناها, لعبنا, طفولته, زمنكم, ربطها, بيننا, رغبتنا, حذائه, عملها, طوله, عملاقها, اصابني, مابك, شكواك, زمنك, قيمتك, خذماتي, قيمتي, خدماتك, أختاه, استخدامه, تحيره, اسْمِكِ, اسْمِي, يَدَاهُ, مَلَابِسُهُ, ظَهْرِي, أُمَّهَا, لابْنَتِهَا, بَدْلَتَكِ, نَافِذَتِهَا, عَيْنَيْهِ, كُلَّهَا, نَفْسِهِ, إِخْوَتِي, أُمِّي, رِفَاقِي, شُعَاعُهَا, أَعْمَالِهِمْ, بَعْضُهُمْ, وَقْتَكْ, دَرْسَكْ, نَفْسَكْ, جِسْمَكْ, فِكْرَكْ, وُجُوهَهَا, دُمَاهَا, مَلَابِسَهَا, دَارِي, دُمْيَتَهَا, أَصْحَابُهُ, تَرْبِيَتِي, وَالِدِي, تَعْلِيمِي, يَارَبِّي, مِدْخَنَاتِ, يَدَهُ, زُجَاجَتَيْنِ, زُوَّارِنَا, عُمَلَائِهِ, طَحِينًا, سَيَّارَتِهِمَا, أَصْدِقَاؤُنَا, أَحَدَهُمْ, أَبِي, اسْمُهَا, رَأْسَهَا, زِيَارَتِي, رَصَاصَهْ, أُمُّهَا, جَدَّهَا, كُلِّهَا, عُشَّهَا, بَيْضَهَا, صِغَارِهَا, وَرَاءَهُ, حَوْلَهُ, وَرَاءَهَا, شُرْفَتِهِ, حِذَاءَهُ, عَيْنَاهُ, قَدَمَيْهِ, كُلُّنَا, أُمُّهُ, أُمِّهِ, صَدِيقُهُ, مَزْرَعَتِهِ, صَاحِبُهَا, صَاحِبَيْهَا, فِرَاخِهَا\n",
            "\n",
            "POS Tag: No.S Compa\n",
            "Words: أكبرنا, أجملها, أنفسهم, خيرها, أجله\n",
            "\n",
            "POS Tag: No.S Pronom\n",
            "Words: إياه\n",
            "\n",
            "POS Tag: NoDP\n",
            "Words: هذه, هاتين, هذا, هؤلاء, هكذا, هذي, هَذَا, هَكَذَا, هَذِهِ\n",
            "\n",
            "POS Tag: NoDP.S\n",
            "Words: ذلك, المطالعة, تلك, ذاك, إلى, تِلْكَ, ذَلِكَ\n",
            "\n",
            "POS Tag: NoRP\n",
            "Words: ما, من, مَا\n",
            "\n",
            "POS Tag: Ns\n",
            "Words: إما, نعم, أما, هل, إذا, لو, قد, ها, إذن, حينئذ, بلى, ما, لولا, ربما, أي, إِذَا, نَعَمْ, هَا, أَمَّا, لَوْ, مَا\n",
            "\n",
            "POS Tag: Num No\n",
            "Words: وولد, الولايات, إلى, وبلغ, والتحق, أن, بالطبقة, استعمل, رش, تناول\n",
            "\n",
            "POS Tag: P.NoRP\n",
            "Words: مما, عما, ممن\n",
            "\n",
            "POS Tag: P.Sifa\n",
            "Words: تعاونية, معاشية, تلفزية, استكشافية, مدرسية, غضروفية, خماسية\n",
            "\n",
            "POS Tag: P.VeP\n",
            "Words: تربي, تفرح, تشق, تطأ, تطرب, تتلذذ, تلعق, تحاور, تتساءل, تلحظ, تفيق, تمرح, تعالي, تتدحرج, تَتَفَتَّحُ, تَتَفَّتَّحُ\n",
            "\n",
            "POS Tag: P.VeP.O\n",
            "Words: تجعلك, تتركه\n",
            "\n",
            "POS Tag: P.VeP.S.O\n",
            "Words: تجلسني, تخافني, تَشْكُرُنِي\n",
            "\n",
            "POS Tag: P.VeP.S.O nasikh\n",
            "Words: تظللني\n",
            "\n",
            "POS Tag: PCo\n",
            "Words: لنا, لهما, عليهم, لهم, منهم, علينا, إليه, منك, لي, فيه, له, عنه, عنك, إليك, لك, منا, علي, عليها, منها, لها, عنها, منه, به, عليه, بها, إلي, فيها, منهما, فيهما, بكم, بهما, لكم, عليكم, منكم, يستطيعا, أخوه, عنهم, إلينا, فيك, لكن, إليكم, بي, بك, لم, عنا, بهم, إليها, بنا, إليهما, بهن, لهن, فينا, فيم, عليك, بالنجاح, عَلَيْهِ, فِيهِ, مِنْهَا, مِنْهُ, لَهَا, إِلَيْنَا, لَهُمْ, إِلَيَّ, إِلَيْهِ, لِي, مِنْهُمْ, لَهُ, عَلَيْهَا, لَهُمَا\n",
            "\n",
            "POS Tag: PNa\n",
            "Words: إن, أن, لكن, لأن, أدركا, للبشرية, لعل, لِأَنَّ, إِنَّ, أَنَّ, أَنْ, إِنْ, كَأَنَّ\n",
            "\n",
            "POS Tag: PNa.S\n",
            "Words: لأنهم, إني, لكنها, إنه, لأنه, إنها, أنه, أنها, أنهما, أنهم, لأنها, إنني, لكنني, منها, بأنه, أنك, أنكم, أني, لأننا, لكنه, أننا, أنني, لعلك, لعلها, لكنهم, كأنها, إنهم, لعله, إنك, ليتني, إنهما, إننا, إِنَّكِ, كَأَنَّهُ, أَنِّي, إِنَّهُ, كَأَنَّهَا, أَنَّهَا, لَيْتَكَ\n",
            "\n",
            "POS Tag: PaNs\n",
            "Words: أن, ألا, حتى, لن, كي, لكي, تنتهي, تحضر, تضعها, تأخذ, أَنْ, لكَيْ, لَنْ, أَلَا\n",
            "\n",
            "POS Tag: Pr\n",
            "Words: في, من, على, بألا, إلى, عن, منذ, حتى, مني, المتحدة, المدارس, واصلا, أن, قدرة, الاحتفاظ, الجو, الصوف, القران, علي, عني, الدقيق, طاولة, كرات, الطاولة, مقلاة, الجانب, فِي, إِلَى, مِنْ, عَلَى, مِنَ, مِنِّي, عَنْ, عِنِ, مَنْ\n",
            "\n",
            "POS Tag: Prep P.Alam\n",
            "Words: لسلمى, لنبيل, بآدم, لِخَدِيجَةَ, لِنُورِيَّةَ, لِحَسَنِ\n",
            "\n",
            "POS Tag: Prep P.Compa\n",
            "Words: لأعذب\n",
            "\n",
            "POS Tag: Prep P.DNo\n",
            "Words: بالرسم, بالإجتهاد, بالتوفيق, بالراحة, بالدفء, للوصول, للمساعدة, للتضامن, للأطفالهن, للذهاب, بالتضحيات, لله, للعروسة, بالورد, بالحب, بالسعادة, بالماء, للطيور, بالزراعة, بالشراء, للبعض, للعطلة, بالكرة, للإضرار, بالفريق, للكراهية, بالعيش, للتدريس, بالطبع, للمدرسة, بالقسم, بالقرية, بالإعتزاز, بالنسبة, بالجلوس, للتصويت, للشروع, للبالون, بالنجوم, للفضاء, بالشباك, بالطاقة, للإنسان, للأوامر, بالمهام, للعمل, بالأطفال, بالعينين, باللعب, بالنفس, للألعاب, للهندسة, للأطفال, بالوحشة, بالميكروبات, بالمساعدات, للأمهات, للرحمة, بالمهن, للتكوين, للزبائن, بالجد, للناس, للجماعة, للسكان, بالحدائق, بالصحة, بالمعادن, للصغار, للتغلب, بالروح, بالأذية, بالتأكيد, بالقوة, بالأمر, بالسوق, بالعدس, بالقرب, للمرضى, بالإحراج, للإفطار, بالمائدة, بالغيوم, بالدخان, بالجوع, بالبحث, للإمساك, بالمياه, بالاستحمام, بالفوطة, بالسدادة, للبيئة, بالغابة, بالرجوع, بالمواد, للميناء, بالتخييم, بالورشات, للمناطق, بالفراق, بالفخر, للديك, بالخطر, بالوحدة, بالبحر, للسفر, للهبوط, بالستائر, للبهو, بالمنزل, بالورود, بالبيت, بالنجاح, للغناء, بالحقيبة, للمفاجأة, للمساء, بالقلق, بالريشة, بالأزرق, بالموسيقى, باللعبة, للقمامة, بالجير, بالمنشار, باللصاق, بالمسحج, بالمطرقة, بالكماشة, بالبريمة, بالأزهار, للأرض, للصيد, للأسد, الثانية, بالأشعة, باللمجات, بالزبدة, بالسكر, للجدة, للأكل, بالديك, بالنقود, بالخذروف, بالكعك, بالمتفرجين, بالثناء, للكبار, للانمولة, للاطفال, بالعظام, بالحضور, بالانتباه, بالود, بالهناء, للغزالة, للزفاف, بالسرج, بالظبي, بالخرق, بالعقود, بالبيض, بالحلواء, بالزهر, للبنات, للخرفان, للجديان, بالصفائح, بالبرد, بالهواتف, بالفرشة, للطلب, بالمناسبة, للمحافظة, بالنظام, بالشدو, بالعطش, بالطبيب, بالندم, بالجرار, بالطيور, للماء, للألوان, للشمس, للورد, بالرتبة, للنزهة, للحكايات, بالانصراف, بالأب, بالجوزة, للطفل, بالعيد, بالحناء, بالهدايا, للبشرة, للسيارات, للدراجات, بالمفاجأة, للخدين, بالقبعة, بالكلمات, والتوفيق, بالحبل, للاستمتاع, بالعودة, للقلم, بالسنة, للمسكين, بالبلسم, للصحاب, للتراب, بالضيوف, للقيام, للمواشي, بالذهاب, للإقامة, بالترف, للقفز, للدرس, بالاستعانة, بالخوف, بالعسل, بالنعناع, بالتمارين, بالقراءة, بالرمال, بالصور, للمشاركة, بالملابس, بالبيوت, بالكتب, بالرغم, بالظمأ, بالمصلين, بالمصابيح, بالقطع, بالدموع, بالعجز, بالإنسان, بالحاسوب, بالإجهاد, بالنوم, بالوصول, بالقمر, باللُّعَابِ, لِلْأَكْلِ, بالدَّكَاكِينِ, لِلشِّرَاءِ, باللَّوْنِ, لِلْأَرْنَبْ, بالرَّبِيعِ, لِلتَّفَسُّحِ, لِلْغِنَاءِ, بالْمَسِيرِ, لِلطَّائِرَةِ, بالمزارع, بالْمَزَارِعِ, بالْغَابَاتِ, بالْقَنَاطِرِ, بالصُّخُورِ, بالصُّخُور, بالْكُرَةِ\n",
            "\n",
            "POS Tag: Prep P.DNo Compa\n",
            "Words: للخير\n",
            "\n",
            "POS Tag: Prep P.DSifa\n",
            "Words: بالأواني, بالغشاش, بالميزان, بالطائرة, للطائرة, تاريخيا, للصغير, بالمعلومات, بالطريقة, بالمستشفى, بالغازات, بالمولود, بالأحمر, للفقراء, بالمجان, بالمدينة, للعجول, للفقير, للصغيرين, بالمدعوين, بالموضوع, بالحيوية, بالنباتات, للمجموعة\n",
            "\n",
            "POS Tag: Prep P.Dz\n",
            "Words: بجانب\n",
            "\n",
            "POS Tag: Prep P.No\n",
            "Words: بكتابة, برفق, باحترام, بخفة, بجد, بكل, بعود, بسهولة, للأم, لتشارك, لطلب, بمساعدة, لإيواء, بغير, بمئات, لأول, بفرحة, لالئا, بصناعة, بخطوط, بجرار, بتوازن, بخطورة, بتفوق, لماذا, بأمي, باستخدام, لشهر, لسنة, لتحضر, لأمه, لأطفال, لرفض, لديم, بيدي, بأعمال, بسبب, بملاعب, لبناء, لاخر, بدقة, بحول, بخمس, بذكاء, لاتفكر, لتعلم, لكل, لإقناع, بفرز, بنزاهة, بخيط, بجزء, لترفع, ببحث, بمكتبة, بفك, بذكرى, لشراء, لسحب, بعقل, بحكاية, بألم, لممارسة, لتسلي, بتنظيم, باختيار, بحذر, بمرض, بعدم, بحنان, لبناية, بروعة, بانتظام, بتغذية, بمناسبة, لنصل, لإنتاج, بشبكة, لصنع, باستمرار, بمهارة, بأمانة, بوجه, لأصحاب, بأيدي, لتسجيل, بقراءة, بعينين, بسرعة, بصوت, بأصدقاء, بفوائد, بخشونة, بفوز, بهدفين, لاتبتئسوا, بثمن, لإصابات, لايزال, بيد, بكم, بتحضير, لبعض, بلهجة, لزيارة, بإعجاب, لحال, بروائح, بحبات, باقتراب, لاستقبال, لقضاء, بأحرف, بوجودي, بالتهامي, بدور, برغوة, بنقص, لاشيء, بعناقيد, برسالة, بشوق, بوزيد, بإقليم, لمعالجة, بزيل, بورك, بإحدى, بأعذب, بحركات, بجولات, بألعاب, برحلة, بهلع, بحرارة, برجلي, بأمان, لشاب, بلطف, لكلام, بحافة, بألف, بسلام, بقدوم, بنظافة, بجرس, بهمة, لسفر, بلغة, لازبال, لتغيب, بعمي, لجبهة, لمعول, لموسم, لتصير, ببدء, بأهازيج, لأمها, بفواكه, بخبث, بأكل, لاستئصال, لصدري, لنزور, برتقال, بثلاث, بشرب, بليلة, لشرب, برتقالة, برجل, بمرشة, بعلبة, لرنات, لولد, بماذا, لاتفوت, بتمعن, بلهفة, بحاجة, بجسم, بماء, ببيت, بلبس, بعقود, بقطع, بسعف, بأوراق, بعلب, للبنين, ببشاشة, بصندوق, بتصرف, بشجرة, لسناء, بجناحين, بصداقة, بابنتها, بنصيحة, بمحفظتي, لآخر, بمنقاري, بنشاط, بيوم, بأنشطة, بخط, بمجيء, بتوتو, بطلعة, بأصوات, بمحراث, ببذلة, بتاريخ, بفريق, بشهية, بعجوز, بتصرفات, بهدايا, بحفل, لإقامة, بعيد, بمحرك, بنتيجة, بصورة, للفم, ببقايا, بتجمع, لعبتي, سريدة, لقراءة, فدعا, بلعبتي, بأدب, بهمس, لخلود, بحجر, بإصلاح, لإصلاح, بمصاحبة, لعثمان, ببقال, بسرور, بأشعة, بهدوء, ببناء, بوقت, بقصة, بقرية, بأطفال, بهجوم, لمقاومة, لوبياء, لذيذا, بأزهار, بدفء, لريم, لذيذ, بقوة, بمغص, بشدة, بحفرتي, لمياه, بعنف, بحكايات, بأسابيع, بإنجاز, بعنوان, بحفظ, بتوفير, لعرض, بجودة, بدنو, بتعليم, بترتيب, لاأنسى, الدقيق, بمنشفة, لمدة, ومد, الشكل, لصلاة, لتنقشي, ببهجة, لأم, بعشرة, لهدى, بدمية, بشكل, لاتعرف, لكسب, لفترات, بأشياء, بإمكاني, بتثاقل, باجْتِهَادِي, بِشَيْءٍ, بِفِضَّةٍ, بِفُسْحَةٍ, بِحَالِي, لَبَنًا, بٍإِطْعَامِ, لَحْنًا, بِسُرْعَةٍ, باسْتِعْجَالٍ, بِمَنْظَرِ, لِأُمِّهِ\n",
            "\n",
            "POS Tag: Prep P.No Compa\n",
            "Words: بأكثر, بخير, بأجمل\n",
            "\n",
            "POS Tag: Prep P.No.S\n",
            "Words: برحمته, لوطنك, بمواطنيه, لقوله, بجولةفي, برجليه, بيديه, لأراه, بفراخها, بزرعه, برأسها, بمنقارها, لتشكرها, بقراءتها, بشهامه, بدورهما, بنعاجها, لوالدها, لقريتها, بقريتها, بأسمائكم, باختياره, بذيلها, لمعانا, في, لوالدي, بوعده, لأبي, بتطويره, لزيارتك, لأخته, لحاله, لممارستها, بوزرتها, لتسعفه, بقريتنا, بترقيعها, بعمله, لمشاركته, لتسجيلها, لأجسامنا, بقوته, بحياته, بتنفيذها, بأنواعه, بأخي, بفكرتهما, ببيئتنا, لأجدادنا, بأقدامكم, بأمه, لولدها, بقايانا, بحبها, بأهله, بألعابي, بإصبعه, بغلطه, لمصالحتها, بركابها, لتهنئتنا, لأستاذتي, بيدها, برؤوسها, بغنائك, بألوانه, بقربها, بضيوفك, بلونك, بغصنك, بجواره, بمذاقه, بأيدينا, لخالي, للحياه, بفسيلتها, لأنكم, لصدرك, بأسناني, بأجنحتها, لتوزيعها, بأجسامهم, برشاقته, بجانبها, بضجيجهم, لأخواتهن, بثيابه, لصاحبته, بعودتها, بجناحيه, بأنشطتها, لصديقته, لتصرفاته, بعودته, لمرافقته, لأيديهم, لصغيرتنا, لشكلها, بباله, بثوبها, بلونه, بألوانها, باسمنا, لأستاذتنا, لتلاميذها, لجيراننا, لجارهم, بمدرستهم, بأصابعه, بأنشطتهم, بعينيك, بمنقاره, لأبنائه, بمرشتها, بثمارها, بجذورها, لأخيها, بجواري, بأسنانه, لأوامري, بتكسيرها, بتلاحمكم, لتلاميذه, بيديك, بصيامك, ببهجته, بثيابهم, لبناتها, لأبنائهم, بأرجلنا, لجدي, بنفسك, لصديقه, بِأُصْبُعِي, بَدْلَتَهَا, لِوَلَدِهَا, لِأُخْتِهَا, بِأَسِرَّتِهَا, بِأُسْرَتٍهَا, بِأَوْرَاقِهَا, لِدُمْيَتِهَا, بِعَمَلِهَا, لِأَصْحَابِهِ, بِمَالِهِ, لِصِغَارِهَا, بِجِوَارِهَا, بِسَيَّارَتِهِ, بِرُكَّابِهَا, بِعَرَائِسِهَا, لِأَنَّكُمَا\n",
            "\n",
            "POS Tag: Prep P.NoDP\n",
            "Words: لهذه, لهذا, بهذه, بهذا, لذا\n",
            "\n",
            "POS Tag: Prep P.NoDP.S\n",
            "Words: لذلك, بذلك, لِذَلِكَ\n",
            "\n",
            "POS Tag: Prep P.NoRP\n",
            "Words: بما, لما, لمن, لَمَّا\n",
            "\n",
            "POS Tag: Prep P.Ns\n",
            "Words: لقد, لَقَدْ\n",
            "\n",
            "POS Tag: Prep P.PNa\n",
            "Words: بأن\n",
            "\n",
            "POS Tag: Prep P.PNa.S\n",
            "Words: لأني, لأنني, بأنني, بأني, لِأَنِّي\n",
            "\n",
            "POS Tag: Prep P.Pr\n",
            "Words: لمن\n",
            "\n",
            "POS Tag: Prep P.Sifa\n",
            "Words: لصالح, بجانب, لانهاية, لولبية, بهدية, بواسطة, بكثير, بأهمية, لوازم, بذكريات, بمجموعة, بجميع, بقليل, لولاه, بطاقية, بمعجون, لوازمي, بمدير, بمقدوري, بِشِدَّةٍ, باسْتِعْجَالٍ, بَحْرِيَّةً\n",
            "\n",
            "POS Tag: Prep P.Sifa.S\n",
            "Words: بصفارته, بجانبي, بمزروعاتكم, لمغروساتكم, بداخلها, بطيارته, لصديقتها, بمقدورك\n",
            "\n",
            "POS Tag: Prep P.VeP\n",
            "Words: لننجز, ليداعب, ليشكر, لأكون, ليتقدم, لتشتري, لنتحد, لتسمع, لتروي, لتحصل, لنعيش, لأتعلم, لتصل, لتشمل, لأتأكد, ليتأكد, لأطلب, لأسجل, لأستأنف, لأفتك, ليفسح, ليبق, لنطلع, لأروي, لترى, لينجو, ليقول, لأشارك, ليقترض, لتذهب, لتخزن, لتنسج, لأصل, لترضع, لننام, لتستقر, ليبقى, لتلامس, لتنتظم, لتعرف, ليلعب, ليتدرب, ليزور, لنذهب, لنرسم, ليشيد, لنلعب, لنصلي, لأستطلع, لأقضي, لنستدفئ, لنتعلم, ليحضر, ليأخذ, شكلا, لِيَرَى, لِتَجِفَّ, لِيَخْتَبِئَ, لأستريح, لِأَسْتَرِيحَ, لِتَتَمَتَّعَ, لِتَعْمَلَ, لِيُعَالِجَ, لِتُدْرِكَ, لِيَشْرَبْ, لِتَنْقُلَ, لِنَلْعَبَ\n",
            "\n",
            "POS Tag: Prep P.VeP nasikh\n",
            "Words: لتكون, ليستحم, ليكون\n",
            "\n",
            "POS Tag: Prep P.VeP.O\n",
            "Words: ليطحنه, لنخبره, ليرقعه, ليقرأها, ليجدها, ليداعبه, ليجدوه, لأعلمك, ليطعمنا, لأداعبه\n",
            "\n",
            "POS Tag: Prep P.VeP.O nasikh\n",
            "Words: ليستعيرها, ليسجله\n",
            "\n",
            "POS Tag: Prep P.VeP.S\n",
            "Words: ليوفقا, لتشاهدوا, ليعرفوا, ليطمئنوا, ليتناولا, ليدخلوا\n",
            "\n",
            "POS Tag: Prep P.VePa\n",
            "Words: لأقيم, لتبطل, لاتقف, لأحفظ, لساعد, لاتكل\n",
            "\n",
            "POS Tag: Prep P.VePa nasikh\n",
            "Words: لظلت, لأصبح\n",
            "\n",
            "POS Tag: Prep P.VePa.S\n",
            "Words: لتفوقتم, لوجدتم, لترفعوا\n",
            "\n",
            "POS Tag: Prep P.Vepa\n",
            "Words: فَطَارَ\n",
            "\n",
            "POS Tag: Prep.Conj. P.P.No\n",
            "Words: لكأن\n",
            "\n",
            "POS Tag: Sifa\n",
            "Words: صديق, كريما, صغيرا, منشغلون, قائلا, متواضعين, محاولا, واحدة, مبتهجا, وطني, شاطئا, مواطنا, صالحا, شامخة, جارية, جميلة, خضراء, فسيحة, بعيدا, عزيزا, هادئا, مطمئنا, سعيدا, عاليا, جامدة, هادئة, مطمئنة, وسيلة, كيفية, شارة, قائلة, واجب, مجرد, مؤسسة, جميع, رحيما, واكس, مسلية, بعيدة, سيدة, رقيقة, طيبة, طيبا, دائما, جديد, متصلا, حريصا, إضافي, جديدا, منتصف, صالحين, صالحات, صديقتي, منتشرة, معروفة, محفوظا, معلمي, فنان, خالي, قديمة, قلال, طويلا, متماسكة, كبيرة, قاع, قاعدة, مستديرة, مائع, داخل, سريعة, نافعة, حمراء, عجيبة, عريضة, سوداء, مستقيمة, رشيقة, صاعدة, نازلة, مبدع, منتصبة, نشيطة, ناحية, مسرعة, حمامة, صاف, باحثة, نملة, تيار, قليل, صيادا, مترددة, قليلا, متئلما, مطلقة, مشروع, مفيد, مصروفي, كبيرا, مشروعا, مناسب, مشتلا, صغيرة, خالية, جارة, مقابل, جديدة, قليلة, واحد, قادمة, ربيعي, جميل, حزينا, متعجبة, بني, نشيطا, باسمة, جيدا, سيئة, جزيلا, أماه, عقلي, محبة, قديم, سارة, يمين, زرقاء, دائمين, وحيدة, صديقة, جميعا, مرارا, فريق, وراها, صغارا, كثيرة, فرحين, صحيح, شاقة, مهدد, رفيقي, سالف, فقيران, حاكمان, فقراء, كثيرون, غنيان, فريقين, حاكم, رياضية, مجانية, ضرورية, مدافعة, محجوبة, قريب, منظر, ذاهبون, تلميذ, صحية, مضبوطة, مؤخرا, محظوظة, متواصلا, مدرسة, محروم, ممثل, هاما, محدد, طائرة, ملونة, متقاطعة, مثلثات, طيارتي, طويل, ثانية, أرقب, طائرتي, ساحبة, حافزا, فرحتي, شديدة, موسوعة, معلومات, دون, مستفيدين, طار, عظيما, طيار, عناني, حصاني, مهرتي, مولد, أوتوماتيكي, مثبت, حائط, مزود, إلكتروني, منشغلا, عامل, مجموعة, محدودة, ميكانيكية, مفاصل, منفذة, مستلقيا, ضمادة, مريض, حاد, مضرة, قواعد, مبتسمة, عمادا, كثيرا, غريبا, ضوئية, إلكترونية, متعددة, صغاري, مفيدة, مضر, هشاما, هدية, حسانا, زاوية, مكعبات, خشبية, مختلف, أخيرا, محتويات, حديقة, عالية, بعيدون, يقظة, فلاحية, فلاحين, فلاحا, بسيطة, تقليدية, تسويقية, عصرية, طبعي, محلا, صغير, كراء, واسع, مبتسما, قصيرة, معقولة, ساعي, مكتومة, مختومة, محرقة, قارس, معلنا, بشوش, حافل, يومية, واقفا, يمينا, متتبعا, مستعينا, بدوريات, منتظمة, راجلين, سيارات, عاملين, فريد, مسرورا, وحدي, مولودا, كناش, جدي, نومي, جالسا, حاشية, ناعستين, كافيا, معا, ثقيل, أهمية, منجم, غني, عديدة, رائعا, فاكهة, بعيد, معدنية, مقدمة, رفيقتي, مرقى, شهير, صفارة, معلنة, لاعب, هابطة, مفهوم, غاضبون, نحوي, خفيف, مستوصف, مضاعفات, خطيرة, نتيجة, أصدقاء, طبيعي, كامل, بلدي, غلام, يافع, مملوءا, صاحب, مريضا, بارد, ثمينة, فاسد, سرير, حيوية, عجوزا, بدينة, فاض, نصيبا, مقوية, دسم, أطباء, ملائمة, مشمرة, جاهز, منهمك, مألوف, منوعة, ممتعة, عادل, جوية, منتظرا, كبير, مدرستي, غليظة, لافتة, حائطية, يوميا, مستطيلة, دافئ, موضوع, نظيفة, مصنعا, ضيقا, ملوثة, نظيفا, طريقة, طعامي, ضعيفة, قوية, قوي, مهم, مطهر, سريع, سائلة, مرتجف, كمية, نادي, محمل, دوار, رئيس, جائزة, خاصة, لافتات, مسؤولية, خارج, صغيرتي, نهائيا, حتي, حبيبي, أواخر, تلميذا, طريقا, طبيعية, رائعة, شاطئ, مدينة, مريحا, ذهبية, لامعة, صافية, باردة, جانب, حمامات, عذبة, ميناء, مفصلة, واسعة, طريق, فرحون, مجتهد, ضاحكة, مخيم, جبلي, معجون, حافلة, نصبا, عطرا, خفيفة, يدوية, فنية, قويا, شاب, مغامر, متحدثا, جزيرة, مبتعدين, عميقا, دهشتي, مسافرا, مستودع, بضاعتي, لعابة, مفككة, متناثرة, لعبي, حائرا, باسما, مؤكد, عرقان, فالجو, حار, منقار, عريض, غاضبا, واك, محتجا, ورائي, ثقيلة, طويلة, مثيل, ناسيا, جانبا, مركبا, عظيم, متحمسا, فاتحة, فخورة, شقراء, بلادا, متجهة, عاصفة, بيضاء, قائد, بطيئا, محول, صالحة, خالتي, طباخا, ماهرا, رفاقي, حكيمة, صامتا, خجلا, خاصا, مهذب, نظيف, أسير, بجدي, حقيبة, مصورة, ملعقتين, أمي, ممطر, مطريتي, ضيق, متأخرا, مبلل, دوري, لاهيا, مجهولة, مخلوقات, فضائية, مركبة, مجاري, بساط, أملس, معبدة, واجهات, جبلية, ماعزة, عشية, مريضة, حزينة, خزانة, نجار, مسمارا, دكان, مسمار, نحيل, مشربية, بيدي, براقة, لماعة, عاملا, مختلفة, جيدة, محتجبة, خريفي, متراكمة, رسام, فني, فاذا, عيونا, أزور, رقيقا, صفراء, خافت, مليحة, بسيط, كثير, جائع, وثان, مشمس, محصول, نباح, حامية, رائحة, غنيا, معتدل, هادئ, فتاح, رزاق, غداء, جميلا, بهاه, شياه, ثغاء, خائفة, حالكا, عملية, كاس, حليب, صحي, مستريحين, واكل, طيب, حارس, ذكية, ماضة, مكنسة, مضطر, لابد, طبيب, كرسي, مريح, أنيق, مخدرا, باردا, حصالة, مغلقة, جماعية, مزيدا, موافقون, وانما, نقدية, متجرا, موصد, مهرولا, مسكينة, مشغولة, نسيج, فتية, عجوز, خباز, بائع, مائتي, منتصبا, مادة, دائمة, قناعين, متشابهين, حاتما, مضحكة, مودعين, مسحوق, معطرة, فتات, ساطعة, عامرة, سعداء, مسرورين, تهاني, مجيد, غزالة, شيق, فراشا, مخضرة, حظيرة, قفاطين, كحلا, مشاطة, أشهب, فسار, مفتخرا, فارس, مسدسات, مفرقعات, حراقيات, مربعة, مسلوقة, بارزة, مملوءة, موفورة, قلات, زائرا, مزين, غريبة, قميص, حذاء, مبرقشة, طاق, زائر, غريب, عجيب, مديد, مغتبطين, ثالثا, رائد, ملتفون, جادين, زاهية, مقبلا, سائر, محني, ساكن, خياط, غاضبة, غباء, مخطئة, فرعي, منتصب, يسارا, رمالا, حاجز, واحدا, صاروخي, رابضا, منتبها, كائن, مدلل, شبعان, مذعورا, طارد, لسادتي, مبكرا, صديقا, ذاهبة, مرتبة, بسرعة, دراسيا, مفتوحة, رفاق, فارغة, معروضة, نشيطون, فرحى, مبتهجين, مهمل, ملقاة, مبعثرة, مسرعا, سمير, لاعبا, بقوة, شاكيا, مكسرة, ودود, لطيفة, أنيقة, فتان, متوجعا, قلقون, أليفة, مهندسة, مهددة, شهية, باهتا, ظليلة, كبيران, حنون, عطوف, أصفر, فقيرا, نحيف, عتاب, منشغلة, ذهبيتان, عائلية, شعبية, رفقة, مازحا, وفيرة, أصلية, حرا, بطيئة, سهل, مناسبة, متين, معدني, لماع, مطاطيتان, غليظتان, ملونا, معطلة, دافئا, فارغ, منشغل, خافتا, حاكما, منحرفا, بسرد, من, عائلتي, عزيزة, فراشي, مهذبا, مجموعات, منضدة, متعانقة, كتابي, رقيق, نقيا, قائلين, منشطة, شريط, قلمي, علمي, منتصرا, نقي, ضجيج, رساما, بارعا, مشهورا, مجانا, جذاب, دائرة, مرتب, كاملة, مندهشا, ممحاة, طائرا, ثمين, نافدة, خائفا, طائر, نافجة, طائش, بريئا, عظيمة, أمين, جارنا, أصير, طبيبا, مشيرا, محبوبا, رائع, جادون, متفرجا, متنوعة, مخزن, ساخرا, مستعجلا, ذاهبين, طويلتان, مستقسم, زهير, مشغول, وجيز, موضوعا, مذعور, مشمسا, دوي, سارا, بندقية, مصباحا, حامدين, رغيفا, بارعة, عادتا, مفيدا, سائلا, حذار, متسخ, متسختان, ذاهب, رياضي, سليم, سريعا, رياضيين, مكشوفة, شديد, متغيبا, نصيحة, بوبي, عائلة, معجبا, ونام, واسعا, ضاعف, مرخص, ضعيفا, قادرون, حارسي, منتهى, خاص, معدودة, حريصة, مرتفع, آخر, سار, مسرحية, مسرحيا, مقصوصة, أقوياء, متوجهين, حبيسة, مليئة, فائدة, مفتاح, مسرورة, وردات, دقيق, تدريجيا, بعد, مسطحا, ثم, اطه, أوباردة, صيامي, مطرز, عروس, مزينة, فقيرة, صغيرات, يتيمات, خادمة, حقيقة, مستغربا, منافسا, بادية, ضاحكا, متكافئة, رئيسا, عاجر, زمني, حجمي, مغرورا, مستقبلا, متحمسة, حاصل, دقيقة, متفوقة, علمية, ضار, صفارات, متعلما, مستفسرا, مانع, شاق, ممتع, صَغِيرَةً, جَمِيلًا, أَعْمَى, شَاهِدَةٌ, صَغِيرًا, صَوَابَا, حَسْبِي, فَخَارِ, كَثِيرًا, جَمِيلَةً, شَدِيد, شَدِيدٌ, مَكْسُوَّةً, غَضْبَانَ, نَائِمٌ, مُتَوَكِّئًا, كَثِيرَةٍ, تَعْبَانَ, مُسْرِعِينَ, بَاكِرْ, كَامِلَةٌ, سَائِرَةٌ, كَامِلَةً, وَاحِدَةً, كَبِيرَةٌ, قَائِمَةٌ, صَاحِبُ, دَائِمًا, طَيِّبَةٍ, حَقِيقِيَّةٌ, جَالِسَةٌ, جَدِيدًا, مَشْغُولَةٌ, قَلِيلٍ, رَائِدِي, مَعْنِيَّةً, مُهَذِّبِي, قَوِيَّ, ظَرِيفَةً, مِدْخَنَاتِ, ظَلَامِ, نَائِمِينَ, بَاكِرًا, طَرِيًّا, حَامِلًا, مَرِيضَةٌ, مِقْيَاسَ, قَرِيبًا, كَثٍيرًا, عَمِيلًا, سَرِيعًا, قَدِيمٍ, كَثِيرَةٌ, سَعِيدًا, قَلِيلًا, صَيَّادْ, هَزَارًا, حَمْرَاءَ, فَرِحَةً, جَائِعًا, قَلِيلٌ, مُسْتَوْدَعٍ, صَغِيرَةٌ, صَغِيرٍ, عَالِيَةٌ, طَيَّارًا, بَعِيدًا, جَدِيدٍ, مُتَدَحْرِجَةً, كَثِيرٌ, بَيْضَاءُ, زَاخِرًا, مُنْبَسِطًا, عَجِيبَةً, خَفِيفًا, حَقِيقِيٌّ, قَوِيًّا, ضَعِيفٌ, قَادِرًا, فَرِحًا, وَاحِدًا, مَعًا, شَغَّالَةٌ\n",
            "\n",
            "POS Tag: Sifa.S\n",
            "Words: والدي, واجباتنا, والده, صديقي, مفعولها, سماؤه, وغاباتك, سيدي, صغيري, سبيلها, قلاده, مساعده, سيدتي, بندقيته, صديقه, مجموعته, مولودها, خاطبتها, طبيعتها, سريره, صديقنا, مكعباته, ممتلكاتهم, سميناها, فريقه, مباراتنا, مفهومها, صديقتها, نصيحتك, صديقتكم, صديقاتي, مقفوله, مسروره, بشاشه, غاليه, ذكرياتي, خالاتي, رفيقاتي, مطريتك, فاجأتنا, ماعزتها, وقادوني, حديثها, عظيماتها, وهاته, مكوناته, حقيقته, عريسها, صاحبها, كالسهم, صاحبه, طيارته, ياله, هويته, صديقته, بني, حلاقنا, واقفه, داخلها, واجباته, واجباتي, منزلنا, مارأيكم, لابنته, صديقاتك, سيدنا, ذنوبه, عيديتهم, مجموعتك, مجموعتنا, صَغِيرتِي, جَارَتِهَا, صَغِيرَهَا\n",
            "\n",
            "POS Tag: VeIm\n",
            "Words: اعلم, كن, ارحم, هع, انظر, ارم, هيا, اسحب, اسمع, أقبل, اجلس, تعال, هات, قل, اكل, احفظ, افرح, ارفع, خذ, راجع, ادم, قم, انت, اجمع, الو, احمد, انك, افتح, اخبز, ارزق, انتبه, ضع, احذر, سيري, حافظ, طاردي, رتب, تعلم, تريض, أسرعي, دم, اركب, حرك, أنقذوني, استيقظ, حتى, واقرأ, كل, اذهب, اسف, عش, ابشر, ادفع, أضف, العجينة, هَيَّا, انْظُرْ, رَتِّبْ, انْهَضْ, اكْتُبْ, هَذِّبْ, ارْكُضْ, انْشُدْ, غَنِّ, نَشِّطْ, قُلْ, أَسْرِعْ, إِنْزِلْ, أْرَّ\n",
            "\n",
            "POS Tag: VeIm.O\n",
            "Words: ارحمهما, لاشك, حدثنا, الكعك\n",
            "\n",
            "POS Tag: VeIm.S\n",
            "Words: ارحموا, عودي, العبي, اهدري, اعبري, اعلموا, احزروا, انتظروا, احذري, اذهبي, كلي, ضعي, ارسموا, ابتسموا, ابتعدوا, ارفعوا, هاتوا, طيري, اتصلوا, ابحثوا, انتظري, حدثيني, رحبوا, شاركينا, تعلموا, تريضوا, تصحوا, خذي, خذيني, خديها, البسي, انضروا, العبوا, أولا, واصلا, امشطي, افتحي, اعلمي, الْبَسِي, خُذُوا, اجْلِسُوا, كُلُوا, قَوِّ, انْتَظِرُوا\n",
            "\n",
            "POS Tag: VeIm.S.O\n",
            "Words: ادخلوه, اقرئيها\n",
            "\n",
            "POS Tag: VeP\n",
            "Words: يحلو, نلتقي, يبلغن, تقل, نخاطب, نكون, نعطف, يصفر, تلتقط, تضيع, أغرس, أطير, أهتدي, يقول, أعيش, أتربى, أجلب, أستطيع, أحن, أشعر, أحب, تريد, أريد, يعيش, يستحق, يمكن, يسيء, يتجول, يريد, ير, يقدر, تحاول, تقسر, ينزل, تتكلف, تحتاج, ترفق, تستعبد, أساهم, يتسابق, نساعد, تسلم, سأدعو, يترك, يحس, تحس, تتألم, يكاد, يبين, تطير, تشاء, تحكى, أعي, يحب, يملك, تعمل, توفر, يصحو, تقف, تعد, تكاد, تنتهي, تبدأ, يشعر, يبحث, يضاعف, تشفق, يخرج, يعود, تغيب, يكافح, تتزايد, يصنع, يقدم, تشع, تزين, يشتغل, يتضايق, يمر, يقوم, تجف, يضع, يستدير, يتناول, تطفر, يحيط, يغمس, يشرع, أجلس, يخط, يخيل, تمتلئ, تنتظر, تسير, يزرع, سأقوم, تقدر, يعجن, يخبز, أعجن, أخبز, يأكل, ينادي, تر, يستغيث, أغرق, يسدد, تبدو, تبحث, يزيد, أفكر, أبيع, أحتاج, نفكر, يفكر, ألعب, ينتظر, سأضع, تمثل, تحسب, يذكر, أعمل, تعيش, يقع, تلعب, تتمنى, تكن, تتقرب, تسأل, تبكي, يعد, ترى, نفعل, يستطع, أقفز, أكون, أرغب, أذهب, أتعلم, نبني, نملأ, نفترق, يقتل, تهدم, ننقذ, ينفع, يشتري, يقتني, يقيم, ينظم, يبن, يسيطر, توجد, ينافس, تنقص, تتقلص, يبيع, تخرج, يكن, تتجاوز, تظهر, نتعلم, يحق, ألتحق, يتعلم, يذهب, يتلقى, أسمع, يعرف, أعود, سنتحدث, تتعلم, يشهد, تشرف, تقدم, يكبر, تعلم, تستطيع, يدور, تفكر, يستيقظ, ينام, يبقى, تهم, سيشرح, سننتخب, يقنع, نرجو, تدفع, تثبت, تحلق, تنطح, تختنق, تمرح, تسبح, تهوي, يتضمن, أنمو, أجعل, يحتفل, تطلب, تستفسر, يتعب, يتحكم, يخترع, نشكر, يعمل, يؤدي, ينقل, يفسر, يعجز, يخشى, تبتسم, نكن, نعلم, تضع, تقضي, أشاهد, تدخل, أفرط, يضر, تحمل, يسمح, أتمنى, تأخذ, تحتكر, أعرف, تعتمد, تجذب, تتحدث, تساعد, تقوي, تقوم, نستفيد, تنمي, ينتقل, سيختار, يتمنى, يعمر, يجري, تطل, تنتقل, يدخل, تحكي, تلوث, تبخل, أذكر, تدر, تتضمن, تتولى, تدافع, نرفع, يمارس, تمض, يزداد, تمكن, يرقع, أقول, سأغتنم, يقلب, يحمل, يقرأ, يتنقل, يدق, يبادل, يلتفت, يعطي, يعبر, يأخذ, يتسامح, يحكي, تنظف, تعتني, أتكلم, أكاد, أنام, أنهي, تملأ, ينبغي, تفهم, نعمل, ننام, نخلط, يستريح, ستفعل, تبني, يحتوي, تحصى, يعتبر, يشتمل, يأتي, يساعد, نلعب, تغلب, يلعب, يوجد, يتمتع, تصفو, أتلوى, أخفي, يجب, تتوقف, تبالغ, يستدعي, تقول, تدري, يعاني, أتردد, يصبر, يتمالك, يتأمل, يطلب, يعطس, يسقط, تعرف, يعرض, يودي, يحرص, يتحاشى, تنس, تسمح, تتحقق, يسد, تجر, يتصبب, نحضر, يحتاج, يروق, يتعافى, يفسد, يهدد, نتهيأ, يتشمم, ننتظر, نتابع, يشحب, تتجعد, تحزن, تمر, تتغير, تدور, تشتد, يتتبع, تعاقب, تعود, تصغر, تهب, تتلبد, ترتفع, يطول, يحصد, أحافظ, يكتب, تفعل, أكتب, تكتب, يقل, نحافظ, أفعل, أهبط, يزدهر, ينتشل, نتحلق, نتناقش, يتعلق, يسمم, يستطيع, يحمي, سنحاول, نتعرف, نسمع, يحصل, يتلوث, يسبب, ستموت, ترتوي, نزرع, تنقي, أتحدث, أبدأ, يكثر, تسمى, نبحث, أقوم, أضيع, يعبث, يردد, يفرغ, أستمتع, ينشف, تذهب, تروي, يفرح, تصل, يختم, تجلس, تتوصل, أفهم, يهجر, يحلم, تشبع, يشبع, تحيط, نسترخ, يشحن, تصدر, سنبله, أنس, تتدفق, يهب, نتناول, نلتحق, نمارس, نقوم, تنظم, نردد, ننزل, نبيع, نستريح, نتحدث, تتحرك, ستغوص, يتمشى, أنتظر, تشغل, تغرق, يشبه, يسمى, يستمع, يمد, يتمكن, أضع, يعيد, أرسم, يغرق, أغمض, أغمق, يتلألأ, تختال, تعدو, أحلم, يرى, يخف, يهبط, تقترب, يفحص, يركض, سنراجع, سننام, نشتري, تجول, تكلف, سأركب, ستكتب, نسمي, ستهتم, أمشي, يبتسم, أنتبه, نقف, أسعى, سأحضر, سأغني, نفهم, يستعد, نهيئ, نأخذ, نذيب, نضع, أحتمي, أود, أراقب, نتطلع, سأوزع, نبدأ, يداعب, تقفز, تجري, تتعانق, ترقص, ستغرق, تتفنن, يطو, تنحدر, تأت, سيعود, يشاء, يتحرك, سيشتري, أقصد, تلتهم, ستقلع, نمرح, نلتف, ننشد, تنتشر, تأكل, ينتج, يجيب, نسجل, نبعث, نطبع, تتغنى, نجتمع, نتساءل, سننتظر, نرسم, نعد, تتكلم, أطرب, أحسن, تليق, يغنى, يبث, يصلح, يليق, يلمع, يقصف, تطرب, تنقشع, تسكن, تصعد, تشتهي, أنسج, سأقصد, تصنع, تتلون, يطل, تأتي, أخاف, تتصدق, تدخر, تدوس, تنم, يطرق, يسلم, تفوح, يرتشف, تلذ, تختلط, يشوى, يسلق, يقلى, يطبخ, سأرفع, تنزل, يجمع, يبلل, يوزع, يملأ, يزأر, يتخاصم, تجرؤ, يزمجر, تدعي, تقلع, تحطم, يفتح, يبتعد, يصرخ, أمزح, يمزح, سيبقى, سيخرج, يرقد, نسلم, يشخص, نكثر, يزور, أتأمل, ننهض, نحلب, نفضل, أسأل, تقصد, تؤذ, يسجل, تسفر, يحيي, سأكون, تعض, تتفرج, يرتدي, يكنس, توقف, أتوقف, يعصف, أميز, أصيح, تزول, يخفف, يطارد, تعالج, يصدح, تحب, نقرأ, نجمع, نخمن, نوزع, يساهم, يطرب, نجري, يتفرج, نتزود, يشتد, يبكي, يشكر, نصنع, نلحق, نعلو, سأبسط, تنبت, سأكمل, تنمق, تضمن, تتأمل, تطوف, نقلد, تسخن, تبيع, نعانق, أكن, أعلم, تختلف, يقف, تتحول, نكبر, تلتقي, تشد, سألعب, يقلد, يصافح, أتمت, يغفل, تساهم, تتصافح, نشهد, يحكى, تتزوج, يتزوج, يجد, يبق, تلبس, تعلق, تبهر, أنضر, يتهادى, تصفف, يحتفظ, يطوف, ينتعل, يغطي, يبغى, ينثر, يختفي, يبغي, يصاب, ينقر, يهاب, سندخل, يلاحظ, سألاحظ, ترفع, تودع, تعرض, نفرح, نرى, نعدو, نتزاحم, يعبأ, يخلع, يهلل, ينتهي, يدفع, يخيط, سأذهب, تخيط, يصدق, تميل, تمتد, يعوق, ترتطم, تحملق, تراقب, يقيس, تقيس, يرقب, يطير, تخلق, تعكس, تغزو, تدل, يلعق, تحذر, يصطد, تغسل, تحيي, تنشف, تسقط, أغني, تنصح, أتنزه, سأتجول, يحلق, تمشي, يرافق, تحملين, أحمل, يرفرف, تشتري, أرى, يحتاط, يحاول, يقترب, أحظر, أقرأ, يحوم, نغني, تلعبين, تغرس, نشرب, أشدو, نأدب, نقطف, تشدو, تنشر, تطارد, تحوم, نكتب, تدعو, يهتم, يرمي, ترتاح, يحرس, يقذف, ينسى, تنسى, تهمل, أسرع, يجود, تزور, أهجر, أخدم, أنسى, يعنى, يصيح, يندم, يتعامل, يرسمون, تعبر, تلطف, ترسل, تسعد, نصغي, نرقب, يلغب, صفر, تعرفان, يسير, أنفع, ألذ, يسعى, تقيم, تتخيل, أشتري, تتوكأ, أملك, تنفذ, أحصل, تتردد, يظهر, تجب, ستقول, يضم, نتعاون, نبذر, نغرس, نحتفل, تخضب, يقتسم, سأقتسم, سنشتري, نلبس, نذبح, تشبه, نحمي, نحترم, تناسب, يقرع, أتسابق, أتجول, يتم, أخد, نشكل, فلنضع, نحيط, تقرأ, سترى, وقت, نشرة, دروسك, ريم, طعام, أتساءل, نستقبل, يتحدث, ينير, يعز, يعلو, نضحك, يتكبر, يرتاح, أتحاور, يتخيل, ترسم, يسمع, يراجع, يفعل, تؤذي, تكرر, تلتزم, يبعد, سنذهب, أركب, أفتح, تكلم, يحفظ, نجود, نجيئ, ينبعث, يكرم, يتجاوز, أتمتع, تخف, أرضى, تجمع, يقطف, تنام, يلبس, تشرق, تتفتح, يشاهد, يهطل, تسلق, يتسلل, تحضر, سأحمل, تعالي, أعد, تنظر, سنلتقي, تمشط, سأتنظف, ينس, أصدق, أقترب, ينبح, أبدو, أطلب, يعتمد, يحضر, يبني, نتأخر, تنقل, نركب, يغلب, يموء, يتفرق, يغادر, نبذل, نجلس, ينظف, نحقق, اللون, كل, يصوم, يصلي, يغفر, تبقى, يهنئ, أبهج, ترضي, تفضل, تحلم, يختلف, نعيد, أستمع, تذكر, نستطيع, نتخيل, نتبارى, ينصت, يسكن, نختار, سيشارك, ننقسم, تضم, يرن, سيخترع, تجد, تصدق, أحسب, نراجع, أبرع, تضر, سيؤدي, يستغني, يوثر, ينصح, تتأثر, تصاب, تنشأ, يفهم, يجلس, يعني, تنهض, يسأل, أتمدد, تتسرب, آخُذَ, تَسْتَطَعِينَ, أُرِيدُ, تَسْتَطِعِينَ, أَسْتَطِيعُ, يَتَلَطَّخَ, يُحِبُّ, يَعْرِفُ, يَقُولُ, أَقْرَأُ, أَغْلَطُ, أَكْتُبُ, أَضْغَطُ, أَرْسُمَ, أَكُونُ, أَرْسُمُ, أَمْحِي, تَنْفُضُ, تُسَاعِدَ, تَكْنِسُ, يَسْقُطُ, تَهُبُّ, يَنْظُرُ, نَقَرَ, يَصْلُحُ, أتعشى, أَفْعَلُ, تُرِيدُ, أَنَامَ, أَتَعَشَّى, أَجْلِسُ, تَصْنَعُ, يَعْمَلُ, تَبِيعُ, تَلْعَبُ, تَعْتَنِي, تَخْلَعُ, تُشَاهِدُ, تَجْلِسُ, تَتَغَطَّى, تُغَطِّي, أُحِبُّ, تَلْعَبَ, تَغْزِلُ, يُمَثِّلُ, نُمَثِّلْ, أُمَثِّلُ, نَعْرِفُ, تُمَثِّلُ, تَتْعَبُ, يَجُودُ, تَنْظُرُ, تَصْفِرُ, تَجِدُ, تَسِيرُ, تَطِقُّ, يَتَصَاعَدُ, يَرْفَعَ, تَعْبُرَ, يَعْتَنِي, يَسْتَيْقِظُ, يَحْمِلُ, يُسَلِّمُ, يُعْجِبُ, تَلْعَبَا, يَفْحَصُ, تُحَضِّرُ, سَتُشْفَى, يَنْسَى, يَلْعَبَ, يَرِنُّ, يَطْلُبُ, يُنْصِتُ, تُسْرِعُ, نُسَمِّي, يَعِيشُ, يَأْكُلُ, يَشْرَبُ, أَشْرَبُ, أَلَذَّ, أَنْصَرِفُ, تَرْعَى, يَحْلُبُ, تَقُولُ, أَبْحَثُ, أَذْهَبُ, تَرْفَعُ, يَصْطَادْ, يَجْرِي, يَأْتِي, تَرَى, تُزْهِرُ, تَنْتَقِلُ, يُزَقْزِقُ, تَشْتَغِلُ, يَبْقَ, تُشْرِقُ, تَتَوَقَّفُ, يَتَعَلَّمُ, يَلْعَبُ, تُعَلِّمُ, تَنِطُّ, يَنِطُّ, أُغَنِّي, أَطِيرُ, تَنْتَظِرُ, تَقِفُ, يَأْذَنَ, يَعُودُ, سَتَنْزِلُ, تَنْقُلَ, يَرْفَعُ, أَكْبُرُ, سَأَكُونُ, يَسِيرُ, يَرَى, يَصِلُ, تَأْتِي, تُسَمَّى, يَجْمَعَ, يَكُنْ, يَظُنُّ, يُمْكِنُ, يُوجَدَ, تَتَدَحْرَجُ, تَضْرِبُ, تُعْطِي, نَلْعَبُ, تَظْهَرُ, يَرْكَبُ, يَجِبُ, نَعْمَلَ, أَنِطُّ, أَلْعَبَ, أَقْدِرُ, أَنِطَّ, أَعُومَ, يَقْدِرُ, يَجِيءُ, يُفَكِّرُ, يَصِيحُ, يَنْبَحُ, تَسْكُنُ, تَسْكُنَ, أَكْبَرُ, يَذْهَبُ, تَبْحَثُ, آكُلُ\n",
            "\n",
            "POS Tag: VeP nasikh\n",
            "Words: يزال, تصبح, تكون, يصير, سيكون, يكون, تظل, تصير, تضحك, ستكون, يصارع, يضحك, أظل, تتكون, يمسك, تزال, يصبح, يَكُونُ, يَصِيرُ, تَكُونَ, سَتَكُونُ\n",
            "\n",
            "POS Tag: VeP.O\n",
            "Words: تنهرهما, يرعوهم, يرحمهم, أجملك, أحبك, نبنيه, تريده, تحبسها, تضعها, يرحكم, تحكيها, يعطيهم, تقدمه, أراها, تحبهم, تقدمها, يساعدها, تراه, أجعلها, يسحقها, يرفسها, يملأها, أزرعه, تتعهده, نأكله, يمكنني, أرجوك, سأنقذك, أساعدها, تربطها, يضعها, يراها, أعرفك, سأرافقك, تكبرها, تحياها, يجعلها, تجهله, نستشيره, يمثلكم, سأناديكم, يحدثنا, سيفعله, يمنعها, يختزنها, تساعدنا, يستخدمه, يؤديها, يمكنه, أصابك, أنصحك, تفيدك, يحبها, يتأملها, يلهيها, يستعملها, يصنعها, يحملها, تمنعه, يتسلمها, يقدمها, نراه, تتعداها, نراهم, تراني, يذكرنا, تقينا, يجعله, يتناولها, يحرسه, يعتدها, سنحققه, يتركهم, يملكها, يفتكها, يساعدني, تبقها, تقوله, يضبطها, تحلقنا, تصحبه, أكتبها, نأكلها, يحفظها, تجدها, ينادينا, تفرحكما, يحزننا, نعانقه, نشاركها, تحبها, أعرفها, نزلنا, أشعلنا, يعرفني, أبيعها, يهمها, ستساعدك, يحمه, أروعه, سيزورنا, نبتغيه, نكتبها, يعانقها, يرافقكم, يرافقنا, أعرفه, أتذكره, يمهلنا, سنحضرها, أجدها, يسلينا, ستتبعها, تفارقها, تحبه, تعطيه, تراها, نجده, نرتبها, يناديه, ينسجه, تشاهده, تلامسها, تحرسه, يزورنا, أودعه, أرافقك, أحطمها, نزوره, أزوره, يقوينا, تعطينا, نفسدها, نخبزه, نتناولها, أوصانا, يلعبها, أتعبك, تؤلمك, تخنقه, تعلمنا, نجمعها, نصرفها, سنصرفها, سنفتحها, ينهرهم, يقيدها, سنؤديها, يحبه, نضاحكه, يقبله, يكفينا, تحتضنها, تعلمهن, نعرفها, توصيهم, تنتظرهم, تمتطيه, يريدنا, سألونها, سألونه, يطيره, ينتظره, يطاردها, أغلاها, أحلاها, أنسها, أهواها, يعرفهم, يراه, يرافقها, تنتظرها, تعنيه, تملأها, يجره, يصاحبها, أساعدك, ترافقها, أجملها, سأجعله, يرافقك, تتوسطه, أسقطك, يتبعه, ستستقبلنا, تكسوها, يوقظه, ينقصها, أراك, أدعوك, يقطعني, يختطفها, سأتركك, تحتاجه, نغسله, تنظفها, نراها, أعلمه, أكافئه, تقرأه, تنظمها, تعانيه, أحبه, يحتلها, على, يمارسها, يهزمنا, أرافقهم, تحدثه, أقرأها, يفوتك, يمكنك, أُبَلِّلُهُ, يُعْجِبُهَا, يُغَالِبُهَا, تَجْعَلُهَا, أَبِيعَهَا, يُشَاهِدُهَا, تُوَصِّلُكَ, يَحْمِيكَ, يَزُورُنَا, يُعْجِبُهُ, تَلْتَهِمُهُ, تَلْتَهِمَهُ, أَسْمَعَكْ, يَحْفَظُهَا, يُغَطِّيهِ, يَجِدُهَا, يُعْجِبُكَ, يَزْرَعُهَا, أَزْرَعُهَا, يَطْحَنُهُ, أَطْحَنُهَ, يَخْبِزُهُ, أَخْبِزُهُ, يَأْكُلُهُ\n",
            "\n",
            "POS Tag: VeP.O nasikh\n",
            "Words: تمسها\n",
            "\n",
            "POS Tag: VeP.S\n",
            "Words: تعبدوا, يعاملوا, يكبرون, يتضايقوا, تعبوا, يعملون, يحتاجون, تفوقوا, تعرفين, تخافي, يحاولان, يطرحا, يلعبون, يحبون, يكرهون, يعيشون, يكرهونها, يرفضونني, يتخلون, تريدين, ترغبين, يقفزون, يعبرون, تحبين, يستطيعون, يرغبون, يقومون, يتعلمون, يتمنون, يلعبوا, يذهبوا, يتحاربان, يتنافسان, يكتبوا, يفهمان, يذهبا, يحملون, تتعلمون, ينلن, يشعران, تفضلوا, تختاروا, تترشحوا, دراستهما, يفكران, يراقبان, يطمحون, تحبون, يفضلون, تنتقلان, يشعروا, يطلبونه, يدعون, يتعبون, يكثرون, يحبونه, يحترمون, يسمعون, يغضبون, يأخذون, يستطيعوا, يؤدوا, تعلمون, تستخدموا, تتخلوا, يحيونه, يقدرون, تحملونه, يقدمونه, يذهبون, ينفذا, تكتبا, تسمعون, تصوروا, ترون, تقتاتون, ترشون, تعبثوا, يتحدثون, يعرفوا, ينصرفوا, يحزروا, سيعرفون, يتساءلون, يتجولون, ينتظرونك, يتبادلون, تفضلون, ينشدن, يقفزن, يتحمسن, تحبنا, ينتظرون, يمارسوا, ينشدوا, يفهمونها, يقولون, يعبدون, يتحلقون, يجدوا, تخافوا, يستنجدون, يتجادلان, تتحدثان, تعرفون, يجيبان, يكتبان, يشتغلون, ينشدون, يدرسون, يرقبون, يتطلعان, يستعدان, يرددون, يجتمعن, ترمين, تسمعوا, توافقون, تعرفونه, يزعجون, ينقذونه, يبنوا, تريدون, يؤنسون, تقضين, يتصفحان, يطلعان, تساعدان, يستقبلان, يمثلان, يتسابقون, يحصلون, ينطلقون, يتنافسون, يشترون, يصنعون, يتفننن, يأتون, يطلبون, يتباهون, يشتهون, يطوفون, يغيرون, يرشون, يدخلون, يشاهدون, يتفرجان, تلمعان, يصاحبون, تخاطبه, أرضيها, تفعلون, تنبهه, يجرون, يتناولون, يحرثون, يرسمون, ترسمون, يستريحون, يتجولان, يأكلان, تسترجعي, يلعبان, يضربن, ينتظران, تشاهدان, يلبسون, يطلقون, يسيروا, تناديه, يقرأون, يتدافعون, يتعانقون, يرحبون, يستيقظون, يقضمان, يهتفون, يسبحون, يقولان, يبحثان, يرتعشان, تصدقونني, سينظمون, يتأخرون, ينقطعن, تحضرون, ستزينون, يجعلوا, يقرأن, يتوفرون, تدرون, يسمحوا, تُرِيدِينَ, تَكْوِيهَا, تَلْعَبُوا, يَلْعَبُونَ, دَعِينِي, أُسَاعِدْكِ, يَسُرُّهُمَا, يَلْعَبَا, يَعَضُّونَ, يَتَحَدَّثَانِ, يَسْكُنُونَ, تَأْكُلَا\n",
            "\n",
            "POS Tag: VeP.S nasikh\n",
            "Words: تكوني, تصبحين, يكونون, تشاركان, يضحكان, يَظَلُّونَ\n",
            "\n",
            "POS Tag: VeP.S.O\n",
            "Words: يشتمني, تقصدينه, تفعلين, تذهبين, يرشدني, أسقطني, ترافقني, تدوسوني, تتقاذفني, يألفوها, تسعدني, تخافين, نعاقنه, يحبونها, يشترونها, يركبني, تأخذني, تتبعني, تنتظرني, تحظرين, يساعدانه, تشاركني, ينتظرني, يسعني, سيرافقني, سيعلمني, يصلني, تتركينني, يوجعني, يقلدني, تجذبني, تستحقين, يحدثني, تتهمني, يُعْجِبُنِي, يُسَلِّينِي, يَغْلِبُنِي, يُصِبْنِي, يُعْطِينِي, تَشْكُرُنِي, تُعْجِبُنِي, أَطْحَنُهُ, تَشْتَغِلَانِ\n",
            "\n",
            "POS Tag: VePa\n",
            "Words: أبر, أخذ, دخل, قال, بادر, تعالى, أوجب, سمع, أدخل, تأثر, حلق, أحلى, عاش, ابتعدت, انكمشت, احتاج, قيل, أخذت, قدم, عرض, كتب, استجابت, بودي, تساءل, أجاب, أنسيت, بنى, قالت, مات, أطلق, طلبت, بدأت, عرفت, كسب, امتد, ضاع, أثمرت, قاطعت, عرف, وصلت, قررت, قلبت, ورمت, حطت, انحنت, نظرت, صدر, حملت, شاهدت, أسرعت, بلغت, أقيم, تذكرت, شرحت, اشتريت, نجحت, احسب, عاد, طأطأ, سجلت, مالت, جعل, حاولت, غرقت, حيل, بدأ, ساد, أبقى, استحسن, أحسن, تكاثرت, التوت, دفعت, حان, لفت, انسل, أرك, أرعى, تم, مضت, تقطع, حققت, ماتت, شاركت, استدعى, ابتسم, تقرر, خرج, قام, فاز, صنعت, تعلمت, عدت, انزويت, نظفت, قصصت, ألصقت, لففت, خرجت, أرخيت, التف, زادت, انطلقت, مني, فرح, وعد, ولد, بعد, اخترع, قدمت, اقترب, صلى, ظهرت, ركب, اختار, ضحك, شاء, أخبرت, وهب, ساعد, تغيب, رحبت, اكتشف, أصاب, دخلت, شغل, سأل, زار, أفرط, سبب, دق, أحس, جاء, بلغ, ترك, تمهل, بقي, عرضت, لقي, شكرت, انتهى, أعطى, تأفف, تسبب, اجتمع, تنوعت, عاشت, اكتسب, تفتق, تفضل, انهمك, أرجع, تأكدت, تعلم, وقفت, ولدت, فتحت, ضحكت, أسقط, ردت, طأطأت, أجمل, غلب, توقع, أحزن, ربح, خسر, بقيت, جرح, تظاهرت, وقع, تعرضت, صوب, صبر, جلس, وضع, استاء, بل, تمنع, تكاثر, هانت, طفقت, فاخر, ملت, ربتت, أجلت, اتجهت, توجهت, تهيأ, نهض, اعتنى, رأى, سكت, طلب, أخرج, وجب, حدث, مدت, ضاعت, اقتصد, تدخلت, اعتادت, سافر, وصل, نزل, عملت, نظمت, أشرف, اشترك, بنيت, تردد, حلت, جمعت, أمتع, مرت, نادى, اتفقت, صاح, أحست, قفز, سبحت, حظي, أشرفت, ارتميت, تجولت, ارتعش, خطرت, أهوى, انتزع, انقلب, شكلت, زمجر, اصطدم, فوجئ, رجفت, تناولت, اتسخت, قلما, بدت, شددت, بدا, رسمت, علقت, جمع, أقلعت, أوشكت, عبس, حجبت, ملأ, سكنت, مست, نزلت, أغطي, غادر, تأخرت, استمتعت, رحب, عادت, كثرت, ارتمى, أجابت, قضى, لعبت, شككت, تغير, نمت, حكى, تسابق, حكت, عمت, احمر, اقترح, استبدل, قبلت, هيأ, نسي, خلعت, قرأ, أقبل, غنيت, انبسط, درس, تطايرت, انفتحت, تحولت, اشتغل, ساعدت, اختفت, شرع, تسابقت, امتدت, تنافست, انطلق, عمي, شفيت, مرضت, هب, خرطت, استيقظ, وضعت, تفقدت, أتقن, أنشأت, نثرت, غرست, نطق, طبقت, بصر, تهاطلت, أصغى, دبت, حيت, ثرثرت, استحيت, أطلت, تركت, فرت, ربيت, عطشت, جاعت, نامت, خفت, نام, جرى, سويت, استمرت, انصرف, انجرفت, انتظرت, شارك, أفاق, صعدت, دقق, أمضى, تفتحت, نطقت, تخلفت, أجريت, انخفضت, ابتسمت, مشمش, نهبت, ظهر, اشتدت, تفوق, تلقى, كاد, بشر, اغتاظ, ظنت, استسلمت, أتت, وصبت, تخلصت, أعد, التقط, اجتمعت, حل, حلقت, طحنت, خبزت, شبع, أكلت, قاقت, اقترحت, اكتظت, انتهت, اتخذ, تيسرت, عسرت, انتصبت, سلم, تبارك, تضمن, رتبت, عظم, استطاع, لاحظ, أرسلت, تمتع, تعالت, أنت, صبت, كونت, دنا, تصنع, حمل, أقيمت, أراد, راح, شاهد, أرق, وجد, تمنى, استعدت, تمرغت, اغتسلت, أصفى, لذ, ثارت, أزف, حار, امتلأت, أقبلت, طاق, قرر, راحت, صنع, اشترت, شهقت, لبست, خجلت, استرخى, ترتب, دوت, أرسل, سقطت, ألقي, التفتت, لحقت, ألفت, اقتربت, رد, خاف, حام, اندهشت, عزم, تسلل, قصد, اهتم, طار, غاب, نادت, وجدت, انتشرت, جاءت, أصابت, كفى, فهم, ظل, أخد, استأنف, تعب, صعد, داست, سمعت, ودع, شعر, شفي, زارت, التفت, استضاف, هيأت, رافق, توقف, حدق, سار, ابتعدا, التقى, سمعا, سلكت, واصلت, أوقفت, أخرجت, انصرفت, ناول, أخدت, عاتب, سر, صاحت, أر, تعبا, أحظرت, احتفلت, لبس, حصلت, أتوا, امتلأ, حضر, طابت, رفرفت, اندهش, فكر, توصل, أمسك, اشترى, أنهى, فرك, ذهب, بارك, دعا, انهض, توضأت, اعتاد, تحلقت, اشتغلت, فضلت, اتجه, ابتهج, هيئ, أرادت, خطا, كتبت, رفضت, أخطأ, أصبت, فسد, أذن, أحضرت, نال, نشأت, يسر, نوقر, تطلع, اشتد, قفزت, مازالت, عد, غنت, مر, أخفى, هجمت, تطلب, أبصر, أخبر, تكبر, جادت, ضربت, اختبأ, تلبدت, ابتلت, عثرت, شممت, سارت, وصف, غيرت, حفرت, صرخت, وعدت, اعترفت, اكتشفت, انتقى, سجل, كلف, رددت, اتفق, تكلفت, ذاع, أمكن, استجاب, شجعت, الشوكة, غط, المدلك, الملعقة, ذلك, صمت, فعلت, صبرت, مضى, أنزل, هذى, وفرت, صحت, فاضت, انتشر, تطورت, أنهت, استغنى, مللت, سبق, استعملت, بسبس, آه, مشى, وَصَلَتْ, قَالَتْ, قَالَتِ, قَلَمًا, طُلِيَ, اقْتَرَبَ, وَلَّى, رَسَمَ, لَبِسَتْ, فَتَحَ, قَالَ, جَاءَ, أَدْخُلُ, أَشْرَقَتِ, ذَهَبَتْ, رَأَتْ, جَاعَتْ, ذَهَبِ, خَرَجَ, تَطْلُبُ, شَبَّ, ذَهَبَ, أَقْبَلَ, سَمِعَ, نَجَّا, غَنَّى, شَاهَدَتِ, أُغَنِّي, تَفَتَّحَتْ, أَحْسَنُ, وَضَعَتْ, بَنَتِ, فَقَصَ, تَغِيبُ, قَضَى, دَخَلَ, جَحَظَتْ, وَقَفَ, فَرِحَ, صَحَا, أَشْرَقَتْ, جَاءَتْ, وَقَفَتْ, وَرَدَّ, بَدَأَتِ, شَاءَ, حَكَتْ, وَجَدْتُ, حَصَدَتِ, حَصَدْتُ, عَادَتْ, طَحَنْتُ, خَبَزَتِ, خَبَزْتُ\n",
            "\n",
            "POS Tag: VePa nasikh\n",
            "Words: كان, ليس, كانت, صار, صارت, ظلت, ليست, أصبحت, أصبح, زال, تكونت, كَانَ, أَصْبَحَتْ, صَارَتْ, كَانَتْ, صَارَ, لَيْسَ\n",
            "\n",
            "POS Tag: VePa.O\n",
            "Words: فتحه, أعجبه, قدمها, صبها, علمني, طلبه, أعطتهم, ساعدتني, تملكتني, أدخره, قطعه, جاءتني, عهدتك, تكلمها, لاقته, نظمتها, جعلها, اختاره, وعدنا, دفعني, أعجبتني, أنجزته, أدخلها, أحبها, جعلهم, دعاها, ساعدتنا, نظفه, طلبها, مدحه, زرتها, سماها, فاجأتني, قدمتها, اطلعنا, لعبه, جمعهم, أصابك, وجدها, أدركنا, قاطعتها, ذكرته, بنينا, نالها, تركته, زرنا, أظنها, عرفتها, كشفتها, دفعتني, جزاك, أعطاني, أعجبته, أعجبك, راقتني, سأله, راقتك, جعلتني, استقبلتنا, قسمه, حذرتني, استقبلهم, صنعتها, أعجبتكم, راقتكم, قضينا, أعدها, أشبعتني, أقلعها, حفرنا, وردتنا, اعترضته, صافحتني, حلقه, راقهما, فرحنا, حضره, أحسنه, عرفه, شرطهم, قصده, استقبله, سمعه, أعجبتك, سألته, شاركتنا, شاهدتها, جمعنا, طحنا, عجنا, جاءنا, جدتي, الشيخ, صاحبتني, رميته, كسرته, غمره, أجابه, فحصه, نصحه, جرحتني, حرمتني, جعلني, أمتعتنا, ساعدهم, أخبرتني, استطاعه, لاتكن, رَآهُ, يَسُرُّهُ\n",
            "\n",
            "POS Tag: VePa.S\n",
            "Words: فهمتم, عشت, قلت, كن, تزوجت, كنت, كلما, سألت, رأيت, سمعت, باكيا, بحثت, وجدت, فكرت, اتفقا, صرت, جلست, فهمت, قريتن, رفضوا, فرحت, بقيا, بنيتم, احتاجا, أتيت, قمت, فلم, كبرا, اشتغلا, استفادا, انطلقا, اشترينا, قصدوا, أقلقنا, استيقظت, أحسست, اخترعوا, حذروا, لاحظت, زلت, انطلقنا, سألنا, دخلنا, جئت, سأنا, حضرت, نلت, لعبتم, ووقفوا, خسرنا, استهانوا, ندموا, صحون, شعرت, أحسنتم, اخترت, فحصتم, نسيت, أخذوا, توفقنا, أفرحتا, وجدنا, تدخلنا, اتفقوا, قطعنا, وصلنا, صبحنا, خرجنا, قدموا, أخذنا, استرحنا, قمنا, أسرعوا, طلعوا, صادفت, تعلقت, لمحت, هتفت, شاهدوا, سمعوا, أضعت, جئن, استبدلوا, تحلقنا, فاجأوا, حاولنا, حضرتم, تذكرن, قرأت, انتبهت, تفضلوا, قضيت, جوربا, أخذت, شاهدنا, رأينا, رجعت, بقينا, هربت, قالوا, عدنا, تعاونتم, جئنا, زرنا, شعرنا, راها, شئت, انتظرنا, سمعنا, قلنا, تلمسنا, تطلعت, فكروا, سلما, فعلت, نطقنا, اندفعنا, استقبلوا, نظفوا, حوشنا, قعدوا, خفت, تحققوا, أقمنا, فجئت, أجابها, تعلمت, تبعها, كلمته, تعرفت, احتفلتم, لست, لاحظوا, ردها, قصدت, حصدا, خبزا, أخرجها, لفته, نشدو, استراحا, نصبوا, سميتها, ألبستها, القران, سورة, وصلتم, ذهبت, درسنا, انقسمنا, رسمنا, كونوا, اجتمعوا, غضبت, أردت, سافرت, وصلا, اقتربنا, شغلنا, ذهبنا, جلسا, احتميا, تاها, التقيا, تهنا, تذكرت, أبدوا, نجوت, توزعنا, عرفتم, تفرقتم, بحتا, اقتنعت, رسمن, أعددنا, علمت, عدت, رجوت, صدقت, سَأَلَتْها, كُنْتُ, حَمَلَتْهَا, ضَحِكُوا, تَعَالَوْا, عَمِلَهَا, نَجَّاهْ, سَأَلَتِ, أَرَدْتَ, كُنْتَ, ذَهَبَتْ\n",
            "\n",
            "POS Tag: VePa.S nasikh\n",
            "Words: كانوا, كانا, ظلا, كنا, أمسكت\n",
            "\n",
            "POS Tag: VePa.S.O\n",
            "Words: ربياني, سألتني, سلمني, رافقني, فحصني, وجدته, سمعته, استقبلني, سميتموه, وعدتني, أوجدني, غرسناها, عرفته, أخبرني, فاجأني, زرناه, سقيناها, انتظرني, سألته, ندشنها, جمعتموه, رسمتها, سألناها, عرفتموني, لبسته, قضوها, غرستها, ملأني, ساعدتني, أسعدني\n",
            "\n",
            "POS Tag: Vide\n",
            "Words: وان, أ, س, م, و, ب, إ, كنت, نَا\n",
            "\n",
            "POS Tag: XXXXX\n",
            "Words: وهل, فهل, وتقول\n",
            "\n",
            "POS Tag: rep P.No.S\n",
            "Words: لخالقنا\n",
            "\n"
          ]
        }
      ]
    },
    {
      "cell_type": "markdown",
      "source": [
        "# **Entity Extraction: Test & Compare**"
      ],
      "metadata": {
        "id": "9BlDTORAGfRc"
      }
    },
    {
      "cell_type": "markdown",
      "source": [
        "**Entity Extraction NER: Testing two models**"
      ],
      "metadata": {
        "id": "FGySerlgGstf"
      }
    },
    {
      "cell_type": "markdown",
      "source": [
        "We first test the CAMeLBERT-Mix NER Model on sample sentences and without finetuning"
      ],
      "metadata": {
        "id": "JgCpy5u1uc6i"
      }
    },
    {
      "cell_type": "code",
      "source": [
        "from transformers import pipeline\n",
        "import torch"
      ],
      "metadata": {
        "id": "U05-vl8-TJ-x"
      },
      "execution_count": 167,
      "outputs": []
    },
    {
      "cell_type": "code",
      "source": [
        "def setup_arabic_ner():\n",
        "\n",
        "    tokenizer = AutoTokenizer.from_pretrained(\"CAMeL-Lab/bert-base-arabic-camelbert-mix-ner\", model_max_length=512) # Load tokenizer\n",
        "    model = AutoModelForTokenClassification.from_pretrained(\"CAMeL-Lab/bert-base-arabic-camelbert-mix-ner\")  # Load model\n",
        "\n",
        "    device = torch.device(\"cuda\" if torch.cuda.is_available() else \"cpu\")  # CPU/GPU\n",
        "    model = model.to(device)\n",
        "\n",
        "    # NER pipeline\n",
        "    ner_pipeline = pipeline(\"ner\", model=model,tokenizer=tokenizer,device=device,aggregation_strategy=\"simple\")\n",
        "\n",
        "    return ner_pipeline"
      ],
      "metadata": {
        "id": "yFkJVq_Bx-OV"
      },
      "execution_count": 168,
      "outputs": []
    },
    {
      "cell_type": "code",
      "source": [
        "def extract_entities(text, ner_pipeline):\n",
        "\n",
        "    try:\n",
        "        entities = ner_pipeline(text)\n",
        "\n",
        "        processed_entities = []\n",
        "        for entity in entities:\n",
        "            processed_entities.append({\n",
        "                'entity': entity['word'],\n",
        "                'label': entity['entity_group'],\n",
        "                'score': entity['score'],\n",
        "                'start': entity['start'],\n",
        "                'end': entity['end']})\n",
        "\n",
        "        return processed_entities\n",
        "\n",
        "    except Exception as e:\n",
        "        print(f\"Error processing text: {str(e)}\")\n",
        "        return []"
      ],
      "metadata": {
        "id": "2GJfL6bOyMWV"
      },
      "execution_count": 169,
      "outputs": []
    },
    {
      "cell_type": "code",
      "source": [
        "def analyze_arabic_text(text):\n",
        "\n",
        "    ner_pipeline = setup_arabic_ner()\n",
        "    entities = extract_entities(text, ner_pipeline)\n",
        "\n",
        "    # Group entities by type\n",
        "    entity_groups = {}\n",
        "    for entity in entities:\n",
        "        entity_type = entity['label']\n",
        "        if entity_type not in entity_groups:\n",
        "            entity_groups[entity_type] = []\n",
        "        entity_groups[entity_type].append({\n",
        "            'text': entity['entity'],\n",
        "            'score': entity['score'],\n",
        "            'position': (entity['start'], entity['end'])})\n",
        "\n",
        "    return entity_groups"
      ],
      "metadata": {
        "id": "fVz_yWPgybqe"
      },
      "execution_count": 170,
      "outputs": []
    },
    {
      "cell_type": "code",
      "source": [
        "sentence = df['sentence'][28228]\n",
        "print(sentence)"
      ],
      "metadata": {
        "colab": {
          "base_uri": "https://localhost:8080/"
        },
        "id": "I16L7hu4T-Ma",
        "outputId": "ded88fbc-fd22-4644-c09c-dc3c6016d908"
      },
      "execution_count": 171,
      "outputs": [
        {
          "output_type": "stream",
          "name": "stdout",
          "text": [
            "وَلَمَّا خَبَزَتِ الْعَجِينَ، عَادَتْ إِلَى صَاحِبَيْهَا وَقَالَتْ لَهُمَا : «لَقَدْ خَبَزْتُ الْعَجِينَ ، فَمَنْ يَأْكُلُهُ؟» فَقَالَ الدِّيكُ الرُّومِيُّ : «أَنَا آكُلُ الْخُبْزَ». وَقَالَتِ الْبَطَّةُ : «أَنَا آكُلُ الْخُبْزَ» فَقَالَتِ الدَّجَاجَةُ : «لَنْ تَأْكُلَا الْخُبْزَ، لِأَنَّكُمَا لَا تَشْتَغِلَانِ». وَذَهَبَتِ الدَّجَاجَةُ الشَّغَّالَةُ، وَأَكَلَتِ الْخُبْزَ مَعَ فِرَاخِهَا الصِّغَارِ.\n"
          ]
        }
      ]
    },
    {
      "cell_type": "markdown",
      "source": [
        "The model was trained on sentences without diacritics, so we remove them"
      ],
      "metadata": {
        "id": "jTZ-h3mUu8vN"
      }
    },
    {
      "cell_type": "code",
      "source": [
        "import re"
      ],
      "metadata": {
        "id": "R_okhc2JvIKG"
      },
      "execution_count": 172,
      "outputs": []
    },
    {
      "cell_type": "code",
      "source": [
        "def remove_diacritics(text):\n",
        "    arabic_diacritics = re.compile(r'[\\u0617-\\u061A\\u064B-\\u0652]')\n",
        "    return re.sub(arabic_diacritics, '', text)"
      ],
      "metadata": {
        "id": "ifHJPpyCuqW6"
      },
      "execution_count": 173,
      "outputs": []
    },
    {
      "cell_type": "code",
      "source": [
        "#test1\n",
        "mosar_sentence_wd = remove_diacritics(sentence)\n",
        "print(\"Sentence without Diacritics:\", mosar_sentence_wd)"
      ],
      "metadata": {
        "colab": {
          "base_uri": "https://localhost:8080/"
        },
        "id": "zxyTuoLavLjQ",
        "outputId": "fab53c7e-2965-4c02-def7-acac2eb37729"
      },
      "execution_count": 174,
      "outputs": [
        {
          "output_type": "stream",
          "name": "stdout",
          "text": [
            "Sentence without Diacritics: ولما خبزت العجين، عادت إلى صاحبيها وقالت لهما : «لقد خبزت العجين ، فمن يأكله؟» فقال الديك الرومي : «أنا آكل الخبز». وقالت البطة : «أنا آكل الخبز» فقالت الدجاجة : «لن تأكلا الخبز، لأنكما لا تشتغلان». وذهبت الدجاجة الشغالة، وأكلت الخبز مع فراخها الصغار.\n"
          ]
        }
      ]
    },
    {
      "cell_type": "code",
      "source": [
        "entities = analyze_arabic_text(mosar_sentence_wd)\n",
        "print(entities) #empty list -> the model did not recognize the entities"
      ],
      "metadata": {
        "colab": {
          "base_uri": "https://localhost:8080/"
        },
        "id": "3AdWlRG56A0O",
        "outputId": "5276a540-4b0b-4954-91c7-8156bdead309"
      },
      "execution_count": 175,
      "outputs": [
        {
          "output_type": "stream",
          "name": "stderr",
          "text": [
            "Some weights of the model checkpoint at CAMeL-Lab/bert-base-arabic-camelbert-mix-ner were not used when initializing BertForTokenClassification: ['bert.pooler.dense.bias', 'bert.pooler.dense.weight']\n",
            "- This IS expected if you are initializing BertForTokenClassification from the checkpoint of a model trained on another task or with another architecture (e.g. initializing a BertForSequenceClassification model from a BertForPreTraining model).\n",
            "- This IS NOT expected if you are initializing BertForTokenClassification from the checkpoint of a model that you expect to be exactly identical (initializing a BertForSequenceClassification model from a BertForSequenceClassification model).\n",
            "Device set to use cpu\n"
          ]
        },
        {
          "output_type": "stream",
          "name": "stdout",
          "text": [
            "{}\n"
          ]
        }
      ]
    },
    {
      "cell_type": "code",
      "source": [
        "mosar_sentence_2 = df['sentence'][150]\n",
        "print(mosar_sentence_2)"
      ],
      "metadata": {
        "colab": {
          "base_uri": "https://localhost:8080/"
        },
        "id": "5zPbIhgs5swU",
        "outputId": "9705ba57-d6ca-4790-c873-4950edd6e346"
      },
      "execution_count": 176,
      "outputs": [
        {
          "output_type": "stream",
          "name": "stdout",
          "text": [
            "وقالت ليلى : ((لقد أوجب علينا ربنا، سبحانه وتعالى، أن نخاطب اباءنا وأمهاتنا باحترام وبكلام طيب)).\n"
          ]
        }
      ]
    },
    {
      "cell_type": "code",
      "source": [
        "entities_2 = analyze_arabic_text(mosar_sentence_2)\n",
        "print(entities_2) #PERSON entity detected with 96% accuracy"
      ],
      "metadata": {
        "colab": {
          "base_uri": "https://localhost:8080/"
        },
        "id": "_O3HbGAO58Su",
        "outputId": "b7955df9-1a59-4eb1-d3ef-01e1502d3064"
      },
      "execution_count": 177,
      "outputs": [
        {
          "output_type": "stream",
          "name": "stderr",
          "text": [
            "Some weights of the model checkpoint at CAMeL-Lab/bert-base-arabic-camelbert-mix-ner were not used when initializing BertForTokenClassification: ['bert.pooler.dense.bias', 'bert.pooler.dense.weight']\n",
            "- This IS expected if you are initializing BertForTokenClassification from the checkpoint of a model trained on another task or with another architecture (e.g. initializing a BertForSequenceClassification model from a BertForPreTraining model).\n",
            "- This IS NOT expected if you are initializing BertForTokenClassification from the checkpoint of a model that you expect to be exactly identical (initializing a BertForSequenceClassification model from a BertForSequenceClassification model).\n",
            "Device set to use cpu\n"
          ]
        },
        {
          "output_type": "stream",
          "name": "stdout",
          "text": [
            "{'PERS': [{'text': 'ليلى', 'score': 0.96104264, 'position': (6, 10)}]}\n"
          ]
        }
      ]
    },
    {
      "cell_type": "code",
      "source": [
        "story_text = \"إمارة أبوظبي هي إحدى إمارات دولة الإمارات العربية المتحدة السبع\" #a sentence not in the Mosar dataset\n",
        "results = analyze_arabic_text(story_text)"
      ],
      "metadata": {
        "colab": {
          "base_uri": "https://localhost:8080/"
        },
        "id": "q3c2U-9x0tXb",
        "outputId": "0754ae2c-0ffb-41a7-a82f-8f6429ea9a0e"
      },
      "execution_count": 178,
      "outputs": [
        {
          "output_type": "stream",
          "name": "stderr",
          "text": [
            "Some weights of the model checkpoint at CAMeL-Lab/bert-base-arabic-camelbert-mix-ner were not used when initializing BertForTokenClassification: ['bert.pooler.dense.bias', 'bert.pooler.dense.weight']\n",
            "- This IS expected if you are initializing BertForTokenClassification from the checkpoint of a model trained on another task or with another architecture (e.g. initializing a BertForSequenceClassification model from a BertForPreTraining model).\n",
            "- This IS NOT expected if you are initializing BertForTokenClassification from the checkpoint of a model that you expect to be exactly identical (initializing a BertForSequenceClassification model from a BertForSequenceClassification model).\n",
            "Device set to use cpu\n"
          ]
        }
      ]
    },
    {
      "cell_type": "code",
      "source": [
        "print(results) #high accuracy in all the entities"
      ],
      "metadata": {
        "colab": {
          "base_uri": "https://localhost:8080/"
        },
        "id": "NJt-qbhU30rb",
        "outputId": "5917fc62-fa0f-49ee-d5f6-659cc7bc30b6"
      },
      "execution_count": 179,
      "outputs": [
        {
          "output_type": "stream",
          "name": "stdout",
          "text": [
            "{'LOC': [{'text': 'أبوظبي', 'score': 0.9928443, 'position': (6, 12)}, {'text': 'الإمارات العربية المتحدة', 'score': 0.95342207, 'position': (33, 57)}]}\n"
          ]
        }
      ]
    },
    {
      "cell_type": "markdown",
      "source": [
        "In the same way, we test the \"hatmimoha/arabic-ner\" model now"
      ],
      "metadata": {
        "id": "HS2YgzCv-TqL"
      }
    },
    {
      "cell_type": "code",
      "source": [
        "def setup_arabic_ner_2():\n",
        "\n",
        "    tokenizer = AutoTokenizer.from_pretrained(\"hatmimoha/arabic-ner\", model_max_length=512) # Load tokenizer\n",
        "    model = AutoModelForTokenClassification.from_pretrained(\"CAMeL-Lab/bert-base-arabic-camelbert-mix-ner\")  # Load model\n",
        "\n",
        "    device = torch.device(\"cuda\" if torch.cuda.is_available() else \"cpu\")  # CPU/GPU\n",
        "    model = model.to(device)\n",
        "\n",
        "    # NER pipeline\n",
        "    ner_pipeline = pipeline(\"ner\", model=model,tokenizer=tokenizer,device=device,aggregation_strategy=\"simple\")\n",
        "\n",
        "    return ner_pipeline"
      ],
      "metadata": {
        "id": "Gpsy1E61-dDx"
      },
      "execution_count": 180,
      "outputs": []
    },
    {
      "cell_type": "code",
      "source": [
        "def extract_entities_2(text, ner_pipeline):\n",
        "\n",
        "    try:\n",
        "        entities = ner_pipeline(text)\n",
        "\n",
        "        processed_entities = []\n",
        "        for entity in entities:\n",
        "            processed_entities.append({\n",
        "                'entity': entity['word'],\n",
        "                'label': entity['entity_group'],\n",
        "                'score': entity['score'],\n",
        "                'start': entity['start'],\n",
        "                'end': entity['end']})\n",
        "\n",
        "        return processed_entities\n",
        "\n",
        "    except Exception as e:\n",
        "        print(f\"Error processing text: {str(e)}\")\n",
        "        return []"
      ],
      "metadata": {
        "id": "RU8hGRg1-nsh"
      },
      "execution_count": 181,
      "outputs": []
    },
    {
      "cell_type": "code",
      "source": [
        "def analyze_arabic_text_2(text):\n",
        "\n",
        "    ner_pipeline = setup_arabic_ner()\n",
        "    entities = extract_entities(text, ner_pipeline)\n",
        "\n",
        "    # Group entities by type\n",
        "    entity_groups = {}\n",
        "    for entity in entities:\n",
        "        entity_type = entity['label']\n",
        "        if entity_type not in entity_groups:\n",
        "            entity_groups[entity_type] = []\n",
        "        entity_groups[entity_type].append({\n",
        "            'text': entity['entity'],\n",
        "            'score': entity['score'],\n",
        "            'position': (entity['start'], entity['end'])})\n",
        "\n",
        "    return entity_groups"
      ],
      "metadata": {
        "id": "zd9rSUcq_C_T"
      },
      "execution_count": 182,
      "outputs": []
    },
    {
      "cell_type": "code",
      "source": [
        "entities_3 = analyze_arabic_text_2(mosar_sentence_2)\n",
        "print(entities_3) #96% accuracy in identifying the PERSON"
      ],
      "metadata": {
        "colab": {
          "base_uri": "https://localhost:8080/"
        },
        "id": "63p_x3or_MIC",
        "outputId": "bf6c8618-4d5b-41db-cffa-5b7e61cc2802"
      },
      "execution_count": 183,
      "outputs": [
        {
          "output_type": "stream",
          "name": "stderr",
          "text": [
            "Some weights of the model checkpoint at CAMeL-Lab/bert-base-arabic-camelbert-mix-ner were not used when initializing BertForTokenClassification: ['bert.pooler.dense.bias', 'bert.pooler.dense.weight']\n",
            "- This IS expected if you are initializing BertForTokenClassification from the checkpoint of a model trained on another task or with another architecture (e.g. initializing a BertForSequenceClassification model from a BertForPreTraining model).\n",
            "- This IS NOT expected if you are initializing BertForTokenClassification from the checkpoint of a model that you expect to be exactly identical (initializing a BertForSequenceClassification model from a BertForSequenceClassification model).\n",
            "Device set to use cpu\n"
          ]
        },
        {
          "output_type": "stream",
          "name": "stdout",
          "text": [
            "{'PERS': [{'text': 'ليلى', 'score': 0.96104264, 'position': (6, 10)}]}\n"
          ]
        }
      ]
    },
    {
      "cell_type": "code",
      "source": [
        "entities_4 = analyze_arabic_text_2(mosar_sentence_wd)\n",
        "print(entities_4) #empty tokens"
      ],
      "metadata": {
        "colab": {
          "base_uri": "https://localhost:8080/"
        },
        "id": "UpKDomM2n1FY",
        "outputId": "f77c705a-2d28-4b4b-9047-8561b8ef8408"
      },
      "execution_count": 184,
      "outputs": [
        {
          "output_type": "stream",
          "name": "stderr",
          "text": [
            "Some weights of the model checkpoint at CAMeL-Lab/bert-base-arabic-camelbert-mix-ner were not used when initializing BertForTokenClassification: ['bert.pooler.dense.bias', 'bert.pooler.dense.weight']\n",
            "- This IS expected if you are initializing BertForTokenClassification from the checkpoint of a model trained on another task or with another architecture (e.g. initializing a BertForSequenceClassification model from a BertForPreTraining model).\n",
            "- This IS NOT expected if you are initializing BertForTokenClassification from the checkpoint of a model that you expect to be exactly identical (initializing a BertForSequenceClassification model from a BertForSequenceClassification model).\n",
            "Device set to use cpu\n"
          ]
        },
        {
          "output_type": "stream",
          "name": "stdout",
          "text": [
            "{}\n"
          ]
        }
      ]
    },
    {
      "cell_type": "code",
      "source": [
        "entities_5 = analyze_arabic_text_2(story_text)\n",
        "print(entities_5)  #all entities identified"
      ],
      "metadata": {
        "colab": {
          "base_uri": "https://localhost:8080/"
        },
        "id": "NWMVc__3_WJz",
        "outputId": "9d5c79e8-362d-4065-c2bf-cbe7d8194544"
      },
      "execution_count": 185,
      "outputs": [
        {
          "output_type": "stream",
          "name": "stderr",
          "text": [
            "Some weights of the model checkpoint at CAMeL-Lab/bert-base-arabic-camelbert-mix-ner were not used when initializing BertForTokenClassification: ['bert.pooler.dense.bias', 'bert.pooler.dense.weight']\n",
            "- This IS expected if you are initializing BertForTokenClassification from the checkpoint of a model trained on another task or with another architecture (e.g. initializing a BertForSequenceClassification model from a BertForPreTraining model).\n",
            "- This IS NOT expected if you are initializing BertForTokenClassification from the checkpoint of a model that you expect to be exactly identical (initializing a BertForSequenceClassification model from a BertForSequenceClassification model).\n",
            "Device set to use cpu\n"
          ]
        },
        {
          "output_type": "stream",
          "name": "stdout",
          "text": [
            "{'LOC': [{'text': 'أبوظبي', 'score': 0.9928443, 'position': (6, 12)}, {'text': 'الإمارات العربية المتحدة', 'score': 0.95342207, 'position': (33, 57)}]}\n"
          ]
        }
      ]
    },
    {
      "cell_type": "markdown",
      "source": [
        "# **Data preparation for Annotation**\n",
        "\n",
        "\n"
      ],
      "metadata": {
        "id": "sNQ36-XALfAp"
      }
    },
    {
      "cell_type": "markdown",
      "source": [
        "First Fine-tuning: We choose the model to fine tune, and use the annotated entities in the first_annotation.jsonl file"
      ],
      "metadata": {
        "id": "nxtr5DgIma8L"
      }
    },
    {
      "cell_type": "code",
      "source": [
        "ds = load_dataset(\"asas-ai/ANERCorp\")\n",
        "print(ds)"
      ],
      "metadata": {
        "colab": {
          "base_uri": "https://localhost:8080/",
          "height": 351,
          "referenced_widgets": [
            "a951f97cc7254af0b55750a764e297fd",
            "66df3a4e437947d296507e38c77e2239",
            "553f0be7d8e44717b937cf67869637c6",
            "5d1896984a754dadb0a6772c4475d553",
            "c9492e97206b48cbb400218d2ca8cd1a",
            "f19732b4889144b7bc2cca97462afe50",
            "2c61c1987cec489d8e4582f8872340ed",
            "6de8ed66e202445a93a1c4ebf9d49cd3",
            "48ee3278e8214b509a1aef9108219c64",
            "7d2f7e96e309434b8816323788d351c0",
            "22e1c2cd2bcf43d5abb9b9b57abe799d",
            "4ee3895c2b7d460d900cc54b602cc2f5",
            "2fa44732da77440f820c0e4604f98506",
            "704b1800a8334b59aa97916af28a1116",
            "89234a1a633e431cad58379ceb38db2a",
            "fd071d7bd6e94198bec52301227ac672",
            "e432e63cb45c45e28bb430cb1fe904ec",
            "475cc91c5dc940baad24a3852d559ed3",
            "b4a0190924a041b0ac310be71f2ec261",
            "e8d7321d8ad94bd6a39d757cc5e501f3",
            "02f0686b5ebe4d3bb35707d5b30ba2c8",
            "bd4984854ae1458ea587ef3a1e8d73ae",
            "608388d09396461aa912b72003086ecc",
            "e017d33d35254a5ca8917cee08ea80b1",
            "e579029b84e5472eb98aa1e95178902e",
            "4c0a8690f74742afb2cf9ce6f668a07e",
            "5264e4e4b6a6482789e12a10edf4648f",
            "42ec6e035acc44f088f71a861bdb3d2b",
            "d2830c0396b043089d6c806ba48e5229",
            "07ca947de3d844ef99d0fa0d1eb26d2a",
            "f1322d1804244ef2978534ea225dc128",
            "ff182ded6bb9452c9bfe532f95200cb9",
            "9e8ec72263e943a6ae979f0b0a4cc89c",
            "152d648e72a24f8783ace6b6ff37c50a",
            "2b98c37f6dbb45a697d449875559cabe",
            "c8666d5f63ed40cf863f8075dd41d420",
            "a8d0001d2e234c6cab624e70bb4e14df",
            "2061935f062942fbadfacee5951e2865",
            "d8ea200dab05435f8f99d2b719eb6b60",
            "c8446b3e02cf44c8adda7667d04ee0d7",
            "c4270ba03ac342358decca35231de21a",
            "ea240481be624a2b9564ba5a780915cc",
            "9537cd3fa94a4cfdaf8c21f95f3c2599",
            "a546937384f14e8a87e262a8faa25263",
            "ddf72480eee3430b837f2eb79e5043fd",
            "50adcd14087242db88ff7dc256cf0f86",
            "a340618cdefb4147a73289588b46b200",
            "2e0b5770cc2c4168bd78f9fbff99da9f",
            "9fc1cbdc357e4266b019eea85849e26e",
            "30a692e2143a4cea92c9eebfccc14a89",
            "e311faa105e4404198fcc7c59c024250",
            "5e8b4b1a62874d9d97bfb5c67ad3b2db",
            "d07e3dd9127d425c84f476535b43e1fb",
            "d6157793f9204a49a67b44233f7bc0b7",
            "e2f50a74f29748e09d8f8ae4e0687ce8"
          ]
        },
        "id": "6r2SAYjMLoGh",
        "outputId": "a87e4bf5-1558-4eb8-804d-a91b66e0ae46"
      },
      "execution_count": 49,
      "outputs": [
        {
          "output_type": "display_data",
          "data": {
            "text/plain": [
              "README.md:   0%|          | 0.00/1.20k [00:00<?, ?B/s]"
            ],
            "application/vnd.jupyter.widget-view+json": {
              "version_major": 2,
              "version_minor": 0,
              "model_id": "a951f97cc7254af0b55750a764e297fd"
            }
          },
          "metadata": {}
        },
        {
          "output_type": "display_data",
          "data": {
            "text/plain": [
              "(…)-00000-of-00001-83c5047e14e68965.parquet:   0%|          | 0.00/855k [00:00<?, ?B/s]"
            ],
            "application/vnd.jupyter.widget-view+json": {
              "version_major": 2,
              "version_minor": 0,
              "model_id": "4ee3895c2b7d460d900cc54b602cc2f5"
            }
          },
          "metadata": {}
        },
        {
          "output_type": "display_data",
          "data": {
            "text/plain": [
              "(…)-00000-of-00001-245173671c05c71a.parquet:   0%|          | 0.00/175k [00:00<?, ?B/s]"
            ],
            "application/vnd.jupyter.widget-view+json": {
              "version_major": 2,
              "version_minor": 0,
              "model_id": "608388d09396461aa912b72003086ecc"
            }
          },
          "metadata": {}
        },
        {
          "output_type": "display_data",
          "data": {
            "text/plain": [
              "Generating train split:   0%|          | 0/125102 [00:00<?, ? examples/s]"
            ],
            "application/vnd.jupyter.widget-view+json": {
              "version_major": 2,
              "version_minor": 0,
              "model_id": "152d648e72a24f8783ace6b6ff37c50a"
            }
          },
          "metadata": {}
        },
        {
          "output_type": "display_data",
          "data": {
            "text/plain": [
              "Generating test split:   0%|          | 0/25008 [00:00<?, ? examples/s]"
            ],
            "application/vnd.jupyter.widget-view+json": {
              "version_major": 2,
              "version_minor": 0,
              "model_id": "ddf72480eee3430b837f2eb79e5043fd"
            }
          },
          "metadata": {}
        },
        {
          "output_type": "stream",
          "name": "stdout",
          "text": [
            "DatasetDict({\n",
            "    train: Dataset({\n",
            "        features: ['word', 'tag'],\n",
            "        num_rows: 125102\n",
            "    })\n",
            "    test: Dataset({\n",
            "        features: ['word', 'tag'],\n",
            "        num_rows: 25008\n",
            "    })\n",
            "})\n"
          ]
        }
      ]
    },
    {
      "cell_type": "code",
      "source": [
        "print(ds['train'][0])"
      ],
      "metadata": {
        "colab": {
          "base_uri": "https://localhost:8080/"
        },
        "id": "LhxDB0DlASy2",
        "outputId": "24c705e2-4b8d-44c4-e0f8-2b935bfc587d"
      },
      "execution_count": 50,
      "outputs": [
        {
          "output_type": "stream",
          "name": "stdout",
          "text": [
            "{'word': 'فرانكفورت', 'tag': 'B-LOC'}\n"
          ]
        }
      ]
    },
    {
      "cell_type": "markdown",
      "source": [
        "**The Doccano Dataset Creation**\n"
      ],
      "metadata": {
        "id": "0WIxtocvnLe_"
      }
    },
    {
      "cell_type": "markdown",
      "source": [
        "The model was fine-tuned on ANERcorp, the input data for fine-tuning should follow the same formatting as the ANERcorp dataset"
      ],
      "metadata": {
        "id": "YfS1d4buqhIV"
      }
    },
    {
      "cell_type": "markdown",
      "source": [
        "The ANERCorp is organized into words and their corresponding tags. With tags following the BIO (Begin-Inside-Outside) tagging scheme. We follow this same format to manually annotate our sample data."
      ],
      "metadata": {
        "id": "3tMPaSI1tdqJ"
      }
    },
    {
      "cell_type": "markdown",
      "source": [
        "The sample data is annotated using the Doccano software. The initial results are stores in the first_annotation.jsonl file \"\"."
      ],
      "metadata": {
        "id": "sCMpfOGot9Zg"
      }
    },
    {
      "cell_type": "code",
      "source": [
        "import os\n",
        "import json\n",
        "import re\n",
        "from pathlib import Path"
      ],
      "metadata": {
        "id": "aNAvPdcKiN-j"
      },
      "execution_count": 51,
      "outputs": []
    },
    {
      "cell_type": "code",
      "source": [
        "def clean_and_split_sentences(text):\n",
        "    text = re.sub(r'\\d+-', '', text) # to remove the title numbers and dashes\n",
        "\n",
        "    sentences = []\n",
        "    current = \"\"\n",
        "\n",
        "    lines = text.split('\\n')\n",
        "    for line in lines:\n",
        "        line = line.strip()\n",
        "        if not line:\n",
        "            continue\n",
        "\n",
        "        # Handle each character\n",
        "        for char in line:\n",
        "            current += char\n",
        "            if char in ['.', '!', '؟'] and not current.strip().startswith('\"'):\n",
        "                if current.strip():\n",
        "                    # Clean up the sentence\n",
        "                    clean_sent = current.strip()\n",
        "                    # Remove any remaining numbers at start\n",
        "                    clean_sent = re.sub(r'^\\d+\\s*', '', clean_sent)\n",
        "                    if clean_sent:\n",
        "                        sentences.append(clean_sent)\n",
        "                current = \"\"\n",
        "\n",
        "        # Handle line endings without punctuation\n",
        "        if current.strip():\n",
        "            sentences.append(current.strip())\n",
        "            current = \"\"\n",
        "\n",
        "    return sentences"
      ],
      "metadata": {
        "id": "MKGr6zq8iSDK"
      },
      "execution_count": 52,
      "outputs": []
    },
    {
      "cell_type": "code",
      "source": [
        "def process_directory(root_dir):\n",
        "    root_path = Path(root_dir)\n",
        "    doccano_format = []\n",
        "\n",
        "    for grade_folder in root_path.iterdir():\n",
        "        if grade_folder.is_dir():\n",
        "            print(f\"Processing grade folder: {grade_folder.name}\")\n",
        "\n",
        "            for txt_file in grade_folder.glob('*.txt'):\n",
        "                print(f\"  Processing file: {txt_file.name}\")\n",
        "\n",
        "                try:\n",
        "                    with open(txt_file, 'r', encoding='utf-8') as f:\n",
        "                        text = f.read()\n",
        "\n",
        "                    sentences = clean_and_split_sentences(text)\n",
        "\n",
        "                    for sentence in sentences:\n",
        "                        if sentence.strip():\n",
        "                            # Include text field and metadata for source document\n",
        "                            doccano_format.append({\n",
        "                                \"text\": sentence.strip(),\n",
        "                                \"entities\": [],\n",
        "                                \"metadata\": {\n",
        "                                    \"source_document\": txt_file.name,\n",
        "                                    \"grade\": grade_folder.name\n",
        "                                }\n",
        "                            })\n",
        "\n",
        "                except Exception as e:\n",
        "                    print(f\"    Error processing {txt_file}: {str(e)}\")\n",
        "\n",
        "    return doccano_format"
      ],
      "metadata": {
        "id": "tw2W4Yx8iTfK"
      },
      "execution_count": 53,
      "outputs": []
    },
    {
      "cell_type": "code",
      "source": [
        "def save_doccano_file(sentences, output_file):\n",
        "    with open(output_file, 'w', encoding='utf-8') as f:\n",
        "        for sentence in sentences:\n",
        "            f.write(json.dumps(sentence, ensure_ascii=False) + '\\n')"
      ],
      "metadata": {
        "id": "vHaWwObriZm7"
      },
      "execution_count": 54,
      "outputs": []
    },
    {
      "cell_type": "code",
      "source": [
        "root_directory = \"/content/drive/MyDrive/AKG Research/RawText_1to3\"\n",
        "output_file = \"doccano_ready.jsonl\"\n",
        "\n",
        "print(f\"Starting to process files in {root_directory}\")\n",
        "sentences = process_directory(root_directory)\n",
        "\n",
        "print(f\"\\nFound {len(sentences)} sentences\")\n",
        "save_doccano_file(sentences, output_file)\n",
        "print(f\"Output saved to {output_file}\")\n",
        "\n",
        "# Print first few lines to verify format\n",
        "print(\"\\nFirst 3 lines of output:\")\n",
        "with open(output_file, 'r', encoding='utf-8') as f:\n",
        "    for i, line in enumerate(f):\n",
        "        if i >= 3:\n",
        "            break\n",
        "        print(f\"\\nLine {i+1}:\")\n",
        "        print(json.dumps(json.loads(line), ensure_ascii=False, indent=2))"
      ],
      "metadata": {
        "colab": {
          "base_uri": "https://localhost:8080/"
        },
        "id": "4YAuDF16ifSe",
        "outputId": "d3320727-2f84-4695-8441-f50c99270b07"
      },
      "execution_count": 55,
      "outputs": [
        {
          "output_type": "stream",
          "name": "stdout",
          "text": [
            "Starting to process files in /content/drive/MyDrive/AKG Research/RawText_1to3\n",
            "Processing grade folder: 3\n",
            "  Processing file: حكاية الفصول الأربعة.txt\n",
            "  Processing file: غذاء المريض.txt\n",
            "  Processing file: المهندس الصغير.txt\n",
            "  Processing file: صندوق العروسة.txt\n",
            "  Processing file: نتهيأ للإفطار.txt\n",
            "  Processing file: إلى بلاد الإسكيمو.txt\n",
            "  Processing file: الطيارة.txt\n",
            "  Processing file: الكرة.txt\n",
            "  Processing file: كن صديقي.txt\n",
            "  Processing file: مهن الفلاح.txt\n",
            "  Processing file: يا وطني.txt\n",
            "  Processing file: إني الماء.txt\n",
            "  Processing file: الشرطي في خدمتنا.txt\n",
            "  Processing file: الحمامة و النملة.txt\n",
            "  Processing file: التعاونية الناجحة.txt\n",
            "  Processing file: أطفئ النور ونم.txt\n",
            "  Processing file: أساعد غيري.txt\n",
            "  Processing file: احسب معي.txt\n",
            "  Processing file: أحافظ على نظافة مدرستي.txt\n",
            "  Processing file: أبر والدي.txt\n",
            "  Processing file: الفواكه و الصحة.txt\n",
            "  Processing file: خديجة تتعلم.txt\n",
            "  Processing file: حزوره.txt\n",
            "  Processing file: جزيرتي الملونة.txt\n",
            "  Processing file: انتخاب ممثل القسم.txt\n",
            "  Processing file: الممرضة.txt\n",
            "  Processing file: صديقتي البيئة.txt\n",
            "  Processing file: شهادة النجاح.txt\n",
            "  Processing file: فضل المدرسة.txt\n",
            "  Processing file: عامل المستقبل.txt\n",
            "  Processing file: هيا إلى المدرسة.txt\n",
            "  Processing file: هل أصابك ضرر؟.txt\n",
            "  Processing file: من حقنا اللعب.txt\n",
            "  Processing file: ألعب بحذر.txt\n",
            "  Processing file: اختراع الطائرة.txt\n",
            "  Processing file: الأسرة المكافحة.txt\n",
            "  Processing file: الدجاجة النشيطة.txt\n",
            "  Processing file: أتسلى بألعابي.txt\n",
            "  Processing file: الإسكاف الطموح.txt\n",
            "  Processing file: الفوز الحقيقي.txt\n",
            "  Processing file: الدعسوقة.txt\n",
            "  Processing file: الشباك العجيب.txt\n",
            "  Processing file: الطعام النظيف.txt\n",
            "  Processing file: الطفل و العصفور.txt\n",
            "  Processing file: المغرب وطني.txt\n",
            "  Processing file: ثمرة المعاملة الطيبة.txt\n",
            "  Processing file: حكاية السندباد.txt\n",
            "  Processing file: رحلة إلى الشاطئ.txt\n",
            "  Processing file: ساعي البريد.txt\n",
            "  Processing file: صنعت طائرة.txt\n",
            "  Processing file: فنان ماهر.txt\n",
            "  Processing file: في المخيم.txt\n",
            "  Processing file: كن رحيما.txt\n",
            "  Processing file: لا أضيع الماء.txt\n",
            "  Processing file: محبة و تسامح.txt\n",
            "  Processing file: مرض عماد.txt\n",
            "  Processing file: مشروع مفيد.txt\n",
            "  Processing file: رجوع من السفر.txt\n",
            "  Processing file: زيارة للجماعة المحلية.txt\n",
            "  Processing file: في الهواء الطلق.txt\n",
            "Processing grade folder: 1\n",
            "  Processing file: أصدقاء توتو و سلمى.txt\n",
            "  Processing file: أحلام و الرجل الفقير .txt\n",
            "  Processing file: الأم تنصح سلمى.txt\n",
            "  Processing file: صديق جديد.txt\n",
            "  Processing file: العودة إلى البيت.txt\n",
            "  Processing file: حفل في المدرسة.txt\n",
            "  Processing file: عيد المنى.txt\n",
            "  Processing file: عيد المدرسة.txt\n",
            "  Processing file: في البستان.txt\n",
            "  Processing file: في يوم العيد.txt\n",
            "  Processing file: في الطريق إلى البيت.txt\n",
            "  Processing file: في مدرسة توتو.txt\n",
            "  Processing file: عتاب و سرور.txt\n",
            "  Processing file: حفل في المدرسة2.txt\n",
            "  Processing file: سلمى في المدرسة.txt\n",
            "  Processing file: سمير يندم.txt\n",
            "  Processing file: سمير ينسى النصائح.txt\n",
            "  Processing file: الحياة في القرية.txt\n",
            "  Processing file: الأطفال يرسمون.txt\n",
            "  Processing file: الاستعداد للنزهة.txt\n",
            "  Processing file: رسوم تتحرك.txt\n",
            "  Processing file: طفل مهمل.txt\n",
            "  Processing file: سمير في القرية.txt\n",
            "  Processing file: سمير يطلب النجدة.txt\n",
            "  Processing file: فائدة الغابة.txt\n",
            "  Processing file: في ملعب كرة القدم.txt\n",
            "  Processing file: لعبتي.txt\n",
            "  Processing file: أعيادنا.txt\n",
            "  Processing file: حفل الحصاد.txt\n",
            "  Processing file: ضيف سمير.txt\n",
            "  Processing file: لنتعاون.txt\n",
            "  Processing file: لوحة غريبة.txt\n",
            "  Processing file: مفاجأة سارة.txt\n",
            "  Processing file: مناسبة عائلية.txt\n",
            "  Processing file: نزهة في الغابة.txt\n",
            "  Processing file: هذا أبي.txt\n",
            "  Processing file: هذه جنتي.txt\n",
            "  Processing file: أحب قريتي.txt\n",
            "  Processing file: حديقة حينا.txt\n",
            "  Processing file: تعلم وتريض.txt\n",
            "  Processing file: أهلا بالطيور.txt\n",
            "  Processing file: طفلة حنون.txt\n",
            "  Processing file: أحلام و العجوز.txt\n",
            "  Processing file: يوسف و السرطان.txt\n",
            "  Processing file: كفى من السرعة ǃ.txt\n",
            "  Processing file: فرح و مزاح.txt\n",
            "  Processing file: جاء الرغيف.txt\n",
            "  Processing file: أمي.txt\n",
            "  Processing file: الحي يحتفل.txt\n",
            "  Processing file: سلمى تعمل بنصيحة أمها.txt\n",
            "  Processing file: في الصباح.txt\n",
            "Processing grade folder: 2\n",
            "  Processing file: text19.txt\n",
            "  Processing file: text14.txt\n",
            "  Processing file: text45.txt\n",
            "  Processing file: text55.txt\n",
            "  Processing file: text66.txt\n",
            "  Processing file: الاتحاد قوة.txt\n",
            "  Processing file: أنا رياضي.txt\n",
            "  Processing file: النهر.txt\n",
            "  Processing file: العبوا بأدب.txt\n",
            "  Processing file: زغاريد في حينا.txt\n",
            "  Processing file: صيامي الأول.txt\n",
            "  Processing file: في البادية.txt\n",
            "  Processing file: في مكتبة المدرسة.txt\n",
            "  Processing file: فرقتنا المسرحية.txt\n",
            "  Processing file: لا تنس سقي الأزهار يا عماد.txt\n",
            "  Processing file: لعبة العملاق.txt\n",
            "  Processing file: ليلة القدر.txt\n",
            "  Processing file: مكتبة قسمنا.txt\n",
            "  Processing file: نصنع لعبنا.txt\n",
            "  Processing file: لنتعلم جميعا.txt\n",
            "  Processing file: نظافة عماد.txt\n",
            "  Processing file: يوم ليس ككل الأيام.txt\n",
            "  Processing file: text34.txt\n",
            "  Processing file: text69.txt\n",
            "  Processing file: طفلان في الغابة.txt\n",
            "  Processing file: text9.txt\n",
            "  Processing file: text8.txt\n",
            "  Processing file: text7.txt\n",
            "  Processing file: text6.txt\n",
            "  Processing file: text5.txt\n",
            "  Processing file: text4.txt\n",
            "  Processing file: text2.txt\n",
            "  Processing file: text12.txt\n",
            "  Processing file: text17.txt\n",
            "  Processing file: text25.txt\n",
            "  Processing file: text24.txt\n",
            "  Processing file: text40.txt\n",
            "  Processing file: text46.txt\n",
            "  Processing file: text50.txt\n",
            "  Processing file: text68.txt\n",
            "  Processing file: text65.txt\n",
            "  Processing file: text64.txt\n",
            "  Processing file: text57.txt\n",
            "  Processing file: text51.txt\n",
            "  Processing file: text79.txt\n",
            "  Processing file: text75.txt\n",
            "  Processing file: text56.txt\n",
            "  Processing file: text58.txt\n",
            "  Processing file: أسرتي في المساء.txt\n",
            "  Processing file: البنت الصغيرة والولد.txt\n",
            "  Processing file: المسيرة الخضراء.txt\n",
            "  Processing file: بارك الله فيك يا بني.txt\n",
            "  Processing file: بعد المطر.txt\n",
            "  Processing file: زيارة عمي.txt\n",
            "  Processing file: همسة عصفور.txt\n",
            "  Processing file: الشجرة.txt\n",
            "  Processing file: text32.txt\n",
            "  Processing file: text37.txt\n",
            "  Processing file: text49.txt\n",
            "  Processing file: text60.txt\n",
            "  Processing file: text73.txt\n",
            "  Processing file: text83.txt\n",
            "  Processing file: قلمي.txt\n",
            "  Processing file: كتابي.txt\n",
            "  Processing file: نشيد الفلاح.txt\n",
            "  Processing file: text3.txt\n",
            "  Processing file: text1.txt\n",
            "  Processing file: text10.txt\n",
            "  Processing file: text29.txt\n",
            "  Processing file: text27.txt\n",
            "  Processing file: text26.txt\n",
            "  Processing file: text21.txt\n",
            "  Processing file: text18.txt\n",
            "  Processing file: text16.txt\n",
            "  Processing file: text15.txt\n",
            "  Processing file: text13.txt\n",
            "  Processing file: text11.txt\n",
            "  Processing file: text30.txt\n",
            "  Processing file: text38.txt\n",
            "  Processing file: text36.txt\n",
            "  Processing file: text33.txt\n",
            "  Processing file: text31.txt\n",
            "  Processing file: text39.txt\n",
            "  Processing file: text48.txt\n",
            "  Processing file: text44.txt\n",
            "  Processing file: text43.txt\n",
            "  Processing file: text42.txt\n",
            "  Processing file: text41.txt\n",
            "  Processing file: text74.txt\n",
            "  Processing file: text72.txt\n",
            "  Processing file: text71.txt\n",
            "  Processing file: text70.txt\n",
            "  Processing file: text67.txt\n",
            "  Processing file: text63.txt\n",
            "  Processing file: text62.txt\n",
            "  Processing file: text61.txt\n",
            "  Processing file: text59.txt\n",
            "  Processing file: text54.txt\n",
            "  Processing file: text53.txt\n",
            "  Processing file: text52.txt\n",
            "  Processing file: text82.txt\n",
            "  Processing file: text81.txt\n",
            "  Processing file: text80.txt\n",
            "  Processing file: text78.txt\n",
            "  Processing file: text77.txt\n",
            "  Processing file: text76.txt\n",
            "  Processing file: الحاسوب.txt\n",
            "  Processing file: الآلة الحاسبة المتفوقة.txt\n",
            "  Processing file: احترام الجيران.txt\n",
            "  Processing file: القط الكسلان.txt\n",
            "  Processing file: السنبلات الثلاث.txt\n",
            "  Processing file: حكايةالشتاء.txt\n",
            "  Processing file: حكاية بوبي.txt\n",
            "  Processing file: جولة في الحي.txt\n",
            "  Processing file: جدتي تتعلم.txt\n",
            "  Processing file: ثمرة التعاون.txt\n",
            "  Processing file: أنا حبة الفاصوليا.txt\n",
            "  Processing file: اللقلاق.txt\n",
            "  Processing file: درسنا اليوم.txt\n",
            "  Processing file: حوار بين الهاتف الثابت والمحمول.txt\n",
            "  Processing file: حوار الألوان.txt\n",
            "  Processing file: عيد الأم.txt\n",
            "  Processing file: عمر يشتري حلويات.txt\n",
            "  Processing file: ريم في سوق الحي.txt\n",
            "  Processing file: فأر القرية وفأر الـمدينة.txt\n",
            "  Processing file: عيد الفطر.txt\n",
            "  Processing file: لن نتأخر عن المدرسة.txt\n",
            "  Processing file: كعكة دقيق الذرة.txt\n",
            "  Processing file: قيمة العمل.txt\n",
            "  Processing file: يوم المدرسة.txt\n",
            "  Processing file: ياربنا.txt\n",
            "  Processing file: هدية العيد.txt\n",
            "  Processing file: مدرسة قريتنا.txt\n",
            "  Processing file: text20.txt\n",
            "  Processing file: text35.txt\n",
            "  Processing file: text23.txt\n",
            "  Processing file: text28.txt\n",
            "  Processing file: text22.txt\n",
            "  Processing file: text47.txt\n",
            "\n",
            "Found 2907 sentences\n",
            "Output saved to doccano_ready.jsonl\n",
            "\n",
            "First 3 lines of output:\n",
            "\n",
            "Line 1:\n",
            "{\n",
            "  \"text\": \"حكاية الفصول الأربعة\",\n",
            "  \"entities\": [],\n",
            "  \"metadata\": {\n",
            "    \"source_document\": \"حكاية الفصول الأربعة.txt\",\n",
            "    \"grade\": \"3\"\n",
            "  }\n",
            "}\n",
            "\n",
            "Line 2:\n",
            "{\n",
            "  \"text\": \"نهض عادل من نومه، فرأى زهرته التي اعتنى بها وسقاها، تذبل وتذبل، حزن عادل لما رأى لونها يشحب، ووريقاتها تتجعد، فقال له أبوه : (( لا تحزن يا ولدي، فقد انتهى زمان زهرتك، لأن لكل زهرة عمرا، ولكل فصل من فصول السنة أزهارا وثمارا)).\",\n",
            "  \"entities\": [],\n",
            "  \"metadata\": {\n",
            "    \"source_document\": \"حكاية الفصول الأربعة.txt\",\n",
            "    \"grade\": \"3\"\n",
            "  }\n",
            "}\n",
            "\n",
            "Line 3:\n",
            "{\n",
            "  \"text\": \"قال عادل : فصول السنة !\",\n",
            "  \"entities\": [],\n",
            "  \"metadata\": {\n",
            "    \"source_document\": \"حكاية الفصول الأربعة.txt\",\n",
            "    \"grade\": \"3\"\n",
            "  }\n",
            "}\n"
          ]
        }
      ]
    },
    {
      "cell_type": "markdown",
      "source": [
        "The data is now ready, stored as doccano_ready.jsonl and ready to be imported to Doccano"
      ],
      "metadata": {
        "id": "-eOt-qBzrfYv"
      }
    },
    {
      "cell_type": "markdown",
      "source": [
        "# **Manual Annotation**"
      ],
      "metadata": {
        "id": "8pOEyCCntaBc"
      }
    },
    {
      "cell_type": "markdown",
      "source": [
        "Was done using the Doccano Software: https://github.com/doccano/doccano"
      ],
      "metadata": {
        "id": "JgxccMC0tdik"
      }
    },
    {
      "cell_type": "markdown",
      "source": [
        "# **Data Preparation for Fine-tuning**"
      ],
      "metadata": {
        "id": "uMbvhJ4CnnAi"
      }
    },
    {
      "cell_type": "code",
      "source": [
        "!pip install seqeval"
      ],
      "metadata": {
        "colab": {
          "base_uri": "https://localhost:8080/"
        },
        "id": "ks5QYkW2y6_y",
        "outputId": "147375c4-8333-44e6-e600-620b2b74f751"
      },
      "execution_count": 120,
      "outputs": [
        {
          "output_type": "stream",
          "name": "stdout",
          "text": [
            "Collecting seqeval\n",
            "  Downloading seqeval-1.2.2.tar.gz (43 kB)\n",
            "\u001b[?25l     \u001b[90m━━━━━━━━━━━━━━━━━━━━━━━━━━━━━━━━━━━━━━━━\u001b[0m \u001b[32m0.0/43.6 kB\u001b[0m \u001b[31m?\u001b[0m eta \u001b[36m-:--:--\u001b[0m\r\u001b[2K     \u001b[90m━━━━━━━━━━━━━━━━━━━━━━━━━━━━━━━━━━━━━━━━\u001b[0m \u001b[32m43.6/43.6 kB\u001b[0m \u001b[31m2.9 MB/s\u001b[0m eta \u001b[36m0:00:00\u001b[0m\n",
            "\u001b[?25h  Preparing metadata (setup.py) ... \u001b[?25l\u001b[?25hdone\n",
            "Requirement already satisfied: numpy>=1.14.0 in /usr/local/lib/python3.10/dist-packages (from seqeval) (1.26.4)\n",
            "Requirement already satisfied: scikit-learn>=0.21.3 in /usr/local/lib/python3.10/dist-packages (from seqeval) (1.6.0)\n",
            "Requirement already satisfied: scipy>=1.6.0 in /usr/local/lib/python3.10/dist-packages (from scikit-learn>=0.21.3->seqeval) (1.13.1)\n",
            "Requirement already satisfied: joblib>=1.2.0 in /usr/local/lib/python3.10/dist-packages (from scikit-learn>=0.21.3->seqeval) (1.4.2)\n",
            "Requirement already satisfied: threadpoolctl>=3.1.0 in /usr/local/lib/python3.10/dist-packages (from scikit-learn>=0.21.3->seqeval) (3.5.0)\n",
            "Building wheels for collected packages: seqeval\n",
            "  Building wheel for seqeval (setup.py) ... \u001b[?25l\u001b[?25hdone\n",
            "  Created wheel for seqeval: filename=seqeval-1.2.2-py3-none-any.whl size=16161 sha256=093d7d14b2035d32263c212556e71a5d1b81a746c5d164580c8f58862460dfe5\n",
            "  Stored in directory: /root/.cache/pip/wheels/1a/67/4a/ad4082dd7dfc30f2abfe4d80a2ed5926a506eb8a972b4767fa\n",
            "Successfully built seqeval\n",
            "Installing collected packages: seqeval\n",
            "Successfully installed seqeval-1.2.2\n"
          ]
        }
      ]
    },
    {
      "cell_type": "code",
      "source": [
        "import os\n",
        "import json\n",
        "import random\n",
        "from typing import List, Dict\n",
        "import numpy as np\n",
        "from transformers import AutoTokenizer, AutoModelForTokenClassification\n",
        "from transformers import TrainingArguments, Trainer, DataCollatorForTokenClassification\n",
        "from datasets import Dataset\n",
        "import torch\n",
        "from seqeval.metrics import accuracy_score, precision_score, recall_score, f1_score\n"
      ],
      "metadata": {
        "id": "grXIIWVTy3Rw"
      },
      "execution_count": 138,
      "outputs": []
    },
    {
      "cell_type": "markdown",
      "source": [
        "We Convert Doccano JSONL to CoNLL Format"
      ],
      "metadata": {
        "id": "35bQZ8r2ulnJ"
      }
    },
    {
      "cell_type": "code",
      "source": [
        "# Load the annotations\n",
        "file_path = \"/content/drive/MyDrive/AKG Research/latest_annotations.jsonl\"\n",
        "with open(file_path, 'r', encoding='utf-8') as f:\n",
        "    data = [json.loads(line) for line in f]"
      ],
      "metadata": {
        "id": "jx7W1iFlvTis"
      },
      "execution_count": 88,
      "outputs": []
    },
    {
      "cell_type": "code",
      "source": [
        "print(data[0])"
      ],
      "metadata": {
        "colab": {
          "base_uri": "https://localhost:8080/"
        },
        "id": "7dIkGicpvb1c",
        "outputId": "73086e98-9b25-48a8-8583-0eb95b0af7df"
      },
      "execution_count": 89,
      "outputs": [
        {
          "output_type": "stream",
          "name": "stdout",
          "text": [
            "{'id': 14996, 'text': 'نهض عادل من نومه، فرأى زهرته التي اعتنى بها وسقاها، تذبل وتذبل، حزن عادل لما رأى لونها يشحب، ووريقاتها تتجعد، فقال له أبوه : (( لا تحزن يا ولدي، فقد انتهى زمان زهرتك، لأن لكل زهرة عمرا، ولكل فصل من فصول السنة أزهارا وثمارا)).', 'label': [[0, 3, 'O'], [4, 8, 'B-PERS'], [9, 11, 'O'], [12, 16, 'O'], [18, 22, 'O'], [23, 28, 'B-OBJ'], [29, 33, 'O'], [34, 39, 'O'], [40, 43, 'O'], [44, 50, 'O'], [52, 56, 'O'], [57, 62, 'O'], [64, 67, 'O'], [68, 72, 'B-PERS'], [73, 76, 'O'], [77, 80, 'O'], [81, 86, 'B-OBJ'], [87, 91, 'O'], [93, 102, 'O'], [103, 108, 'O'], [110, 114, 'O'], [115, 117, 'O'], [118, 122, 'O'], [128, 130, 'O'], [131, 135, 'O'], [136, 138, 'O'], [139, 143, 'O'], [145, 148, 'O'], [149, 154, 'O'], [155, 159, 'O'], [160, 165, 'O'], [167, 170, 'O'], [171, 174, 'O'], [175, 179, 'O'], [180, 184, 'O'], [186, 190, 'O'], [191, 194, 'O'], [195, 197, 'O'], [198, 202, 'O'], [203, 208, 'O'], [209, 215, 'O'], [216, 222, 'O']], 'metadata': {'source_document': 'حكاية الفصول الأربعة.txt', 'grade': '3'}, 'Comments': []}\n"
          ]
        }
      ]
    },
    {
      "cell_type": "code",
      "source": [
        "def read_jsonl(file_path: str) -> List[Dict]:\n",
        "    data = []\n",
        "    with open(file_path, 'r', encoding='utf-8') as f:\n",
        "        for line in f:\n",
        "            data.append(json.loads(line.strip()))\n",
        "    return data"
      ],
      "metadata": {
        "id": "3vSt1KB2usYL"
      },
      "execution_count": 93,
      "outputs": []
    },
    {
      "cell_type": "code",
      "source": [
        "def convert_to_conll_format(annotation: Dict) -> List[str]:\n",
        "    text = annotation['text']\n",
        "    labels = sorted(annotation['label'], key=lambda x: x[0])\n",
        "\n",
        "    conll_lines = []\n",
        "    for start, end, label in labels:\n",
        "        word = text[start:end]\n",
        "        words = word.split()\n",
        "        for w in words:\n",
        "            conll_lines.append(f\"{w} {label}\")\n",
        "    return conll_lines"
      ],
      "metadata": {
        "id": "Fe8F32-nut6B"
      },
      "execution_count": 94,
      "outputs": []
    },
    {
      "cell_type": "code",
      "source": [
        "def split_data(data: List[Dict], train_ratio=0.8, dev_ratio=0.1, test_ratio=0.1) -> tuple:\n",
        "    random.shuffle(data)\n",
        "    n = len(data)\n",
        "    train_end = int(n * train_ratio)\n",
        "    dev_end = int(n * (train_ratio + dev_ratio))\n",
        "\n",
        "    return (\n",
        "        data[:train_end],\n",
        "        data[train_end:dev_end],\n",
        "        data[dev_end:]\n",
        "    )"
      ],
      "metadata": {
        "id": "Ju9C2HhiuxdQ"
      },
      "execution_count": 95,
      "outputs": []
    },
    {
      "cell_type": "code",
      "source": [
        "def save_conll_file(data: List[Dict], output_file: str):\n",
        "    with open(output_file, 'w', encoding='utf-8') as f:\n",
        "        f.write('-DOCSTART- -X- -X- O\\n\\n')  # Standard CoNLL-2003 header\n",
        "\n",
        "        for annotation in data:\n",
        "            conll_lines = convert_to_conll_format(annotation)\n",
        "            for line in conll_lines:\n",
        "                f.write(line + '\\n')\n",
        "            f.write('\\n')"
      ],
      "metadata": {
        "id": "wVXAwNUqvT7Q"
      },
      "execution_count": 96,
      "outputs": []
    },
    {
      "cell_type": "code",
      "source": [
        "def extract_unique_labels(data: List[Dict]) -> set:\n",
        "    labels = set()\n",
        "    for annotation in data:\n",
        "        for _, _, label in annotation['label']:\n",
        "            labels.add(label)\n",
        "    return labels"
      ],
      "metadata": {
        "id": "rnd2emgmvZL7"
      },
      "execution_count": 97,
      "outputs": []
    },
    {
      "cell_type": "code",
      "source": [
        "input_file = \"/content/drive/MyDrive/AKG Research/latest_annotations.jsonl\"\n",
        "output_dir = \"ner_data\"\n",
        "os.makedirs(output_dir, exist_ok=True)\n",
        "\n",
        "data = read_jsonl(input_file)\n",
        "train_data, dev_data, test_data = split_data(data)\n",
        "\n",
        "save_conll_file(train_data, os.path.join(output_dir, \"train.txt\"))\n",
        "save_conll_file(dev_data, os.path.join(output_dir, \"dev.txt\"))\n",
        "save_conll_file(test_data, os.path.join(output_dir, \"test.txt\"))\n",
        "\n",
        "labels = extract_unique_labels(data)\n",
        "with open(os.path.join(output_dir, \"labels.txt\"), 'w', encoding='utf-8') as f:\n",
        "    for label in sorted(labels):\n",
        "        f.write(f\"{label}\\n\")"
      ],
      "metadata": {
        "id": "oju0hoz2veZ9"
      },
      "execution_count": 98,
      "outputs": []
    },
    {
      "cell_type": "markdown",
      "source": [
        "We finetune the model"
      ],
      "metadata": {
        "id": "ODCP69nWxUk_"
      }
    },
    {
      "cell_type": "code",
      "source": [
        "# We set up the model and tokenizer\n",
        "model_name = \"CAMeL-Lab/bert-base-arabic-camelbert-mix-ner\"\n",
        "tokenizer = AutoTokenizer.from_pretrained(model_name)\n",
        "model = AutoModelForTokenClassification.from_pretrained(model_name)"
      ],
      "metadata": {
        "colab": {
          "base_uri": "https://localhost:8080/"
        },
        "id": "OMSRdc8gxUJW",
        "outputId": "98f4933d-0d5b-4d5b-938b-621490a506b0"
      },
      "execution_count": 100,
      "outputs": [
        {
          "output_type": "stream",
          "name": "stderr",
          "text": [
            "Some weights of the model checkpoint at CAMeL-Lab/bert-base-arabic-camelbert-mix-ner were not used when initializing BertForTokenClassification: ['bert.pooler.dense.bias', 'bert.pooler.dense.weight']\n",
            "- This IS expected if you are initializing BertForTokenClassification from the checkpoint of a model trained on another task or with another architecture (e.g. initializing a BertForSequenceClassification model from a BertForPreTraining model).\n",
            "- This IS NOT expected if you are initializing BertForTokenClassification from the checkpoint of a model that you expect to be exactly identical (initializing a BertForSequenceClassification model from a BertForSequenceClassification model).\n"
          ]
        }
      ]
    },
    {
      "cell_type": "code",
      "source": [
        "def read_conll_file(file_path):\n",
        "    texts, tags = [], []\n",
        "    current_words, current_tags = [], []\n",
        "\n",
        "    with open(file_path, 'r', encoding='utf-8') as f:\n",
        "        for line in f:\n",
        "            line = line.strip()\n",
        "\n",
        "            if line.startswith('-DOCSTART-') or not line:\n",
        "                if current_words:\n",
        "                    texts.append(current_words)\n",
        "                    tags.append(current_tags)\n",
        "                    current_words, current_tags = [], []\n",
        "            else:\n",
        "                splits = line.split(' ')\n",
        "                word = splits[0]\n",
        "                tag = splits[-1]\n",
        "                current_words.append(word)\n",
        "                current_tags.append(tag)\n",
        "\n",
        "    if current_words:  # Don't forget last sentence\n",
        "        texts.append(current_words)\n",
        "        tags.append(current_tags)\n",
        "\n",
        "    return texts, tags"
      ],
      "metadata": {
        "id": "hM-XmdAM0k_9"
      },
      "execution_count": 129,
      "outputs": []
    },
    {
      "cell_type": "code",
      "source": [
        "# we read the unique labels we saved to labels.txt\n",
        "# Read labels\n",
        "with open(\"/content/ner_data/labels.txt\", \"r\", encoding=\"utf-8\") as f:\n",
        "    label_list = [line.strip() for line in f]\n",
        "label2id = {label: i for i, label in enumerate(label_list)}\n",
        "id2label = {i: label for i, label in enumerate(label_list)}"
      ],
      "metadata": {
        "id": "Fpp_tBoUxkRm"
      },
      "execution_count": 149,
      "outputs": []
    },
    {
      "cell_type": "code",
      "source": [
        "print(label2id)"
      ],
      "metadata": {
        "colab": {
          "base_uri": "https://localhost:8080/"
        },
        "id": "xa_-r3_cx8TC",
        "outputId": "0db2694a-474a-4963-ecda-92c5c4d4492e"
      },
      "execution_count": 150,
      "outputs": [
        {
          "output_type": "stream",
          "name": "stdout",
          "text": [
            "{'B-LOC': 0, 'B-OBJ': 1, 'B-PERS': 2, 'B-TIME': 3, 'I-LOC': 4, 'I-PERS': 5, 'I-TIME': 6, 'O': 7}\n"
          ]
        }
      ]
    },
    {
      "cell_type": "code",
      "source": [
        "print(id2label)"
      ],
      "metadata": {
        "colab": {
          "base_uri": "https://localhost:8080/"
        },
        "id": "jycWW-pix_Ov",
        "outputId": "1a13f4b4-857f-40ad-b46c-9ddfa1f1e487"
      },
      "execution_count": 151,
      "outputs": [
        {
          "output_type": "stream",
          "name": "stdout",
          "text": [
            "{0: 'B-LOC', 1: 'B-OBJ', 2: 'B-PERS', 3: 'B-TIME', 4: 'I-LOC', 5: 'I-PERS', 6: 'I-TIME', 7: 'O'}\n"
          ]
        }
      ]
    },
    {
      "cell_type": "code",
      "source": [
        "# Load datasets\n",
        "train_texts, train_tags = read_conll_file(\"ner_data/train.txt\")\n",
        "dev_texts, dev_tags = read_conll_file(\"ner_data/dev.txt\")\n",
        "test_texts, test_tags = read_conll_file(\"ner_data/test.txt\")"
      ],
      "metadata": {
        "id": "NJcuu6jP00Ff"
      },
      "execution_count": 152,
      "outputs": []
    },
    {
      "cell_type": "code",
      "source": [
        "# Convert to Dataset objects\n",
        "def create_dataset(texts, tags):\n",
        "    return Dataset.from_dict({\n",
        "        \"tokens\": texts,\n",
        "        \"ner_tags\": [[label2id[tag] for tag in doc] for doc in tags]\n",
        "    })"
      ],
      "metadata": {
        "id": "rE2b4Fef03Jm"
      },
      "execution_count": 153,
      "outputs": []
    },
    {
      "cell_type": "code",
      "source": [
        "train_dataset = create_dataset(train_texts, train_tags)\n",
        "dev_dataset = create_dataset(dev_texts, dev_tags)\n",
        "test_dataset = create_dataset(test_texts, test_tags)"
      ],
      "metadata": {
        "id": "Fg-Lry8dzNZf"
      },
      "execution_count": 154,
      "outputs": []
    },
    {
      "cell_type": "code",
      "source": [
        "# Tokenization function\n",
        "def tokenize_and_align_labels(examples):\n",
        "    tokenized_inputs = tokenizer(\n",
        "        examples[\"tokens\"],\n",
        "        truncation=True,\n",
        "        is_split_into_words=True,\n",
        "        padding=True,\n",
        "        max_length=128  # Adjust this based on your needs\n",
        "    )\n",
        "\n",
        "    labels = []\n",
        "    for i, label in enumerate(examples[\"ner_tags\"]):\n",
        "        word_ids = tokenized_inputs.word_ids(batch_index=i)\n",
        "        previous_word_idx = None\n",
        "        label_ids = []\n",
        "\n",
        "        for word_idx in word_ids:\n",
        "            if word_idx is None:\n",
        "                label_ids.append(-100)\n",
        "            elif word_idx != previous_word_idx:\n",
        "                label_ids.append(label[word_idx])\n",
        "            else:\n",
        "                label_ids.append(-100)\n",
        "            previous_word_idx = word_idx\n",
        "\n",
        "        labels.append(label_ids)\n",
        "\n",
        "    tokenized_inputs[\"labels\"] = labels\n",
        "    return tokenized_inputs\n"
      ],
      "metadata": {
        "id": "nzgHShmo1VzC"
      },
      "execution_count": 155,
      "outputs": []
    },
    {
      "cell_type": "code",
      "source": [
        "# Tokenize datasets\n",
        "train_tokenized = train_dataset.map(tokenize_and_align_labels, batched=True)\n",
        "dev_tokenized = dev_dataset.map(tokenize_and_align_labels, batched=True)\n",
        "test_tokenized = test_dataset.map(tokenize_and_align_labels, batched=True)"
      ],
      "metadata": {
        "colab": {
          "base_uri": "https://localhost:8080/",
          "height": 113,
          "referenced_widgets": [
            "80eaf54cf63947fba1a21c90be8d191f",
            "4cd82ebcef8d41b8894d48d06a649d36",
            "61105123a9164b05898b043c98450117",
            "12866379f88846ec84cc62e24d1d9392",
            "7ab63cfa6d2741afa279b11426dd6a56",
            "fd6b5b99a8594952865887dee0737dfe",
            "bd942ace7d0540b2b7f793480fd9a6c2",
            "d8d6c8627d5b49d8abcec9d36f8848c7",
            "b8bfe681c80443de8392c022a9d5a428",
            "88a2758291744d569f2a335f506dc971",
            "fd98ff0004ce4f789b3e9146f7e2ff79",
            "8077d0561eb44c439adf39aacb258761",
            "eeef8df89ebb42698022d4c110e5eed5",
            "8fb45beecef940c993532fa876e3044f",
            "259421400c1545249faa652b1a7a7bc5",
            "177d3226a12842b0ade3d8d76d27b97d",
            "2afbb077573145149c9422da0360b9cd",
            "11ea66cda2f844e58a0ac4b4ce696a84",
            "1144dc50cab54442bff2489f16ae538e",
            "92616354affa4e0e91ac78579e480a96",
            "9daae1157e334ec48d2beb95109e8095",
            "aba9027c65fd4d9ca87f400ec86b7fec",
            "0650dd17fbf44cd6a70ec1d41eb0098b",
            "9cb6bb8d43e14837b7253654a94a26ac",
            "8c6b4b57a08f472bae8e45c3b822b67a",
            "1c06f2eb3e2247e8ac97c874b4c32398",
            "ea3f8d9a80f64fe39ef6aec91d382c13",
            "68f90803577a4ba78292e5e6cd85376f",
            "4650e9342c474bccadcd958e50bc4e83",
            "3579ee77ed814b75a576cc650ba870c0",
            "b43c202a3ec247d3a88db7567b244465",
            "7cbf046f1b624d15beddfabbe0eed421",
            "86d43513e810465089a1417c029a006d"
          ]
        },
        "id": "9KARSFvr1W3u",
        "outputId": "343d1b70-19c7-410d-d1e8-ec312309bbd1"
      },
      "execution_count": 156,
      "outputs": [
        {
          "output_type": "display_data",
          "data": {
            "text/plain": [
              "Map:   0%|          | 0/80 [00:00<?, ? examples/s]"
            ],
            "application/vnd.jupyter.widget-view+json": {
              "version_major": 2,
              "version_minor": 0,
              "model_id": "80eaf54cf63947fba1a21c90be8d191f"
            }
          },
          "metadata": {}
        },
        {
          "output_type": "display_data",
          "data": {
            "text/plain": [
              "Map:   0%|          | 0/13 [00:00<?, ? examples/s]"
            ],
            "application/vnd.jupyter.widget-view+json": {
              "version_major": 2,
              "version_minor": 0,
              "model_id": "8077d0561eb44c439adf39aacb258761"
            }
          },
          "metadata": {}
        },
        {
          "output_type": "display_data",
          "data": {
            "text/plain": [
              "Map:   0%|          | 0/16 [00:00<?, ? examples/s]"
            ],
            "application/vnd.jupyter.widget-view+json": {
              "version_major": 2,
              "version_minor": 0,
              "model_id": "0650dd17fbf44cd6a70ec1d41eb0098b"
            }
          },
          "metadata": {}
        }
      ]
    },
    {
      "cell_type": "code",
      "source": [
        "data_collator = DataCollatorForTokenClassification(tokenizer)"
      ],
      "metadata": {
        "id": "sjh61MOj1Zqi"
      },
      "execution_count": 157,
      "outputs": []
    },
    {
      "cell_type": "code",
      "source": [
        "def compute_metrics(eval_preds):\n",
        "    predictions, labels = eval_preds\n",
        "    predictions = np.argmax(predictions, axis=2)\n",
        "\n",
        "    true_predictions = [\n",
        "        [label_list[p] for (p, l) in zip(prediction, label) if l != -100]\n",
        "        for prediction, label in zip(predictions, labels)\n",
        "    ]\n",
        "    true_labels = [\n",
        "        [label_list[l] for (p, l) in zip(prediction, label) if l != -100]\n",
        "        for prediction, label in zip(predictions, labels)\n",
        "    ]\n",
        "\n",
        "    return {\n",
        "        \"accuracy\": accuracy_score(true_labels, true_predictions),\n",
        "        \"precision\": precision_score(true_labels, true_predictions),\n",
        "        \"recall\": recall_score(true_labels, true_predictions),\n",
        "        \"f1\": f1_score(true_labels, true_predictions)\n",
        "    }"
      ],
      "metadata": {
        "id": "67AjXyXF1cMe"
      },
      "execution_count": 158,
      "outputs": []
    },
    {
      "cell_type": "code",
      "source": [
        "# Training arguments\n",
        "training_args = TrainingArguments(\n",
        "    output_dir=\"camelbert_finetuned\",\n",
        "    evaluation_strategy=\"epoch\",\n",
        "    learning_rate=2e-5,\n",
        "    per_device_train_batch_size=16,\n",
        "    per_device_eval_batch_size=16,\n",
        "    num_train_epochs=10,\n",
        "    weight_decay=0.01,\n",
        "    save_strategy=\"epoch\",\n",
        "    save_total_limit=2,\n",
        "    report_to=\"none\",  # I chose to disable wandb\n",
        "    load_best_model_at_end=True,\n",
        ")"
      ],
      "metadata": {
        "colab": {
          "base_uri": "https://localhost:8080/"
        },
        "id": "pKe03_zD1gjn",
        "outputId": "0cebf1c7-3667-44d0-fe92-cac1f9e87fd8"
      },
      "execution_count": 163,
      "outputs": [
        {
          "output_type": "stream",
          "name": "stderr",
          "text": [
            "/usr/local/lib/python3.10/dist-packages/transformers/training_args.py:1575: FutureWarning: `evaluation_strategy` is deprecated and will be removed in version 4.46 of 🤗 Transformers. Use `eval_strategy` instead\n",
            "  warnings.warn(\n"
          ]
        }
      ]
    },
    {
      "cell_type": "code",
      "source": [
        "# Initialize trainer\n",
        "trainer = Trainer(\n",
        "    model=model,\n",
        "    args=training_args,\n",
        "    train_dataset=train_tokenized,\n",
        "    eval_dataset=dev_tokenized,\n",
        "    data_collator=data_collator,\n",
        "    compute_metrics=compute_metrics,\n",
        ")"
      ],
      "metadata": {
        "id": "rQ_q5TNX1jK3"
      },
      "execution_count": 164,
      "outputs": []
    },
    {
      "cell_type": "code",
      "source": [
        "trainer.train()"
      ],
      "metadata": {
        "colab": {
          "base_uri": "https://localhost:8080/",
          "height": 423
        },
        "id": "W_RMRE4v1lgr",
        "outputId": "e9993c6f-f370-4e84-c858-4e015f8e63a1"
      },
      "execution_count": 165,
      "outputs": [
        {
          "output_type": "display_data",
          "data": {
            "text/plain": [
              "<IPython.core.display.HTML object>"
            ],
            "text/html": [
              "\n",
              "    <div>\n",
              "      \n",
              "      <progress value='50' max='50' style='width:300px; height:20px; vertical-align: middle;'></progress>\n",
              "      [50/50 25:58, Epoch 10/10]\n",
              "    </div>\n",
              "    <table border=\"1\" class=\"dataframe\">\n",
              "  <thead>\n",
              " <tr style=\"text-align: left;\">\n",
              "      <th>Epoch</th>\n",
              "      <th>Training Loss</th>\n",
              "      <th>Validation Loss</th>\n",
              "      <th>Accuracy</th>\n",
              "      <th>Precision</th>\n",
              "      <th>Recall</th>\n",
              "      <th>F1</th>\n",
              "    </tr>\n",
              "  </thead>\n",
              "  <tbody>\n",
              "    <tr>\n",
              "      <td>1</td>\n",
              "      <td>No log</td>\n",
              "      <td>0.620357</td>\n",
              "      <td>0.832536</td>\n",
              "      <td>0.200000</td>\n",
              "      <td>0.033333</td>\n",
              "      <td>0.057143</td>\n",
              "    </tr>\n",
              "    <tr>\n",
              "      <td>2</td>\n",
              "      <td>No log</td>\n",
              "      <td>0.572721</td>\n",
              "      <td>0.832536</td>\n",
              "      <td>0.250000</td>\n",
              "      <td>0.066667</td>\n",
              "      <td>0.105263</td>\n",
              "    </tr>\n",
              "    <tr>\n",
              "      <td>3</td>\n",
              "      <td>No log</td>\n",
              "      <td>0.510473</td>\n",
              "      <td>0.842105</td>\n",
              "      <td>0.416667</td>\n",
              "      <td>0.166667</td>\n",
              "      <td>0.238095</td>\n",
              "    </tr>\n",
              "    <tr>\n",
              "      <td>4</td>\n",
              "      <td>No log</td>\n",
              "      <td>0.481112</td>\n",
              "      <td>0.856459</td>\n",
              "      <td>0.615385</td>\n",
              "      <td>0.266667</td>\n",
              "      <td>0.372093</td>\n",
              "    </tr>\n",
              "    <tr>\n",
              "      <td>5</td>\n",
              "      <td>No log</td>\n",
              "      <td>0.457800</td>\n",
              "      <td>0.861244</td>\n",
              "      <td>0.529412</td>\n",
              "      <td>0.300000</td>\n",
              "      <td>0.382979</td>\n",
              "    </tr>\n",
              "    <tr>\n",
              "      <td>6</td>\n",
              "      <td>No log</td>\n",
              "      <td>0.433115</td>\n",
              "      <td>0.866029</td>\n",
              "      <td>0.526316</td>\n",
              "      <td>0.333333</td>\n",
              "      <td>0.408163</td>\n",
              "    </tr>\n",
              "    <tr>\n",
              "      <td>7</td>\n",
              "      <td>No log</td>\n",
              "      <td>0.448403</td>\n",
              "      <td>0.870813</td>\n",
              "      <td>0.588235</td>\n",
              "      <td>0.333333</td>\n",
              "      <td>0.425532</td>\n",
              "    </tr>\n",
              "    <tr>\n",
              "      <td>8</td>\n",
              "      <td>No log</td>\n",
              "      <td>0.439457</td>\n",
              "      <td>0.875598</td>\n",
              "      <td>0.611111</td>\n",
              "      <td>0.366667</td>\n",
              "      <td>0.458333</td>\n",
              "    </tr>\n",
              "    <tr>\n",
              "      <td>9</td>\n",
              "      <td>No log</td>\n",
              "      <td>0.430591</td>\n",
              "      <td>0.880383</td>\n",
              "      <td>0.619048</td>\n",
              "      <td>0.433333</td>\n",
              "      <td>0.509804</td>\n",
              "    </tr>\n",
              "    <tr>\n",
              "      <td>10</td>\n",
              "      <td>No log</td>\n",
              "      <td>0.429342</td>\n",
              "      <td>0.880383</td>\n",
              "      <td>0.590909</td>\n",
              "      <td>0.433333</td>\n",
              "      <td>0.500000</td>\n",
              "    </tr>\n",
              "  </tbody>\n",
              "</table><p>"
            ]
          },
          "metadata": {}
        },
        {
          "output_type": "execute_result",
          "data": {
            "text/plain": [
              "TrainOutput(global_step=50, training_loss=0.23497228622436522, metrics={'train_runtime': 1583.0217, 'train_samples_per_second': 0.505, 'train_steps_per_second': 0.032, 'total_flos': 35113973788800.0, 'train_loss': 0.23497228622436522, 'epoch': 10.0})"
            ]
          },
          "metadata": {},
          "execution_count": 165
        }
      ]
    },
    {
      "cell_type": "code",
      "source": [
        "test_results = trainer.evaluate(test_tokenized)\n",
        "print(\"\\nTest Results:\", test_results)"
      ],
      "metadata": {
        "colab": {
          "base_uri": "https://localhost:8080/",
          "height": 92
        },
        "id": "R4VdaafB3sPk",
        "outputId": "88416420-f516-406c-dad6-305b59a37c4a"
      },
      "execution_count": 166,
      "outputs": [
        {
          "output_type": "display_data",
          "data": {
            "text/plain": [
              "<IPython.core.display.HTML object>"
            ],
            "text/html": [
              "\n",
              "    <div>\n",
              "      \n",
              "      <progress value='1' max='1' style='width:300px; height:20px; vertical-align: middle;'></progress>\n",
              "      [1/1 : < :]\n",
              "    </div>\n",
              "    "
            ]
          },
          "metadata": {}
        },
        {
          "output_type": "stream",
          "name": "stdout",
          "text": [
            "\n",
            "Test Results: {'eval_loss': 0.44346582889556885, 'eval_accuracy': 0.8655913978494624, 'eval_precision': 0.7407407407407407, 'eval_recall': 0.625, 'eval_f1': 0.6779661016949152, 'eval_runtime': 2.2051, 'eval_samples_per_second': 7.256, 'eval_steps_per_second': 0.454, 'epoch': 10.0}\n"
          ]
        }
      ]
    },
    {
      "cell_type": "markdown",
      "source": [
        "# **Trial and Error**"
      ],
      "metadata": {
        "id": "R5onXJWuomIE"
      }
    },
    {
      "cell_type": "markdown",
      "source": [
        "**Few Shot Learning**"
      ],
      "metadata": {
        "id": "KBdW5yz6Tw_0"
      }
    },
    {
      "cell_type": "code",
      "source": [
        "tokenizer = AutoTokenizer.from_pretrained(\"CAMeL-Lab/bert-base-arabic-camelbert-mix-ner\")\n",
        "model = AutoModelForTokenClassification.from_pretrained(\"CAMeL-Lab/bert-base-arabic-camelbert-mix-ner\")"
      ],
      "metadata": {
        "colab": {
          "base_uri": "https://localhost:8080/"
        },
        "id": "ZDjy4xU96bZo",
        "outputId": "11880d8d-2d5b-46dd-9f2b-ebbdde362349"
      },
      "execution_count": 61,
      "outputs": [
        {
          "output_type": "stream",
          "name": "stderr",
          "text": [
            "Some weights of the model checkpoint at CAMeL-Lab/bert-base-arabic-camelbert-mix-ner were not used when initializing BertForTokenClassification: ['bert.pooler.dense.bias', 'bert.pooler.dense.weight']\n",
            "- This IS expected if you are initializing BertForTokenClassification from the checkpoint of a model trained on another task or with another architecture (e.g. initializing a BertForSequenceClassification model from a BertForPreTraining model).\n",
            "- This IS NOT expected if you are initializing BertForTokenClassification from the checkpoint of a model that you expect to be exactly identical (initializing a BertForSequenceClassification model from a BertForSequenceClassification model).\n"
          ]
        }
      ]
    },
    {
      "cell_type": "code",
      "source": [
        "support_sets = {\n",
        "    'PERS': [\"خَدِيجَةَ\", \"سُعَادَ\", \"سَمِيرٌ\", \"سلمى\", \"أحلام\"],\n",
        "    'LOC': [\"غابة\",\"هناك\",\"هنا\",\"يساراً\",\"يميناً\",\"الْأَسِرَّةِ\",\"الرَّمْلِ\", \"المدرسة\", \"الرصيف\", \"السوق\"]\n",
        "}"
      ],
      "metadata": {
        "id": "n6_Hp2t0u1Zo"
      },
      "execution_count": 62,
      "outputs": []
    },
    {
      "cell_type": "code",
      "source": [
        "def encode_words(words):\n",
        "    inputs = tokenizer(words, padding=True, truncation=True, return_tensors=\"pt\")\n",
        "    with torch.no_grad():\n",
        "        outputs = model(**inputs)\n",
        "    last_hidden_state = outputs[0]\n",
        "    mask = inputs['attention_mask'].unsqueeze(-1).expand(last_hidden_state.size()).float()\n",
        "    sum_embeddings = torch.sum(last_hidden_state * mask, 1)\n",
        "    sum_mask = torch.clamp(mask.sum(1), min=1e-9)\n",
        "    return sum_embeddings / sum_mask"
      ],
      "metadata": {
        "id": "j5GiF3rY0y4U"
      },
      "execution_count": 63,
      "outputs": []
    },
    {
      "cell_type": "code",
      "source": [
        "support_sets.items()"
      ],
      "metadata": {
        "colab": {
          "base_uri": "https://localhost:8080/"
        },
        "id": "JB_yU2Np1nV2",
        "outputId": "488ce354-9968-4d68-f77c-3c061f7509a2"
      },
      "execution_count": 64,
      "outputs": [
        {
          "output_type": "execute_result",
          "data": {
            "text/plain": [
              "dict_items([('PERS', ['خَدِيجَةَ', 'سُعَادَ', 'سَمِيرٌ', 'سلمى', 'أحلام']), ('LOC', ['غابة', 'هناك', 'هنا', 'يساراً', 'يميناً', 'الْأَسِرَّةِ', 'الرَّمْلِ', 'المدرسة', 'الرصيف', 'السوق'])])"
            ]
          },
          "metadata": {},
          "execution_count": 64
        }
      ]
    },
    {
      "cell_type": "code",
      "source": [
        "encoded_support_sets = {label: encode_words(words) for label, words in support_sets.items()}"
      ],
      "metadata": {
        "colab": {
          "base_uri": "https://localhost:8080/"
        },
        "id": "753mzSWB1gjr",
        "outputId": "d0754645-0617-46d9-f2b4-dc803a8b8183"
      },
      "execution_count": 65,
      "outputs": [
        {
          "output_type": "stream",
          "name": "stderr",
          "text": [
            "Asking to truncate to max_length but no maximum length is provided and the model has no predefined maximum length. Default to no truncation.\n"
          ]
        }
      ]
    },
    {
      "cell_type": "code",
      "source": [
        "def predict_entity(word):\n",
        "    # Encode the input word\n",
        "    encoded_word = encode_words([word])\n",
        "    similarities = {}\n",
        "    for label, encoded_support in encoded_support_sets.items():\n",
        "        similarity = cosine_similarity(encoded_word.numpy(), encoded_support.numpy())[0].mean()\n",
        "        similarities[label] = similarity\n",
        "    predicted_label = max(similarities, key=similarities.get)\n",
        "\n",
        "    return predicted_label if similarities[predicted_label] > 0.5 else 'O'"
      ],
      "metadata": {
        "id": "2vKMOWmH47wS"
      },
      "execution_count": 66,
      "outputs": []
    },
    {
      "cell_type": "code",
      "source": [
        "def predict_sentence(sentence):\n",
        "    words = sentence.split()\n",
        "    predictions = []\n",
        "    for i, word in enumerate(words):\n",
        "        prediction = predict_entity(word)\n",
        "        if prediction != 'O':\n",
        "            # Check if it's the start of an entity\n",
        "            if i == 0 or predictions[-1][1] != prediction:\n",
        "                predictions.append((word, f'B-{prediction}'))\n",
        "            else:\n",
        "                predictions.append((word, f'I-{prediction}'))\n",
        "        else:\n",
        "            predictions.append((word, 'O'))\n",
        "    return predictions"
      ],
      "metadata": {
        "id": "Jg44jxKt5BFU"
      },
      "execution_count": 67,
      "outputs": []
    },
    {
      "cell_type": "code",
      "source": [
        "from sklearn.metrics.pairwise import cosine_similarity"
      ],
      "metadata": {
        "id": "j2bTCoez5WsA"
      },
      "execution_count": 68,
      "outputs": []
    },
    {
      "cell_type": "code",
      "source": [
        "test_words = [\"محمد\", \"القاهرة\", \"كتاب\", \"دمشق\", \"فاطمة\", \"مكتبة\", \"علي\", \"بيروت\"]\n",
        "print(\"Individual word predictions:\")\n",
        "for word in test_words:\n",
        "    prediction = predict_entity(word)\n",
        "    print(f\"Word: {word}, Predicted Entity: {prediction}\")"
      ],
      "metadata": {
        "colab": {
          "base_uri": "https://localhost:8080/"
        },
        "id": "qGJErTjF5Mf3",
        "outputId": "6227e47c-f27d-4dd6-ea38-9a67d89025d5"
      },
      "execution_count": 69,
      "outputs": [
        {
          "output_type": "stream",
          "name": "stdout",
          "text": [
            "Individual word predictions:\n",
            "Word: محمد, Predicted Entity: PERS\n",
            "Word: القاهرة, Predicted Entity: LOC\n",
            "Word: كتاب, Predicted Entity: LOC\n",
            "Word: دمشق, Predicted Entity: LOC\n",
            "Word: فاطمة, Predicted Entity: PERS\n",
            "Word: مكتبة, Predicted Entity: LOC\n",
            "Word: علي, Predicted Entity: PERS\n",
            "Word: بيروت, Predicted Entity: LOC\n"
          ]
        }
      ]
    },
    {
      "cell_type": "code",
      "source": [
        "text_2 = \"كان الوقت مساء، وفي المساء يحلو لنا أن نلتقي في منزل صديق من أصدقائنا، لننجز واجباتنا المدرسية، ونراجع دروسنا. كان الواجب هذه المرة التدرب على كتابة الايتين الثالثة والعشرين والرابعة والعشرين من سورة الإسراء بالرسم العثماني.\"\n",
        "\n",
        "print(\"Sentence prediction for text_2:\")\n",
        "result = predict_sentence(text_2)\n",
        "for word, label in result:\n",
        "    print(f\"{word}: {label}\")"
      ],
      "metadata": {
        "colab": {
          "base_uri": "https://localhost:8080/"
        },
        "id": "eSIdg-GN5_6k",
        "outputId": "0fe73650-b5d9-4290-fcc7-87ea5b200ce7"
      },
      "execution_count": 70,
      "outputs": [
        {
          "output_type": "stream",
          "name": "stdout",
          "text": [
            "Sentence prediction for text_2:\n",
            "كان: B-LOC\n",
            "الوقت: B-LOC\n",
            "مساء،: B-LOC\n",
            "وفي: B-LOC\n",
            "المساء: B-LOC\n",
            "يحلو: B-LOC\n",
            "لنا: B-LOC\n",
            "أن: B-LOC\n",
            "نلتقي: B-LOC\n",
            "في: B-LOC\n",
            "منزل: B-LOC\n",
            "صديق: B-LOC\n",
            "من: B-LOC\n",
            "أصدقائنا،: B-LOC\n",
            "لننجز: B-LOC\n",
            "واجباتنا: B-LOC\n",
            "المدرسية،: B-LOC\n",
            "ونراجع: B-LOC\n",
            "دروسنا.: B-LOC\n",
            "كان: B-LOC\n",
            "الواجب: B-LOC\n",
            "هذه: B-LOC\n",
            "المرة: B-LOC\n",
            "التدرب: B-LOC\n",
            "على: B-LOC\n",
            "كتابة: B-LOC\n",
            "الايتين: B-LOC\n",
            "الثالثة: B-LOC\n",
            "والعشرين: B-LOC\n",
            "والرابعة: B-LOC\n",
            "والعشرين: B-LOC\n",
            "من: B-LOC\n",
            "سورة: B-LOC\n",
            "الإسراء: B-LOC\n",
            "بالرسم: B-LOC\n",
            "العثماني.: B-PERS\n"
          ]
        }
      ]
    },
    {
      "cell_type": "markdown",
      "source": [
        "**Prototypical Networks for Few-Shot NER**"
      ],
      "metadata": {
        "id": "ACK4kZJ1T1KP"
      }
    },
    {
      "cell_type": "code",
      "source": [
        "def load_jsonl_data(file_path):\n",
        "    data = []\n",
        "    with open(file_path, 'r', encoding='utf-8') as f:\n",
        "        for line in f:\n",
        "            data.append(json.loads(line))\n",
        "    return data"
      ],
      "metadata": {
        "id": "Y9Zwc8x1DfnA"
      },
      "execution_count": 71,
      "outputs": []
    },
    {
      "cell_type": "code",
      "source": [
        "jsonl_path = \"/content/drive/MyDrive/AKG Research/SupportSet.jsonl\" #obtained from Doccano\n",
        "data = load_jsonl_data(jsonl_path)"
      ],
      "metadata": {
        "id": "4zdWkot3DpoZ"
      },
      "execution_count": 72,
      "outputs": []
    },
    {
      "cell_type": "code",
      "source": [
        "data[0]"
      ],
      "metadata": {
        "colab": {
          "base_uri": "https://localhost:8080/"
        },
        "id": "xGrlmkUtEkzp",
        "outputId": "92f84693-5497-4f88-cd9f-7c79fcbbc46c"
      },
      "execution_count": 73,
      "outputs": [
        {
          "output_type": "execute_result",
          "data": {
            "text/plain": [
              "{'id': 4,\n",
              " 'text': 'يُعْجِبُ خَدِيجَةَ وَسُعَادَ أَنْ تَلْعَبَا الْمُمَرِّضَةَ، فَجَمِيعُ الدُّمَى وَالْحَيَوَانَاتِ مَرِيضَةٌ وَعَلَى الْأَسِرَّةِ.',\n",
              " 'label': [[0, 8, 'OTHER'],\n",
              "  [9, 18, 'PERSON'],\n",
              "  [18, 21, 'OTHER'],\n",
              "  [21, 28, 'PERSON'],\n",
              "  [29, 33, 'OTHER'],\n",
              "  [34, 43, 'OTHER'],\n",
              "  [44, 58, 'OTHER'],\n",
              "  [60, 69, 'OTHER'],\n",
              "  [70, 78, 'OTHER'],\n",
              "  [78, 81, 'OTHER'],\n",
              "  [81, 96, 'OTHER'],\n",
              "  [97, 106, 'OTHER'],\n",
              "  [107, 109, 'OTHER'],\n",
              "  [109, 114, 'OTHER'],\n",
              "  [115, 127, 'LOCATION']],\n",
              " 'Comments': []}"
            ]
          },
          "metadata": {},
          "execution_count": 73
        }
      ]
    },
    {
      "cell_type": "code",
      "source": [
        "label2id = {'PERSON':0, 'TIME': 1, 'LOCATION': 2, 'OTHER': 3}"
      ],
      "metadata": {
        "id": "zKPZn6JlE3np"
      },
      "execution_count": 74,
      "outputs": []
    },
    {
      "cell_type": "code",
      "source": [
        "def tokenize_and_align_labels(data, tokenizer, label2id, max_length=128):\n",
        "    tokenized_inputs = tokenizer(\n",
        "        data['text'], padding='max_length', truncation=True,\n",
        "        max_length=max_length, return_offsets_mapping=True\n",
        "    )\n",
        "    labels = [-100] * len(tokenized_inputs['input_ids'])  # Initialize ignored labels\n",
        "\n",
        "    for entity in data['label']:\n",
        "        start, end, label = entity\n",
        "        for idx, (offset_start, offset_end) in enumerate(tokenized_inputs['offset_mapping']):\n",
        "            if offset_start >= start and offset_end <= end:\n",
        "                labels[idx] = label2id[label]\n",
        "\n",
        "    tokenized_inputs['labels'] = labels\n",
        "    return tokenized_inputs"
      ],
      "metadata": {
        "id": "i1RasoNGFYHL"
      },
      "execution_count": 75,
      "outputs": []
    },
    {
      "cell_type": "code",
      "source": [
        "def process_dataset(data, tokenizer, label2id):\n",
        "    processed_data = []\n",
        "    for sample in data:\n",
        "        processed_sample = tokenize_and_align_labels(sample, tokenizer, label2id)\n",
        "        processed_data.append(processed_sample)\n",
        "    return processed_data\n"
      ],
      "metadata": {
        "id": "hjQIeaVTFeoL"
      },
      "execution_count": 76,
      "outputs": []
    },
    {
      "cell_type": "code",
      "source": [
        "processed_data = process_dataset(data, tokenizer, label2id)"
      ],
      "metadata": {
        "id": "xu4IpuEgFlrC"
      },
      "execution_count": 77,
      "outputs": []
    },
    {
      "cell_type": "code",
      "source": [
        "class ArabicNERDataset(Dataset):\n",
        "    def __init__(self, data):\n",
        "        self.data = data\n",
        "\n",
        "    def __len__(self):\n",
        "        return len(self.data)\n",
        "\n",
        "    def __getitem__(self, idx):\n",
        "        return {\n",
        "            'input_ids': torch.tensor(self.data[idx]['input_ids'], dtype=torch.long),\n",
        "            'attention_mask': torch.tensor(self.data[idx]['attention_mask'], dtype=torch.long),\n",
        "            'labels': torch.tensor(self.data[idx]['labels'], dtype=torch.long)\n",
        "        }"
      ],
      "metadata": {
        "id": "vCswIYdiGVER"
      },
      "execution_count": 78,
      "outputs": []
    },
    {
      "cell_type": "code",
      "source": [
        "# Create the DataLoader\n",
        "dataset = ArabicNERDataset(processed_data)\n",
        "dataloader = DataLoader(dataset, batch_size=4, shuffle=True)"
      ],
      "metadata": {
        "id": "0Le83skpGbBm"
      },
      "execution_count": 79,
      "outputs": []
    },
    {
      "cell_type": "code",
      "source": [
        "class PrototypicalNetwork(nn.Module):\n",
        "    def __init__(self, model_name):\n",
        "        super().__init__()\n",
        "        self.encoder = AutoModel.from_pretrained(model_name)\n",
        "\n",
        "    def forward(self, support_batch, query_batch):\n",
        "        support_embeddings = self.encode_set(support_batch)\n",
        "        query_embeddings = self.encode(query_batch['input_ids'], query_batch['attention_mask'])\n",
        "\n",
        "        prototypes = support_embeddings.mean(dim=0, keepdim=True)\n",
        "\n",
        "        distances = self.compute_distances(query_embeddings, prototypes)\n",
        "        return -distances\n",
        "\n",
        "    def encode(self, input_ids, attention_mask):\n",
        "        outputs = self.encoder(input_ids=input_ids, attention_mask=attention_mask)\n",
        "        return outputs.last_hidden_state[:, 0, :]\n",
        "\n",
        "    def encode_set(self, support_batch):\n",
        "        input_ids = support_batch['input_ids']\n",
        "        attention_mask = support_batch['attention_mask']\n",
        "        return self.encode(input_ids, attention_mask)\n",
        "\n",
        "    def compute_distances(self, query_embeddings, prototypes):\n",
        "        n_queries = query_embeddings.size(0)\n",
        "        n_prototypes = prototypes.size(0)\n",
        "\n",
        "        query_embeddings = query_embeddings.unsqueeze(1).expand(n_queries, n_prototypes, -1)\n",
        "        prototypes = prototypes.expand(n_queries, n_prototypes, -1)\n",
        "\n",
        "        return torch.sum((query_embeddings - prototypes) ** 2, dim=-1)\n"
      ],
      "metadata": {
        "id": "hrLRFM5QGc0f"
      },
      "execution_count": 80,
      "outputs": []
    },
    {
      "cell_type": "code",
      "source": [
        "tokenizer = AutoTokenizer.from_pretrained(\"CAMeL-Lab/bert-base-arabic-camelbert-mix-ner\")\n",
        "model_name = \"CAMeL-Lab/bert-base-arabic-camelbert-mix-ner\""
      ],
      "metadata": {
        "id": "ukX151l-FBi_"
      },
      "execution_count": 81,
      "outputs": []
    },
    {
      "cell_type": "code",
      "source": [
        "model = PrototypicalNetwork(model_name)\n",
        "optimizer = torch.optim.Adam(model.parameters(), lr=1e-5)"
      ],
      "metadata": {
        "id": "UI9YMKiVHQ-z"
      },
      "execution_count": 82,
      "outputs": []
    },
    {
      "cell_type": "code",
      "source": [
        "for epoch in range(5):\n",
        "    model.train()\n",
        "    for support_batch in dataloader:\n",
        "        query_batch = support_batch  # Same batch for simplicity\n",
        "\n",
        "        loss = model(support_batch, query_batch)\n",
        "\n",
        "        optimizer.zero_grad()\n",
        "        loss.mean().backward()\n",
        "        optimizer.step()\n",
        "\n",
        "        print(f\"Epoch {epoch + 1}, Loss: {loss.mean().item()}\")"
      ],
      "metadata": {
        "id": "r570kdZNDb5B",
        "colab": {
          "base_uri": "https://localhost:8080/"
        },
        "outputId": "04ec6aab-e30e-42d0-f14d-9981a49a1c25"
      },
      "execution_count": 83,
      "outputs": [
        {
          "output_type": "stream",
          "name": "stdout",
          "text": [
            "Epoch 1, Loss: -111.71559143066406\n",
            "Epoch 1, Loss: -117.83995056152344\n",
            "Epoch 1, Loss: -135.7628173828125\n",
            "Epoch 1, Loss: -177.5293731689453\n",
            "Epoch 1, Loss: -225.57540893554688\n",
            "Epoch 2, Loss: -221.981201171875\n",
            "Epoch 2, Loss: -218.37411499023438\n",
            "Epoch 2, Loss: -212.78414916992188\n",
            "Epoch 2, Loss: -368.99462890625\n",
            "Epoch 2, Loss: -341.6263427734375\n",
            "Epoch 3, Loss: -392.9284973144531\n",
            "Epoch 3, Loss: -404.94281005859375\n",
            "Epoch 3, Loss: -441.6446533203125\n",
            "Epoch 3, Loss: -283.7538146972656\n",
            "Epoch 3, Loss: -413.59130859375\n",
            "Epoch 4, Loss: -465.2208251953125\n",
            "Epoch 4, Loss: -423.9948425292969\n",
            "Epoch 4, Loss: -462.04718017578125\n",
            "Epoch 4, Loss: -378.0181884765625\n",
            "Epoch 4, Loss: -496.24285888671875\n",
            "Epoch 5, Loss: -419.20208740234375\n",
            "Epoch 5, Loss: -484.5773620605469\n",
            "Epoch 5, Loss: -458.0325927734375\n",
            "Epoch 5, Loss: -507.7066650390625\n",
            "Epoch 5, Loss: -505.225830078125\n"
          ]
        }
      ]
    },
    {
      "cell_type": "code",
      "source": [
        "model.eval()\n",
        "with torch.no_grad():\n",
        "    for query_batch in dataloader:\n",
        "        distances = model(query_batch, query_batch)  # Shape: [batch_size, num_classes]\n",
        "        print(f\"Distances:\\n{distances}\")\n",
        "\n",
        "        # Get the predicted class for each query in the batch\n",
        "        predicted_classes = torch.argmin(distances, dim=-1)  # Shape: [batch_size]\n",
        "\n",
        "        # Print predictions for all queries in the batch\n",
        "        for i, predicted_class in enumerate(predicted_classes):\n",
        "            print(f\"Query {i}: Predicted Class = {predicted_class.item()}\")"
      ],
      "metadata": {
        "id": "-678jWOKuLDK",
        "colab": {
          "base_uri": "https://localhost:8080/"
        },
        "outputId": "0b01342b-3b7e-4c14-b07f-e83d41bbe082"
      },
      "execution_count": 84,
      "outputs": [
        {
          "output_type": "stream",
          "name": "stdout",
          "text": [
            "Distances:\n",
            "tensor([[-278.9778],\n",
            "        [-650.9176],\n",
            "        [-277.8119],\n",
            "        [-451.0616]])\n",
            "Query 0: Predicted Class = 0\n",
            "Query 1: Predicted Class = 0\n",
            "Query 2: Predicted Class = 0\n",
            "Query 3: Predicted Class = 0\n",
            "Distances:\n",
            "tensor([[-310.5333],\n",
            "        [-739.4657],\n",
            "        [-293.5261],\n",
            "        [-370.9735]])\n",
            "Query 0: Predicted Class = 0\n",
            "Query 1: Predicted Class = 0\n",
            "Query 2: Predicted Class = 0\n",
            "Query 3: Predicted Class = 0\n",
            "Distances:\n",
            "tensor([[-196.1452],\n",
            "        [-158.4338],\n",
            "        [-173.4148],\n",
            "        [-646.8871]])\n",
            "Query 0: Predicted Class = 0\n",
            "Query 1: Predicted Class = 0\n",
            "Query 2: Predicted Class = 0\n",
            "Query 3: Predicted Class = 0\n",
            "Distances:\n",
            "tensor([[-453.5782],\n",
            "        [-399.1483],\n",
            "        [-319.1356],\n",
            "        [-328.4258]])\n",
            "Query 0: Predicted Class = 0\n",
            "Query 1: Predicted Class = 0\n",
            "Query 2: Predicted Class = 0\n",
            "Query 3: Predicted Class = 0\n",
            "Distances:\n",
            "tensor([[-354.1573],\n",
            "        [-356.3444],\n",
            "        [-569.8266],\n",
            "        [-546.5502]])\n",
            "Query 0: Predicted Class = 0\n",
            "Query 1: Predicted Class = 0\n",
            "Query 2: Predicted Class = 0\n",
            "Query 3: Predicted Class = 0\n"
          ]
        }
      ]
    },
    {
      "cell_type": "code",
      "source": [
        "# Custom sentences to test the model\n",
        "test_sentences = [\n",
        "    \"زار محمد القاهرة صباحاً.\",  # Person, Location, Time\n",
        "    \"سلمى ذهبت إلى المدرسة.\",  # Person, Location\n",
        "    \"أحمد يحب السباحة في الصباح.\",  # Person, Time\n",
        "    \"ذهبنا إلى الدار البيضاء في المساء.\"  # Location, Time\n",
        "]\n"
      ],
      "metadata": {
        "id": "ZDn6IjIfRkMU"
      },
      "execution_count": 85,
      "outputs": []
    },
    {
      "cell_type": "code",
      "source": [
        "def encode_sentence(sentence, tokenizer, max_length=128):\n",
        "    \"\"\"Tokenize and encode a sentence.\"\"\"\n",
        "    encoding = tokenizer(\n",
        "        sentence,\n",
        "        padding='max_length',\n",
        "        truncation=True,\n",
        "        max_length=max_length,\n",
        "        return_tensors='pt'\n",
        "    )\n",
        "    return encoding['input_ids'], encoding['attention_mask']\n"
      ],
      "metadata": {
        "id": "VjIg3_q0RqSe"
      },
      "execution_count": 86,
      "outputs": []
    },
    {
      "cell_type": "code",
      "source": [
        "import torch.nn.functional as F\n",
        "\n",
        "# Perform inference on the custom sentences\n",
        "model.eval()\n",
        "with torch.no_grad():\n",
        "    for sentence in test_sentences:\n",
        "        input_ids, attention_mask = encode_sentence(sentence, tokenizer)\n",
        "\n",
        "        # Forward pass to get distances to prototypes\n",
        "        query_batch = {'input_ids': input_ids, 'attention_mask': attention_mask}\n",
        "        distances = model(query_batch, query_batch)  # [1, num_classes]\n",
        "\n",
        "        # Convert distances to probabilities\n",
        "        probs = F.softmax(-distances, dim=-1)  # [1, num_classes]\n",
        "\n",
        "        # Get the predicted class\n",
        "        predicted_class = torch.argmax(probs, dim=-1).item()\n",
        "\n",
        "        print(f\"Sentence: {sentence}\")\n",
        "        print(f\"Predicted Class: {predicted_class}\\n\")\n"
      ],
      "metadata": {
        "id": "Ke2kW1TnRsj0",
        "colab": {
          "base_uri": "https://localhost:8080/"
        },
        "outputId": "32c442da-d4bc-4c99-8488-1629499b4107"
      },
      "execution_count": 87,
      "outputs": [
        {
          "output_type": "stream",
          "name": "stdout",
          "text": [
            "Sentence: زار محمد القاهرة صباحاً.\n",
            "Predicted Class: 0\n",
            "\n",
            "Sentence: سلمى ذهبت إلى المدرسة.\n",
            "Predicted Class: 0\n",
            "\n",
            "Sentence: أحمد يحب السباحة في الصباح.\n",
            "Predicted Class: 0\n",
            "\n",
            "Sentence: ذهبنا إلى الدار البيضاء في المساء.\n",
            "Predicted Class: 0\n",
            "\n"
          ]
        }
      ]
    }
  ]
}